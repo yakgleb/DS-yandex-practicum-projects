{
 "cells": [
  {
   "cell_type": "markdown",
   "metadata": {
    "toc": true
   },
   "source": [
    "<h1>Содержание<span class=\"tocSkip\"></span></h1>\n",
    "<div class=\"toc\"><ul class=\"toc-item\"><li><span><a href=\"#Подготовка-данных\" data-toc-modified-id=\"Подготовка-данных-1\"><span class=\"toc-item-num\">1&nbsp;&nbsp;</span>Подготовка данных</a></span></li><li><span><a href=\"#Предобработка-данных\" data-toc-modified-id=\"Предобработка-данных-2\"><span class=\"toc-item-num\">2&nbsp;&nbsp;</span>Предобработка данных</a></span></li><li><span><a href=\"#Анализ-данных\" data-toc-modified-id=\"Анализ-данных-3\"><span class=\"toc-item-num\">3&nbsp;&nbsp;</span>Анализ данных</a></span></li><li><span><a href=\"#Модель\" data-toc-modified-id=\"Модель-4\"><span class=\"toc-item-num\">4&nbsp;&nbsp;</span>Модель</a></span></li><li><span><a href=\"#Вывод\" data-toc-modified-id=\"Вывод-5\"><span class=\"toc-item-num\">5&nbsp;&nbsp;</span>Вывод</a></span></li></ul></div>"
   ]
  },
  {
   "cell_type": "markdown",
   "metadata": {},
   "source": [
    "# Восстановление золота из руды"
   ]
  },
  {
   "cell_type": "markdown",
   "metadata": {},
   "source": [
    "Подготовьте прототип модели машинного обучения для «Цифры». Компания разрабатывает решения для эффективной работы промышленных предприятий.\n",
    "\n",
    "Модель должна предсказать коэффициент восстановления золота из золотосодержащей руды. Используйте данные с параметрами добычи и очистки. \n",
    "\n",
    "Модель поможет оптимизировать производство, чтобы не запускать предприятие с убыточными характеристиками.\n",
    "\n",
    "Вам нужно:\n",
    "\n",
    "1. Подготовить данные;\n",
    "2. Провести исследовательский анализ данных;\n",
    "3. Построить и обучить модель.\n",
    "\n",
    "Чтобы выполнить проект, обращайтесь к библиотекам *pandas*, *matplotlib* и *sklearn.* Вам поможет их документация."
   ]
  },
  {
   "cell_type": "markdown",
   "metadata": {},
   "source": [
    "## Подготовка данных"
   ]
  },
  {
   "cell_type": "markdown",
   "metadata": {},
   "source": [
    "Загрузим все необходимые нам библиотеки."
   ]
  },
  {
   "cell_type": "code",
   "execution_count": 55,
   "metadata": {},
   "outputs": [],
   "source": [
    "import pandas as pd \n",
    "import numpy as np\n",
    "import matplotlib.pyplot as plt\n",
    "import seaborn as sns\n",
    "import catboost as cb\n",
    "from sklearn.tree import DecisionTreeRegressor\n",
    "from sklearn.ensemble import RandomForestRegressor\n",
    "from sklearn.linear_model import LinearRegression, ElasticNet\n",
    "from sklearn.preprocessing import StandardScaler\n",
    "from sklearn.model_selection import cross_val_score, GridSearchCV\n",
    "from sklearn.metrics import mean_absolute_error, make_scorer\n",
    "from sklearn.dummy import DummyRegressor"
   ]
  },
  {
   "cell_type": "markdown",
   "metadata": {},
   "source": [
    "Откроем файлы и изучим всю информацию по ним."
   ]
  },
  {
   "cell_type": "code",
   "execution_count": 2,
   "metadata": {},
   "outputs": [],
   "source": [
    "try:\n",
    "    df_train = pd.read_csv('gold_recovery_train_new.csv')\n",
    "    df_test = pd.read_csv('gold_recovery_test_new.csv')\n",
    "    df_full = pd.read_csv('gold_recovery_full_new.csv')\n",
    "except:\n",
    "    df_train = pd.read_csv('/datasets/gold_recovery_train_new.csv')\n",
    "    df_test = pd.read_csv('/datasets/gold_recovery_test_new.csv')\n",
    "    df_full = pd.read_csv('/datasets/gold_recovery_full_new.csv')"
   ]
  },
  {
   "cell_type": "code",
   "execution_count": 3,
   "metadata": {},
   "outputs": [],
   "source": [
    "datasets = [df_train, df_test, df_full]"
   ]
  },
  {
   "cell_type": "markdown",
   "metadata": {},
   "source": [
    "Для удобства обозначим тренировочную выборку под номером 1, тестовую - под номером 2, и полную - под номером 3."
   ]
  },
  {
   "cell_type": "code",
   "execution_count": 4,
   "metadata": {
    "scrolled": true
   },
   "outputs": [
    {
     "data": {
      "text/plain": [
       "'All info for dataset №1'"
      ]
     },
     "metadata": {},
     "output_type": "display_data"
    },
    {
     "data": {
      "text/html": [
       "<div>\n",
       "<style scoped>\n",
       "    .dataframe tbody tr th:only-of-type {\n",
       "        vertical-align: middle;\n",
       "    }\n",
       "\n",
       "    .dataframe tbody tr th {\n",
       "        vertical-align: top;\n",
       "    }\n",
       "\n",
       "    .dataframe thead th {\n",
       "        text-align: right;\n",
       "    }\n",
       "</style>\n",
       "<table border=\"1\" class=\"dataframe\">\n",
       "  <thead>\n",
       "    <tr style=\"text-align: right;\">\n",
       "      <th></th>\n",
       "      <th>date</th>\n",
       "      <th>final.output.concentrate_ag</th>\n",
       "      <th>final.output.concentrate_pb</th>\n",
       "      <th>final.output.concentrate_sol</th>\n",
       "      <th>final.output.concentrate_au</th>\n",
       "      <th>final.output.recovery</th>\n",
       "      <th>final.output.tail_ag</th>\n",
       "      <th>final.output.tail_pb</th>\n",
       "      <th>final.output.tail_sol</th>\n",
       "      <th>final.output.tail_au</th>\n",
       "      <th>...</th>\n",
       "      <th>secondary_cleaner.state.floatbank4_a_air</th>\n",
       "      <th>secondary_cleaner.state.floatbank4_a_level</th>\n",
       "      <th>secondary_cleaner.state.floatbank4_b_air</th>\n",
       "      <th>secondary_cleaner.state.floatbank4_b_level</th>\n",
       "      <th>secondary_cleaner.state.floatbank5_a_air</th>\n",
       "      <th>secondary_cleaner.state.floatbank5_a_level</th>\n",
       "      <th>secondary_cleaner.state.floatbank5_b_air</th>\n",
       "      <th>secondary_cleaner.state.floatbank5_b_level</th>\n",
       "      <th>secondary_cleaner.state.floatbank6_a_air</th>\n",
       "      <th>secondary_cleaner.state.floatbank6_a_level</th>\n",
       "    </tr>\n",
       "  </thead>\n",
       "  <tbody>\n",
       "    <tr>\n",
       "      <th>0</th>\n",
       "      <td>2016-01-15 00:00:00</td>\n",
       "      <td>6.055403</td>\n",
       "      <td>9.889648</td>\n",
       "      <td>5.507324</td>\n",
       "      <td>42.192020</td>\n",
       "      <td>70.541216</td>\n",
       "      <td>10.411962</td>\n",
       "      <td>0.895447</td>\n",
       "      <td>16.904297</td>\n",
       "      <td>2.143149</td>\n",
       "      <td>...</td>\n",
       "      <td>14.016835</td>\n",
       "      <td>-502.488007</td>\n",
       "      <td>12.099931</td>\n",
       "      <td>-504.715942</td>\n",
       "      <td>9.925633</td>\n",
       "      <td>-498.310211</td>\n",
       "      <td>8.079666</td>\n",
       "      <td>-500.470978</td>\n",
       "      <td>14.151341</td>\n",
       "      <td>-605.841980</td>\n",
       "    </tr>\n",
       "    <tr>\n",
       "      <th>1</th>\n",
       "      <td>2016-01-15 01:00:00</td>\n",
       "      <td>6.029369</td>\n",
       "      <td>9.968944</td>\n",
       "      <td>5.257781</td>\n",
       "      <td>42.701629</td>\n",
       "      <td>69.266198</td>\n",
       "      <td>10.462676</td>\n",
       "      <td>0.927452</td>\n",
       "      <td>16.634514</td>\n",
       "      <td>2.224930</td>\n",
       "      <td>...</td>\n",
       "      <td>13.992281</td>\n",
       "      <td>-505.503262</td>\n",
       "      <td>11.950531</td>\n",
       "      <td>-501.331529</td>\n",
       "      <td>10.039245</td>\n",
       "      <td>-500.169983</td>\n",
       "      <td>7.984757</td>\n",
       "      <td>-500.582168</td>\n",
       "      <td>13.998353</td>\n",
       "      <td>-599.787184</td>\n",
       "    </tr>\n",
       "    <tr>\n",
       "      <th>2</th>\n",
       "      <td>2016-01-15 02:00:00</td>\n",
       "      <td>6.055926</td>\n",
       "      <td>10.213995</td>\n",
       "      <td>5.383759</td>\n",
       "      <td>42.657501</td>\n",
       "      <td>68.116445</td>\n",
       "      <td>10.507046</td>\n",
       "      <td>0.953716</td>\n",
       "      <td>16.208849</td>\n",
       "      <td>2.257889</td>\n",
       "      <td>...</td>\n",
       "      <td>14.015015</td>\n",
       "      <td>-502.520901</td>\n",
       "      <td>11.912783</td>\n",
       "      <td>-501.133383</td>\n",
       "      <td>10.070913</td>\n",
       "      <td>-500.129135</td>\n",
       "      <td>8.013877</td>\n",
       "      <td>-500.517572</td>\n",
       "      <td>14.028663</td>\n",
       "      <td>-601.427363</td>\n",
       "    </tr>\n",
       "    <tr>\n",
       "      <th>3</th>\n",
       "      <td>2016-01-15 03:00:00</td>\n",
       "      <td>6.047977</td>\n",
       "      <td>9.977019</td>\n",
       "      <td>4.858634</td>\n",
       "      <td>42.689819</td>\n",
       "      <td>68.347543</td>\n",
       "      <td>10.422762</td>\n",
       "      <td>0.883763</td>\n",
       "      <td>16.532835</td>\n",
       "      <td>2.146849</td>\n",
       "      <td>...</td>\n",
       "      <td>14.036510</td>\n",
       "      <td>-500.857308</td>\n",
       "      <td>11.999550</td>\n",
       "      <td>-501.193686</td>\n",
       "      <td>9.970366</td>\n",
       "      <td>-499.201640</td>\n",
       "      <td>7.977324</td>\n",
       "      <td>-500.255908</td>\n",
       "      <td>14.005551</td>\n",
       "      <td>-599.996129</td>\n",
       "    </tr>\n",
       "    <tr>\n",
       "      <th>4</th>\n",
       "      <td>2016-01-15 04:00:00</td>\n",
       "      <td>6.148599</td>\n",
       "      <td>10.142511</td>\n",
       "      <td>4.939416</td>\n",
       "      <td>42.774141</td>\n",
       "      <td>66.927016</td>\n",
       "      <td>10.360302</td>\n",
       "      <td>0.792826</td>\n",
       "      <td>16.525686</td>\n",
       "      <td>2.055292</td>\n",
       "      <td>...</td>\n",
       "      <td>14.027298</td>\n",
       "      <td>-499.838632</td>\n",
       "      <td>11.953070</td>\n",
       "      <td>-501.053894</td>\n",
       "      <td>9.925709</td>\n",
       "      <td>-501.686727</td>\n",
       "      <td>7.894242</td>\n",
       "      <td>-500.356035</td>\n",
       "      <td>13.996647</td>\n",
       "      <td>-601.496691</td>\n",
       "    </tr>\n",
       "    <tr>\n",
       "      <th>5</th>\n",
       "      <td>2016-01-15 05:00:00</td>\n",
       "      <td>6.482968</td>\n",
       "      <td>10.049416</td>\n",
       "      <td>5.480257</td>\n",
       "      <td>41.633678</td>\n",
       "      <td>69.465816</td>\n",
       "      <td>10.182708</td>\n",
       "      <td>0.664118</td>\n",
       "      <td>16.999638</td>\n",
       "      <td>1.918586</td>\n",
       "      <td>...</td>\n",
       "      <td>13.938497</td>\n",
       "      <td>-500.970168</td>\n",
       "      <td>11.883350</td>\n",
       "      <td>-500.395298</td>\n",
       "      <td>10.054147</td>\n",
       "      <td>-496.374715</td>\n",
       "      <td>7.965083</td>\n",
       "      <td>-499.364752</td>\n",
       "      <td>14.017067</td>\n",
       "      <td>-599.707915</td>\n",
       "    </tr>\n",
       "    <tr>\n",
       "      <th>6</th>\n",
       "      <td>2016-01-15 06:00:00</td>\n",
       "      <td>6.533849</td>\n",
       "      <td>10.058141</td>\n",
       "      <td>4.569100</td>\n",
       "      <td>41.995316</td>\n",
       "      <td>69.300835</td>\n",
       "      <td>10.304598</td>\n",
       "      <td>0.807342</td>\n",
       "      <td>16.723575</td>\n",
       "      <td>2.058913</td>\n",
       "      <td>...</td>\n",
       "      <td>14.046819</td>\n",
       "      <td>-500.971133</td>\n",
       "      <td>12.091543</td>\n",
       "      <td>-500.501426</td>\n",
       "      <td>10.003247</td>\n",
       "      <td>-497.083180</td>\n",
       "      <td>8.010890</td>\n",
       "      <td>-500.002423</td>\n",
       "      <td>14.029649</td>\n",
       "      <td>-600.905470</td>\n",
       "    </tr>\n",
       "    <tr>\n",
       "      <th>7</th>\n",
       "      <td>2016-01-15 07:00:00</td>\n",
       "      <td>6.130823</td>\n",
       "      <td>9.935481</td>\n",
       "      <td>4.389813</td>\n",
       "      <td>42.452727</td>\n",
       "      <td>70.230976</td>\n",
       "      <td>10.443288</td>\n",
       "      <td>0.949346</td>\n",
       "      <td>16.689959</td>\n",
       "      <td>2.143437</td>\n",
       "      <td>...</td>\n",
       "      <td>13.974691</td>\n",
       "      <td>-501.819696</td>\n",
       "      <td>12.101324</td>\n",
       "      <td>-500.583446</td>\n",
       "      <td>9.873169</td>\n",
       "      <td>-499.171928</td>\n",
       "      <td>7.993381</td>\n",
       "      <td>-499.794518</td>\n",
       "      <td>13.984498</td>\n",
       "      <td>-600.411070</td>\n",
       "    </tr>\n",
       "    <tr>\n",
       "      <th>8</th>\n",
       "      <td>2016-01-15 08:00:00</td>\n",
       "      <td>5.834140</td>\n",
       "      <td>10.071156</td>\n",
       "      <td>4.876389</td>\n",
       "      <td>43.404078</td>\n",
       "      <td>69.688595</td>\n",
       "      <td>10.420140</td>\n",
       "      <td>1.065453</td>\n",
       "      <td>17.201948</td>\n",
       "      <td>2.209881</td>\n",
       "      <td>...</td>\n",
       "      <td>13.964030</td>\n",
       "      <td>-504.252450</td>\n",
       "      <td>12.060738</td>\n",
       "      <td>-501.174549</td>\n",
       "      <td>10.033838</td>\n",
       "      <td>-501.178133</td>\n",
       "      <td>7.881604</td>\n",
       "      <td>-499.729434</td>\n",
       "      <td>13.967135</td>\n",
       "      <td>-599.061188</td>\n",
       "    </tr>\n",
       "    <tr>\n",
       "      <th>9</th>\n",
       "      <td>2016-01-15 09:00:00</td>\n",
       "      <td>5.687063</td>\n",
       "      <td>9.980404</td>\n",
       "      <td>5.282514</td>\n",
       "      <td>43.235220</td>\n",
       "      <td>70.279619</td>\n",
       "      <td>10.487013</td>\n",
       "      <td>1.159805</td>\n",
       "      <td>17.483979</td>\n",
       "      <td>2.209593</td>\n",
       "      <td>...</td>\n",
       "      <td>13.989632</td>\n",
       "      <td>-503.195299</td>\n",
       "      <td>12.052233</td>\n",
       "      <td>-500.928547</td>\n",
       "      <td>9.962574</td>\n",
       "      <td>-502.986357</td>\n",
       "      <td>7.979219</td>\n",
       "      <td>-500.146835</td>\n",
       "      <td>13.981614</td>\n",
       "      <td>-598.070855</td>\n",
       "    </tr>\n",
       "  </tbody>\n",
       "</table>\n",
       "<p>10 rows × 87 columns</p>\n",
       "</div>"
      ],
      "text/plain": [
       "                  date  final.output.concentrate_ag  \\\n",
       "0  2016-01-15 00:00:00                     6.055403   \n",
       "1  2016-01-15 01:00:00                     6.029369   \n",
       "2  2016-01-15 02:00:00                     6.055926   \n",
       "3  2016-01-15 03:00:00                     6.047977   \n",
       "4  2016-01-15 04:00:00                     6.148599   \n",
       "5  2016-01-15 05:00:00                     6.482968   \n",
       "6  2016-01-15 06:00:00                     6.533849   \n",
       "7  2016-01-15 07:00:00                     6.130823   \n",
       "8  2016-01-15 08:00:00                     5.834140   \n",
       "9  2016-01-15 09:00:00                     5.687063   \n",
       "\n",
       "   final.output.concentrate_pb  final.output.concentrate_sol  \\\n",
       "0                     9.889648                      5.507324   \n",
       "1                     9.968944                      5.257781   \n",
       "2                    10.213995                      5.383759   \n",
       "3                     9.977019                      4.858634   \n",
       "4                    10.142511                      4.939416   \n",
       "5                    10.049416                      5.480257   \n",
       "6                    10.058141                      4.569100   \n",
       "7                     9.935481                      4.389813   \n",
       "8                    10.071156                      4.876389   \n",
       "9                     9.980404                      5.282514   \n",
       "\n",
       "   final.output.concentrate_au  final.output.recovery  final.output.tail_ag  \\\n",
       "0                    42.192020              70.541216             10.411962   \n",
       "1                    42.701629              69.266198             10.462676   \n",
       "2                    42.657501              68.116445             10.507046   \n",
       "3                    42.689819              68.347543             10.422762   \n",
       "4                    42.774141              66.927016             10.360302   \n",
       "5                    41.633678              69.465816             10.182708   \n",
       "6                    41.995316              69.300835             10.304598   \n",
       "7                    42.452727              70.230976             10.443288   \n",
       "8                    43.404078              69.688595             10.420140   \n",
       "9                    43.235220              70.279619             10.487013   \n",
       "\n",
       "   final.output.tail_pb  final.output.tail_sol  final.output.tail_au  ...  \\\n",
       "0              0.895447              16.904297              2.143149  ...   \n",
       "1              0.927452              16.634514              2.224930  ...   \n",
       "2              0.953716              16.208849              2.257889  ...   \n",
       "3              0.883763              16.532835              2.146849  ...   \n",
       "4              0.792826              16.525686              2.055292  ...   \n",
       "5              0.664118              16.999638              1.918586  ...   \n",
       "6              0.807342              16.723575              2.058913  ...   \n",
       "7              0.949346              16.689959              2.143437  ...   \n",
       "8              1.065453              17.201948              2.209881  ...   \n",
       "9              1.159805              17.483979              2.209593  ...   \n",
       "\n",
       "   secondary_cleaner.state.floatbank4_a_air  \\\n",
       "0                                 14.016835   \n",
       "1                                 13.992281   \n",
       "2                                 14.015015   \n",
       "3                                 14.036510   \n",
       "4                                 14.027298   \n",
       "5                                 13.938497   \n",
       "6                                 14.046819   \n",
       "7                                 13.974691   \n",
       "8                                 13.964030   \n",
       "9                                 13.989632   \n",
       "\n",
       "   secondary_cleaner.state.floatbank4_a_level  \\\n",
       "0                                 -502.488007   \n",
       "1                                 -505.503262   \n",
       "2                                 -502.520901   \n",
       "3                                 -500.857308   \n",
       "4                                 -499.838632   \n",
       "5                                 -500.970168   \n",
       "6                                 -500.971133   \n",
       "7                                 -501.819696   \n",
       "8                                 -504.252450   \n",
       "9                                 -503.195299   \n",
       "\n",
       "   secondary_cleaner.state.floatbank4_b_air  \\\n",
       "0                                 12.099931   \n",
       "1                                 11.950531   \n",
       "2                                 11.912783   \n",
       "3                                 11.999550   \n",
       "4                                 11.953070   \n",
       "5                                 11.883350   \n",
       "6                                 12.091543   \n",
       "7                                 12.101324   \n",
       "8                                 12.060738   \n",
       "9                                 12.052233   \n",
       "\n",
       "   secondary_cleaner.state.floatbank4_b_level  \\\n",
       "0                                 -504.715942   \n",
       "1                                 -501.331529   \n",
       "2                                 -501.133383   \n",
       "3                                 -501.193686   \n",
       "4                                 -501.053894   \n",
       "5                                 -500.395298   \n",
       "6                                 -500.501426   \n",
       "7                                 -500.583446   \n",
       "8                                 -501.174549   \n",
       "9                                 -500.928547   \n",
       "\n",
       "   secondary_cleaner.state.floatbank5_a_air  \\\n",
       "0                                  9.925633   \n",
       "1                                 10.039245   \n",
       "2                                 10.070913   \n",
       "3                                  9.970366   \n",
       "4                                  9.925709   \n",
       "5                                 10.054147   \n",
       "6                                 10.003247   \n",
       "7                                  9.873169   \n",
       "8                                 10.033838   \n",
       "9                                  9.962574   \n",
       "\n",
       "   secondary_cleaner.state.floatbank5_a_level  \\\n",
       "0                                 -498.310211   \n",
       "1                                 -500.169983   \n",
       "2                                 -500.129135   \n",
       "3                                 -499.201640   \n",
       "4                                 -501.686727   \n",
       "5                                 -496.374715   \n",
       "6                                 -497.083180   \n",
       "7                                 -499.171928   \n",
       "8                                 -501.178133   \n",
       "9                                 -502.986357   \n",
       "\n",
       "   secondary_cleaner.state.floatbank5_b_air  \\\n",
       "0                                  8.079666   \n",
       "1                                  7.984757   \n",
       "2                                  8.013877   \n",
       "3                                  7.977324   \n",
       "4                                  7.894242   \n",
       "5                                  7.965083   \n",
       "6                                  8.010890   \n",
       "7                                  7.993381   \n",
       "8                                  7.881604   \n",
       "9                                  7.979219   \n",
       "\n",
       "   secondary_cleaner.state.floatbank5_b_level  \\\n",
       "0                                 -500.470978   \n",
       "1                                 -500.582168   \n",
       "2                                 -500.517572   \n",
       "3                                 -500.255908   \n",
       "4                                 -500.356035   \n",
       "5                                 -499.364752   \n",
       "6                                 -500.002423   \n",
       "7                                 -499.794518   \n",
       "8                                 -499.729434   \n",
       "9                                 -500.146835   \n",
       "\n",
       "   secondary_cleaner.state.floatbank6_a_air  \\\n",
       "0                                 14.151341   \n",
       "1                                 13.998353   \n",
       "2                                 14.028663   \n",
       "3                                 14.005551   \n",
       "4                                 13.996647   \n",
       "5                                 14.017067   \n",
       "6                                 14.029649   \n",
       "7                                 13.984498   \n",
       "8                                 13.967135   \n",
       "9                                 13.981614   \n",
       "\n",
       "   secondary_cleaner.state.floatbank6_a_level  \n",
       "0                                 -605.841980  \n",
       "1                                 -599.787184  \n",
       "2                                 -601.427363  \n",
       "3                                 -599.996129  \n",
       "4                                 -601.496691  \n",
       "5                                 -599.707915  \n",
       "6                                 -600.905470  \n",
       "7                                 -600.411070  \n",
       "8                                 -599.061188  \n",
       "9                                 -598.070855  \n",
       "\n",
       "[10 rows x 87 columns]"
      ]
     },
     "metadata": {},
     "output_type": "display_data"
    },
    {
     "name": "stdout",
     "output_type": "stream",
     "text": [
      "<class 'pandas.core.frame.DataFrame'>\n",
      "RangeIndex: 14149 entries, 0 to 14148\n",
      "Data columns (total 87 columns):\n",
      " #   Column                                              Non-Null Count  Dtype  \n",
      "---  ------                                              --------------  -----  \n",
      " 0   date                                                14149 non-null  object \n",
      " 1   final.output.concentrate_ag                         14148 non-null  float64\n",
      " 2   final.output.concentrate_pb                         14148 non-null  float64\n",
      " 3   final.output.concentrate_sol                        13938 non-null  float64\n",
      " 4   final.output.concentrate_au                         14149 non-null  float64\n",
      " 5   final.output.recovery                               14149 non-null  float64\n",
      " 6   final.output.tail_ag                                14149 non-null  float64\n",
      " 7   final.output.tail_pb                                14049 non-null  float64\n",
      " 8   final.output.tail_sol                               14144 non-null  float64\n",
      " 9   final.output.tail_au                                14149 non-null  float64\n",
      " 10  primary_cleaner.input.sulfate                       14129 non-null  float64\n",
      " 11  primary_cleaner.input.depressant                    14117 non-null  float64\n",
      " 12  primary_cleaner.input.feed_size                     14149 non-null  float64\n",
      " 13  primary_cleaner.input.xanthate                      14049 non-null  float64\n",
      " 14  primary_cleaner.output.concentrate_ag               14149 non-null  float64\n",
      " 15  primary_cleaner.output.concentrate_pb               14063 non-null  float64\n",
      " 16  primary_cleaner.output.concentrate_sol              13863 non-null  float64\n",
      " 17  primary_cleaner.output.concentrate_au               14149 non-null  float64\n",
      " 18  primary_cleaner.output.tail_ag                      14148 non-null  float64\n",
      " 19  primary_cleaner.output.tail_pb                      14134 non-null  float64\n",
      " 20  primary_cleaner.output.tail_sol                     14103 non-null  float64\n",
      " 21  primary_cleaner.output.tail_au                      14149 non-null  float64\n",
      " 22  primary_cleaner.state.floatbank8_a_air              14145 non-null  float64\n",
      " 23  primary_cleaner.state.floatbank8_a_level            14148 non-null  float64\n",
      " 24  primary_cleaner.state.floatbank8_b_air              14145 non-null  float64\n",
      " 25  primary_cleaner.state.floatbank8_b_level            14148 non-null  float64\n",
      " 26  primary_cleaner.state.floatbank8_c_air              14147 non-null  float64\n",
      " 27  primary_cleaner.state.floatbank8_c_level            14148 non-null  float64\n",
      " 28  primary_cleaner.state.floatbank8_d_air              14146 non-null  float64\n",
      " 29  primary_cleaner.state.floatbank8_d_level            14148 non-null  float64\n",
      " 30  rougher.calculation.sulfate_to_au_concentrate       14148 non-null  float64\n",
      " 31  rougher.calculation.floatbank10_sulfate_to_au_feed  14148 non-null  float64\n",
      " 32  rougher.calculation.floatbank11_sulfate_to_au_feed  14148 non-null  float64\n",
      " 33  rougher.calculation.au_pb_ratio                     14149 non-null  float64\n",
      " 34  rougher.input.feed_ag                               14149 non-null  float64\n",
      " 35  rougher.input.feed_pb                               14049 non-null  float64\n",
      " 36  rougher.input.feed_rate                             14141 non-null  float64\n",
      " 37  rougher.input.feed_size                             14005 non-null  float64\n",
      " 38  rougher.input.feed_sol                              14071 non-null  float64\n",
      " 39  rougher.input.feed_au                               14149 non-null  float64\n",
      " 40  rougher.input.floatbank10_sulfate                   14120 non-null  float64\n",
      " 41  rougher.input.floatbank10_xanthate                  14141 non-null  float64\n",
      " 42  rougher.input.floatbank11_sulfate                   14113 non-null  float64\n",
      " 43  rougher.input.floatbank11_xanthate                  13721 non-null  float64\n",
      " 44  rougher.output.concentrate_ag                       14149 non-null  float64\n",
      " 45  rougher.output.concentrate_pb                       14149 non-null  float64\n",
      " 46  rougher.output.concentrate_sol                      14127 non-null  float64\n",
      " 47  rougher.output.concentrate_au                       14149 non-null  float64\n",
      " 48  rougher.output.recovery                             14149 non-null  float64\n",
      " 49  rougher.output.tail_ag                              14148 non-null  float64\n",
      " 50  rougher.output.tail_pb                              14149 non-null  float64\n",
      " 51  rougher.output.tail_sol                             14149 non-null  float64\n",
      " 52  rougher.output.tail_au                              14149 non-null  float64\n",
      " 53  rougher.state.floatbank10_a_air                     14148 non-null  float64\n",
      " 54  rougher.state.floatbank10_a_level                   14148 non-null  float64\n",
      " 55  rougher.state.floatbank10_b_air                     14148 non-null  float64\n",
      " 56  rougher.state.floatbank10_b_level                   14148 non-null  float64\n",
      " 57  rougher.state.floatbank10_c_air                     14148 non-null  float64\n",
      " 58  rougher.state.floatbank10_c_level                   14148 non-null  float64\n",
      " 59  rougher.state.floatbank10_d_air                     14149 non-null  float64\n",
      " 60  rougher.state.floatbank10_d_level                   14149 non-null  float64\n",
      " 61  rougher.state.floatbank10_e_air                     13713 non-null  float64\n",
      " 62  rougher.state.floatbank10_e_level                   14149 non-null  float64\n",
      " 63  rougher.state.floatbank10_f_air                     14149 non-null  float64\n",
      " 64  rougher.state.floatbank10_f_level                   14149 non-null  float64\n",
      " 65  secondary_cleaner.output.tail_ag                    14147 non-null  float64\n",
      " 66  secondary_cleaner.output.tail_pb                    14139 non-null  float64\n",
      " 67  secondary_cleaner.output.tail_sol                   12544 non-null  float64\n",
      " 68  secondary_cleaner.output.tail_au                    14149 non-null  float64\n",
      " 69  secondary_cleaner.state.floatbank2_a_air            13932 non-null  float64\n",
      " 70  secondary_cleaner.state.floatbank2_a_level          14148 non-null  float64\n",
      " 71  secondary_cleaner.state.floatbank2_b_air            14128 non-null  float64\n",
      " 72  secondary_cleaner.state.floatbank2_b_level          14148 non-null  float64\n",
      " 73  secondary_cleaner.state.floatbank3_a_air            14145 non-null  float64\n",
      " 74  secondary_cleaner.state.floatbank3_a_level          14148 non-null  float64\n",
      " 75  secondary_cleaner.state.floatbank3_b_air            14148 non-null  float64\n",
      " 76  secondary_cleaner.state.floatbank3_b_level          14148 non-null  float64\n",
      " 77  secondary_cleaner.state.floatbank4_a_air            14143 non-null  float64\n",
      " 78  secondary_cleaner.state.floatbank4_a_level          14148 non-null  float64\n",
      " 79  secondary_cleaner.state.floatbank4_b_air            14148 non-null  float64\n",
      " 80  secondary_cleaner.state.floatbank4_b_level          14148 non-null  float64\n",
      " 81  secondary_cleaner.state.floatbank5_a_air            14148 non-null  float64\n",
      " 82  secondary_cleaner.state.floatbank5_a_level          14148 non-null  float64\n",
      " 83  secondary_cleaner.state.floatbank5_b_air            14148 non-null  float64\n",
      " 84  secondary_cleaner.state.floatbank5_b_level          14148 non-null  float64\n",
      " 85  secondary_cleaner.state.floatbank6_a_air            14147 non-null  float64\n",
      " 86  secondary_cleaner.state.floatbank6_a_level          14148 non-null  float64\n",
      "dtypes: float64(86), object(1)\n",
      "memory usage: 9.4+ MB\n"
     ]
    },
    {
     "data": {
      "text/plain": [
       "None"
      ]
     },
     "metadata": {},
     "output_type": "display_data"
    },
    {
     "data": {
      "text/html": [
       "<div>\n",
       "<style scoped>\n",
       "    .dataframe tbody tr th:only-of-type {\n",
       "        vertical-align: middle;\n",
       "    }\n",
       "\n",
       "    .dataframe tbody tr th {\n",
       "        vertical-align: top;\n",
       "    }\n",
       "\n",
       "    .dataframe thead th {\n",
       "        text-align: right;\n",
       "    }\n",
       "</style>\n",
       "<table border=\"1\" class=\"dataframe\">\n",
       "  <thead>\n",
       "    <tr style=\"text-align: right;\">\n",
       "      <th></th>\n",
       "      <th>final.output.concentrate_ag</th>\n",
       "      <th>final.output.concentrate_pb</th>\n",
       "      <th>final.output.concentrate_sol</th>\n",
       "      <th>final.output.concentrate_au</th>\n",
       "      <th>final.output.recovery</th>\n",
       "      <th>final.output.tail_ag</th>\n",
       "      <th>final.output.tail_pb</th>\n",
       "      <th>final.output.tail_sol</th>\n",
       "      <th>final.output.tail_au</th>\n",
       "      <th>primary_cleaner.input.sulfate</th>\n",
       "      <th>...</th>\n",
       "      <th>secondary_cleaner.state.floatbank4_a_air</th>\n",
       "      <th>secondary_cleaner.state.floatbank4_a_level</th>\n",
       "      <th>secondary_cleaner.state.floatbank4_b_air</th>\n",
       "      <th>secondary_cleaner.state.floatbank4_b_level</th>\n",
       "      <th>secondary_cleaner.state.floatbank5_a_air</th>\n",
       "      <th>secondary_cleaner.state.floatbank5_a_level</th>\n",
       "      <th>secondary_cleaner.state.floatbank5_b_air</th>\n",
       "      <th>secondary_cleaner.state.floatbank5_b_level</th>\n",
       "      <th>secondary_cleaner.state.floatbank6_a_air</th>\n",
       "      <th>secondary_cleaner.state.floatbank6_a_level</th>\n",
       "    </tr>\n",
       "  </thead>\n",
       "  <tbody>\n",
       "    <tr>\n",
       "      <th>count</th>\n",
       "      <td>14148.000000</td>\n",
       "      <td>14148.000000</td>\n",
       "      <td>13938.000000</td>\n",
       "      <td>14149.000000</td>\n",
       "      <td>14149.000000</td>\n",
       "      <td>14149.000000</td>\n",
       "      <td>14049.000000</td>\n",
       "      <td>14144.000000</td>\n",
       "      <td>14149.000000</td>\n",
       "      <td>14129.000000</td>\n",
       "      <td>...</td>\n",
       "      <td>14143.000000</td>\n",
       "      <td>14148.000000</td>\n",
       "      <td>14148.000000</td>\n",
       "      <td>14148.000000</td>\n",
       "      <td>14148.000000</td>\n",
       "      <td>14148.000000</td>\n",
       "      <td>14148.000000</td>\n",
       "      <td>14148.000000</td>\n",
       "      <td>14147.000000</td>\n",
       "      <td>14148.000000</td>\n",
       "    </tr>\n",
       "    <tr>\n",
       "      <th>mean</th>\n",
       "      <td>5.142034</td>\n",
       "      <td>10.132960</td>\n",
       "      <td>9.202849</td>\n",
       "      <td>44.003792</td>\n",
       "      <td>66.518832</td>\n",
       "      <td>9.607035</td>\n",
       "      <td>2.597298</td>\n",
       "      <td>10.512122</td>\n",
       "      <td>2.918421</td>\n",
       "      <td>133.320659</td>\n",
       "      <td>...</td>\n",
       "      <td>19.985454</td>\n",
       "      <td>-478.696836</td>\n",
       "      <td>15.487065</td>\n",
       "      <td>-460.229416</td>\n",
       "      <td>16.775136</td>\n",
       "      <td>-483.956022</td>\n",
       "      <td>13.064590</td>\n",
       "      <td>-483.966564</td>\n",
       "      <td>19.577539</td>\n",
       "      <td>-506.798480</td>\n",
       "    </tr>\n",
       "    <tr>\n",
       "      <th>std</th>\n",
       "      <td>1.369586</td>\n",
       "      <td>1.654930</td>\n",
       "      <td>2.790516</td>\n",
       "      <td>4.905261</td>\n",
       "      <td>10.295402</td>\n",
       "      <td>2.319069</td>\n",
       "      <td>0.971843</td>\n",
       "      <td>3.003617</td>\n",
       "      <td>0.903712</td>\n",
       "      <td>39.431659</td>\n",
       "      <td>...</td>\n",
       "      <td>5.657723</td>\n",
       "      <td>50.736021</td>\n",
       "      <td>5.255655</td>\n",
       "      <td>58.843586</td>\n",
       "      <td>5.831906</td>\n",
       "      <td>37.892788</td>\n",
       "      <td>5.765617</td>\n",
       "      <td>39.207913</td>\n",
       "      <td>5.764417</td>\n",
       "      <td>37.079249</td>\n",
       "    </tr>\n",
       "    <tr>\n",
       "      <th>min</th>\n",
       "      <td>0.000000</td>\n",
       "      <td>0.000000</td>\n",
       "      <td>0.000000</td>\n",
       "      <td>0.000000</td>\n",
       "      <td>0.000000</td>\n",
       "      <td>0.000000</td>\n",
       "      <td>0.000000</td>\n",
       "      <td>0.000000</td>\n",
       "      <td>0.000000</td>\n",
       "      <td>0.003112</td>\n",
       "      <td>...</td>\n",
       "      <td>0.000000</td>\n",
       "      <td>-799.709069</td>\n",
       "      <td>0.000000</td>\n",
       "      <td>-799.889113</td>\n",
       "      <td>-0.372054</td>\n",
       "      <td>-797.142475</td>\n",
       "      <td>0.646208</td>\n",
       "      <td>-800.006180</td>\n",
       "      <td>0.195324</td>\n",
       "      <td>-809.398668</td>\n",
       "    </tr>\n",
       "    <tr>\n",
       "      <th>25%</th>\n",
       "      <td>4.211620</td>\n",
       "      <td>9.297355</td>\n",
       "      <td>7.484645</td>\n",
       "      <td>43.276111</td>\n",
       "      <td>62.545817</td>\n",
       "      <td>7.997429</td>\n",
       "      <td>1.905973</td>\n",
       "      <td>8.811324</td>\n",
       "      <td>2.368607</td>\n",
       "      <td>107.006651</td>\n",
       "      <td>...</td>\n",
       "      <td>14.990775</td>\n",
       "      <td>-500.628656</td>\n",
       "      <td>11.894558</td>\n",
       "      <td>-500.149000</td>\n",
       "      <td>11.083980</td>\n",
       "      <td>-500.363177</td>\n",
       "      <td>8.994405</td>\n",
       "      <td>-500.105994</td>\n",
       "      <td>14.989304</td>\n",
       "      <td>-500.745104</td>\n",
       "    </tr>\n",
       "    <tr>\n",
       "      <th>50%</th>\n",
       "      <td>4.994652</td>\n",
       "      <td>10.297144</td>\n",
       "      <td>8.845462</td>\n",
       "      <td>44.872436</td>\n",
       "      <td>67.432775</td>\n",
       "      <td>9.480270</td>\n",
       "      <td>2.592022</td>\n",
       "      <td>10.514621</td>\n",
       "      <td>2.851025</td>\n",
       "      <td>133.018328</td>\n",
       "      <td>...</td>\n",
       "      <td>20.001789</td>\n",
       "      <td>-499.681450</td>\n",
       "      <td>14.975536</td>\n",
       "      <td>-499.388738</td>\n",
       "      <td>17.932223</td>\n",
       "      <td>-499.702452</td>\n",
       "      <td>11.997547</td>\n",
       "      <td>-499.914556</td>\n",
       "      <td>19.984175</td>\n",
       "      <td>-500.061431</td>\n",
       "    </tr>\n",
       "    <tr>\n",
       "      <th>75%</th>\n",
       "      <td>5.859540</td>\n",
       "      <td>11.170603</td>\n",
       "      <td>10.487508</td>\n",
       "      <td>46.166425</td>\n",
       "      <td>72.346428</td>\n",
       "      <td>11.003707</td>\n",
       "      <td>3.241723</td>\n",
       "      <td>11.933009</td>\n",
       "      <td>3.434764</td>\n",
       "      <td>159.825396</td>\n",
       "      <td>...</td>\n",
       "      <td>24.990826</td>\n",
       "      <td>-477.472413</td>\n",
       "      <td>20.059375</td>\n",
       "      <td>-400.039008</td>\n",
       "      <td>21.346550</td>\n",
       "      <td>-487.712108</td>\n",
       "      <td>17.982903</td>\n",
       "      <td>-453.186936</td>\n",
       "      <td>24.991623</td>\n",
       "      <td>-499.536466</td>\n",
       "    </tr>\n",
       "    <tr>\n",
       "      <th>max</th>\n",
       "      <td>16.001945</td>\n",
       "      <td>17.031899</td>\n",
       "      <td>18.124851</td>\n",
       "      <td>52.756638</td>\n",
       "      <td>100.000000</td>\n",
       "      <td>19.552149</td>\n",
       "      <td>5.639565</td>\n",
       "      <td>22.317730</td>\n",
       "      <td>8.197408</td>\n",
       "      <td>250.127834</td>\n",
       "      <td>...</td>\n",
       "      <td>30.115735</td>\n",
       "      <td>-245.239184</td>\n",
       "      <td>24.007913</td>\n",
       "      <td>-145.071088</td>\n",
       "      <td>43.709931</td>\n",
       "      <td>-275.073125</td>\n",
       "      <td>27.926001</td>\n",
       "      <td>-157.396071</td>\n",
       "      <td>32.188906</td>\n",
       "      <td>-104.427459</td>\n",
       "    </tr>\n",
       "  </tbody>\n",
       "</table>\n",
       "<p>8 rows × 86 columns</p>\n",
       "</div>"
      ],
      "text/plain": [
       "       final.output.concentrate_ag  final.output.concentrate_pb  \\\n",
       "count                 14148.000000                 14148.000000   \n",
       "mean                      5.142034                    10.132960   \n",
       "std                       1.369586                     1.654930   \n",
       "min                       0.000000                     0.000000   \n",
       "25%                       4.211620                     9.297355   \n",
       "50%                       4.994652                    10.297144   \n",
       "75%                       5.859540                    11.170603   \n",
       "max                      16.001945                    17.031899   \n",
       "\n",
       "       final.output.concentrate_sol  final.output.concentrate_au  \\\n",
       "count                  13938.000000                 14149.000000   \n",
       "mean                       9.202849                    44.003792   \n",
       "std                        2.790516                     4.905261   \n",
       "min                        0.000000                     0.000000   \n",
       "25%                        7.484645                    43.276111   \n",
       "50%                        8.845462                    44.872436   \n",
       "75%                       10.487508                    46.166425   \n",
       "max                       18.124851                    52.756638   \n",
       "\n",
       "       final.output.recovery  final.output.tail_ag  final.output.tail_pb  \\\n",
       "count           14149.000000          14149.000000          14049.000000   \n",
       "mean               66.518832              9.607035              2.597298   \n",
       "std                10.295402              2.319069              0.971843   \n",
       "min                 0.000000              0.000000              0.000000   \n",
       "25%                62.545817              7.997429              1.905973   \n",
       "50%                67.432775              9.480270              2.592022   \n",
       "75%                72.346428             11.003707              3.241723   \n",
       "max               100.000000             19.552149              5.639565   \n",
       "\n",
       "       final.output.tail_sol  final.output.tail_au  \\\n",
       "count           14144.000000          14149.000000   \n",
       "mean               10.512122              2.918421   \n",
       "std                 3.003617              0.903712   \n",
       "min                 0.000000              0.000000   \n",
       "25%                 8.811324              2.368607   \n",
       "50%                10.514621              2.851025   \n",
       "75%                11.933009              3.434764   \n",
       "max                22.317730              8.197408   \n",
       "\n",
       "       primary_cleaner.input.sulfate  ...  \\\n",
       "count                   14129.000000  ...   \n",
       "mean                      133.320659  ...   \n",
       "std                        39.431659  ...   \n",
       "min                         0.003112  ...   \n",
       "25%                       107.006651  ...   \n",
       "50%                       133.018328  ...   \n",
       "75%                       159.825396  ...   \n",
       "max                       250.127834  ...   \n",
       "\n",
       "       secondary_cleaner.state.floatbank4_a_air  \\\n",
       "count                              14143.000000   \n",
       "mean                                  19.985454   \n",
       "std                                    5.657723   \n",
       "min                                    0.000000   \n",
       "25%                                   14.990775   \n",
       "50%                                   20.001789   \n",
       "75%                                   24.990826   \n",
       "max                                   30.115735   \n",
       "\n",
       "       secondary_cleaner.state.floatbank4_a_level  \\\n",
       "count                                14148.000000   \n",
       "mean                                  -478.696836   \n",
       "std                                     50.736021   \n",
       "min                                   -799.709069   \n",
       "25%                                   -500.628656   \n",
       "50%                                   -499.681450   \n",
       "75%                                   -477.472413   \n",
       "max                                   -245.239184   \n",
       "\n",
       "       secondary_cleaner.state.floatbank4_b_air  \\\n",
       "count                              14148.000000   \n",
       "mean                                  15.487065   \n",
       "std                                    5.255655   \n",
       "min                                    0.000000   \n",
       "25%                                   11.894558   \n",
       "50%                                   14.975536   \n",
       "75%                                   20.059375   \n",
       "max                                   24.007913   \n",
       "\n",
       "       secondary_cleaner.state.floatbank4_b_level  \\\n",
       "count                                14148.000000   \n",
       "mean                                  -460.229416   \n",
       "std                                     58.843586   \n",
       "min                                   -799.889113   \n",
       "25%                                   -500.149000   \n",
       "50%                                   -499.388738   \n",
       "75%                                   -400.039008   \n",
       "max                                   -145.071088   \n",
       "\n",
       "       secondary_cleaner.state.floatbank5_a_air  \\\n",
       "count                              14148.000000   \n",
       "mean                                  16.775136   \n",
       "std                                    5.831906   \n",
       "min                                   -0.372054   \n",
       "25%                                   11.083980   \n",
       "50%                                   17.932223   \n",
       "75%                                   21.346550   \n",
       "max                                   43.709931   \n",
       "\n",
       "       secondary_cleaner.state.floatbank5_a_level  \\\n",
       "count                                14148.000000   \n",
       "mean                                  -483.956022   \n",
       "std                                     37.892788   \n",
       "min                                   -797.142475   \n",
       "25%                                   -500.363177   \n",
       "50%                                   -499.702452   \n",
       "75%                                   -487.712108   \n",
       "max                                   -275.073125   \n",
       "\n",
       "       secondary_cleaner.state.floatbank5_b_air  \\\n",
       "count                              14148.000000   \n",
       "mean                                  13.064590   \n",
       "std                                    5.765617   \n",
       "min                                    0.646208   \n",
       "25%                                    8.994405   \n",
       "50%                                   11.997547   \n",
       "75%                                   17.982903   \n",
       "max                                   27.926001   \n",
       "\n",
       "       secondary_cleaner.state.floatbank5_b_level  \\\n",
       "count                                14148.000000   \n",
       "mean                                  -483.966564   \n",
       "std                                     39.207913   \n",
       "min                                   -800.006180   \n",
       "25%                                   -500.105994   \n",
       "50%                                   -499.914556   \n",
       "75%                                   -453.186936   \n",
       "max                                   -157.396071   \n",
       "\n",
       "       secondary_cleaner.state.floatbank6_a_air  \\\n",
       "count                              14147.000000   \n",
       "mean                                  19.577539   \n",
       "std                                    5.764417   \n",
       "min                                    0.195324   \n",
       "25%                                   14.989304   \n",
       "50%                                   19.984175   \n",
       "75%                                   24.991623   \n",
       "max                                   32.188906   \n",
       "\n",
       "       secondary_cleaner.state.floatbank6_a_level  \n",
       "count                                14148.000000  \n",
       "mean                                  -506.798480  \n",
       "std                                     37.079249  \n",
       "min                                   -809.398668  \n",
       "25%                                   -500.745104  \n",
       "50%                                   -500.061431  \n",
       "75%                                   -499.536466  \n",
       "max                                   -104.427459  \n",
       "\n",
       "[8 rows x 86 columns]"
      ]
     },
     "metadata": {},
     "output_type": "display_data"
    },
    {
     "data": {
      "text/plain": [
       "date                                            0\n",
       "final.output.concentrate_ag                     1\n",
       "final.output.concentrate_pb                     1\n",
       "final.output.concentrate_sol                  211\n",
       "final.output.concentrate_au                     0\n",
       "                                             ... \n",
       "secondary_cleaner.state.floatbank5_a_level      1\n",
       "secondary_cleaner.state.floatbank5_b_air        1\n",
       "secondary_cleaner.state.floatbank5_b_level      1\n",
       "secondary_cleaner.state.floatbank6_a_air        2\n",
       "secondary_cleaner.state.floatbank6_a_level      1\n",
       "Length: 87, dtype: int64"
      ]
     },
     "metadata": {},
     "output_type": "display_data"
    },
    {
     "data": {
      "text/plain": [
       "'Количество дубликатов: 0'"
      ]
     },
     "metadata": {},
     "output_type": "display_data"
    },
    {
     "data": {
      "text/plain": [
       "'All info for dataset №2'"
      ]
     },
     "metadata": {},
     "output_type": "display_data"
    },
    {
     "data": {
      "text/html": [
       "<div>\n",
       "<style scoped>\n",
       "    .dataframe tbody tr th:only-of-type {\n",
       "        vertical-align: middle;\n",
       "    }\n",
       "\n",
       "    .dataframe tbody tr th {\n",
       "        vertical-align: top;\n",
       "    }\n",
       "\n",
       "    .dataframe thead th {\n",
       "        text-align: right;\n",
       "    }\n",
       "</style>\n",
       "<table border=\"1\" class=\"dataframe\">\n",
       "  <thead>\n",
       "    <tr style=\"text-align: right;\">\n",
       "      <th></th>\n",
       "      <th>date</th>\n",
       "      <th>primary_cleaner.input.sulfate</th>\n",
       "      <th>primary_cleaner.input.depressant</th>\n",
       "      <th>primary_cleaner.input.feed_size</th>\n",
       "      <th>primary_cleaner.input.xanthate</th>\n",
       "      <th>primary_cleaner.state.floatbank8_a_air</th>\n",
       "      <th>primary_cleaner.state.floatbank8_a_level</th>\n",
       "      <th>primary_cleaner.state.floatbank8_b_air</th>\n",
       "      <th>primary_cleaner.state.floatbank8_b_level</th>\n",
       "      <th>primary_cleaner.state.floatbank8_c_air</th>\n",
       "      <th>...</th>\n",
       "      <th>secondary_cleaner.state.floatbank4_a_air</th>\n",
       "      <th>secondary_cleaner.state.floatbank4_a_level</th>\n",
       "      <th>secondary_cleaner.state.floatbank4_b_air</th>\n",
       "      <th>secondary_cleaner.state.floatbank4_b_level</th>\n",
       "      <th>secondary_cleaner.state.floatbank5_a_air</th>\n",
       "      <th>secondary_cleaner.state.floatbank5_a_level</th>\n",
       "      <th>secondary_cleaner.state.floatbank5_b_air</th>\n",
       "      <th>secondary_cleaner.state.floatbank5_b_level</th>\n",
       "      <th>secondary_cleaner.state.floatbank6_a_air</th>\n",
       "      <th>secondary_cleaner.state.floatbank6_a_level</th>\n",
       "    </tr>\n",
       "  </thead>\n",
       "  <tbody>\n",
       "    <tr>\n",
       "      <th>0</th>\n",
       "      <td>2016-09-01 00:59:59</td>\n",
       "      <td>210.800909</td>\n",
       "      <td>14.993118</td>\n",
       "      <td>8.080000</td>\n",
       "      <td>1.005021</td>\n",
       "      <td>1398.981301</td>\n",
       "      <td>-500.225577</td>\n",
       "      <td>1399.144926</td>\n",
       "      <td>-499.919735</td>\n",
       "      <td>1400.102998</td>\n",
       "      <td>...</td>\n",
       "      <td>12.023554</td>\n",
       "      <td>-497.795834</td>\n",
       "      <td>8.016656</td>\n",
       "      <td>-501.289139</td>\n",
       "      <td>7.946562</td>\n",
       "      <td>-432.317850</td>\n",
       "      <td>4.872511</td>\n",
       "      <td>-500.037437</td>\n",
       "      <td>26.705889</td>\n",
       "      <td>-499.709414</td>\n",
       "    </tr>\n",
       "    <tr>\n",
       "      <th>1</th>\n",
       "      <td>2016-09-01 01:59:59</td>\n",
       "      <td>215.392455</td>\n",
       "      <td>14.987471</td>\n",
       "      <td>8.080000</td>\n",
       "      <td>0.990469</td>\n",
       "      <td>1398.777912</td>\n",
       "      <td>-500.057435</td>\n",
       "      <td>1398.055362</td>\n",
       "      <td>-499.778182</td>\n",
       "      <td>1396.151033</td>\n",
       "      <td>...</td>\n",
       "      <td>12.058140</td>\n",
       "      <td>-498.695773</td>\n",
       "      <td>8.130979</td>\n",
       "      <td>-499.634209</td>\n",
       "      <td>7.958270</td>\n",
       "      <td>-525.839648</td>\n",
       "      <td>4.878850</td>\n",
       "      <td>-500.162375</td>\n",
       "      <td>25.019940</td>\n",
       "      <td>-499.819438</td>\n",
       "    </tr>\n",
       "    <tr>\n",
       "      <th>2</th>\n",
       "      <td>2016-09-01 02:59:59</td>\n",
       "      <td>215.259946</td>\n",
       "      <td>12.884934</td>\n",
       "      <td>7.786667</td>\n",
       "      <td>0.996043</td>\n",
       "      <td>1398.493666</td>\n",
       "      <td>-500.868360</td>\n",
       "      <td>1398.860436</td>\n",
       "      <td>-499.764529</td>\n",
       "      <td>1398.075709</td>\n",
       "      <td>...</td>\n",
       "      <td>11.962366</td>\n",
       "      <td>-498.767484</td>\n",
       "      <td>8.096893</td>\n",
       "      <td>-500.827423</td>\n",
       "      <td>8.071056</td>\n",
       "      <td>-500.801673</td>\n",
       "      <td>4.905125</td>\n",
       "      <td>-499.828510</td>\n",
       "      <td>24.994862</td>\n",
       "      <td>-500.622559</td>\n",
       "    </tr>\n",
       "    <tr>\n",
       "      <th>3</th>\n",
       "      <td>2016-09-01 03:59:59</td>\n",
       "      <td>215.336236</td>\n",
       "      <td>12.006805</td>\n",
       "      <td>7.640000</td>\n",
       "      <td>0.863514</td>\n",
       "      <td>1399.618111</td>\n",
       "      <td>-498.863574</td>\n",
       "      <td>1397.440120</td>\n",
       "      <td>-499.211024</td>\n",
       "      <td>1400.129303</td>\n",
       "      <td>...</td>\n",
       "      <td>12.033091</td>\n",
       "      <td>-498.350935</td>\n",
       "      <td>8.074946</td>\n",
       "      <td>-499.474407</td>\n",
       "      <td>7.897085</td>\n",
       "      <td>-500.868509</td>\n",
       "      <td>4.931400</td>\n",
       "      <td>-499.963623</td>\n",
       "      <td>24.948919</td>\n",
       "      <td>-498.709987</td>\n",
       "    </tr>\n",
       "    <tr>\n",
       "      <th>4</th>\n",
       "      <td>2016-09-01 04:59:59</td>\n",
       "      <td>199.099327</td>\n",
       "      <td>10.682530</td>\n",
       "      <td>7.530000</td>\n",
       "      <td>0.805575</td>\n",
       "      <td>1401.268123</td>\n",
       "      <td>-500.808305</td>\n",
       "      <td>1398.128818</td>\n",
       "      <td>-499.504543</td>\n",
       "      <td>1402.172226</td>\n",
       "      <td>...</td>\n",
       "      <td>12.025367</td>\n",
       "      <td>-500.786497</td>\n",
       "      <td>8.054678</td>\n",
       "      <td>-500.397500</td>\n",
       "      <td>8.107890</td>\n",
       "      <td>-509.526725</td>\n",
       "      <td>4.957674</td>\n",
       "      <td>-500.360026</td>\n",
       "      <td>25.003331</td>\n",
       "      <td>-500.856333</td>\n",
       "    </tr>\n",
       "    <tr>\n",
       "      <th>5</th>\n",
       "      <td>2016-09-01 05:59:59</td>\n",
       "      <td>168.485085</td>\n",
       "      <td>8.817007</td>\n",
       "      <td>7.420000</td>\n",
       "      <td>0.791191</td>\n",
       "      <td>1402.826803</td>\n",
       "      <td>-499.299521</td>\n",
       "      <td>1401.511119</td>\n",
       "      <td>-499.205357</td>\n",
       "      <td>1404.088107</td>\n",
       "      <td>...</td>\n",
       "      <td>12.029797</td>\n",
       "      <td>-499.814895</td>\n",
       "      <td>8.036586</td>\n",
       "      <td>-500.371492</td>\n",
       "      <td>8.041446</td>\n",
       "      <td>-510.037054</td>\n",
       "      <td>4.983949</td>\n",
       "      <td>-499.990990</td>\n",
       "      <td>24.978973</td>\n",
       "      <td>-500.475640</td>\n",
       "    </tr>\n",
       "    <tr>\n",
       "      <th>6</th>\n",
       "      <td>2016-09-01 06:59:59</td>\n",
       "      <td>144.133440</td>\n",
       "      <td>7.924610</td>\n",
       "      <td>7.420000</td>\n",
       "      <td>0.788838</td>\n",
       "      <td>1398.252401</td>\n",
       "      <td>-499.748672</td>\n",
       "      <td>1393.255503</td>\n",
       "      <td>-499.195380</td>\n",
       "      <td>1396.738566</td>\n",
       "      <td>...</td>\n",
       "      <td>12.026296</td>\n",
       "      <td>-499.473127</td>\n",
       "      <td>8.027984</td>\n",
       "      <td>-500.983079</td>\n",
       "      <td>7.907340</td>\n",
       "      <td>-507.964971</td>\n",
       "      <td>5.010224</td>\n",
       "      <td>-500.043697</td>\n",
       "      <td>25.040709</td>\n",
       "      <td>-499.501984</td>\n",
       "    </tr>\n",
       "    <tr>\n",
       "      <th>7</th>\n",
       "      <td>2016-09-01 07:59:59</td>\n",
       "      <td>133.513396</td>\n",
       "      <td>8.055252</td>\n",
       "      <td>6.988000</td>\n",
       "      <td>0.801871</td>\n",
       "      <td>1401.669677</td>\n",
       "      <td>-501.777839</td>\n",
       "      <td>1400.754446</td>\n",
       "      <td>-502.514024</td>\n",
       "      <td>1400.465244</td>\n",
       "      <td>...</td>\n",
       "      <td>12.040911</td>\n",
       "      <td>-501.293852</td>\n",
       "      <td>8.020490</td>\n",
       "      <td>-499.185229</td>\n",
       "      <td>8.116897</td>\n",
       "      <td>-511.927561</td>\n",
       "      <td>5.036498</td>\n",
       "      <td>-500.149615</td>\n",
       "      <td>25.032580</td>\n",
       "      <td>-503.970657</td>\n",
       "    </tr>\n",
       "    <tr>\n",
       "      <th>8</th>\n",
       "      <td>2016-09-01 08:59:59</td>\n",
       "      <td>133.735356</td>\n",
       "      <td>7.999618</td>\n",
       "      <td>6.935000</td>\n",
       "      <td>0.789329</td>\n",
       "      <td>1402.358981</td>\n",
       "      <td>-499.981597</td>\n",
       "      <td>1400.985954</td>\n",
       "      <td>-496.802968</td>\n",
       "      <td>1401.168584</td>\n",
       "      <td>...</td>\n",
       "      <td>11.998184</td>\n",
       "      <td>-499.481608</td>\n",
       "      <td>8.012610</td>\n",
       "      <td>-500.896783</td>\n",
       "      <td>7.974422</td>\n",
       "      <td>-521.199104</td>\n",
       "      <td>5.061599</td>\n",
       "      <td>-499.791519</td>\n",
       "      <td>25.005063</td>\n",
       "      <td>-497.613716</td>\n",
       "    </tr>\n",
       "    <tr>\n",
       "      <th>9</th>\n",
       "      <td>2016-09-01 09:59:59</td>\n",
       "      <td>126.961069</td>\n",
       "      <td>8.017856</td>\n",
       "      <td>7.030000</td>\n",
       "      <td>0.805298</td>\n",
       "      <td>1400.816120</td>\n",
       "      <td>-499.014158</td>\n",
       "      <td>1399.975401</td>\n",
       "      <td>-499.570552</td>\n",
       "      <td>1401.871924</td>\n",
       "      <td>...</td>\n",
       "      <td>12.040725</td>\n",
       "      <td>-499.987743</td>\n",
       "      <td>7.989503</td>\n",
       "      <td>-499.750625</td>\n",
       "      <td>7.989710</td>\n",
       "      <td>-509.946737</td>\n",
       "      <td>5.068811</td>\n",
       "      <td>-499.293900</td>\n",
       "      <td>24.992741</td>\n",
       "      <td>-499.272255</td>\n",
       "    </tr>\n",
       "  </tbody>\n",
       "</table>\n",
       "<p>10 rows × 53 columns</p>\n",
       "</div>"
      ],
      "text/plain": [
       "                  date  primary_cleaner.input.sulfate  \\\n",
       "0  2016-09-01 00:59:59                     210.800909   \n",
       "1  2016-09-01 01:59:59                     215.392455   \n",
       "2  2016-09-01 02:59:59                     215.259946   \n",
       "3  2016-09-01 03:59:59                     215.336236   \n",
       "4  2016-09-01 04:59:59                     199.099327   \n",
       "5  2016-09-01 05:59:59                     168.485085   \n",
       "6  2016-09-01 06:59:59                     144.133440   \n",
       "7  2016-09-01 07:59:59                     133.513396   \n",
       "8  2016-09-01 08:59:59                     133.735356   \n",
       "9  2016-09-01 09:59:59                     126.961069   \n",
       "\n",
       "   primary_cleaner.input.depressant  primary_cleaner.input.feed_size  \\\n",
       "0                         14.993118                         8.080000   \n",
       "1                         14.987471                         8.080000   \n",
       "2                         12.884934                         7.786667   \n",
       "3                         12.006805                         7.640000   \n",
       "4                         10.682530                         7.530000   \n",
       "5                          8.817007                         7.420000   \n",
       "6                          7.924610                         7.420000   \n",
       "7                          8.055252                         6.988000   \n",
       "8                          7.999618                         6.935000   \n",
       "9                          8.017856                         7.030000   \n",
       "\n",
       "   primary_cleaner.input.xanthate  primary_cleaner.state.floatbank8_a_air  \\\n",
       "0                        1.005021                             1398.981301   \n",
       "1                        0.990469                             1398.777912   \n",
       "2                        0.996043                             1398.493666   \n",
       "3                        0.863514                             1399.618111   \n",
       "4                        0.805575                             1401.268123   \n",
       "5                        0.791191                             1402.826803   \n",
       "6                        0.788838                             1398.252401   \n",
       "7                        0.801871                             1401.669677   \n",
       "8                        0.789329                             1402.358981   \n",
       "9                        0.805298                             1400.816120   \n",
       "\n",
       "   primary_cleaner.state.floatbank8_a_level  \\\n",
       "0                               -500.225577   \n",
       "1                               -500.057435   \n",
       "2                               -500.868360   \n",
       "3                               -498.863574   \n",
       "4                               -500.808305   \n",
       "5                               -499.299521   \n",
       "6                               -499.748672   \n",
       "7                               -501.777839   \n",
       "8                               -499.981597   \n",
       "9                               -499.014158   \n",
       "\n",
       "   primary_cleaner.state.floatbank8_b_air  \\\n",
       "0                             1399.144926   \n",
       "1                             1398.055362   \n",
       "2                             1398.860436   \n",
       "3                             1397.440120   \n",
       "4                             1398.128818   \n",
       "5                             1401.511119   \n",
       "6                             1393.255503   \n",
       "7                             1400.754446   \n",
       "8                             1400.985954   \n",
       "9                             1399.975401   \n",
       "\n",
       "   primary_cleaner.state.floatbank8_b_level  \\\n",
       "0                               -499.919735   \n",
       "1                               -499.778182   \n",
       "2                               -499.764529   \n",
       "3                               -499.211024   \n",
       "4                               -499.504543   \n",
       "5                               -499.205357   \n",
       "6                               -499.195380   \n",
       "7                               -502.514024   \n",
       "8                               -496.802968   \n",
       "9                               -499.570552   \n",
       "\n",
       "   primary_cleaner.state.floatbank8_c_air  ...  \\\n",
       "0                             1400.102998  ...   \n",
       "1                             1396.151033  ...   \n",
       "2                             1398.075709  ...   \n",
       "3                             1400.129303  ...   \n",
       "4                             1402.172226  ...   \n",
       "5                             1404.088107  ...   \n",
       "6                             1396.738566  ...   \n",
       "7                             1400.465244  ...   \n",
       "8                             1401.168584  ...   \n",
       "9                             1401.871924  ...   \n",
       "\n",
       "   secondary_cleaner.state.floatbank4_a_air  \\\n",
       "0                                 12.023554   \n",
       "1                                 12.058140   \n",
       "2                                 11.962366   \n",
       "3                                 12.033091   \n",
       "4                                 12.025367   \n",
       "5                                 12.029797   \n",
       "6                                 12.026296   \n",
       "7                                 12.040911   \n",
       "8                                 11.998184   \n",
       "9                                 12.040725   \n",
       "\n",
       "   secondary_cleaner.state.floatbank4_a_level  \\\n",
       "0                                 -497.795834   \n",
       "1                                 -498.695773   \n",
       "2                                 -498.767484   \n",
       "3                                 -498.350935   \n",
       "4                                 -500.786497   \n",
       "5                                 -499.814895   \n",
       "6                                 -499.473127   \n",
       "7                                 -501.293852   \n",
       "8                                 -499.481608   \n",
       "9                                 -499.987743   \n",
       "\n",
       "   secondary_cleaner.state.floatbank4_b_air  \\\n",
       "0                                  8.016656   \n",
       "1                                  8.130979   \n",
       "2                                  8.096893   \n",
       "3                                  8.074946   \n",
       "4                                  8.054678   \n",
       "5                                  8.036586   \n",
       "6                                  8.027984   \n",
       "7                                  8.020490   \n",
       "8                                  8.012610   \n",
       "9                                  7.989503   \n",
       "\n",
       "   secondary_cleaner.state.floatbank4_b_level  \\\n",
       "0                                 -501.289139   \n",
       "1                                 -499.634209   \n",
       "2                                 -500.827423   \n",
       "3                                 -499.474407   \n",
       "4                                 -500.397500   \n",
       "5                                 -500.371492   \n",
       "6                                 -500.983079   \n",
       "7                                 -499.185229   \n",
       "8                                 -500.896783   \n",
       "9                                 -499.750625   \n",
       "\n",
       "   secondary_cleaner.state.floatbank5_a_air  \\\n",
       "0                                  7.946562   \n",
       "1                                  7.958270   \n",
       "2                                  8.071056   \n",
       "3                                  7.897085   \n",
       "4                                  8.107890   \n",
       "5                                  8.041446   \n",
       "6                                  7.907340   \n",
       "7                                  8.116897   \n",
       "8                                  7.974422   \n",
       "9                                  7.989710   \n",
       "\n",
       "   secondary_cleaner.state.floatbank5_a_level  \\\n",
       "0                                 -432.317850   \n",
       "1                                 -525.839648   \n",
       "2                                 -500.801673   \n",
       "3                                 -500.868509   \n",
       "4                                 -509.526725   \n",
       "5                                 -510.037054   \n",
       "6                                 -507.964971   \n",
       "7                                 -511.927561   \n",
       "8                                 -521.199104   \n",
       "9                                 -509.946737   \n",
       "\n",
       "   secondary_cleaner.state.floatbank5_b_air  \\\n",
       "0                                  4.872511   \n",
       "1                                  4.878850   \n",
       "2                                  4.905125   \n",
       "3                                  4.931400   \n",
       "4                                  4.957674   \n",
       "5                                  4.983949   \n",
       "6                                  5.010224   \n",
       "7                                  5.036498   \n",
       "8                                  5.061599   \n",
       "9                                  5.068811   \n",
       "\n",
       "   secondary_cleaner.state.floatbank5_b_level  \\\n",
       "0                                 -500.037437   \n",
       "1                                 -500.162375   \n",
       "2                                 -499.828510   \n",
       "3                                 -499.963623   \n",
       "4                                 -500.360026   \n",
       "5                                 -499.990990   \n",
       "6                                 -500.043697   \n",
       "7                                 -500.149615   \n",
       "8                                 -499.791519   \n",
       "9                                 -499.293900   \n",
       "\n",
       "   secondary_cleaner.state.floatbank6_a_air  \\\n",
       "0                                 26.705889   \n",
       "1                                 25.019940   \n",
       "2                                 24.994862   \n",
       "3                                 24.948919   \n",
       "4                                 25.003331   \n",
       "5                                 24.978973   \n",
       "6                                 25.040709   \n",
       "7                                 25.032580   \n",
       "8                                 25.005063   \n",
       "9                                 24.992741   \n",
       "\n",
       "   secondary_cleaner.state.floatbank6_a_level  \n",
       "0                                 -499.709414  \n",
       "1                                 -499.819438  \n",
       "2                                 -500.622559  \n",
       "3                                 -498.709987  \n",
       "4                                 -500.856333  \n",
       "5                                 -500.475640  \n",
       "6                                 -499.501984  \n",
       "7                                 -503.970657  \n",
       "8                                 -497.613716  \n",
       "9                                 -499.272255  \n",
       "\n",
       "[10 rows x 53 columns]"
      ]
     },
     "metadata": {},
     "output_type": "display_data"
    },
    {
     "name": "stdout",
     "output_type": "stream",
     "text": [
      "<class 'pandas.core.frame.DataFrame'>\n",
      "RangeIndex: 5290 entries, 0 to 5289\n",
      "Data columns (total 53 columns):\n",
      " #   Column                                      Non-Null Count  Dtype  \n",
      "---  ------                                      --------------  -----  \n",
      " 0   date                                        5290 non-null   object \n",
      " 1   primary_cleaner.input.sulfate               5286 non-null   float64\n",
      " 2   primary_cleaner.input.depressant            5285 non-null   float64\n",
      " 3   primary_cleaner.input.feed_size             5290 non-null   float64\n",
      " 4   primary_cleaner.input.xanthate              5286 non-null   float64\n",
      " 5   primary_cleaner.state.floatbank8_a_air      5290 non-null   float64\n",
      " 6   primary_cleaner.state.floatbank8_a_level    5290 non-null   float64\n",
      " 7   primary_cleaner.state.floatbank8_b_air      5290 non-null   float64\n",
      " 8   primary_cleaner.state.floatbank8_b_level    5290 non-null   float64\n",
      " 9   primary_cleaner.state.floatbank8_c_air      5290 non-null   float64\n",
      " 10  primary_cleaner.state.floatbank8_c_level    5290 non-null   float64\n",
      " 11  primary_cleaner.state.floatbank8_d_air      5290 non-null   float64\n",
      " 12  primary_cleaner.state.floatbank8_d_level    5290 non-null   float64\n",
      " 13  rougher.input.feed_ag                       5290 non-null   float64\n",
      " 14  rougher.input.feed_pb                       5290 non-null   float64\n",
      " 15  rougher.input.feed_rate                     5287 non-null   float64\n",
      " 16  rougher.input.feed_size                     5289 non-null   float64\n",
      " 17  rougher.input.feed_sol                      5269 non-null   float64\n",
      " 18  rougher.input.feed_au                       5290 non-null   float64\n",
      " 19  rougher.input.floatbank10_sulfate           5285 non-null   float64\n",
      " 20  rougher.input.floatbank10_xanthate          5290 non-null   float64\n",
      " 21  rougher.input.floatbank11_sulfate           5282 non-null   float64\n",
      " 22  rougher.input.floatbank11_xanthate          5265 non-null   float64\n",
      " 23  rougher.state.floatbank10_a_air             5290 non-null   float64\n",
      " 24  rougher.state.floatbank10_a_level           5290 non-null   float64\n",
      " 25  rougher.state.floatbank10_b_air             5290 non-null   float64\n",
      " 26  rougher.state.floatbank10_b_level           5290 non-null   float64\n",
      " 27  rougher.state.floatbank10_c_air             5290 non-null   float64\n",
      " 28  rougher.state.floatbank10_c_level           5290 non-null   float64\n",
      " 29  rougher.state.floatbank10_d_air             5290 non-null   float64\n",
      " 30  rougher.state.floatbank10_d_level           5290 non-null   float64\n",
      " 31  rougher.state.floatbank10_e_air             5290 non-null   float64\n",
      " 32  rougher.state.floatbank10_e_level           5290 non-null   float64\n",
      " 33  rougher.state.floatbank10_f_air             5290 non-null   float64\n",
      " 34  rougher.state.floatbank10_f_level           5290 non-null   float64\n",
      " 35  secondary_cleaner.state.floatbank2_a_air    5287 non-null   float64\n",
      " 36  secondary_cleaner.state.floatbank2_a_level  5290 non-null   float64\n",
      " 37  secondary_cleaner.state.floatbank2_b_air    5288 non-null   float64\n",
      " 38  secondary_cleaner.state.floatbank2_b_level  5290 non-null   float64\n",
      " 39  secondary_cleaner.state.floatbank3_a_air    5281 non-null   float64\n",
      " 40  secondary_cleaner.state.floatbank3_a_level  5290 non-null   float64\n",
      " 41  secondary_cleaner.state.floatbank3_b_air    5290 non-null   float64\n",
      " 42  secondary_cleaner.state.floatbank3_b_level  5290 non-null   float64\n",
      " 43  secondary_cleaner.state.floatbank4_a_air    5290 non-null   float64\n",
      " 44  secondary_cleaner.state.floatbank4_a_level  5290 non-null   float64\n",
      " 45  secondary_cleaner.state.floatbank4_b_air    5290 non-null   float64\n",
      " 46  secondary_cleaner.state.floatbank4_b_level  5290 non-null   float64\n",
      " 47  secondary_cleaner.state.floatbank5_a_air    5290 non-null   float64\n",
      " 48  secondary_cleaner.state.floatbank5_a_level  5290 non-null   float64\n",
      " 49  secondary_cleaner.state.floatbank5_b_air    5290 non-null   float64\n",
      " 50  secondary_cleaner.state.floatbank5_b_level  5290 non-null   float64\n",
      " 51  secondary_cleaner.state.floatbank6_a_air    5290 non-null   float64\n",
      " 52  secondary_cleaner.state.floatbank6_a_level  5290 non-null   float64\n",
      "dtypes: float64(52), object(1)\n",
      "memory usage: 2.1+ MB\n"
     ]
    },
    {
     "data": {
      "text/plain": [
       "None"
      ]
     },
     "metadata": {},
     "output_type": "display_data"
    },
    {
     "data": {
      "text/html": [
       "<div>\n",
       "<style scoped>\n",
       "    .dataframe tbody tr th:only-of-type {\n",
       "        vertical-align: middle;\n",
       "    }\n",
       "\n",
       "    .dataframe tbody tr th {\n",
       "        vertical-align: top;\n",
       "    }\n",
       "\n",
       "    .dataframe thead th {\n",
       "        text-align: right;\n",
       "    }\n",
       "</style>\n",
       "<table border=\"1\" class=\"dataframe\">\n",
       "  <thead>\n",
       "    <tr style=\"text-align: right;\">\n",
       "      <th></th>\n",
       "      <th>primary_cleaner.input.sulfate</th>\n",
       "      <th>primary_cleaner.input.depressant</th>\n",
       "      <th>primary_cleaner.input.feed_size</th>\n",
       "      <th>primary_cleaner.input.xanthate</th>\n",
       "      <th>primary_cleaner.state.floatbank8_a_air</th>\n",
       "      <th>primary_cleaner.state.floatbank8_a_level</th>\n",
       "      <th>primary_cleaner.state.floatbank8_b_air</th>\n",
       "      <th>primary_cleaner.state.floatbank8_b_level</th>\n",
       "      <th>primary_cleaner.state.floatbank8_c_air</th>\n",
       "      <th>primary_cleaner.state.floatbank8_c_level</th>\n",
       "      <th>...</th>\n",
       "      <th>secondary_cleaner.state.floatbank4_a_air</th>\n",
       "      <th>secondary_cleaner.state.floatbank4_a_level</th>\n",
       "      <th>secondary_cleaner.state.floatbank4_b_air</th>\n",
       "      <th>secondary_cleaner.state.floatbank4_b_level</th>\n",
       "      <th>secondary_cleaner.state.floatbank5_a_air</th>\n",
       "      <th>secondary_cleaner.state.floatbank5_a_level</th>\n",
       "      <th>secondary_cleaner.state.floatbank5_b_air</th>\n",
       "      <th>secondary_cleaner.state.floatbank5_b_level</th>\n",
       "      <th>secondary_cleaner.state.floatbank6_a_air</th>\n",
       "      <th>secondary_cleaner.state.floatbank6_a_level</th>\n",
       "    </tr>\n",
       "  </thead>\n",
       "  <tbody>\n",
       "    <tr>\n",
       "      <th>count</th>\n",
       "      <td>5286.000000</td>\n",
       "      <td>5285.000000</td>\n",
       "      <td>5290.000000</td>\n",
       "      <td>5286.000000</td>\n",
       "      <td>5.290000e+03</td>\n",
       "      <td>5290.000000</td>\n",
       "      <td>5.290000e+03</td>\n",
       "      <td>5290.000000</td>\n",
       "      <td>5.290000e+03</td>\n",
       "      <td>5290.000000</td>\n",
       "      <td>...</td>\n",
       "      <td>5.290000e+03</td>\n",
       "      <td>5290.000000</td>\n",
       "      <td>5.290000e+03</td>\n",
       "      <td>5290.000000</td>\n",
       "      <td>5290.000000</td>\n",
       "      <td>5290.000000</td>\n",
       "      <td>5290.000000</td>\n",
       "      <td>5290.000000</td>\n",
       "      <td>5290.000000</td>\n",
       "      <td>5290.000000</td>\n",
       "    </tr>\n",
       "    <tr>\n",
       "      <th>mean</th>\n",
       "      <td>174.839652</td>\n",
       "      <td>8.683596</td>\n",
       "      <td>7.266339</td>\n",
       "      <td>1.383803</td>\n",
       "      <td>1.539494e+03</td>\n",
       "      <td>-497.665883</td>\n",
       "      <td>1.545174e+03</td>\n",
       "      <td>-500.273098</td>\n",
       "      <td>1.527272e+03</td>\n",
       "      <td>-498.330680</td>\n",
       "      <td>...</td>\n",
       "      <td>1.632007e+01</td>\n",
       "      <td>-505.144570</td>\n",
       "      <td>1.373544e+01</td>\n",
       "      <td>-463.349858</td>\n",
       "      <td>12.804186</td>\n",
       "      <td>-501.329122</td>\n",
       "      <td>9.881145</td>\n",
       "      <td>-495.663398</td>\n",
       "      <td>17.304935</td>\n",
       "      <td>-501.793193</td>\n",
       "    </tr>\n",
       "    <tr>\n",
       "      <th>std</th>\n",
       "      <td>43.027080</td>\n",
       "      <td>3.072050</td>\n",
       "      <td>0.610219</td>\n",
       "      <td>0.643474</td>\n",
       "      <td>1.167979e+02</td>\n",
       "      <td>19.952431</td>\n",
       "      <td>1.222246e+02</td>\n",
       "      <td>32.968307</td>\n",
       "      <td>1.225380e+02</td>\n",
       "      <td>21.964876</td>\n",
       "      <td>...</td>\n",
       "      <td>3.493583e+00</td>\n",
       "      <td>31.427337</td>\n",
       "      <td>3.430484e+00</td>\n",
       "      <td>86.189107</td>\n",
       "      <td>3.026591</td>\n",
       "      <td>17.951495</td>\n",
       "      <td>2.868205</td>\n",
       "      <td>34.535007</td>\n",
       "      <td>4.536544</td>\n",
       "      <td>39.044215</td>\n",
       "    </tr>\n",
       "    <tr>\n",
       "      <th>min</th>\n",
       "      <td>2.566156</td>\n",
       "      <td>0.003839</td>\n",
       "      <td>5.650000</td>\n",
       "      <td>0.004984</td>\n",
       "      <td>5.445860e-32</td>\n",
       "      <td>-795.316337</td>\n",
       "      <td>6.647490e-32</td>\n",
       "      <td>-799.997015</td>\n",
       "      <td>4.033736e-32</td>\n",
       "      <td>-799.960571</td>\n",
       "      <td>...</td>\n",
       "      <td>1.079872e-16</td>\n",
       "      <td>-799.798523</td>\n",
       "      <td>2.489718e-17</td>\n",
       "      <td>-800.836914</td>\n",
       "      <td>0.069227</td>\n",
       "      <td>-797.323986</td>\n",
       "      <td>0.528083</td>\n",
       "      <td>-800.220337</td>\n",
       "      <td>-0.079426</td>\n",
       "      <td>-809.741464</td>\n",
       "    </tr>\n",
       "    <tr>\n",
       "      <th>25%</th>\n",
       "      <td>147.121401</td>\n",
       "      <td>6.489555</td>\n",
       "      <td>6.890000</td>\n",
       "      <td>0.907623</td>\n",
       "      <td>1.498936e+03</td>\n",
       "      <td>-500.357298</td>\n",
       "      <td>1.498971e+03</td>\n",
       "      <td>-500.703002</td>\n",
       "      <td>1.473230e+03</td>\n",
       "      <td>-501.018117</td>\n",
       "      <td>...</td>\n",
       "      <td>1.403618e+01</td>\n",
       "      <td>-500.868258</td>\n",
       "      <td>1.202862e+01</td>\n",
       "      <td>-500.323028</td>\n",
       "      <td>10.914838</td>\n",
       "      <td>-500.726841</td>\n",
       "      <td>8.036719</td>\n",
       "      <td>-500.194668</td>\n",
       "      <td>13.997317</td>\n",
       "      <td>-500.690984</td>\n",
       "    </tr>\n",
       "    <tr>\n",
       "      <th>50%</th>\n",
       "      <td>177.828489</td>\n",
       "      <td>8.052207</td>\n",
       "      <td>7.250000</td>\n",
       "      <td>1.197610</td>\n",
       "      <td>1.585129e+03</td>\n",
       "      <td>-499.969164</td>\n",
       "      <td>1.595622e+03</td>\n",
       "      <td>-500.028514</td>\n",
       "      <td>1.549595e+03</td>\n",
       "      <td>-500.017711</td>\n",
       "      <td>...</td>\n",
       "      <td>1.700847e+01</td>\n",
       "      <td>-500.115727</td>\n",
       "      <td>1.496486e+01</td>\n",
       "      <td>-499.576513</td>\n",
       "      <td>12.954182</td>\n",
       "      <td>-499.990332</td>\n",
       "      <td>10.004301</td>\n",
       "      <td>-499.990535</td>\n",
       "      <td>16.014935</td>\n",
       "      <td>-500.007126</td>\n",
       "    </tr>\n",
       "    <tr>\n",
       "      <th>75%</th>\n",
       "      <td>208.125438</td>\n",
       "      <td>10.027764</td>\n",
       "      <td>7.600000</td>\n",
       "      <td>1.797819</td>\n",
       "      <td>1.602077e+03</td>\n",
       "      <td>-499.568951</td>\n",
       "      <td>1.602324e+03</td>\n",
       "      <td>-499.293257</td>\n",
       "      <td>1.601144e+03</td>\n",
       "      <td>-498.994130</td>\n",
       "      <td>...</td>\n",
       "      <td>1.803862e+01</td>\n",
       "      <td>-499.404224</td>\n",
       "      <td>1.596213e+01</td>\n",
       "      <td>-400.933805</td>\n",
       "      <td>15.097528</td>\n",
       "      <td>-499.283191</td>\n",
       "      <td>11.997467</td>\n",
       "      <td>-499.719913</td>\n",
       "      <td>21.020013</td>\n",
       "      <td>-499.373018</td>\n",
       "    </tr>\n",
       "    <tr>\n",
       "      <th>max</th>\n",
       "      <td>265.983123</td>\n",
       "      <td>40.000000</td>\n",
       "      <td>15.500000</td>\n",
       "      <td>4.102454</td>\n",
       "      <td>2.103104e+03</td>\n",
       "      <td>-57.195404</td>\n",
       "      <td>1.813084e+03</td>\n",
       "      <td>-142.527229</td>\n",
       "      <td>1.715054e+03</td>\n",
       "      <td>-150.937035</td>\n",
       "      <td>...</td>\n",
       "      <td>3.005180e+01</td>\n",
       "      <td>-401.565212</td>\n",
       "      <td>3.126971e+01</td>\n",
       "      <td>-6.506986</td>\n",
       "      <td>25.258848</td>\n",
       "      <td>-244.483566</td>\n",
       "      <td>14.086866</td>\n",
       "      <td>-137.740004</td>\n",
       "      <td>26.705889</td>\n",
       "      <td>-123.307487</td>\n",
       "    </tr>\n",
       "  </tbody>\n",
       "</table>\n",
       "<p>8 rows × 52 columns</p>\n",
       "</div>"
      ],
      "text/plain": [
       "       primary_cleaner.input.sulfate  primary_cleaner.input.depressant  \\\n",
       "count                    5286.000000                       5285.000000   \n",
       "mean                      174.839652                          8.683596   \n",
       "std                        43.027080                          3.072050   \n",
       "min                         2.566156                          0.003839   \n",
       "25%                       147.121401                          6.489555   \n",
       "50%                       177.828489                          8.052207   \n",
       "75%                       208.125438                         10.027764   \n",
       "max                       265.983123                         40.000000   \n",
       "\n",
       "       primary_cleaner.input.feed_size  primary_cleaner.input.xanthate  \\\n",
       "count                      5290.000000                     5286.000000   \n",
       "mean                          7.266339                        1.383803   \n",
       "std                           0.610219                        0.643474   \n",
       "min                           5.650000                        0.004984   \n",
       "25%                           6.890000                        0.907623   \n",
       "50%                           7.250000                        1.197610   \n",
       "75%                           7.600000                        1.797819   \n",
       "max                          15.500000                        4.102454   \n",
       "\n",
       "       primary_cleaner.state.floatbank8_a_air  \\\n",
       "count                            5.290000e+03   \n",
       "mean                             1.539494e+03   \n",
       "std                              1.167979e+02   \n",
       "min                              5.445860e-32   \n",
       "25%                              1.498936e+03   \n",
       "50%                              1.585129e+03   \n",
       "75%                              1.602077e+03   \n",
       "max                              2.103104e+03   \n",
       "\n",
       "       primary_cleaner.state.floatbank8_a_level  \\\n",
       "count                               5290.000000   \n",
       "mean                                -497.665883   \n",
       "std                                   19.952431   \n",
       "min                                 -795.316337   \n",
       "25%                                 -500.357298   \n",
       "50%                                 -499.969164   \n",
       "75%                                 -499.568951   \n",
       "max                                  -57.195404   \n",
       "\n",
       "       primary_cleaner.state.floatbank8_b_air  \\\n",
       "count                            5.290000e+03   \n",
       "mean                             1.545174e+03   \n",
       "std                              1.222246e+02   \n",
       "min                              6.647490e-32   \n",
       "25%                              1.498971e+03   \n",
       "50%                              1.595622e+03   \n",
       "75%                              1.602324e+03   \n",
       "max                              1.813084e+03   \n",
       "\n",
       "       primary_cleaner.state.floatbank8_b_level  \\\n",
       "count                               5290.000000   \n",
       "mean                                -500.273098   \n",
       "std                                   32.968307   \n",
       "min                                 -799.997015   \n",
       "25%                                 -500.703002   \n",
       "50%                                 -500.028514   \n",
       "75%                                 -499.293257   \n",
       "max                                 -142.527229   \n",
       "\n",
       "       primary_cleaner.state.floatbank8_c_air  \\\n",
       "count                            5.290000e+03   \n",
       "mean                             1.527272e+03   \n",
       "std                              1.225380e+02   \n",
       "min                              4.033736e-32   \n",
       "25%                              1.473230e+03   \n",
       "50%                              1.549595e+03   \n",
       "75%                              1.601144e+03   \n",
       "max                              1.715054e+03   \n",
       "\n",
       "       primary_cleaner.state.floatbank8_c_level  ...  \\\n",
       "count                               5290.000000  ...   \n",
       "mean                                -498.330680  ...   \n",
       "std                                   21.964876  ...   \n",
       "min                                 -799.960571  ...   \n",
       "25%                                 -501.018117  ...   \n",
       "50%                                 -500.017711  ...   \n",
       "75%                                 -498.994130  ...   \n",
       "max                                 -150.937035  ...   \n",
       "\n",
       "       secondary_cleaner.state.floatbank4_a_air  \\\n",
       "count                              5.290000e+03   \n",
       "mean                               1.632007e+01   \n",
       "std                                3.493583e+00   \n",
       "min                                1.079872e-16   \n",
       "25%                                1.403618e+01   \n",
       "50%                                1.700847e+01   \n",
       "75%                                1.803862e+01   \n",
       "max                                3.005180e+01   \n",
       "\n",
       "       secondary_cleaner.state.floatbank4_a_level  \\\n",
       "count                                 5290.000000   \n",
       "mean                                  -505.144570   \n",
       "std                                     31.427337   \n",
       "min                                   -799.798523   \n",
       "25%                                   -500.868258   \n",
       "50%                                   -500.115727   \n",
       "75%                                   -499.404224   \n",
       "max                                   -401.565212   \n",
       "\n",
       "       secondary_cleaner.state.floatbank4_b_air  \\\n",
       "count                              5.290000e+03   \n",
       "mean                               1.373544e+01   \n",
       "std                                3.430484e+00   \n",
       "min                                2.489718e-17   \n",
       "25%                                1.202862e+01   \n",
       "50%                                1.496486e+01   \n",
       "75%                                1.596213e+01   \n",
       "max                                3.126971e+01   \n",
       "\n",
       "       secondary_cleaner.state.floatbank4_b_level  \\\n",
       "count                                 5290.000000   \n",
       "mean                                  -463.349858   \n",
       "std                                     86.189107   \n",
       "min                                   -800.836914   \n",
       "25%                                   -500.323028   \n",
       "50%                                   -499.576513   \n",
       "75%                                   -400.933805   \n",
       "max                                     -6.506986   \n",
       "\n",
       "       secondary_cleaner.state.floatbank5_a_air  \\\n",
       "count                               5290.000000   \n",
       "mean                                  12.804186   \n",
       "std                                    3.026591   \n",
       "min                                    0.069227   \n",
       "25%                                   10.914838   \n",
       "50%                                   12.954182   \n",
       "75%                                   15.097528   \n",
       "max                                   25.258848   \n",
       "\n",
       "       secondary_cleaner.state.floatbank5_a_level  \\\n",
       "count                                 5290.000000   \n",
       "mean                                  -501.329122   \n",
       "std                                     17.951495   \n",
       "min                                   -797.323986   \n",
       "25%                                   -500.726841   \n",
       "50%                                   -499.990332   \n",
       "75%                                   -499.283191   \n",
       "max                                   -244.483566   \n",
       "\n",
       "       secondary_cleaner.state.floatbank5_b_air  \\\n",
       "count                               5290.000000   \n",
       "mean                                   9.881145   \n",
       "std                                    2.868205   \n",
       "min                                    0.528083   \n",
       "25%                                    8.036719   \n",
       "50%                                   10.004301   \n",
       "75%                                   11.997467   \n",
       "max                                   14.086866   \n",
       "\n",
       "       secondary_cleaner.state.floatbank5_b_level  \\\n",
       "count                                 5290.000000   \n",
       "mean                                  -495.663398   \n",
       "std                                     34.535007   \n",
       "min                                   -800.220337   \n",
       "25%                                   -500.194668   \n",
       "50%                                   -499.990535   \n",
       "75%                                   -499.719913   \n",
       "max                                   -137.740004   \n",
       "\n",
       "       secondary_cleaner.state.floatbank6_a_air  \\\n",
       "count                               5290.000000   \n",
       "mean                                  17.304935   \n",
       "std                                    4.536544   \n",
       "min                                   -0.079426   \n",
       "25%                                   13.997317   \n",
       "50%                                   16.014935   \n",
       "75%                                   21.020013   \n",
       "max                                   26.705889   \n",
       "\n",
       "       secondary_cleaner.state.floatbank6_a_level  \n",
       "count                                 5290.000000  \n",
       "mean                                  -501.793193  \n",
       "std                                     39.044215  \n",
       "min                                   -809.741464  \n",
       "25%                                   -500.690984  \n",
       "50%                                   -500.007126  \n",
       "75%                                   -499.373018  \n",
       "max                                   -123.307487  \n",
       "\n",
       "[8 rows x 52 columns]"
      ]
     },
     "metadata": {},
     "output_type": "display_data"
    },
    {
     "data": {
      "text/plain": [
       "date                                           0\n",
       "primary_cleaner.input.sulfate                  4\n",
       "primary_cleaner.input.depressant               5\n",
       "primary_cleaner.input.feed_size                0\n",
       "primary_cleaner.input.xanthate                 4\n",
       "primary_cleaner.state.floatbank8_a_air         0\n",
       "primary_cleaner.state.floatbank8_a_level       0\n",
       "primary_cleaner.state.floatbank8_b_air         0\n",
       "primary_cleaner.state.floatbank8_b_level       0\n",
       "primary_cleaner.state.floatbank8_c_air         0\n",
       "primary_cleaner.state.floatbank8_c_level       0\n",
       "primary_cleaner.state.floatbank8_d_air         0\n",
       "primary_cleaner.state.floatbank8_d_level       0\n",
       "rougher.input.feed_ag                          0\n",
       "rougher.input.feed_pb                          0\n",
       "rougher.input.feed_rate                        3\n",
       "rougher.input.feed_size                        1\n",
       "rougher.input.feed_sol                        21\n",
       "rougher.input.feed_au                          0\n",
       "rougher.input.floatbank10_sulfate              5\n",
       "rougher.input.floatbank10_xanthate             0\n",
       "rougher.input.floatbank11_sulfate              8\n",
       "rougher.input.floatbank11_xanthate            25\n",
       "rougher.state.floatbank10_a_air                0\n",
       "rougher.state.floatbank10_a_level              0\n",
       "rougher.state.floatbank10_b_air                0\n",
       "rougher.state.floatbank10_b_level              0\n",
       "rougher.state.floatbank10_c_air                0\n",
       "rougher.state.floatbank10_c_level              0\n",
       "rougher.state.floatbank10_d_air                0\n",
       "rougher.state.floatbank10_d_level              0\n",
       "rougher.state.floatbank10_e_air                0\n",
       "rougher.state.floatbank10_e_level              0\n",
       "rougher.state.floatbank10_f_air                0\n",
       "rougher.state.floatbank10_f_level              0\n",
       "secondary_cleaner.state.floatbank2_a_air       3\n",
       "secondary_cleaner.state.floatbank2_a_level     0\n",
       "secondary_cleaner.state.floatbank2_b_air       2\n",
       "secondary_cleaner.state.floatbank2_b_level     0\n",
       "secondary_cleaner.state.floatbank3_a_air       9\n",
       "secondary_cleaner.state.floatbank3_a_level     0\n",
       "secondary_cleaner.state.floatbank3_b_air       0\n",
       "secondary_cleaner.state.floatbank3_b_level     0\n",
       "secondary_cleaner.state.floatbank4_a_air       0\n",
       "secondary_cleaner.state.floatbank4_a_level     0\n",
       "secondary_cleaner.state.floatbank4_b_air       0\n",
       "secondary_cleaner.state.floatbank4_b_level     0\n",
       "secondary_cleaner.state.floatbank5_a_air       0\n",
       "secondary_cleaner.state.floatbank5_a_level     0\n",
       "secondary_cleaner.state.floatbank5_b_air       0\n",
       "secondary_cleaner.state.floatbank5_b_level     0\n",
       "secondary_cleaner.state.floatbank6_a_air       0\n",
       "secondary_cleaner.state.floatbank6_a_level     0\n",
       "dtype: int64"
      ]
     },
     "metadata": {},
     "output_type": "display_data"
    },
    {
     "data": {
      "text/plain": [
       "'Количество дубликатов: 0'"
      ]
     },
     "metadata": {},
     "output_type": "display_data"
    },
    {
     "data": {
      "text/plain": [
       "'All info for dataset №3'"
      ]
     },
     "metadata": {},
     "output_type": "display_data"
    },
    {
     "data": {
      "text/html": [
       "<div>\n",
       "<style scoped>\n",
       "    .dataframe tbody tr th:only-of-type {\n",
       "        vertical-align: middle;\n",
       "    }\n",
       "\n",
       "    .dataframe tbody tr th {\n",
       "        vertical-align: top;\n",
       "    }\n",
       "\n",
       "    .dataframe thead th {\n",
       "        text-align: right;\n",
       "    }\n",
       "</style>\n",
       "<table border=\"1\" class=\"dataframe\">\n",
       "  <thead>\n",
       "    <tr style=\"text-align: right;\">\n",
       "      <th></th>\n",
       "      <th>date</th>\n",
       "      <th>final.output.concentrate_ag</th>\n",
       "      <th>final.output.concentrate_pb</th>\n",
       "      <th>final.output.concentrate_sol</th>\n",
       "      <th>final.output.concentrate_au</th>\n",
       "      <th>final.output.recovery</th>\n",
       "      <th>final.output.tail_ag</th>\n",
       "      <th>final.output.tail_pb</th>\n",
       "      <th>final.output.tail_sol</th>\n",
       "      <th>final.output.tail_au</th>\n",
       "      <th>...</th>\n",
       "      <th>secondary_cleaner.state.floatbank4_a_air</th>\n",
       "      <th>secondary_cleaner.state.floatbank4_a_level</th>\n",
       "      <th>secondary_cleaner.state.floatbank4_b_air</th>\n",
       "      <th>secondary_cleaner.state.floatbank4_b_level</th>\n",
       "      <th>secondary_cleaner.state.floatbank5_a_air</th>\n",
       "      <th>secondary_cleaner.state.floatbank5_a_level</th>\n",
       "      <th>secondary_cleaner.state.floatbank5_b_air</th>\n",
       "      <th>secondary_cleaner.state.floatbank5_b_level</th>\n",
       "      <th>secondary_cleaner.state.floatbank6_a_air</th>\n",
       "      <th>secondary_cleaner.state.floatbank6_a_level</th>\n",
       "    </tr>\n",
       "  </thead>\n",
       "  <tbody>\n",
       "    <tr>\n",
       "      <th>0</th>\n",
       "      <td>2016-01-15 00:00:00</td>\n",
       "      <td>6.055403</td>\n",
       "      <td>9.889648</td>\n",
       "      <td>5.507324</td>\n",
       "      <td>42.192020</td>\n",
       "      <td>70.541216</td>\n",
       "      <td>10.411962</td>\n",
       "      <td>0.895447</td>\n",
       "      <td>16.904297</td>\n",
       "      <td>2.143149</td>\n",
       "      <td>...</td>\n",
       "      <td>14.016835</td>\n",
       "      <td>-502.488007</td>\n",
       "      <td>12.099931</td>\n",
       "      <td>-504.715942</td>\n",
       "      <td>9.925633</td>\n",
       "      <td>-498.310211</td>\n",
       "      <td>8.079666</td>\n",
       "      <td>-500.470978</td>\n",
       "      <td>14.151341</td>\n",
       "      <td>-605.841980</td>\n",
       "    </tr>\n",
       "    <tr>\n",
       "      <th>1</th>\n",
       "      <td>2016-01-15 01:00:00</td>\n",
       "      <td>6.029369</td>\n",
       "      <td>9.968944</td>\n",
       "      <td>5.257781</td>\n",
       "      <td>42.701629</td>\n",
       "      <td>69.266198</td>\n",
       "      <td>10.462676</td>\n",
       "      <td>0.927452</td>\n",
       "      <td>16.634514</td>\n",
       "      <td>2.224930</td>\n",
       "      <td>...</td>\n",
       "      <td>13.992281</td>\n",
       "      <td>-505.503262</td>\n",
       "      <td>11.950531</td>\n",
       "      <td>-501.331529</td>\n",
       "      <td>10.039245</td>\n",
       "      <td>-500.169983</td>\n",
       "      <td>7.984757</td>\n",
       "      <td>-500.582168</td>\n",
       "      <td>13.998353</td>\n",
       "      <td>-599.787184</td>\n",
       "    </tr>\n",
       "    <tr>\n",
       "      <th>2</th>\n",
       "      <td>2016-01-15 02:00:00</td>\n",
       "      <td>6.055926</td>\n",
       "      <td>10.213995</td>\n",
       "      <td>5.383759</td>\n",
       "      <td>42.657501</td>\n",
       "      <td>68.116445</td>\n",
       "      <td>10.507046</td>\n",
       "      <td>0.953716</td>\n",
       "      <td>16.208849</td>\n",
       "      <td>2.257889</td>\n",
       "      <td>...</td>\n",
       "      <td>14.015015</td>\n",
       "      <td>-502.520901</td>\n",
       "      <td>11.912783</td>\n",
       "      <td>-501.133383</td>\n",
       "      <td>10.070913</td>\n",
       "      <td>-500.129135</td>\n",
       "      <td>8.013877</td>\n",
       "      <td>-500.517572</td>\n",
       "      <td>14.028663</td>\n",
       "      <td>-601.427363</td>\n",
       "    </tr>\n",
       "    <tr>\n",
       "      <th>3</th>\n",
       "      <td>2016-01-15 03:00:00</td>\n",
       "      <td>6.047977</td>\n",
       "      <td>9.977019</td>\n",
       "      <td>4.858634</td>\n",
       "      <td>42.689819</td>\n",
       "      <td>68.347543</td>\n",
       "      <td>10.422762</td>\n",
       "      <td>0.883763</td>\n",
       "      <td>16.532835</td>\n",
       "      <td>2.146849</td>\n",
       "      <td>...</td>\n",
       "      <td>14.036510</td>\n",
       "      <td>-500.857308</td>\n",
       "      <td>11.999550</td>\n",
       "      <td>-501.193686</td>\n",
       "      <td>9.970366</td>\n",
       "      <td>-499.201640</td>\n",
       "      <td>7.977324</td>\n",
       "      <td>-500.255908</td>\n",
       "      <td>14.005551</td>\n",
       "      <td>-599.996129</td>\n",
       "    </tr>\n",
       "    <tr>\n",
       "      <th>4</th>\n",
       "      <td>2016-01-15 04:00:00</td>\n",
       "      <td>6.148599</td>\n",
       "      <td>10.142511</td>\n",
       "      <td>4.939416</td>\n",
       "      <td>42.774141</td>\n",
       "      <td>66.927016</td>\n",
       "      <td>10.360302</td>\n",
       "      <td>0.792826</td>\n",
       "      <td>16.525686</td>\n",
       "      <td>2.055292</td>\n",
       "      <td>...</td>\n",
       "      <td>14.027298</td>\n",
       "      <td>-499.838632</td>\n",
       "      <td>11.953070</td>\n",
       "      <td>-501.053894</td>\n",
       "      <td>9.925709</td>\n",
       "      <td>-501.686727</td>\n",
       "      <td>7.894242</td>\n",
       "      <td>-500.356035</td>\n",
       "      <td>13.996647</td>\n",
       "      <td>-601.496691</td>\n",
       "    </tr>\n",
       "    <tr>\n",
       "      <th>5</th>\n",
       "      <td>2016-01-15 05:00:00</td>\n",
       "      <td>6.482968</td>\n",
       "      <td>10.049416</td>\n",
       "      <td>5.480257</td>\n",
       "      <td>41.633678</td>\n",
       "      <td>69.465816</td>\n",
       "      <td>10.182708</td>\n",
       "      <td>0.664118</td>\n",
       "      <td>16.999638</td>\n",
       "      <td>1.918586</td>\n",
       "      <td>...</td>\n",
       "      <td>13.938497</td>\n",
       "      <td>-500.970168</td>\n",
       "      <td>11.883350</td>\n",
       "      <td>-500.395298</td>\n",
       "      <td>10.054147</td>\n",
       "      <td>-496.374715</td>\n",
       "      <td>7.965083</td>\n",
       "      <td>-499.364752</td>\n",
       "      <td>14.017067</td>\n",
       "      <td>-599.707915</td>\n",
       "    </tr>\n",
       "    <tr>\n",
       "      <th>6</th>\n",
       "      <td>2016-01-15 06:00:00</td>\n",
       "      <td>6.533849</td>\n",
       "      <td>10.058141</td>\n",
       "      <td>4.569100</td>\n",
       "      <td>41.995316</td>\n",
       "      <td>69.300835</td>\n",
       "      <td>10.304598</td>\n",
       "      <td>0.807342</td>\n",
       "      <td>16.723575</td>\n",
       "      <td>2.058913</td>\n",
       "      <td>...</td>\n",
       "      <td>14.046819</td>\n",
       "      <td>-500.971133</td>\n",
       "      <td>12.091543</td>\n",
       "      <td>-500.501426</td>\n",
       "      <td>10.003247</td>\n",
       "      <td>-497.083180</td>\n",
       "      <td>8.010890</td>\n",
       "      <td>-500.002423</td>\n",
       "      <td>14.029649</td>\n",
       "      <td>-600.905470</td>\n",
       "    </tr>\n",
       "    <tr>\n",
       "      <th>7</th>\n",
       "      <td>2016-01-15 07:00:00</td>\n",
       "      <td>6.130823</td>\n",
       "      <td>9.935481</td>\n",
       "      <td>4.389813</td>\n",
       "      <td>42.452727</td>\n",
       "      <td>70.230976</td>\n",
       "      <td>10.443288</td>\n",
       "      <td>0.949346</td>\n",
       "      <td>16.689959</td>\n",
       "      <td>2.143437</td>\n",
       "      <td>...</td>\n",
       "      <td>13.974691</td>\n",
       "      <td>-501.819696</td>\n",
       "      <td>12.101324</td>\n",
       "      <td>-500.583446</td>\n",
       "      <td>9.873169</td>\n",
       "      <td>-499.171928</td>\n",
       "      <td>7.993381</td>\n",
       "      <td>-499.794518</td>\n",
       "      <td>13.984498</td>\n",
       "      <td>-600.411070</td>\n",
       "    </tr>\n",
       "    <tr>\n",
       "      <th>8</th>\n",
       "      <td>2016-01-15 08:00:00</td>\n",
       "      <td>5.834140</td>\n",
       "      <td>10.071156</td>\n",
       "      <td>4.876389</td>\n",
       "      <td>43.404078</td>\n",
       "      <td>69.688595</td>\n",
       "      <td>10.420140</td>\n",
       "      <td>1.065453</td>\n",
       "      <td>17.201948</td>\n",
       "      <td>2.209881</td>\n",
       "      <td>...</td>\n",
       "      <td>13.964030</td>\n",
       "      <td>-504.252450</td>\n",
       "      <td>12.060738</td>\n",
       "      <td>-501.174549</td>\n",
       "      <td>10.033838</td>\n",
       "      <td>-501.178133</td>\n",
       "      <td>7.881604</td>\n",
       "      <td>-499.729434</td>\n",
       "      <td>13.967135</td>\n",
       "      <td>-599.061188</td>\n",
       "    </tr>\n",
       "    <tr>\n",
       "      <th>9</th>\n",
       "      <td>2016-01-15 09:00:00</td>\n",
       "      <td>5.687063</td>\n",
       "      <td>9.980404</td>\n",
       "      <td>5.282514</td>\n",
       "      <td>43.235220</td>\n",
       "      <td>70.279619</td>\n",
       "      <td>10.487013</td>\n",
       "      <td>1.159805</td>\n",
       "      <td>17.483979</td>\n",
       "      <td>2.209593</td>\n",
       "      <td>...</td>\n",
       "      <td>13.989632</td>\n",
       "      <td>-503.195299</td>\n",
       "      <td>12.052233</td>\n",
       "      <td>-500.928547</td>\n",
       "      <td>9.962574</td>\n",
       "      <td>-502.986357</td>\n",
       "      <td>7.979219</td>\n",
       "      <td>-500.146835</td>\n",
       "      <td>13.981614</td>\n",
       "      <td>-598.070855</td>\n",
       "    </tr>\n",
       "  </tbody>\n",
       "</table>\n",
       "<p>10 rows × 87 columns</p>\n",
       "</div>"
      ],
      "text/plain": [
       "                  date  final.output.concentrate_ag  \\\n",
       "0  2016-01-15 00:00:00                     6.055403   \n",
       "1  2016-01-15 01:00:00                     6.029369   \n",
       "2  2016-01-15 02:00:00                     6.055926   \n",
       "3  2016-01-15 03:00:00                     6.047977   \n",
       "4  2016-01-15 04:00:00                     6.148599   \n",
       "5  2016-01-15 05:00:00                     6.482968   \n",
       "6  2016-01-15 06:00:00                     6.533849   \n",
       "7  2016-01-15 07:00:00                     6.130823   \n",
       "8  2016-01-15 08:00:00                     5.834140   \n",
       "9  2016-01-15 09:00:00                     5.687063   \n",
       "\n",
       "   final.output.concentrate_pb  final.output.concentrate_sol  \\\n",
       "0                     9.889648                      5.507324   \n",
       "1                     9.968944                      5.257781   \n",
       "2                    10.213995                      5.383759   \n",
       "3                     9.977019                      4.858634   \n",
       "4                    10.142511                      4.939416   \n",
       "5                    10.049416                      5.480257   \n",
       "6                    10.058141                      4.569100   \n",
       "7                     9.935481                      4.389813   \n",
       "8                    10.071156                      4.876389   \n",
       "9                     9.980404                      5.282514   \n",
       "\n",
       "   final.output.concentrate_au  final.output.recovery  final.output.tail_ag  \\\n",
       "0                    42.192020              70.541216             10.411962   \n",
       "1                    42.701629              69.266198             10.462676   \n",
       "2                    42.657501              68.116445             10.507046   \n",
       "3                    42.689819              68.347543             10.422762   \n",
       "4                    42.774141              66.927016             10.360302   \n",
       "5                    41.633678              69.465816             10.182708   \n",
       "6                    41.995316              69.300835             10.304598   \n",
       "7                    42.452727              70.230976             10.443288   \n",
       "8                    43.404078              69.688595             10.420140   \n",
       "9                    43.235220              70.279619             10.487013   \n",
       "\n",
       "   final.output.tail_pb  final.output.tail_sol  final.output.tail_au  ...  \\\n",
       "0              0.895447              16.904297              2.143149  ...   \n",
       "1              0.927452              16.634514              2.224930  ...   \n",
       "2              0.953716              16.208849              2.257889  ...   \n",
       "3              0.883763              16.532835              2.146849  ...   \n",
       "4              0.792826              16.525686              2.055292  ...   \n",
       "5              0.664118              16.999638              1.918586  ...   \n",
       "6              0.807342              16.723575              2.058913  ...   \n",
       "7              0.949346              16.689959              2.143437  ...   \n",
       "8              1.065453              17.201948              2.209881  ...   \n",
       "9              1.159805              17.483979              2.209593  ...   \n",
       "\n",
       "   secondary_cleaner.state.floatbank4_a_air  \\\n",
       "0                                 14.016835   \n",
       "1                                 13.992281   \n",
       "2                                 14.015015   \n",
       "3                                 14.036510   \n",
       "4                                 14.027298   \n",
       "5                                 13.938497   \n",
       "6                                 14.046819   \n",
       "7                                 13.974691   \n",
       "8                                 13.964030   \n",
       "9                                 13.989632   \n",
       "\n",
       "   secondary_cleaner.state.floatbank4_a_level  \\\n",
       "0                                 -502.488007   \n",
       "1                                 -505.503262   \n",
       "2                                 -502.520901   \n",
       "3                                 -500.857308   \n",
       "4                                 -499.838632   \n",
       "5                                 -500.970168   \n",
       "6                                 -500.971133   \n",
       "7                                 -501.819696   \n",
       "8                                 -504.252450   \n",
       "9                                 -503.195299   \n",
       "\n",
       "   secondary_cleaner.state.floatbank4_b_air  \\\n",
       "0                                 12.099931   \n",
       "1                                 11.950531   \n",
       "2                                 11.912783   \n",
       "3                                 11.999550   \n",
       "4                                 11.953070   \n",
       "5                                 11.883350   \n",
       "6                                 12.091543   \n",
       "7                                 12.101324   \n",
       "8                                 12.060738   \n",
       "9                                 12.052233   \n",
       "\n",
       "   secondary_cleaner.state.floatbank4_b_level  \\\n",
       "0                                 -504.715942   \n",
       "1                                 -501.331529   \n",
       "2                                 -501.133383   \n",
       "3                                 -501.193686   \n",
       "4                                 -501.053894   \n",
       "5                                 -500.395298   \n",
       "6                                 -500.501426   \n",
       "7                                 -500.583446   \n",
       "8                                 -501.174549   \n",
       "9                                 -500.928547   \n",
       "\n",
       "   secondary_cleaner.state.floatbank5_a_air  \\\n",
       "0                                  9.925633   \n",
       "1                                 10.039245   \n",
       "2                                 10.070913   \n",
       "3                                  9.970366   \n",
       "4                                  9.925709   \n",
       "5                                 10.054147   \n",
       "6                                 10.003247   \n",
       "7                                  9.873169   \n",
       "8                                 10.033838   \n",
       "9                                  9.962574   \n",
       "\n",
       "   secondary_cleaner.state.floatbank5_a_level  \\\n",
       "0                                 -498.310211   \n",
       "1                                 -500.169983   \n",
       "2                                 -500.129135   \n",
       "3                                 -499.201640   \n",
       "4                                 -501.686727   \n",
       "5                                 -496.374715   \n",
       "6                                 -497.083180   \n",
       "7                                 -499.171928   \n",
       "8                                 -501.178133   \n",
       "9                                 -502.986357   \n",
       "\n",
       "   secondary_cleaner.state.floatbank5_b_air  \\\n",
       "0                                  8.079666   \n",
       "1                                  7.984757   \n",
       "2                                  8.013877   \n",
       "3                                  7.977324   \n",
       "4                                  7.894242   \n",
       "5                                  7.965083   \n",
       "6                                  8.010890   \n",
       "7                                  7.993381   \n",
       "8                                  7.881604   \n",
       "9                                  7.979219   \n",
       "\n",
       "   secondary_cleaner.state.floatbank5_b_level  \\\n",
       "0                                 -500.470978   \n",
       "1                                 -500.582168   \n",
       "2                                 -500.517572   \n",
       "3                                 -500.255908   \n",
       "4                                 -500.356035   \n",
       "5                                 -499.364752   \n",
       "6                                 -500.002423   \n",
       "7                                 -499.794518   \n",
       "8                                 -499.729434   \n",
       "9                                 -500.146835   \n",
       "\n",
       "   secondary_cleaner.state.floatbank6_a_air  \\\n",
       "0                                 14.151341   \n",
       "1                                 13.998353   \n",
       "2                                 14.028663   \n",
       "3                                 14.005551   \n",
       "4                                 13.996647   \n",
       "5                                 14.017067   \n",
       "6                                 14.029649   \n",
       "7                                 13.984498   \n",
       "8                                 13.967135   \n",
       "9                                 13.981614   \n",
       "\n",
       "   secondary_cleaner.state.floatbank6_a_level  \n",
       "0                                 -605.841980  \n",
       "1                                 -599.787184  \n",
       "2                                 -601.427363  \n",
       "3                                 -599.996129  \n",
       "4                                 -601.496691  \n",
       "5                                 -599.707915  \n",
       "6                                 -600.905470  \n",
       "7                                 -600.411070  \n",
       "8                                 -599.061188  \n",
       "9                                 -598.070855  \n",
       "\n",
       "[10 rows x 87 columns]"
      ]
     },
     "metadata": {},
     "output_type": "display_data"
    },
    {
     "name": "stdout",
     "output_type": "stream",
     "text": [
      "<class 'pandas.core.frame.DataFrame'>\n",
      "RangeIndex: 19439 entries, 0 to 19438\n",
      "Data columns (total 87 columns):\n",
      " #   Column                                              Non-Null Count  Dtype  \n",
      "---  ------                                              --------------  -----  \n",
      " 0   date                                                19439 non-null  object \n",
      " 1   final.output.concentrate_ag                         19438 non-null  float64\n",
      " 2   final.output.concentrate_pb                         19438 non-null  float64\n",
      " 3   final.output.concentrate_sol                        19228 non-null  float64\n",
      " 4   final.output.concentrate_au                         19439 non-null  float64\n",
      " 5   final.output.recovery                               19439 non-null  float64\n",
      " 6   final.output.tail_ag                                19438 non-null  float64\n",
      " 7   final.output.tail_pb                                19338 non-null  float64\n",
      " 8   final.output.tail_sol                               19433 non-null  float64\n",
      " 9   final.output.tail_au                                19439 non-null  float64\n",
      " 10  primary_cleaner.input.sulfate                       19415 non-null  float64\n",
      " 11  primary_cleaner.input.depressant                    19402 non-null  float64\n",
      " 12  primary_cleaner.input.feed_size                     19439 non-null  float64\n",
      " 13  primary_cleaner.input.xanthate                      19335 non-null  float64\n",
      " 14  primary_cleaner.output.concentrate_ag               19439 non-null  float64\n",
      " 15  primary_cleaner.output.concentrate_pb               19323 non-null  float64\n",
      " 16  primary_cleaner.output.concentrate_sol              19069 non-null  float64\n",
      " 17  primary_cleaner.output.concentrate_au               19439 non-null  float64\n",
      " 18  primary_cleaner.output.tail_ag                      19435 non-null  float64\n",
      " 19  primary_cleaner.output.tail_pb                      19418 non-null  float64\n",
      " 20  primary_cleaner.output.tail_sol                     19377 non-null  float64\n",
      " 21  primary_cleaner.output.tail_au                      19439 non-null  float64\n",
      " 22  primary_cleaner.state.floatbank8_a_air              19435 non-null  float64\n",
      " 23  primary_cleaner.state.floatbank8_a_level            19438 non-null  float64\n",
      " 24  primary_cleaner.state.floatbank8_b_air              19435 non-null  float64\n",
      " 25  primary_cleaner.state.floatbank8_b_level            19438 non-null  float64\n",
      " 26  primary_cleaner.state.floatbank8_c_air              19437 non-null  float64\n",
      " 27  primary_cleaner.state.floatbank8_c_level            19438 non-null  float64\n",
      " 28  primary_cleaner.state.floatbank8_d_air              19436 non-null  float64\n",
      " 29  primary_cleaner.state.floatbank8_d_level            19438 non-null  float64\n",
      " 30  rougher.calculation.sulfate_to_au_concentrate       19437 non-null  float64\n",
      " 31  rougher.calculation.floatbank10_sulfate_to_au_feed  19437 non-null  float64\n",
      " 32  rougher.calculation.floatbank11_sulfate_to_au_feed  19437 non-null  float64\n",
      " 33  rougher.calculation.au_pb_ratio                     19439 non-null  float64\n",
      " 34  rougher.input.feed_ag                               19439 non-null  float64\n",
      " 35  rougher.input.feed_pb                               19339 non-null  float64\n",
      " 36  rougher.input.feed_rate                             19428 non-null  float64\n",
      " 37  rougher.input.feed_size                             19294 non-null  float64\n",
      " 38  rougher.input.feed_sol                              19340 non-null  float64\n",
      " 39  rougher.input.feed_au                               19439 non-null  float64\n",
      " 40  rougher.input.floatbank10_sulfate                   19405 non-null  float64\n",
      " 41  rougher.input.floatbank10_xanthate                  19431 non-null  float64\n",
      " 42  rougher.input.floatbank11_sulfate                   19395 non-null  float64\n",
      " 43  rougher.input.floatbank11_xanthate                  18986 non-null  float64\n",
      " 44  rougher.output.concentrate_ag                       19439 non-null  float64\n",
      " 45  rougher.output.concentrate_pb                       19439 non-null  float64\n",
      " 46  rougher.output.concentrate_sol                      19416 non-null  float64\n",
      " 47  rougher.output.concentrate_au                       19439 non-null  float64\n",
      " 48  rougher.output.recovery                             19439 non-null  float64\n",
      " 49  rougher.output.tail_ag                              19438 non-null  float64\n",
      " 50  rougher.output.tail_pb                              19439 non-null  float64\n",
      " 51  rougher.output.tail_sol                             19439 non-null  float64\n",
      " 52  rougher.output.tail_au                              19439 non-null  float64\n",
      " 53  rougher.state.floatbank10_a_air                     19438 non-null  float64\n",
      " 54  rougher.state.floatbank10_a_level                   19438 non-null  float64\n",
      " 55  rougher.state.floatbank10_b_air                     19438 non-null  float64\n",
      " 56  rougher.state.floatbank10_b_level                   19438 non-null  float64\n",
      " 57  rougher.state.floatbank10_c_air                     19438 non-null  float64\n",
      " 58  rougher.state.floatbank10_c_level                   19438 non-null  float64\n",
      " 59  rougher.state.floatbank10_d_air                     19439 non-null  float64\n",
      " 60  rougher.state.floatbank10_d_level                   19439 non-null  float64\n",
      " 61  rougher.state.floatbank10_e_air                     19003 non-null  float64\n",
      " 62  rougher.state.floatbank10_e_level                   19439 non-null  float64\n",
      " 63  rougher.state.floatbank10_f_air                     19439 non-null  float64\n",
      " 64  rougher.state.floatbank10_f_level                   19439 non-null  float64\n",
      " 65  secondary_cleaner.output.tail_ag                    19437 non-null  float64\n",
      " 66  secondary_cleaner.output.tail_pb                    19427 non-null  float64\n",
      " 67  secondary_cleaner.output.tail_sol                   17691 non-null  float64\n",
      " 68  secondary_cleaner.output.tail_au                    19439 non-null  float64\n",
      " 69  secondary_cleaner.state.floatbank2_a_air            19219 non-null  float64\n",
      " 70  secondary_cleaner.state.floatbank2_a_level          19438 non-null  float64\n",
      " 71  secondary_cleaner.state.floatbank2_b_air            19416 non-null  float64\n",
      " 72  secondary_cleaner.state.floatbank2_b_level          19438 non-null  float64\n",
      " 73  secondary_cleaner.state.floatbank3_a_air            19426 non-null  float64\n",
      " 74  secondary_cleaner.state.floatbank3_a_level          19438 non-null  float64\n",
      " 75  secondary_cleaner.state.floatbank3_b_air            19438 non-null  float64\n",
      " 76  secondary_cleaner.state.floatbank3_b_level          19438 non-null  float64\n",
      " 77  secondary_cleaner.state.floatbank4_a_air            19433 non-null  float64\n",
      " 78  secondary_cleaner.state.floatbank4_a_level          19438 non-null  float64\n",
      " 79  secondary_cleaner.state.floatbank4_b_air            19438 non-null  float64\n",
      " 80  secondary_cleaner.state.floatbank4_b_level          19438 non-null  float64\n",
      " 81  secondary_cleaner.state.floatbank5_a_air            19438 non-null  float64\n",
      " 82  secondary_cleaner.state.floatbank5_a_level          19438 non-null  float64\n",
      " 83  secondary_cleaner.state.floatbank5_b_air            19438 non-null  float64\n",
      " 84  secondary_cleaner.state.floatbank5_b_level          19438 non-null  float64\n",
      " 85  secondary_cleaner.state.floatbank6_a_air            19437 non-null  float64\n",
      " 86  secondary_cleaner.state.floatbank6_a_level          19438 non-null  float64\n",
      "dtypes: float64(86), object(1)\n",
      "memory usage: 12.9+ MB\n"
     ]
    },
    {
     "data": {
      "text/plain": [
       "None"
      ]
     },
     "metadata": {},
     "output_type": "display_data"
    },
    {
     "data": {
      "text/html": [
       "<div>\n",
       "<style scoped>\n",
       "    .dataframe tbody tr th:only-of-type {\n",
       "        vertical-align: middle;\n",
       "    }\n",
       "\n",
       "    .dataframe tbody tr th {\n",
       "        vertical-align: top;\n",
       "    }\n",
       "\n",
       "    .dataframe thead th {\n",
       "        text-align: right;\n",
       "    }\n",
       "</style>\n",
       "<table border=\"1\" class=\"dataframe\">\n",
       "  <thead>\n",
       "    <tr style=\"text-align: right;\">\n",
       "      <th></th>\n",
       "      <th>final.output.concentrate_ag</th>\n",
       "      <th>final.output.concentrate_pb</th>\n",
       "      <th>final.output.concentrate_sol</th>\n",
       "      <th>final.output.concentrate_au</th>\n",
       "      <th>final.output.recovery</th>\n",
       "      <th>final.output.tail_ag</th>\n",
       "      <th>final.output.tail_pb</th>\n",
       "      <th>final.output.tail_sol</th>\n",
       "      <th>final.output.tail_au</th>\n",
       "      <th>primary_cleaner.input.sulfate</th>\n",
       "      <th>...</th>\n",
       "      <th>secondary_cleaner.state.floatbank4_a_air</th>\n",
       "      <th>secondary_cleaner.state.floatbank4_a_level</th>\n",
       "      <th>secondary_cleaner.state.floatbank4_b_air</th>\n",
       "      <th>secondary_cleaner.state.floatbank4_b_level</th>\n",
       "      <th>secondary_cleaner.state.floatbank5_a_air</th>\n",
       "      <th>secondary_cleaner.state.floatbank5_a_level</th>\n",
       "      <th>secondary_cleaner.state.floatbank5_b_air</th>\n",
       "      <th>secondary_cleaner.state.floatbank5_b_level</th>\n",
       "      <th>secondary_cleaner.state.floatbank6_a_air</th>\n",
       "      <th>secondary_cleaner.state.floatbank6_a_level</th>\n",
       "    </tr>\n",
       "  </thead>\n",
       "  <tbody>\n",
       "    <tr>\n",
       "      <th>count</th>\n",
       "      <td>19438.000000</td>\n",
       "      <td>19438.000000</td>\n",
       "      <td>19228.000000</td>\n",
       "      <td>19439.000000</td>\n",
       "      <td>19439.000000</td>\n",
       "      <td>19438.000000</td>\n",
       "      <td>19338.000000</td>\n",
       "      <td>19433.000000</td>\n",
       "      <td>19439.000000</td>\n",
       "      <td>19415.000000</td>\n",
       "      <td>...</td>\n",
       "      <td>19433.000000</td>\n",
       "      <td>19438.000000</td>\n",
       "      <td>19438.000000</td>\n",
       "      <td>19438.000000</td>\n",
       "      <td>19438.000000</td>\n",
       "      <td>19438.000000</td>\n",
       "      <td>19438.000000</td>\n",
       "      <td>19438.000000</td>\n",
       "      <td>19437.000000</td>\n",
       "      <td>19438.000000</td>\n",
       "    </tr>\n",
       "    <tr>\n",
       "      <th>mean</th>\n",
       "      <td>5.168470</td>\n",
       "      <td>9.978895</td>\n",
       "      <td>9.501224</td>\n",
       "      <td>44.076513</td>\n",
       "      <td>67.050208</td>\n",
       "      <td>9.688589</td>\n",
       "      <td>2.705795</td>\n",
       "      <td>10.583728</td>\n",
       "      <td>3.042467</td>\n",
       "      <td>144.624774</td>\n",
       "      <td>...</td>\n",
       "      <td>18.987674</td>\n",
       "      <td>-485.894516</td>\n",
       "      <td>15.010366</td>\n",
       "      <td>-461.078636</td>\n",
       "      <td>15.694452</td>\n",
       "      <td>-488.684065</td>\n",
       "      <td>12.198224</td>\n",
       "      <td>-487.149827</td>\n",
       "      <td>18.959024</td>\n",
       "      <td>-505.436305</td>\n",
       "    </tr>\n",
       "    <tr>\n",
       "      <th>std</th>\n",
       "      <td>1.372348</td>\n",
       "      <td>1.669240</td>\n",
       "      <td>2.787537</td>\n",
       "      <td>5.129784</td>\n",
       "      <td>10.125840</td>\n",
       "      <td>2.328642</td>\n",
       "      <td>0.949077</td>\n",
       "      <td>2.868782</td>\n",
       "      <td>0.922808</td>\n",
       "      <td>44.464071</td>\n",
       "      <td>...</td>\n",
       "      <td>5.411058</td>\n",
       "      <td>47.758570</td>\n",
       "      <td>4.890228</td>\n",
       "      <td>67.405524</td>\n",
       "      <td>5.510974</td>\n",
       "      <td>34.533396</td>\n",
       "      <td>5.333024</td>\n",
       "      <td>38.347312</td>\n",
       "      <td>5.550498</td>\n",
       "      <td>37.689057</td>\n",
       "    </tr>\n",
       "    <tr>\n",
       "      <th>min</th>\n",
       "      <td>0.000000</td>\n",
       "      <td>0.000000</td>\n",
       "      <td>0.000000</td>\n",
       "      <td>0.000000</td>\n",
       "      <td>0.000000</td>\n",
       "      <td>0.000000</td>\n",
       "      <td>0.000000</td>\n",
       "      <td>0.000000</td>\n",
       "      <td>0.000000</td>\n",
       "      <td>0.003112</td>\n",
       "      <td>...</td>\n",
       "      <td>0.000000</td>\n",
       "      <td>-799.798523</td>\n",
       "      <td>0.000000</td>\n",
       "      <td>-800.836914</td>\n",
       "      <td>-0.372054</td>\n",
       "      <td>-797.323986</td>\n",
       "      <td>0.528083</td>\n",
       "      <td>-800.220337</td>\n",
       "      <td>-0.079426</td>\n",
       "      <td>-809.741464</td>\n",
       "    </tr>\n",
       "    <tr>\n",
       "      <th>25%</th>\n",
       "      <td>4.251240</td>\n",
       "      <td>9.137262</td>\n",
       "      <td>7.722820</td>\n",
       "      <td>43.402215</td>\n",
       "      <td>63.299712</td>\n",
       "      <td>8.062878</td>\n",
       "      <td>2.040119</td>\n",
       "      <td>8.938947</td>\n",
       "      <td>2.461138</td>\n",
       "      <td>114.107029</td>\n",
       "      <td>...</td>\n",
       "      <td>14.975734</td>\n",
       "      <td>-500.704892</td>\n",
       "      <td>11.940294</td>\n",
       "      <td>-500.187742</td>\n",
       "      <td>10.988606</td>\n",
       "      <td>-500.458467</td>\n",
       "      <td>8.971105</td>\n",
       "      <td>-500.129462</td>\n",
       "      <td>14.983037</td>\n",
       "      <td>-500.728067</td>\n",
       "    </tr>\n",
       "    <tr>\n",
       "      <th>50%</th>\n",
       "      <td>5.066094</td>\n",
       "      <td>10.102433</td>\n",
       "      <td>9.218961</td>\n",
       "      <td>45.011244</td>\n",
       "      <td>68.172738</td>\n",
       "      <td>9.743623</td>\n",
       "      <td>2.748730</td>\n",
       "      <td>10.622456</td>\n",
       "      <td>2.984909</td>\n",
       "      <td>143.232103</td>\n",
       "      <td>...</td>\n",
       "      <td>18.017481</td>\n",
       "      <td>-499.837793</td>\n",
       "      <td>14.971014</td>\n",
       "      <td>-499.459786</td>\n",
       "      <td>15.000036</td>\n",
       "      <td>-499.802605</td>\n",
       "      <td>11.019433</td>\n",
       "      <td>-499.935317</td>\n",
       "      <td>19.960541</td>\n",
       "      <td>-500.048400</td>\n",
       "    </tr>\n",
       "    <tr>\n",
       "      <th>75%</th>\n",
       "      <td>5.895527</td>\n",
       "      <td>11.035769</td>\n",
       "      <td>10.947813</td>\n",
       "      <td>46.275313</td>\n",
       "      <td>72.686642</td>\n",
       "      <td>11.134294</td>\n",
       "      <td>3.333216</td>\n",
       "      <td>12.104271</td>\n",
       "      <td>3.571351</td>\n",
       "      <td>175.075656</td>\n",
       "      <td>...</td>\n",
       "      <td>23.012470</td>\n",
       "      <td>-498.249730</td>\n",
       "      <td>19.034162</td>\n",
       "      <td>-400.118106</td>\n",
       "      <td>18.026190</td>\n",
       "      <td>-498.384187</td>\n",
       "      <td>14.019088</td>\n",
       "      <td>-499.436708</td>\n",
       "      <td>24.003170</td>\n",
       "      <td>-499.495378</td>\n",
       "    </tr>\n",
       "    <tr>\n",
       "      <th>max</th>\n",
       "      <td>16.001945</td>\n",
       "      <td>17.031899</td>\n",
       "      <td>19.615720</td>\n",
       "      <td>52.756638</td>\n",
       "      <td>100.000000</td>\n",
       "      <td>19.552149</td>\n",
       "      <td>5.804178</td>\n",
       "      <td>22.317730</td>\n",
       "      <td>8.245022</td>\n",
       "      <td>265.983123</td>\n",
       "      <td>...</td>\n",
       "      <td>30.115735</td>\n",
       "      <td>-245.239184</td>\n",
       "      <td>31.269706</td>\n",
       "      <td>-6.506986</td>\n",
       "      <td>43.709931</td>\n",
       "      <td>-244.483566</td>\n",
       "      <td>27.926001</td>\n",
       "      <td>-137.740004</td>\n",
       "      <td>32.188906</td>\n",
       "      <td>-104.427459</td>\n",
       "    </tr>\n",
       "  </tbody>\n",
       "</table>\n",
       "<p>8 rows × 86 columns</p>\n",
       "</div>"
      ],
      "text/plain": [
       "       final.output.concentrate_ag  final.output.concentrate_pb  \\\n",
       "count                 19438.000000                 19438.000000   \n",
       "mean                      5.168470                     9.978895   \n",
       "std                       1.372348                     1.669240   \n",
       "min                       0.000000                     0.000000   \n",
       "25%                       4.251240                     9.137262   \n",
       "50%                       5.066094                    10.102433   \n",
       "75%                       5.895527                    11.035769   \n",
       "max                      16.001945                    17.031899   \n",
       "\n",
       "       final.output.concentrate_sol  final.output.concentrate_au  \\\n",
       "count                  19228.000000                 19439.000000   \n",
       "mean                       9.501224                    44.076513   \n",
       "std                        2.787537                     5.129784   \n",
       "min                        0.000000                     0.000000   \n",
       "25%                        7.722820                    43.402215   \n",
       "50%                        9.218961                    45.011244   \n",
       "75%                       10.947813                    46.275313   \n",
       "max                       19.615720                    52.756638   \n",
       "\n",
       "       final.output.recovery  final.output.tail_ag  final.output.tail_pb  \\\n",
       "count           19439.000000          19438.000000          19338.000000   \n",
       "mean               67.050208              9.688589              2.705795   \n",
       "std                10.125840              2.328642              0.949077   \n",
       "min                 0.000000              0.000000              0.000000   \n",
       "25%                63.299712              8.062878              2.040119   \n",
       "50%                68.172738              9.743623              2.748730   \n",
       "75%                72.686642             11.134294              3.333216   \n",
       "max               100.000000             19.552149              5.804178   \n",
       "\n",
       "       final.output.tail_sol  final.output.tail_au  \\\n",
       "count           19433.000000          19439.000000   \n",
       "mean               10.583728              3.042467   \n",
       "std                 2.868782              0.922808   \n",
       "min                 0.000000              0.000000   \n",
       "25%                 8.938947              2.461138   \n",
       "50%                10.622456              2.984909   \n",
       "75%                12.104271              3.571351   \n",
       "max                22.317730              8.245022   \n",
       "\n",
       "       primary_cleaner.input.sulfate  ...  \\\n",
       "count                   19415.000000  ...   \n",
       "mean                      144.624774  ...   \n",
       "std                        44.464071  ...   \n",
       "min                         0.003112  ...   \n",
       "25%                       114.107029  ...   \n",
       "50%                       143.232103  ...   \n",
       "75%                       175.075656  ...   \n",
       "max                       265.983123  ...   \n",
       "\n",
       "       secondary_cleaner.state.floatbank4_a_air  \\\n",
       "count                              19433.000000   \n",
       "mean                                  18.987674   \n",
       "std                                    5.411058   \n",
       "min                                    0.000000   \n",
       "25%                                   14.975734   \n",
       "50%                                   18.017481   \n",
       "75%                                   23.012470   \n",
       "max                                   30.115735   \n",
       "\n",
       "       secondary_cleaner.state.floatbank4_a_level  \\\n",
       "count                                19438.000000   \n",
       "mean                                  -485.894516   \n",
       "std                                     47.758570   \n",
       "min                                   -799.798523   \n",
       "25%                                   -500.704892   \n",
       "50%                                   -499.837793   \n",
       "75%                                   -498.249730   \n",
       "max                                   -245.239184   \n",
       "\n",
       "       secondary_cleaner.state.floatbank4_b_air  \\\n",
       "count                              19438.000000   \n",
       "mean                                  15.010366   \n",
       "std                                    4.890228   \n",
       "min                                    0.000000   \n",
       "25%                                   11.940294   \n",
       "50%                                   14.971014   \n",
       "75%                                   19.034162   \n",
       "max                                   31.269706   \n",
       "\n",
       "       secondary_cleaner.state.floatbank4_b_level  \\\n",
       "count                                19438.000000   \n",
       "mean                                  -461.078636   \n",
       "std                                     67.405524   \n",
       "min                                   -800.836914   \n",
       "25%                                   -500.187742   \n",
       "50%                                   -499.459786   \n",
       "75%                                   -400.118106   \n",
       "max                                     -6.506986   \n",
       "\n",
       "       secondary_cleaner.state.floatbank5_a_air  \\\n",
       "count                              19438.000000   \n",
       "mean                                  15.694452   \n",
       "std                                    5.510974   \n",
       "min                                   -0.372054   \n",
       "25%                                   10.988606   \n",
       "50%                                   15.000036   \n",
       "75%                                   18.026190   \n",
       "max                                   43.709931   \n",
       "\n",
       "       secondary_cleaner.state.floatbank5_a_level  \\\n",
       "count                                19438.000000   \n",
       "mean                                  -488.684065   \n",
       "std                                     34.533396   \n",
       "min                                   -797.323986   \n",
       "25%                                   -500.458467   \n",
       "50%                                   -499.802605   \n",
       "75%                                   -498.384187   \n",
       "max                                   -244.483566   \n",
       "\n",
       "       secondary_cleaner.state.floatbank5_b_air  \\\n",
       "count                              19438.000000   \n",
       "mean                                  12.198224   \n",
       "std                                    5.333024   \n",
       "min                                    0.528083   \n",
       "25%                                    8.971105   \n",
       "50%                                   11.019433   \n",
       "75%                                   14.019088   \n",
       "max                                   27.926001   \n",
       "\n",
       "       secondary_cleaner.state.floatbank5_b_level  \\\n",
       "count                                19438.000000   \n",
       "mean                                  -487.149827   \n",
       "std                                     38.347312   \n",
       "min                                   -800.220337   \n",
       "25%                                   -500.129462   \n",
       "50%                                   -499.935317   \n",
       "75%                                   -499.436708   \n",
       "max                                   -137.740004   \n",
       "\n",
       "       secondary_cleaner.state.floatbank6_a_air  \\\n",
       "count                              19437.000000   \n",
       "mean                                  18.959024   \n",
       "std                                    5.550498   \n",
       "min                                   -0.079426   \n",
       "25%                                   14.983037   \n",
       "50%                                   19.960541   \n",
       "75%                                   24.003170   \n",
       "max                                   32.188906   \n",
       "\n",
       "       secondary_cleaner.state.floatbank6_a_level  \n",
       "count                                19438.000000  \n",
       "mean                                  -505.436305  \n",
       "std                                     37.689057  \n",
       "min                                   -809.741464  \n",
       "25%                                   -500.728067  \n",
       "50%                                   -500.048400  \n",
       "75%                                   -499.495378  \n",
       "max                                   -104.427459  \n",
       "\n",
       "[8 rows x 86 columns]"
      ]
     },
     "metadata": {},
     "output_type": "display_data"
    },
    {
     "data": {
      "text/plain": [
       "date                                            0\n",
       "final.output.concentrate_ag                     1\n",
       "final.output.concentrate_pb                     1\n",
       "final.output.concentrate_sol                  211\n",
       "final.output.concentrate_au                     0\n",
       "                                             ... \n",
       "secondary_cleaner.state.floatbank5_a_level      1\n",
       "secondary_cleaner.state.floatbank5_b_air        1\n",
       "secondary_cleaner.state.floatbank5_b_level      1\n",
       "secondary_cleaner.state.floatbank6_a_air        2\n",
       "secondary_cleaner.state.floatbank6_a_level      1\n",
       "Length: 87, dtype: int64"
      ]
     },
     "metadata": {},
     "output_type": "display_data"
    },
    {
     "data": {
      "text/plain": [
       "'Количество дубликатов: 0'"
      ]
     },
     "metadata": {},
     "output_type": "display_data"
    }
   ],
   "source": [
    "a = 1\n",
    "for df in datasets:\n",
    "    display(f'All info for dataset №{a}')\n",
    "    display(df.head(10))\n",
    "    display(df.info())\n",
    "    display(df.describe())\n",
    "    display(df.isna().sum())\n",
    "    display(f'Количество дубликатов: {df.duplicated().sum()}')\n",
    "    a += 1"
   ]
  },
  {
   "cell_type": "markdown",
   "metadata": {},
   "source": [
    "По информации выше мы видим, что во всех трех наборах данных есть пропуски, стоблец *date* имеет тип *object*. А в тестовой выборке отсутствует часть столбцов."
   ]
  },
  {
   "cell_type": "markdown",
   "metadata": {},
   "source": [
    "Выполним предобработку данных чуть позже, а сначала:\n",
    "- Проверим, что эффективность обогащения рассчитана правильно. Для этого, вычислим её на обучающей выборке для признака rougher.output.recovery.\n",
    "- Найдем MAE между нашими расчётами и значением признака."
   ]
  },
  {
   "cell_type": "markdown",
   "metadata": {},
   "source": [
    "Мы знаем, что эффективность обогащения рассчитывается по формуле:"
   ]
  },
  {
   "cell_type": "markdown",
   "metadata": {},
   "source": [
    "R = C * (F-T) / F * (C-T) * 100%"
   ]
  },
  {
   "cell_type": "markdown",
   "metadata": {},
   "source": [
    "где:\n",
    "- C — доля золота в концентрате после флотации/очистки (**rougher.output.concentrate_au**);\n",
    "- F — доля золота в сырье/концентрате до флотации/очистки (**rougher.input.feed_au**);\n",
    "- T — доля золота в отвальных хвостах после флотации/очистки (**rougher.output.tail_au**)."
   ]
  },
  {
   "cell_type": "code",
   "execution_count": 5,
   "metadata": {},
   "outputs": [],
   "source": [
    "C = df_train['rougher.output.concentrate_au']\n",
    "F = df_train['rougher.input.feed_au']\n",
    "T = df_train['rougher.output.tail_au']"
   ]
  },
  {
   "cell_type": "markdown",
   "metadata": {},
   "source": [
    "Создадим новый столбец, вычесленный нами по формуле выше."
   ]
  },
  {
   "cell_type": "code",
   "execution_count": 6,
   "metadata": {},
   "outputs": [],
   "source": [
    "df_train['recovery'] = 100*(C*(F-T))/(F*(C-T))"
   ]
  },
  {
   "cell_type": "markdown",
   "metadata": {},
   "source": [
    "Проверим, есть ли у нас пропуски в признаке *rougher.output.recovery*, а также в наших полученных расчетах (столбец *recovery*)."
   ]
  },
  {
   "cell_type": "code",
   "execution_count": 7,
   "metadata": {},
   "outputs": [
    {
     "data": {
      "text/plain": [
       "0"
      ]
     },
     "execution_count": 7,
     "metadata": {},
     "output_type": "execute_result"
    }
   ],
   "source": [
    "df_train['rougher.output.recovery'].isna().sum()"
   ]
  },
  {
   "cell_type": "code",
   "execution_count": 8,
   "metadata": {},
   "outputs": [
    {
     "data": {
      "text/plain": [
       "0"
      ]
     },
     "execution_count": 8,
     "metadata": {},
     "output_type": "execute_result"
    }
   ],
   "source": [
    "df_train['recovery'].isna().sum()"
   ]
  },
  {
   "cell_type": "markdown",
   "metadata": {},
   "source": [
    "Пропусков нет, рассчитаем MAE между нашими расчётами и значением признака."
   ]
  },
  {
   "cell_type": "code",
   "execution_count": 9,
   "metadata": {},
   "outputs": [
    {
     "name": "stdout",
     "output_type": "stream",
     "text": [
      "MAE = 1.1131451184435918e-14\n"
     ]
    }
   ],
   "source": [
    "mae = mean_absolute_error(df_train['rougher.output.recovery'], df_train['recovery'])\n",
    "print('MAE =', mae)"
   ]
  },
  {
   "cell_type": "markdown",
   "metadata": {},
   "source": [
    "Значение MAE между нашими расчётами и значением признака *rougher.output.recovery* получилось довольно низким, это говорит нам о том, что эффективность обогащения рассчитана верно."
   ]
  },
  {
   "cell_type": "markdown",
   "metadata": {},
   "source": [
    "Удалим наши расчеты из тренировочной выборки."
   ]
  },
  {
   "cell_type": "code",
   "execution_count": 10,
   "metadata": {},
   "outputs": [
    {
     "data": {
      "text/html": [
       "<div>\n",
       "<style scoped>\n",
       "    .dataframe tbody tr th:only-of-type {\n",
       "        vertical-align: middle;\n",
       "    }\n",
       "\n",
       "    .dataframe tbody tr th {\n",
       "        vertical-align: top;\n",
       "    }\n",
       "\n",
       "    .dataframe thead th {\n",
       "        text-align: right;\n",
       "    }\n",
       "</style>\n",
       "<table border=\"1\" class=\"dataframe\">\n",
       "  <thead>\n",
       "    <tr style=\"text-align: right;\">\n",
       "      <th></th>\n",
       "      <th>date</th>\n",
       "      <th>final.output.concentrate_ag</th>\n",
       "      <th>final.output.concentrate_pb</th>\n",
       "      <th>final.output.concentrate_sol</th>\n",
       "      <th>final.output.concentrate_au</th>\n",
       "      <th>final.output.recovery</th>\n",
       "      <th>final.output.tail_ag</th>\n",
       "      <th>final.output.tail_pb</th>\n",
       "      <th>final.output.tail_sol</th>\n",
       "      <th>final.output.tail_au</th>\n",
       "      <th>...</th>\n",
       "      <th>secondary_cleaner.state.floatbank4_a_air</th>\n",
       "      <th>secondary_cleaner.state.floatbank4_a_level</th>\n",
       "      <th>secondary_cleaner.state.floatbank4_b_air</th>\n",
       "      <th>secondary_cleaner.state.floatbank4_b_level</th>\n",
       "      <th>secondary_cleaner.state.floatbank5_a_air</th>\n",
       "      <th>secondary_cleaner.state.floatbank5_a_level</th>\n",
       "      <th>secondary_cleaner.state.floatbank5_b_air</th>\n",
       "      <th>secondary_cleaner.state.floatbank5_b_level</th>\n",
       "      <th>secondary_cleaner.state.floatbank6_a_air</th>\n",
       "      <th>secondary_cleaner.state.floatbank6_a_level</th>\n",
       "    </tr>\n",
       "  </thead>\n",
       "  <tbody>\n",
       "    <tr>\n",
       "      <th>0</th>\n",
       "      <td>2016-01-15 00:00:00</td>\n",
       "      <td>6.055403</td>\n",
       "      <td>9.889648</td>\n",
       "      <td>5.507324</td>\n",
       "      <td>42.192020</td>\n",
       "      <td>70.541216</td>\n",
       "      <td>10.411962</td>\n",
       "      <td>0.895447</td>\n",
       "      <td>16.904297</td>\n",
       "      <td>2.143149</td>\n",
       "      <td>...</td>\n",
       "      <td>14.016835</td>\n",
       "      <td>-502.488007</td>\n",
       "      <td>12.099931</td>\n",
       "      <td>-504.715942</td>\n",
       "      <td>9.925633</td>\n",
       "      <td>-498.310211</td>\n",
       "      <td>8.079666</td>\n",
       "      <td>-500.470978</td>\n",
       "      <td>14.151341</td>\n",
       "      <td>-605.841980</td>\n",
       "    </tr>\n",
       "    <tr>\n",
       "      <th>1</th>\n",
       "      <td>2016-01-15 01:00:00</td>\n",
       "      <td>6.029369</td>\n",
       "      <td>9.968944</td>\n",
       "      <td>5.257781</td>\n",
       "      <td>42.701629</td>\n",
       "      <td>69.266198</td>\n",
       "      <td>10.462676</td>\n",
       "      <td>0.927452</td>\n",
       "      <td>16.634514</td>\n",
       "      <td>2.224930</td>\n",
       "      <td>...</td>\n",
       "      <td>13.992281</td>\n",
       "      <td>-505.503262</td>\n",
       "      <td>11.950531</td>\n",
       "      <td>-501.331529</td>\n",
       "      <td>10.039245</td>\n",
       "      <td>-500.169983</td>\n",
       "      <td>7.984757</td>\n",
       "      <td>-500.582168</td>\n",
       "      <td>13.998353</td>\n",
       "      <td>-599.787184</td>\n",
       "    </tr>\n",
       "    <tr>\n",
       "      <th>2</th>\n",
       "      <td>2016-01-15 02:00:00</td>\n",
       "      <td>6.055926</td>\n",
       "      <td>10.213995</td>\n",
       "      <td>5.383759</td>\n",
       "      <td>42.657501</td>\n",
       "      <td>68.116445</td>\n",
       "      <td>10.507046</td>\n",
       "      <td>0.953716</td>\n",
       "      <td>16.208849</td>\n",
       "      <td>2.257889</td>\n",
       "      <td>...</td>\n",
       "      <td>14.015015</td>\n",
       "      <td>-502.520901</td>\n",
       "      <td>11.912783</td>\n",
       "      <td>-501.133383</td>\n",
       "      <td>10.070913</td>\n",
       "      <td>-500.129135</td>\n",
       "      <td>8.013877</td>\n",
       "      <td>-500.517572</td>\n",
       "      <td>14.028663</td>\n",
       "      <td>-601.427363</td>\n",
       "    </tr>\n",
       "    <tr>\n",
       "      <th>3</th>\n",
       "      <td>2016-01-15 03:00:00</td>\n",
       "      <td>6.047977</td>\n",
       "      <td>9.977019</td>\n",
       "      <td>4.858634</td>\n",
       "      <td>42.689819</td>\n",
       "      <td>68.347543</td>\n",
       "      <td>10.422762</td>\n",
       "      <td>0.883763</td>\n",
       "      <td>16.532835</td>\n",
       "      <td>2.146849</td>\n",
       "      <td>...</td>\n",
       "      <td>14.036510</td>\n",
       "      <td>-500.857308</td>\n",
       "      <td>11.999550</td>\n",
       "      <td>-501.193686</td>\n",
       "      <td>9.970366</td>\n",
       "      <td>-499.201640</td>\n",
       "      <td>7.977324</td>\n",
       "      <td>-500.255908</td>\n",
       "      <td>14.005551</td>\n",
       "      <td>-599.996129</td>\n",
       "    </tr>\n",
       "    <tr>\n",
       "      <th>4</th>\n",
       "      <td>2016-01-15 04:00:00</td>\n",
       "      <td>6.148599</td>\n",
       "      <td>10.142511</td>\n",
       "      <td>4.939416</td>\n",
       "      <td>42.774141</td>\n",
       "      <td>66.927016</td>\n",
       "      <td>10.360302</td>\n",
       "      <td>0.792826</td>\n",
       "      <td>16.525686</td>\n",
       "      <td>2.055292</td>\n",
       "      <td>...</td>\n",
       "      <td>14.027298</td>\n",
       "      <td>-499.838632</td>\n",
       "      <td>11.953070</td>\n",
       "      <td>-501.053894</td>\n",
       "      <td>9.925709</td>\n",
       "      <td>-501.686727</td>\n",
       "      <td>7.894242</td>\n",
       "      <td>-500.356035</td>\n",
       "      <td>13.996647</td>\n",
       "      <td>-601.496691</td>\n",
       "    </tr>\n",
       "  </tbody>\n",
       "</table>\n",
       "<p>5 rows × 87 columns</p>\n",
       "</div>"
      ],
      "text/plain": [
       "                  date  final.output.concentrate_ag  \\\n",
       "0  2016-01-15 00:00:00                     6.055403   \n",
       "1  2016-01-15 01:00:00                     6.029369   \n",
       "2  2016-01-15 02:00:00                     6.055926   \n",
       "3  2016-01-15 03:00:00                     6.047977   \n",
       "4  2016-01-15 04:00:00                     6.148599   \n",
       "\n",
       "   final.output.concentrate_pb  final.output.concentrate_sol  \\\n",
       "0                     9.889648                      5.507324   \n",
       "1                     9.968944                      5.257781   \n",
       "2                    10.213995                      5.383759   \n",
       "3                     9.977019                      4.858634   \n",
       "4                    10.142511                      4.939416   \n",
       "\n",
       "   final.output.concentrate_au  final.output.recovery  final.output.tail_ag  \\\n",
       "0                    42.192020              70.541216             10.411962   \n",
       "1                    42.701629              69.266198             10.462676   \n",
       "2                    42.657501              68.116445             10.507046   \n",
       "3                    42.689819              68.347543             10.422762   \n",
       "4                    42.774141              66.927016             10.360302   \n",
       "\n",
       "   final.output.tail_pb  final.output.tail_sol  final.output.tail_au  ...  \\\n",
       "0              0.895447              16.904297              2.143149  ...   \n",
       "1              0.927452              16.634514              2.224930  ...   \n",
       "2              0.953716              16.208849              2.257889  ...   \n",
       "3              0.883763              16.532835              2.146849  ...   \n",
       "4              0.792826              16.525686              2.055292  ...   \n",
       "\n",
       "   secondary_cleaner.state.floatbank4_a_air  \\\n",
       "0                                 14.016835   \n",
       "1                                 13.992281   \n",
       "2                                 14.015015   \n",
       "3                                 14.036510   \n",
       "4                                 14.027298   \n",
       "\n",
       "   secondary_cleaner.state.floatbank4_a_level  \\\n",
       "0                                 -502.488007   \n",
       "1                                 -505.503262   \n",
       "2                                 -502.520901   \n",
       "3                                 -500.857308   \n",
       "4                                 -499.838632   \n",
       "\n",
       "   secondary_cleaner.state.floatbank4_b_air  \\\n",
       "0                                 12.099931   \n",
       "1                                 11.950531   \n",
       "2                                 11.912783   \n",
       "3                                 11.999550   \n",
       "4                                 11.953070   \n",
       "\n",
       "   secondary_cleaner.state.floatbank4_b_level  \\\n",
       "0                                 -504.715942   \n",
       "1                                 -501.331529   \n",
       "2                                 -501.133383   \n",
       "3                                 -501.193686   \n",
       "4                                 -501.053894   \n",
       "\n",
       "   secondary_cleaner.state.floatbank5_a_air  \\\n",
       "0                                  9.925633   \n",
       "1                                 10.039245   \n",
       "2                                 10.070913   \n",
       "3                                  9.970366   \n",
       "4                                  9.925709   \n",
       "\n",
       "   secondary_cleaner.state.floatbank5_a_level  \\\n",
       "0                                 -498.310211   \n",
       "1                                 -500.169983   \n",
       "2                                 -500.129135   \n",
       "3                                 -499.201640   \n",
       "4                                 -501.686727   \n",
       "\n",
       "   secondary_cleaner.state.floatbank5_b_air  \\\n",
       "0                                  8.079666   \n",
       "1                                  7.984757   \n",
       "2                                  8.013877   \n",
       "3                                  7.977324   \n",
       "4                                  7.894242   \n",
       "\n",
       "   secondary_cleaner.state.floatbank5_b_level  \\\n",
       "0                                 -500.470978   \n",
       "1                                 -500.582168   \n",
       "2                                 -500.517572   \n",
       "3                                 -500.255908   \n",
       "4                                 -500.356035   \n",
       "\n",
       "   secondary_cleaner.state.floatbank6_a_air  \\\n",
       "0                                 14.151341   \n",
       "1                                 13.998353   \n",
       "2                                 14.028663   \n",
       "3                                 14.005551   \n",
       "4                                 13.996647   \n",
       "\n",
       "   secondary_cleaner.state.floatbank6_a_level  \n",
       "0                                 -605.841980  \n",
       "1                                 -599.787184  \n",
       "2                                 -601.427363  \n",
       "3                                 -599.996129  \n",
       "4                                 -601.496691  \n",
       "\n",
       "[5 rows x 87 columns]"
      ]
     },
     "execution_count": 10,
     "metadata": {},
     "output_type": "execute_result"
    }
   ],
   "source": [
    "df_train.drop('recovery', axis=1, inplace=True)\n",
    "df_train.head()"
   ]
  },
  {
   "cell_type": "markdown",
   "metadata": {},
   "source": [
    "Теперь проанализируем признаки, недоступные в тестовой выборке. Узнаем, что это за параметры и к какому типу они относятся."
   ]
  },
  {
   "cell_type": "code",
   "execution_count": 11,
   "metadata": {
    "scrolled": true
   },
   "outputs": [
    {
     "data": {
      "text/plain": [
       "{'final.output.concentrate_ag',\n",
       " 'final.output.concentrate_au',\n",
       " 'final.output.concentrate_pb',\n",
       " 'final.output.concentrate_sol',\n",
       " 'final.output.recovery',\n",
       " 'final.output.tail_ag',\n",
       " 'final.output.tail_au',\n",
       " 'final.output.tail_pb',\n",
       " 'final.output.tail_sol',\n",
       " 'primary_cleaner.output.concentrate_ag',\n",
       " 'primary_cleaner.output.concentrate_au',\n",
       " 'primary_cleaner.output.concentrate_pb',\n",
       " 'primary_cleaner.output.concentrate_sol',\n",
       " 'primary_cleaner.output.tail_ag',\n",
       " 'primary_cleaner.output.tail_au',\n",
       " 'primary_cleaner.output.tail_pb',\n",
       " 'primary_cleaner.output.tail_sol',\n",
       " 'rougher.calculation.au_pb_ratio',\n",
       " 'rougher.calculation.floatbank10_sulfate_to_au_feed',\n",
       " 'rougher.calculation.floatbank11_sulfate_to_au_feed',\n",
       " 'rougher.calculation.sulfate_to_au_concentrate',\n",
       " 'rougher.output.concentrate_ag',\n",
       " 'rougher.output.concentrate_au',\n",
       " 'rougher.output.concentrate_pb',\n",
       " 'rougher.output.concentrate_sol',\n",
       " 'rougher.output.recovery',\n",
       " 'rougher.output.tail_ag',\n",
       " 'rougher.output.tail_au',\n",
       " 'rougher.output.tail_pb',\n",
       " 'rougher.output.tail_sol',\n",
       " 'secondary_cleaner.output.tail_ag',\n",
       " 'secondary_cleaner.output.tail_au',\n",
       " 'secondary_cleaner.output.tail_pb',\n",
       " 'secondary_cleaner.output.tail_sol'}"
      ]
     },
     "execution_count": 11,
     "metadata": {},
     "output_type": "execute_result"
    }
   ],
   "source": [
    "list_of_values = set(df_train) - set(df_test)\n",
    "list_of_values"
   ]
  },
  {
   "cell_type": "markdown",
   "metadata": {},
   "source": [
    "Все признаки выше являются либо параметрами продукта *output*, либо являются расчётными характеристиками *calculation*, поэтому и отсутствуют в тестовой выборке."
   ]
  },
  {
   "cell_type": "markdown",
   "metadata": {},
   "source": [
    "## Предобработка данных ##"
   ]
  },
  {
   "cell_type": "markdown",
   "metadata": {},
   "source": [
    "Теперь займемся предобработкой данных. Для начала переведем тип столбца *date* во всех трех выборках в *datetime* и округлим значение до часа."
   ]
  },
  {
   "cell_type": "code",
   "execution_count": 12,
   "metadata": {},
   "outputs": [],
   "source": [
    "df_train['date'] = pd.to_datetime(df_train['date'], format='%Y-%m-%dT%H:%M:%S')\n",
    "\n",
    "df_test['date'] = pd.to_datetime(df_test['date'], format='%Y-%m-%dT%H:%M:%S')\n",
    "\n",
    "df_full['date'] = pd.to_datetime(df_full['date'], format='%Y-%m-%dT%H:%M:%S')"
   ]
  },
  {
   "cell_type": "markdown",
   "metadata": {},
   "source": [
    "Далее, проверим пропуски в целевых признаках *rougher.output.recovery* и *final.output.recovery*, и удалим их при наличии."
   ]
  },
  {
   "cell_type": "code",
   "execution_count": 13,
   "metadata": {},
   "outputs": [
    {
     "data": {
      "text/plain": [
       "0"
      ]
     },
     "execution_count": 13,
     "metadata": {},
     "output_type": "execute_result"
    }
   ],
   "source": [
    "df_train['rougher.output.recovery'].isna().sum()"
   ]
  },
  {
   "cell_type": "code",
   "execution_count": 14,
   "metadata": {},
   "outputs": [
    {
     "data": {
      "text/plain": [
       "0"
      ]
     },
     "execution_count": 14,
     "metadata": {},
     "output_type": "execute_result"
    }
   ],
   "source": [
    "df_train['final.output.recovery'].isna().sum()"
   ]
  },
  {
   "cell_type": "code",
   "execution_count": 15,
   "metadata": {},
   "outputs": [
    {
     "data": {
      "text/plain": [
       "0"
      ]
     },
     "execution_count": 15,
     "metadata": {},
     "output_type": "execute_result"
    }
   ],
   "source": [
    "df_full['rougher.output.recovery'].isna().sum()"
   ]
  },
  {
   "cell_type": "code",
   "execution_count": 16,
   "metadata": {},
   "outputs": [
    {
     "data": {
      "text/plain": [
       "0"
      ]
     },
     "execution_count": 16,
     "metadata": {},
     "output_type": "execute_result"
    }
   ],
   "source": [
    "df_full['final.output.recovery'].isna().sum()"
   ]
  },
  {
   "cell_type": "markdown",
   "metadata": {},
   "source": [
    "В описании проекта сказано, что соседние по времени параметры часто похожи, поэтому заполним все пропуски соседними значениями с помощью метода ffill."
   ]
  },
  {
   "cell_type": "code",
   "execution_count": 17,
   "metadata": {},
   "outputs": [
    {
     "data": {
      "text/plain": [
       "0"
      ]
     },
     "execution_count": 17,
     "metadata": {},
     "output_type": "execute_result"
    }
   ],
   "source": [
    "df_train = df_train.fillna(method='ffill')\n",
    "df_train.isna().sum().sum()"
   ]
  },
  {
   "cell_type": "code",
   "execution_count": 18,
   "metadata": {},
   "outputs": [
    {
     "data": {
      "text/plain": [
       "0"
      ]
     },
     "execution_count": 18,
     "metadata": {},
     "output_type": "execute_result"
    }
   ],
   "source": [
    "df_test = df_test.fillna(method='ffill')\n",
    "df_test.isna().sum().sum()"
   ]
  },
  {
   "cell_type": "code",
   "execution_count": 19,
   "metadata": {},
   "outputs": [
    {
     "data": {
      "text/plain": [
       "0"
      ]
     },
     "execution_count": 19,
     "metadata": {},
     "output_type": "execute_result"
    }
   ],
   "source": [
    "df_full = df_full.fillna(method='ffill')\n",
    "df_full.isna().sum().sum()"
   ]
  },
  {
   "cell_type": "markdown",
   "metadata": {},
   "source": [
    "## Анализ данных"
   ]
  },
  {
   "cell_type": "markdown",
   "metadata": {},
   "source": [
    "Посмотрим, как меняется концентрация металлов (Au, Ag, Pb) на различных этапах очистки. Для этого, сначала, создадим таблицы с концентрациями по каждому из металлов, затем посмотрим на графиках изменение средних концентраций на каждом этапе."
   ]
  },
  {
   "cell_type": "code",
   "execution_count": 20,
   "metadata": {},
   "outputs": [],
   "source": [
    "df_au = df_full[['rougher.output.concentrate_au', 'primary_cleaner.output.concentrate_au', 'final.output.concentrate_au']]\n",
    "\n",
    "df_ag = df_full[['rougher.output.concentrate_ag', 'primary_cleaner.output.concentrate_ag', 'final.output.concentrate_ag']]\n",
    "\n",
    "df_pb = df_full[['rougher.output.concentrate_pb', 'primary_cleaner.output.concentrate_pb', 'final.output.concentrate_pb']]"
   ]
  },
  {
   "cell_type": "code",
   "execution_count": 21,
   "metadata": {},
   "outputs": [
    {
     "data": {
      "image/png": "[encoded data removed]",
      "text/plain": [
       "<Figure size 1080x576 with 1 Axes>"
      ]
     },
     "metadata": {
      "needs_background": "light"
     },
     "output_type": "display_data"
    }
   ],
   "source": [
    "df_au.mean().plot(title = 'Изменение концентрации золота Au на разных этапах очистки', kind='bar', figsize=(15, 8)) \n",
    "plt.show()"
   ]
  },
  {
   "cell_type": "code",
   "execution_count": 22,
   "metadata": {},
   "outputs": [
    {
     "data": {
      "image/png": "[encoded data removed]",
      "text/plain": [
       "<Figure size 1080x576 with 1 Axes>"
      ]
     },
     "metadata": {
      "needs_background": "light"
     },
     "output_type": "display_data"
    }
   ],
   "source": [
    "df_ag.mean().plot(title = 'Изменение концентрации серебра Ag на разных этапах очистки', kind='bar', figsize=(15, 8)) \n",
    "plt.show()"
   ]
  },
  {
   "cell_type": "code",
   "execution_count": 23,
   "metadata": {},
   "outputs": [
    {
     "data": {
      "image/png": "[encoded data removed]",
      "text/plain": [
       "<Figure size 1080x576 with 1 Axes>"
      ]
     },
     "metadata": {
      "needs_background": "light"
     },
     "output_type": "display_data"
    }
   ],
   "source": [
    "df_pb.mean().plot(title = 'Изменение концентрации свинца Pb на разных этапах очистки', kind='bar', figsize=(15, 8)) \n",
    "plt.show()"
   ]
  },
  {
   "cell_type": "markdown",
   "metadata": {},
   "source": [
    "Из графиков выше мы видим, что конценции золота и свинца на каждом этапе возврастают, а концентрация серебра наоборот падает."
   ]
  },
  {
   "cell_type": "markdown",
   "metadata": {},
   "source": [
    "Теперь сравним распределения размеров гранул сырья на обучающей и тестовой выборках. Для этого построим гистограмму."
   ]
  },
  {
   "cell_type": "code",
   "execution_count": 24,
   "metadata": {},
   "outputs": [
    {
     "data": {
      "image/png": "[encoded data removed]",
      "text/plain": [
       "<Figure size 1080x576 with 1 Axes>"
      ]
     },
     "metadata": {
      "needs_background": "light"
     },
     "output_type": "display_data"
    }
   ],
   "source": [
    "df_train['rougher.input.feed_size'].plot(\n",
    "    kind='hist', \n",
    "    bins=100, \n",
    "    figsize=(15, 8))\n",
    "df_test['rougher.input.feed_size'].plot(\n",
    "    kind='hist', \n",
    "    bins=100, \n",
    "    alpha=0.5, \n",
    "    figsize=(15, 8))\n",
    "plt.show()"
   ]
  },
  {
   "cell_type": "markdown",
   "metadata": {},
   "source": [
    "На гистограмме выше мы можем видеть, что распределения размеров гранул сырья на обучающей и тестовой выборках практически не отличаются друг от друга, а это значит, что оценка модели будет неправильной."
   ]
  },
  {
   "cell_type": "code",
   "execution_count": 25,
   "metadata": {},
   "outputs": [
    {
     "data": {
      "image/png": "[encoded data removed]",
      "text/plain": [
       "<Figure size 432x288 with 1 Axes>"
      ]
     },
     "metadata": {
      "needs_background": "light"
     },
     "output_type": "display_data"
    }
   ],
   "source": [
    "plt.hist([df_test['rougher.input.feed_size'], df_train['rougher.input.feed_size']], density = True, histtype='bar', bins=100)\n",
    "plt.show()"
   ]
  },
  {
   "cell_type": "markdown",
   "metadata": {},
   "source": [
    "Теперь исследуем суммарную концентрацию всех веществ на разных стадиях: в сырье, в черновом и финальном концентратах. Для этого, создадим отдельные таблицы с концентрациями всех веществ на каждой стадии. Затем просуммируем концентрации на каждом этапе и построим гистограммы для визуализации распределения концентраций, а также изучим полученные данные с помощью метода *describe*."
   ]
  },
  {
   "cell_type": "markdown",
   "metadata": {},
   "source": [
    "Начнем с сырья:"
   ]
  },
  {
   "cell_type": "code",
   "execution_count": 26,
   "metadata": {},
   "outputs": [
    {
     "data": {
      "image/png": "[encoded data removed]",
      "text/plain": [
       "<Figure size 1080x360 with 1 Axes>"
      ]
     },
     "metadata": {
      "needs_background": "light"
     },
     "output_type": "display_data"
    }
   ],
   "source": [
    "rougher_input_feed = df_full[['rougher.input.feed_au', 'rougher.input.feed_ag', 'rougher.input.feed_pb', 'rougher.input.feed_sol']]\n",
    "rougher_input_feed.sum(axis=1).plot(\n",
    "    kind='hist', \n",
    "    bins=80, \n",
    "    figsize=(15, 5))\n",
    "plt.show()"
   ]
  },
  {
   "cell_type": "code",
   "execution_count": 27,
   "metadata": {},
   "outputs": [
    {
     "data": {
      "text/plain": [
       "count    19439.000000\n",
       "mean        57.320789\n",
       "std          7.212680\n",
       "min          0.040000\n",
       "25%         53.557679\n",
       "50%         57.594391\n",
       "75%         61.953459\n",
       "max         76.978947\n",
       "dtype: float64"
      ]
     },
     "execution_count": 27,
     "metadata": {},
     "output_type": "execute_result"
    }
   ],
   "source": [
    "rougher_input_feed.sum(axis=1).describe()"
   ]
  },
  {
   "cell_type": "markdown",
   "metadata": {},
   "source": [
    "Теперь исследуем черновой концентрат:"
   ]
  },
  {
   "cell_type": "code",
   "execution_count": 28,
   "metadata": {},
   "outputs": [
    {
     "data": {
      "image/png": "[encoded data removed]",
      "text/plain": [
       "<Figure size 1080x360 with 1 Axes>"
      ]
     },
     "metadata": {
      "needs_background": "light"
     },
     "output_type": "display_data"
    }
   ],
   "source": [
    "rougher_output_concentrate = df_full[['rougher.output.concentrate_ag', 'rougher.output.concentrate_pb', 'rougher.output.concentrate_sol', 'rougher.output.concentrate_au']]\n",
    "rougher_output_concentrate.sum(axis=1).plot(\n",
    "    kind='hist', \n",
    "    bins=80, \n",
    "    figsize=(15, 5))\n",
    "plt.show()"
   ]
  },
  {
   "cell_type": "code",
   "execution_count": 29,
   "metadata": {},
   "outputs": [
    {
     "data": {
      "text/plain": [
       "count    19439.000000\n",
       "mean        68.170865\n",
       "std         12.491279\n",
       "min          0.000000\n",
       "25%         66.012495\n",
       "50%         70.181495\n",
       "75%         74.356904\n",
       "max         88.140119\n",
       "dtype: float64"
      ]
     },
     "execution_count": 29,
     "metadata": {},
     "output_type": "execute_result"
    }
   ],
   "source": [
    "rougher_output_concentrate.sum(axis=1).describe()"
   ]
  },
  {
   "cell_type": "markdown",
   "metadata": {},
   "source": [
    "Исследуем финальный концентрат:"
   ]
  },
  {
   "cell_type": "code",
   "execution_count": 30,
   "metadata": {},
   "outputs": [
    {
     "data": {
      "image/png": "[encoded data removed]",
      "text/plain": [
       "<Figure size 1080x360 with 1 Axes>"
      ]
     },
     "metadata": {
      "needs_background": "light"
     },
     "output_type": "display_data"
    }
   ],
   "source": [
    "final_output_concentrate = df_full[['final.output.concentrate_pb', 'final.output.concentrate_ag', 'final.output.concentrate_sol', 'final.output.concentrate_au']]\n",
    "final_output_concentrate.sum(axis=1).plot(\n",
    "    kind='hist', \n",
    "    bins=60, \n",
    "    figsize=(15, 5))\n",
    "plt.show()"
   ]
  },
  {
   "cell_type": "code",
   "execution_count": 31,
   "metadata": {},
   "outputs": [
    {
     "data": {
      "text/plain": [
       "count    19439.000000\n",
       "mean        68.653624\n",
       "std          7.427536\n",
       "min          0.000000\n",
       "25%         67.932362\n",
       "50%         69.598444\n",
       "75%         71.368472\n",
       "max         80.210644\n",
       "dtype: float64"
      ]
     },
     "execution_count": 31,
     "metadata": {},
     "output_type": "execute_result"
    }
   ],
   "source": [
    "final_output_concentrate.sum(axis=1).describe()"
   ]
  },
  {
   "cell_type": "markdown",
   "metadata": {},
   "source": [
    "Итак, по полученным данным выше мы видим, что:\n",
    "- все три распределения похожи на нормальные со смещением влево;\n",
    "- суммарная концентрация всех веществ увеличивается;\n",
    "- у нас есть пики в районе нуля на черновом и финальном концентратах, которые являются выбросами."
   ]
  },
  {
   "cell_type": "markdown",
   "metadata": {},
   "source": [
    "Выбросы вызваны, скорее всего, либо человеческой ошибкой, либо сбоем оборудования. Их необходимо удалить из тренировочной выборки, чтобы они не повлияли на обучение наших моделей. После удаления выбросов проверим размер тренировочной выборки и снова построим гистограммы, взяв за основу измененную тренировочную выборку."
   ]
  },
  {
   "cell_type": "code",
   "execution_count": 32,
   "metadata": {},
   "outputs": [
    {
     "data": {
      "text/plain": [
       "13849"
      ]
     },
     "execution_count": 32,
     "metadata": {},
     "output_type": "execute_result"
    }
   ],
   "source": [
    "df_train = df_train[(df_train['rougher.output.concentrate_ag'] != 0) &\n",
    "                       (df_train['rougher.output.concentrate_au'] != 0) &\n",
    "                       (df_train['rougher.output.concentrate_pb'] != 0) &\n",
    "                       (df_train['rougher.output.concentrate_sol'] != 0)]\n",
    "df_train.shape[0]"
   ]
  },
  {
   "cell_type": "code",
   "execution_count": 33,
   "metadata": {
    "scrolled": true
   },
   "outputs": [
    {
     "data": {
      "text/plain": [
       "13792"
      ]
     },
     "execution_count": 33,
     "metadata": {},
     "output_type": "execute_result"
    }
   ],
   "source": [
    "df_train = df_train[(df_train['final.output.concentrate_ag'] != 0) &\n",
    "                       (df_train['final.output.concentrate_au'] != 0) &\n",
    "                       (df_train['final.output.concentrate_pb'] != 0) &\n",
    "                       (df_train['final.output.concentrate_sol'] != 0)]\n",
    "df_train.shape[0]"
   ]
  },
  {
   "cell_type": "code",
   "execution_count": 34,
   "metadata": {},
   "outputs": [
    {
     "data": {
      "image/png": "[encoded data removed]",
      "text/plain": [
       "<Figure size 1080x360 with 1 Axes>"
      ]
     },
     "metadata": {
      "needs_background": "light"
     },
     "output_type": "display_data"
    }
   ],
   "source": [
    "rougher_output_concentrate_2 = df_train[['rougher.output.concentrate_ag', 'rougher.output.concentrate_pb', 'rougher.output.concentrate_sol', 'rougher.output.concentrate_au']]\n",
    "rougher_output_concentrate_2.sum(axis=1).plot(\n",
    "    kind='hist', \n",
    "    bins=80, \n",
    "    figsize=(15, 5))\n",
    "plt.show()"
   ]
  },
  {
   "cell_type": "code",
   "execution_count": 35,
   "metadata": {},
   "outputs": [
    {
     "data": {
      "text/plain": [
       "count    13792.000000\n",
       "mean        68.619029\n",
       "std          8.093252\n",
       "min          0.040000\n",
       "25%         65.250513\n",
       "50%         69.312316\n",
       "75%         73.508347\n",
       "max         88.140119\n",
       "dtype: float64"
      ]
     },
     "execution_count": 35,
     "metadata": {},
     "output_type": "execute_result"
    }
   ],
   "source": [
    "rougher_output_concentrate_2.sum(axis=1).describe()"
   ]
  },
  {
   "cell_type": "code",
   "execution_count": 36,
   "metadata": {},
   "outputs": [
    {
     "data": {
      "image/png": "[encoded data removed]",
      "text/plain": [
       "<Figure size 1080x360 with 1 Axes>"
      ]
     },
     "metadata": {
      "needs_background": "light"
     },
     "output_type": "display_data"
    }
   ],
   "source": [
    "final_output_concentrate_2 = df_train[['final.output.concentrate_pb', 'final.output.concentrate_ag', 'final.output.concentrate_sol', 'final.output.concentrate_au']]\n",
    "final_output_concentrate_2.sum(axis=1).plot(\n",
    "    kind='hist', \n",
    "    bins=60, \n",
    "    figsize=(15, 5))\n",
    "plt.show()"
   ]
  },
  {
   "cell_type": "code",
   "execution_count": 37,
   "metadata": {},
   "outputs": [
    {
     "data": {
      "text/plain": [
       "count    13792.000000\n",
       "mean        68.665735\n",
       "std          5.430027\n",
       "min          0.040000\n",
       "25%         67.559796\n",
       "50%         69.136175\n",
       "75%         70.953556\n",
       "max         80.210644\n",
       "dtype: float64"
      ]
     },
     "execution_count": 37,
     "metadata": {},
     "output_type": "execute_result"
    }
   ],
   "source": [
    "final_output_concentrate_2.sum(axis=1).describe()"
   ]
  },
  {
   "cell_type": "markdown",
   "metadata": {},
   "source": [
    "Теперь наши данные выглядят более правдоподобными и готовы для обучения моделей ML."
   ]
  },
  {
   "cell_type": "markdown",
   "metadata": {},
   "source": [
    "## Модель"
   ]
  },
  {
   "cell_type": "markdown",
   "metadata": {},
   "source": [
    " Напишем функцию для вычисления итоговой sMAPE."
   ]
  },
  {
   "cell_type": "code",
   "execution_count": 38,
   "metadata": {},
   "outputs": [],
   "source": [
    "def smape(t, p):\n",
    "    return 100* 1/len(t) * np.sum((np.abs(t-p))/((np.abs(t) + np.abs(p)) / 2))\n",
    "\n",
    "def smape_total(rougher, final):\n",
    "    return 0.25 * rougher + 0.75 * final"
   ]
  },
  {
   "cell_type": "markdown",
   "metadata": {},
   "source": [
    "Далее нам необходимо добавить в тестовую выборку целевые признаки из полной выборки. Для этого создадим новый датасет с целевыми признаками и объеденим его с тестовой выборкой по столбцу *date*."
   ]
  },
  {
   "cell_type": "code",
   "execution_count": 39,
   "metadata": {},
   "outputs": [],
   "source": [
    "df_target = df_full[['date', 'rougher.output.recovery', 'final.output.recovery']]"
   ]
  },
  {
   "cell_type": "code",
   "execution_count": 40,
   "metadata": {
    "scrolled": true
   },
   "outputs": [
    {
     "name": "stdout",
     "output_type": "stream",
     "text": [
      "<class 'pandas.core.frame.DataFrame'>\n",
      "Int64Index: 5290 entries, 0 to 5289\n",
      "Data columns (total 55 columns):\n",
      " #   Column                                      Non-Null Count  Dtype         \n",
      "---  ------                                      --------------  -----         \n",
      " 0   date                                        5290 non-null   datetime64[ns]\n",
      " 1   primary_cleaner.input.sulfate               5290 non-null   float64       \n",
      " 2   primary_cleaner.input.depressant            5290 non-null   float64       \n",
      " 3   primary_cleaner.input.feed_size             5290 non-null   float64       \n",
      " 4   primary_cleaner.input.xanthate              5290 non-null   float64       \n",
      " 5   primary_cleaner.state.floatbank8_a_air      5290 non-null   float64       \n",
      " 6   primary_cleaner.state.floatbank8_a_level    5290 non-null   float64       \n",
      " 7   primary_cleaner.state.floatbank8_b_air      5290 non-null   float64       \n",
      " 8   primary_cleaner.state.floatbank8_b_level    5290 non-null   float64       \n",
      " 9   primary_cleaner.state.floatbank8_c_air      5290 non-null   float64       \n",
      " 10  primary_cleaner.state.floatbank8_c_level    5290 non-null   float64       \n",
      " 11  primary_cleaner.state.floatbank8_d_air      5290 non-null   float64       \n",
      " 12  primary_cleaner.state.floatbank8_d_level    5290 non-null   float64       \n",
      " 13  rougher.input.feed_ag                       5290 non-null   float64       \n",
      " 14  rougher.input.feed_pb                       5290 non-null   float64       \n",
      " 15  rougher.input.feed_rate                     5290 non-null   float64       \n",
      " 16  rougher.input.feed_size                     5290 non-null   float64       \n",
      " 17  rougher.input.feed_sol                      5290 non-null   float64       \n",
      " 18  rougher.input.feed_au                       5290 non-null   float64       \n",
      " 19  rougher.input.floatbank10_sulfate           5290 non-null   float64       \n",
      " 20  rougher.input.floatbank10_xanthate          5290 non-null   float64       \n",
      " 21  rougher.input.floatbank11_sulfate           5290 non-null   float64       \n",
      " 22  rougher.input.floatbank11_xanthate          5290 non-null   float64       \n",
      " 23  rougher.state.floatbank10_a_air             5290 non-null   float64       \n",
      " 24  rougher.state.floatbank10_a_level           5290 non-null   float64       \n",
      " 25  rougher.state.floatbank10_b_air             5290 non-null   float64       \n",
      " 26  rougher.state.floatbank10_b_level           5290 non-null   float64       \n",
      " 27  rougher.state.floatbank10_c_air             5290 non-null   float64       \n",
      " 28  rougher.state.floatbank10_c_level           5290 non-null   float64       \n",
      " 29  rougher.state.floatbank10_d_air             5290 non-null   float64       \n",
      " 30  rougher.state.floatbank10_d_level           5290 non-null   float64       \n",
      " 31  rougher.state.floatbank10_e_air             5290 non-null   float64       \n",
      " 32  rougher.state.floatbank10_e_level           5290 non-null   float64       \n",
      " 33  rougher.state.floatbank10_f_air             5290 non-null   float64       \n",
      " 34  rougher.state.floatbank10_f_level           5290 non-null   float64       \n",
      " 35  secondary_cleaner.state.floatbank2_a_air    5290 non-null   float64       \n",
      " 36  secondary_cleaner.state.floatbank2_a_level  5290 non-null   float64       \n",
      " 37  secondary_cleaner.state.floatbank2_b_air    5290 non-null   float64       \n",
      " 38  secondary_cleaner.state.floatbank2_b_level  5290 non-null   float64       \n",
      " 39  secondary_cleaner.state.floatbank3_a_air    5290 non-null   float64       \n",
      " 40  secondary_cleaner.state.floatbank3_a_level  5290 non-null   float64       \n",
      " 41  secondary_cleaner.state.floatbank3_b_air    5290 non-null   float64       \n",
      " 42  secondary_cleaner.state.floatbank3_b_level  5290 non-null   float64       \n",
      " 43  secondary_cleaner.state.floatbank4_a_air    5290 non-null   float64       \n",
      " 44  secondary_cleaner.state.floatbank4_a_level  5290 non-null   float64       \n",
      " 45  secondary_cleaner.state.floatbank4_b_air    5290 non-null   float64       \n",
      " 46  secondary_cleaner.state.floatbank4_b_level  5290 non-null   float64       \n",
      " 47  secondary_cleaner.state.floatbank5_a_air    5290 non-null   float64       \n",
      " 48  secondary_cleaner.state.floatbank5_a_level  5290 non-null   float64       \n",
      " 49  secondary_cleaner.state.floatbank5_b_air    5290 non-null   float64       \n",
      " 50  secondary_cleaner.state.floatbank5_b_level  5290 non-null   float64       \n",
      " 51  secondary_cleaner.state.floatbank6_a_air    5290 non-null   float64       \n",
      " 52  secondary_cleaner.state.floatbank6_a_level  5290 non-null   float64       \n",
      " 53  rougher.output.recovery                     5290 non-null   float64       \n",
      " 54  final.output.recovery                       5290 non-null   float64       \n",
      "dtypes: datetime64[ns](1), float64(54)\n",
      "memory usage: 2.3 MB\n"
     ]
    }
   ],
   "source": [
    "df_test = df_test.merge(df_target, on='date', how='left')\n",
    "df_test.info()"
   ]
  },
  {
   "cell_type": "markdown",
   "metadata": {},
   "source": [
    "Теперь отбросим столбец *date* из тестовой выборки, поскольку он не нужен нам для дальнейшего обучения. Из тренировочной выборки тоже отбросим столбец *date*, а также все признаки, отсутствующие в тестовой выборке."
   ]
  },
  {
   "cell_type": "code",
   "execution_count": 41,
   "metadata": {
    "scrolled": true
   },
   "outputs": [
    {
     "name": "stdout",
     "output_type": "stream",
     "text": [
      "<class 'pandas.core.frame.DataFrame'>\n",
      "Int64Index: 5290 entries, 0 to 5289\n",
      "Data columns (total 54 columns):\n",
      " #   Column                                      Non-Null Count  Dtype  \n",
      "---  ------                                      --------------  -----  \n",
      " 0   primary_cleaner.input.sulfate               5290 non-null   float64\n",
      " 1   primary_cleaner.input.depressant            5290 non-null   float64\n",
      " 2   primary_cleaner.input.feed_size             5290 non-null   float64\n",
      " 3   primary_cleaner.input.xanthate              5290 non-null   float64\n",
      " 4   primary_cleaner.state.floatbank8_a_air      5290 non-null   float64\n",
      " 5   primary_cleaner.state.floatbank8_a_level    5290 non-null   float64\n",
      " 6   primary_cleaner.state.floatbank8_b_air      5290 non-null   float64\n",
      " 7   primary_cleaner.state.floatbank8_b_level    5290 non-null   float64\n",
      " 8   primary_cleaner.state.floatbank8_c_air      5290 non-null   float64\n",
      " 9   primary_cleaner.state.floatbank8_c_level    5290 non-null   float64\n",
      " 10  primary_cleaner.state.floatbank8_d_air      5290 non-null   float64\n",
      " 11  primary_cleaner.state.floatbank8_d_level    5290 non-null   float64\n",
      " 12  rougher.input.feed_ag                       5290 non-null   float64\n",
      " 13  rougher.input.feed_pb                       5290 non-null   float64\n",
      " 14  rougher.input.feed_rate                     5290 non-null   float64\n",
      " 15  rougher.input.feed_size                     5290 non-null   float64\n",
      " 16  rougher.input.feed_sol                      5290 non-null   float64\n",
      " 17  rougher.input.feed_au                       5290 non-null   float64\n",
      " 18  rougher.input.floatbank10_sulfate           5290 non-null   float64\n",
      " 19  rougher.input.floatbank10_xanthate          5290 non-null   float64\n",
      " 20  rougher.input.floatbank11_sulfate           5290 non-null   float64\n",
      " 21  rougher.input.floatbank11_xanthate          5290 non-null   float64\n",
      " 22  rougher.state.floatbank10_a_air             5290 non-null   float64\n",
      " 23  rougher.state.floatbank10_a_level           5290 non-null   float64\n",
      " 24  rougher.state.floatbank10_b_air             5290 non-null   float64\n",
      " 25  rougher.state.floatbank10_b_level           5290 non-null   float64\n",
      " 26  rougher.state.floatbank10_c_air             5290 non-null   float64\n",
      " 27  rougher.state.floatbank10_c_level           5290 non-null   float64\n",
      " 28  rougher.state.floatbank10_d_air             5290 non-null   float64\n",
      " 29  rougher.state.floatbank10_d_level           5290 non-null   float64\n",
      " 30  rougher.state.floatbank10_e_air             5290 non-null   float64\n",
      " 31  rougher.state.floatbank10_e_level           5290 non-null   float64\n",
      " 32  rougher.state.floatbank10_f_air             5290 non-null   float64\n",
      " 33  rougher.state.floatbank10_f_level           5290 non-null   float64\n",
      " 34  secondary_cleaner.state.floatbank2_a_air    5290 non-null   float64\n",
      " 35  secondary_cleaner.state.floatbank2_a_level  5290 non-null   float64\n",
      " 36  secondary_cleaner.state.floatbank2_b_air    5290 non-null   float64\n",
      " 37  secondary_cleaner.state.floatbank2_b_level  5290 non-null   float64\n",
      " 38  secondary_cleaner.state.floatbank3_a_air    5290 non-null   float64\n",
      " 39  secondary_cleaner.state.floatbank3_a_level  5290 non-null   float64\n",
      " 40  secondary_cleaner.state.floatbank3_b_air    5290 non-null   float64\n",
      " 41  secondary_cleaner.state.floatbank3_b_level  5290 non-null   float64\n",
      " 42  secondary_cleaner.state.floatbank4_a_air    5290 non-null   float64\n",
      " 43  secondary_cleaner.state.floatbank4_a_level  5290 non-null   float64\n",
      " 44  secondary_cleaner.state.floatbank4_b_air    5290 non-null   float64\n",
      " 45  secondary_cleaner.state.floatbank4_b_level  5290 non-null   float64\n",
      " 46  secondary_cleaner.state.floatbank5_a_air    5290 non-null   float64\n",
      " 47  secondary_cleaner.state.floatbank5_a_level  5290 non-null   float64\n",
      " 48  secondary_cleaner.state.floatbank5_b_air    5290 non-null   float64\n",
      " 49  secondary_cleaner.state.floatbank5_b_level  5290 non-null   float64\n",
      " 50  secondary_cleaner.state.floatbank6_a_air    5290 non-null   float64\n",
      " 51  secondary_cleaner.state.floatbank6_a_level  5290 non-null   float64\n",
      " 52  rougher.output.recovery                     5290 non-null   float64\n",
      " 53  final.output.recovery                       5290 non-null   float64\n",
      "dtypes: float64(54)\n",
      "memory usage: 2.2 MB\n"
     ]
    }
   ],
   "source": [
    "df_test.drop(['date'], axis=1, inplace=True)\n",
    "df_test.info()"
   ]
  },
  {
   "cell_type": "code",
   "execution_count": 42,
   "metadata": {},
   "outputs": [],
   "source": [
    "list_of_values = set(df_train) - set(df_test)"
   ]
  },
  {
   "cell_type": "code",
   "execution_count": 43,
   "metadata": {
    "scrolled": true
   },
   "outputs": [
    {
     "name": "stdout",
     "output_type": "stream",
     "text": [
      "<class 'pandas.core.frame.DataFrame'>\n",
      "Int64Index: 13792 entries, 0 to 14148\n",
      "Data columns (total 54 columns):\n",
      " #   Column                                      Non-Null Count  Dtype  \n",
      "---  ------                                      --------------  -----  \n",
      " 0   final.output.recovery                       13792 non-null  float64\n",
      " 1   primary_cleaner.input.sulfate               13792 non-null  float64\n",
      " 2   primary_cleaner.input.depressant            13792 non-null  float64\n",
      " 3   primary_cleaner.input.feed_size             13792 non-null  float64\n",
      " 4   primary_cleaner.input.xanthate              13792 non-null  float64\n",
      " 5   primary_cleaner.state.floatbank8_a_air      13792 non-null  float64\n",
      " 6   primary_cleaner.state.floatbank8_a_level    13792 non-null  float64\n",
      " 7   primary_cleaner.state.floatbank8_b_air      13792 non-null  float64\n",
      " 8   primary_cleaner.state.floatbank8_b_level    13792 non-null  float64\n",
      " 9   primary_cleaner.state.floatbank8_c_air      13792 non-null  float64\n",
      " 10  primary_cleaner.state.floatbank8_c_level    13792 non-null  float64\n",
      " 11  primary_cleaner.state.floatbank8_d_air      13792 non-null  float64\n",
      " 12  primary_cleaner.state.floatbank8_d_level    13792 non-null  float64\n",
      " 13  rougher.input.feed_ag                       13792 non-null  float64\n",
      " 14  rougher.input.feed_pb                       13792 non-null  float64\n",
      " 15  rougher.input.feed_rate                     13792 non-null  float64\n",
      " 16  rougher.input.feed_size                     13792 non-null  float64\n",
      " 17  rougher.input.feed_sol                      13792 non-null  float64\n",
      " 18  rougher.input.feed_au                       13792 non-null  float64\n",
      " 19  rougher.input.floatbank10_sulfate           13792 non-null  float64\n",
      " 20  rougher.input.floatbank10_xanthate          13792 non-null  float64\n",
      " 21  rougher.input.floatbank11_sulfate           13792 non-null  float64\n",
      " 22  rougher.input.floatbank11_xanthate          13792 non-null  float64\n",
      " 23  rougher.output.recovery                     13792 non-null  float64\n",
      " 24  rougher.state.floatbank10_a_air             13792 non-null  float64\n",
      " 25  rougher.state.floatbank10_a_level           13792 non-null  float64\n",
      " 26  rougher.state.floatbank10_b_air             13792 non-null  float64\n",
      " 27  rougher.state.floatbank10_b_level           13792 non-null  float64\n",
      " 28  rougher.state.floatbank10_c_air             13792 non-null  float64\n",
      " 29  rougher.state.floatbank10_c_level           13792 non-null  float64\n",
      " 30  rougher.state.floatbank10_d_air             13792 non-null  float64\n",
      " 31  rougher.state.floatbank10_d_level           13792 non-null  float64\n",
      " 32  rougher.state.floatbank10_e_air             13792 non-null  float64\n",
      " 33  rougher.state.floatbank10_e_level           13792 non-null  float64\n",
      " 34  rougher.state.floatbank10_f_air             13792 non-null  float64\n",
      " 35  rougher.state.floatbank10_f_level           13792 non-null  float64\n",
      " 36  secondary_cleaner.state.floatbank2_a_air    13792 non-null  float64\n",
      " 37  secondary_cleaner.state.floatbank2_a_level  13792 non-null  float64\n",
      " 38  secondary_cleaner.state.floatbank2_b_air    13792 non-null  float64\n",
      " 39  secondary_cleaner.state.floatbank2_b_level  13792 non-null  float64\n",
      " 40  secondary_cleaner.state.floatbank3_a_air    13792 non-null  float64\n",
      " 41  secondary_cleaner.state.floatbank3_a_level  13792 non-null  float64\n",
      " 42  secondary_cleaner.state.floatbank3_b_air    13792 non-null  float64\n",
      " 43  secondary_cleaner.state.floatbank3_b_level  13792 non-null  float64\n",
      " 44  secondary_cleaner.state.floatbank4_a_air    13792 non-null  float64\n",
      " 45  secondary_cleaner.state.floatbank4_a_level  13792 non-null  float64\n",
      " 46  secondary_cleaner.state.floatbank4_b_air    13792 non-null  float64\n",
      " 47  secondary_cleaner.state.floatbank4_b_level  13792 non-null  float64\n",
      " 48  secondary_cleaner.state.floatbank5_a_air    13792 non-null  float64\n",
      " 49  secondary_cleaner.state.floatbank5_a_level  13792 non-null  float64\n",
      " 50  secondary_cleaner.state.floatbank5_b_air    13792 non-null  float64\n",
      " 51  secondary_cleaner.state.floatbank5_b_level  13792 non-null  float64\n",
      " 52  secondary_cleaner.state.floatbank6_a_air    13792 non-null  float64\n",
      " 53  secondary_cleaner.state.floatbank6_a_level  13792 non-null  float64\n",
      "dtypes: float64(54)\n",
      "memory usage: 5.8 MB\n"
     ]
    }
   ],
   "source": [
    "df_train.drop(list_of_values, axis=1, inplace=True)\n",
    "df_train.info()"
   ]
  },
  {
   "cell_type": "markdown",
   "metadata": {},
   "source": [
    "Выделим отдельно признаки и целевые признаки для *rougher.output.recovery* и *final.output.recovery*."
   ]
  },
  {
   "cell_type": "code",
   "execution_count": 45,
   "metadata": {},
   "outputs": [],
   "source": [
    "features_train_r = df_train.drop(['rougher.output.recovery'], axis=1)\n",
    "target_train_r = df_train['rougher.output.recovery']\n",
    "\n",
    "features_test_r = df_test.drop(['rougher.output.recovery'], axis=1)\n",
    "target_test_r = df_test['rougher.output.recovery']\n",
    "\n",
    "features_train_f = df_train.drop(['final.output.recovery'], axis=1)\n",
    "target_train_f = df_train['final.output.recovery']\n",
    "\n",
    "features_test_f = df_test.drop(['final.output.recovery'], axis=1)\n",
    "target_test_f = df_test['final.output.recovery']"
   ]
  },
  {
   "cell_type": "markdown",
   "metadata": {},
   "source": [
    "Введем *smape_scorer* с помощью функции *make_scorer* для использования ее в кросс-валидации."
   ]
  },
  {
   "cell_type": "code",
   "execution_count": 46,
   "metadata": {},
   "outputs": [],
   "source": [
    "smape_scorer = make_scorer(smape, greater_is_better=False)"
   ]
  },
  {
   "cell_type": "markdown",
   "metadata": {},
   "source": [
    "Далее обучим 3 модели:\n",
    "- дерево решений,\n",
    "- случайный лес,\n",
    "- линейная регрессия.\n",
    "\n",
    "Перебор всех гиперпараметров для наших моделей займет огромное количество времени, поэтому мы ограничемся только перебором глубины *max_depth* для дерева решений и случайного леса, при этом гиперпараметр *n_estimators* для случайного леса выставим равным 10 (как это было заложено раньше в предыдущих версиях этой функции).\n",
    "\n",
    "После обучения моделей выберем лучшую из них."
   ]
  },
  {
   "cell_type": "code",
   "execution_count": 47,
   "metadata": {
    "scrolled": true
   },
   "outputs": [
    {
     "name": "stdout",
     "output_type": "stream",
     "text": [
      "sMape для дерева решений: 8.692821143656928 при глубине max_depth = 1\n",
      "sMape для дерева решений: 7.771485911791355 при глубине max_depth = 2\n",
      "sMape для дерева решений: 7.744654985635347 при глубине max_depth = 3\n",
      "sMape для дерева решений: 7.906059063912238 при глубине max_depth = 4\n",
      "sMape для дерева решений: 8.236707033787093 при глубине max_depth = 5\n",
      "sMape для дерева решений: 8.64483119639112 при глубине max_depth = 6\n",
      "sMape для дерева решений: 8.76715226597203 при глубине max_depth = 7\n",
      "sMape для дерева решений: 9.260099658531141 при глубине max_depth = 8\n",
      "sMape для дерева решений: 10.249432200649556 при глубине max_depth = 9\n",
      "sMape для дерева решений: 10.977662341127031 при глубине max_depth = 10\n"
     ]
    }
   ],
   "source": [
    "for depth in range(1, 11):\n",
    "    model = DecisionTreeRegressor(random_state=12345, max_depth=depth)\n",
    "    scores_r_tree = cross_val_score(model, features_train_r, target_train_r, scoring = smape_scorer, cv=5)\n",
    "    scores_f_tree = cross_val_score(model, features_train_f, target_train_f, scoring = smape_scorer, cv=5)\n",
    "    print('sMape для дерева решений:', np.abs(smape_total(scores_r_tree, scores_f_tree).mean()), 'при глубине max_depth =', depth)"
   ]
  },
  {
   "cell_type": "code",
   "execution_count": 54,
   "metadata": {},
   "outputs": [
    {
     "name": "stdout",
     "output_type": "stream",
     "text": [
      "sMape для случайного леса: 8.496857833268367 при глубине max_depth = 1\n",
      "sMape для случайного леса: 7.564571917535292 при глубине max_depth = 2\n",
      "sMape для случайного леса: 7.435417690160162 при глубине max_depth = 3\n",
      "sMape для случайного леса: 7.342460982056755 при глубине max_depth = 4\n",
      "sMape для случайного леса: 7.347655927952087 при глубине max_depth = 5\n",
      "sMape для случайного леса: 7.413561569103304 при глубине max_depth = 6\n",
      "sMape для случайного леса: 7.507321640900507 при глубине max_depth = 7\n",
      "sMape для случайного леса: 7.75431943063824 при глубине max_depth = 8\n",
      "sMape для случайного леса: 7.954477911847286 при глубине max_depth = 9\n",
      "sMape для случайного леса: 8.02496396335385 при глубине max_depth = 10\n"
     ]
    }
   ],
   "source": [
    "for depth in range(1, 11):\n",
    "    model = RandomForestRegressor(random_state=12345, n_estimators=est, max_depth=depth)\n",
    "    scores_r_forest = cross_val_score(model, features_train_r, target_train_r, scoring = smape_scorer, cv=5)\n",
    "    scores_f_forest = cross_val_score(model, features_train_f, target_train_f, scoring = smape_scorer, cv=5)\n",
    "    print('sMape для случайного леса:', np.abs(smape_total(scores_r_forest, scores_f_forest).mean()), 'при глубине max_depth =', depth)"
   ]
  },
  {
   "cell_type": "code",
   "execution_count": 61,
   "metadata": {},
   "outputs": [
    {
     "name": "stdout",
     "output_type": "stream",
     "text": [
      "sMape для линейной регрессии: 7.757055791464074\n"
     ]
    }
   ],
   "source": [
    "model = LinearRegression()\n",
    "scores_r_lin = cross_val_score(model, features_train_r, target_train_r, cv=5, scoring = smape_scorer)\n",
    "scores_f_lin =  cross_val_score(model, features_train_f, target_train_f, cv=5, scoring = smape_scorer)\n",
    "print('sMape для линейной регрессии:', np.abs(smape_total(scores_r_lin, scores_f_lin).mean()))"
   ]
  },
  {
   "cell_type": "code",
   "execution_count": 67,
   "metadata": {},
   "outputs": [
    {
     "name": "stdout",
     "output_type": "stream",
     "text": [
      "sMape для линейной регрессии: 7.532240070983735\n"
     ]
    }
   ],
   "source": [
    "eNet = ElasticNet()\n",
    "\n",
    "scores_r_en = cross_val_score(eNet, features_train_r, target_train_r, cv=5, scoring = smape_scorer)\n",
    "scores_f_en =  cross_val_score(eNet, features_train_f, target_train_f, cv=5, scoring = smape_scorer)\n",
    "print('sMape для линейной регрессии:', np.abs(smape_total(scores_r_en, scores_f_en).mean()))"
   ]
  },
  {
   "cell_type": "markdown",
   "metadata": {},
   "source": [
    "Итак, нашей лучшей моделью является модель случайного леса *RandomForestRegressor* при **n_estimators=10** и глубине **max_depth = 5**, значение **sMape** получилось равным **7.2852**. Проверим ее на тестовой выборке."
   ]
  },
  {
   "cell_type": "code",
   "execution_count": 50,
   "metadata": {},
   "outputs": [
    {
     "name": "stdout",
     "output_type": "stream",
     "text": [
      "sMAPE для тестовых данных: 10.589290444567386\n"
     ]
    }
   ],
   "source": [
    "model_r = RandomForestRegressor(max_depth=5, n_estimators=10, random_state=12345)\n",
    "model_f = RandomForestRegressor(max_depth=5, n_estimators=10, random_state=12345)\n",
    "\n",
    "model_r.fit(features_train_r, target_train_r)\n",
    "model_f.fit(features_train_f, target_train_f)\n",
    "\n",
    "predictions_r = model_r.predict(features_test_r)\n",
    "predictions_f = model_f.predict(features_test_f)\n",
    "\n",
    "smape_r = smape(target_test_r, predictions_r)\n",
    "smape_f = smape(target_test_f, predictions_f)\n",
    "\n",
    "print('sMAPE для тестовых данных:', np.abs(smape_total(smape_r, smape_f)))"
   ]
  },
  {
   "cell_type": "markdown",
   "metadata": {},
   "source": [
    "## Вывод ##"
   ]
  },
  {
   "cell_type": "markdown",
   "metadata": {},
   "source": [
    "В ходе проделанной работы мы:\n",
    "- Изучили исходные данные и провели их предобработку.\n",
    "- Проверили, что эффективность обогащения рассчитана правильно.\n",
    "- Провели анализ данных, в ходе которого узнали, как меняются концентрации веществ на разных стадиях, а также сравнили распределения размеров гранул сырья на обучающей и тестовой выборках.\n",
    "- Написали функцию для рассета sMape.\n",
    "- Обучили различные модели и выбрали лучшую из них: это модель случайного леса **RandomForestRegressor** при n_estimators=10 и глубине max_depth = 5, значение **sMape** получилось равным **7.2852**.\n",
    "- Проверили модель на тестовой выборке, значение **sMape** вышло **10.5892**"
   ]
  },
  {
   "cell_type": "code",
   "execution_count": null,
   "metadata": {},
   "outputs": [],
   "source": []
  }
 ],
 "metadata": {
  "ExecuteTimeLog": [
   {
    "duration": 1555,
    "start_time": "2023-04-24T10:33:34.300Z"
   },
   {
    "duration": 1919,
    "start_time": "2023-04-24T10:33:40.006Z"
   },
   {
    "duration": 3,
    "start_time": "2023-04-24T10:43:08.439Z"
   },
   {
    "duration": 1186,
    "start_time": "2023-04-24T10:44:36.744Z"
   },
   {
    "duration": 1046,
    "start_time": "2023-04-24T10:45:12.134Z"
   },
   {
    "duration": 1070,
    "start_time": "2023-04-24T12:17:06.647Z"
   },
   {
    "duration": 51,
    "start_time": "2023-04-24T13:00:44.613Z"
   },
   {
    "duration": 4,
    "start_time": "2023-04-24T13:04:04.334Z"
   },
   {
    "duration": 709,
    "start_time": "2023-04-24T13:04:04.340Z"
   },
   {
    "duration": 3,
    "start_time": "2023-04-24T13:04:05.052Z"
   },
   {
    "duration": 1058,
    "start_time": "2023-04-24T13:04:05.057Z"
   },
   {
    "duration": 117,
    "start_time": "2023-04-24T13:38:23.188Z"
   },
   {
    "duration": 3,
    "start_time": "2023-04-24T13:38:44.828Z"
   },
   {
    "duration": 3,
    "start_time": "2023-04-24T13:38:50.435Z"
   },
   {
    "duration": 803,
    "start_time": "2023-04-24T13:38:50.440Z"
   },
   {
    "duration": 5,
    "start_time": "2023-04-24T13:38:51.245Z"
   },
   {
    "duration": 1227,
    "start_time": "2023-04-24T13:38:51.252Z"
   },
   {
    "duration": 3,
    "start_time": "2023-04-24T13:38:55.291Z"
   },
   {
    "duration": 3,
    "start_time": "2023-04-24T13:40:06.490Z"
   },
   {
    "duration": 7,
    "start_time": "2023-04-24T13:40:10.357Z"
   },
   {
    "duration": 9,
    "start_time": "2023-04-24T13:40:21.984Z"
   },
   {
    "duration": 4,
    "start_time": "2023-04-24T13:40:56.926Z"
   },
   {
    "duration": 6,
    "start_time": "2023-04-24T13:49:35.034Z"
   },
   {
    "duration": 5,
    "start_time": "2023-04-24T13:49:58.413Z"
   },
   {
    "duration": 5,
    "start_time": "2023-04-24T13:55:12.909Z"
   },
   {
    "duration": 4,
    "start_time": "2023-04-24T13:55:16.032Z"
   },
   {
    "duration": 805,
    "start_time": "2023-04-24T13:55:16.039Z"
   },
   {
    "duration": 3,
    "start_time": "2023-04-24T13:55:16.846Z"
   },
   {
    "duration": 1012,
    "start_time": "2023-04-24T13:55:16.851Z"
   },
   {
    "duration": 3,
    "start_time": "2023-04-24T13:55:17.866Z"
   },
   {
    "duration": 11,
    "start_time": "2023-04-24T13:55:17.871Z"
   },
   {
    "duration": 7,
    "start_time": "2023-04-24T13:55:17.892Z"
   },
   {
    "duration": 5,
    "start_time": "2023-04-24T13:55:20.513Z"
   },
   {
    "duration": 4,
    "start_time": "2023-04-24T13:57:57.121Z"
   },
   {
    "duration": 9,
    "start_time": "2023-04-24T14:04:55.688Z"
   },
   {
    "duration": 4,
    "start_time": "2023-04-24T14:05:43.935Z"
   },
   {
    "duration": 4,
    "start_time": "2023-04-24T14:05:58.527Z"
   },
   {
    "duration": 5,
    "start_time": "2023-04-24T14:06:11.888Z"
   },
   {
    "duration": 4,
    "start_time": "2023-04-24T14:08:25.825Z"
   },
   {
    "duration": 4,
    "start_time": "2023-04-24T14:11:48.510Z"
   },
   {
    "duration": 9,
    "start_time": "2023-04-24T14:34:37.940Z"
   },
   {
    "duration": 26,
    "start_time": "2023-04-24T14:35:54.002Z"
   },
   {
    "duration": 11,
    "start_time": "2023-04-24T14:36:07.695Z"
   },
   {
    "duration": 24,
    "start_time": "2023-04-24T14:38:41.737Z"
   },
   {
    "duration": 1403,
    "start_time": "2023-04-24T14:44:44.537Z"
   },
   {
    "duration": 747,
    "start_time": "2023-04-24T14:44:45.942Z"
   },
   {
    "duration": 3,
    "start_time": "2023-04-24T14:44:46.691Z"
   },
   {
    "duration": 1099,
    "start_time": "2023-04-24T14:44:46.695Z"
   },
   {
    "duration": 3,
    "start_time": "2023-04-24T14:44:47.796Z"
   },
   {
    "duration": 18,
    "start_time": "2023-04-24T14:44:47.801Z"
   },
   {
    "duration": 5,
    "start_time": "2023-04-24T14:44:47.821Z"
   },
   {
    "duration": 10,
    "start_time": "2023-04-24T14:44:47.828Z"
   },
   {
    "duration": 7,
    "start_time": "2023-04-24T14:44:47.839Z"
   },
   {
    "duration": 13,
    "start_time": "2023-04-24T14:44:47.848Z"
   },
   {
    "duration": 36,
    "start_time": "2023-04-24T14:44:47.862Z"
   },
   {
    "duration": 122,
    "start_time": "2023-04-24T14:50:37.298Z"
   },
   {
    "duration": 30,
    "start_time": "2023-04-24T14:50:44.078Z"
   },
   {
    "duration": 5,
    "start_time": "2023-04-24T14:52:01.685Z"
   },
   {
    "duration": 6,
    "start_time": "2023-04-24T14:52:03.431Z"
   },
   {
    "duration": 5,
    "start_time": "2023-04-24T14:52:18.331Z"
   },
   {
    "duration": 4,
    "start_time": "2023-04-24T14:52:42.590Z"
   },
   {
    "duration": 172,
    "start_time": "2023-04-24T15:05:22.484Z"
   },
   {
    "duration": 1047,
    "start_time": "2023-04-24T15:05:31.358Z"
   },
   {
    "duration": 4,
    "start_time": "2023-04-24T15:06:50.893Z"
   },
   {
    "duration": 803,
    "start_time": "2023-04-24T15:06:50.900Z"
   },
   {
    "duration": 4,
    "start_time": "2023-04-24T15:06:51.704Z"
   },
   {
    "duration": 1103,
    "start_time": "2023-04-24T15:06:51.709Z"
   },
   {
    "duration": 3,
    "start_time": "2023-04-24T15:06:52.815Z"
   },
   {
    "duration": 8,
    "start_time": "2023-04-24T15:06:52.820Z"
   },
   {
    "duration": 15,
    "start_time": "2023-04-24T15:06:52.830Z"
   },
   {
    "duration": 15,
    "start_time": "2023-04-24T15:06:52.847Z"
   },
   {
    "duration": 9,
    "start_time": "2023-04-24T15:06:52.864Z"
   },
   {
    "duration": 56,
    "start_time": "2023-04-24T15:06:52.876Z"
   },
   {
    "duration": 4,
    "start_time": "2023-04-24T15:06:52.935Z"
   },
   {
    "duration": 23,
    "start_time": "2023-04-24T15:06:52.941Z"
   },
   {
    "duration": 21,
    "start_time": "2023-04-24T15:06:52.965Z"
   },
   {
    "duration": 10,
    "start_time": "2023-04-24T15:06:52.989Z"
   },
   {
    "duration": 9,
    "start_time": "2023-04-24T15:06:53.001Z"
   },
   {
    "duration": 30,
    "start_time": "2023-04-24T15:06:53.012Z"
   },
   {
    "duration": 57,
    "start_time": "2023-04-24T15:06:53.044Z"
   },
   {
    "duration": 76,
    "start_time": "2023-04-24T15:09:11.949Z"
   },
   {
    "duration": 32,
    "start_time": "2023-04-24T15:09:32.688Z"
   },
   {
    "duration": 55,
    "start_time": "2023-04-24T15:14:23.525Z"
   },
   {
    "duration": 125,
    "start_time": "2023-04-24T15:17:26.782Z"
   },
   {
    "duration": 30,
    "start_time": "2023-04-24T15:17:32.994Z"
   },
   {
    "duration": 32,
    "start_time": "2023-04-24T15:17:54.785Z"
   },
   {
    "duration": 27,
    "start_time": "2023-04-24T15:32:59.717Z"
   },
   {
    "duration": 5,
    "start_time": "2023-04-24T15:39:20.095Z"
   },
   {
    "duration": 338197,
    "start_time": "2023-04-24T15:56:59.498Z"
   },
   {
    "duration": 1249,
    "start_time": "2023-04-24T16:39:07.716Z"
   },
   {
    "duration": 1177,
    "start_time": "2023-04-24T16:39:46.627Z"
   },
   {
    "duration": 715,
    "start_time": "2023-04-24T16:39:55.557Z"
   },
   {
    "duration": 958,
    "start_time": "2023-04-24T16:40:03.504Z"
   },
   {
    "duration": 997,
    "start_time": "2023-04-24T16:41:05.140Z"
   },
   {
    "duration": 984,
    "start_time": "2023-04-24T16:42:03.288Z"
   },
   {
    "duration": 942,
    "start_time": "2023-04-24T16:42:45.620Z"
   },
   {
    "duration": 944,
    "start_time": "2023-04-24T16:43:26.524Z"
   },
   {
    "duration": 942,
    "start_time": "2023-04-24T16:43:43.254Z"
   },
   {
    "duration": 931,
    "start_time": "2023-04-24T16:44:17.520Z"
   },
   {
    "duration": 986,
    "start_time": "2023-04-24T16:44:21.192Z"
   },
   {
    "duration": 924,
    "start_time": "2023-04-24T16:44:35.349Z"
   },
   {
    "duration": 939,
    "start_time": "2023-04-24T16:44:44.558Z"
   },
   {
    "duration": 926,
    "start_time": "2023-04-24T16:44:55.588Z"
   },
   {
    "duration": 1627,
    "start_time": "2023-04-26T08:56:28.904Z"
   },
   {
    "duration": 2142,
    "start_time": "2023-04-26T08:56:30.532Z"
   },
   {
    "duration": 3,
    "start_time": "2023-04-26T08:56:32.675Z"
   },
   {
    "duration": 1077,
    "start_time": "2023-04-26T08:56:32.680Z"
   },
   {
    "duration": 3,
    "start_time": "2023-04-26T08:56:33.760Z"
   },
   {
    "duration": 8,
    "start_time": "2023-04-26T08:56:33.764Z"
   },
   {
    "duration": 18,
    "start_time": "2023-04-26T08:56:33.774Z"
   },
   {
    "duration": 9,
    "start_time": "2023-04-26T08:56:33.794Z"
   },
   {
    "duration": 5,
    "start_time": "2023-04-26T08:56:33.806Z"
   },
   {
    "duration": 28,
    "start_time": "2023-04-26T08:56:33.813Z"
   },
   {
    "duration": 4,
    "start_time": "2023-04-26T08:56:33.843Z"
   },
   {
    "duration": 44,
    "start_time": "2023-04-26T08:56:33.848Z"
   },
   {
    "duration": 14,
    "start_time": "2023-04-26T08:56:33.893Z"
   },
   {
    "duration": 5,
    "start_time": "2023-04-26T08:56:33.910Z"
   },
   {
    "duration": 24,
    "start_time": "2023-04-26T08:56:33.916Z"
   },
   {
    "duration": 4,
    "start_time": "2023-04-26T08:56:33.942Z"
   },
   {
    "duration": 32,
    "start_time": "2023-04-26T08:56:33.948Z"
   },
   {
    "duration": 10,
    "start_time": "2023-04-26T08:56:33.997Z"
   },
   {
    "duration": 1099,
    "start_time": "2023-04-26T08:56:43.739Z"
   },
   {
    "duration": 354,
    "start_time": "2023-04-26T08:56:55.972Z"
   },
   {
    "duration": 134,
    "start_time": "2023-04-26T08:57:16.566Z"
   },
   {
    "duration": 377,
    "start_time": "2023-04-26T08:57:28.608Z"
   },
   {
    "duration": 1104,
    "start_time": "2023-04-26T08:59:25.458Z"
   },
   {
    "duration": 185,
    "start_time": "2023-04-26T09:01:31.825Z"
   },
   {
    "duration": 197,
    "start_time": "2023-04-26T09:01:46.176Z"
   },
   {
    "duration": 193,
    "start_time": "2023-04-26T09:27:51.416Z"
   },
   {
    "duration": 195,
    "start_time": "2023-04-26T09:28:25.629Z"
   },
   {
    "duration": 205,
    "start_time": "2023-04-26T09:28:56.740Z"
   },
   {
    "duration": 189,
    "start_time": "2023-04-26T09:29:44.936Z"
   },
   {
    "duration": 563,
    "start_time": "2023-04-26T09:30:21.819Z"
   },
   {
    "duration": 1230,
    "start_time": "2023-04-26T09:30:29.245Z"
   },
   {
    "duration": 292,
    "start_time": "2023-04-26T09:32:59.644Z"
   },
   {
    "duration": 191,
    "start_time": "2023-04-26T09:34:31.221Z"
   },
   {
    "duration": 213,
    "start_time": "2023-04-26T09:34:37.435Z"
   },
   {
    "duration": 187,
    "start_time": "2023-04-26T09:34:46.313Z"
   },
   {
    "duration": 164,
    "start_time": "2023-04-26T09:34:51.606Z"
   },
   {
    "duration": 177,
    "start_time": "2023-04-26T09:41:00.736Z"
   },
   {
    "duration": 174,
    "start_time": "2023-04-26T09:41:32.031Z"
   },
   {
    "duration": 10,
    "start_time": "2023-04-26T10:08:04.752Z"
   },
   {
    "duration": 11,
    "start_time": "2023-04-26T10:09:16.387Z"
   },
   {
    "duration": 306,
    "start_time": "2023-04-26T10:21:14.406Z"
   },
   {
    "duration": 619,
    "start_time": "2023-04-26T10:23:01.406Z"
   },
   {
    "duration": 706,
    "start_time": "2023-04-26T10:23:11.160Z"
   },
   {
    "duration": 584,
    "start_time": "2023-04-26T10:23:22.877Z"
   },
   {
    "duration": 670,
    "start_time": "2023-04-26T10:23:30.350Z"
   },
   {
    "duration": 524,
    "start_time": "2023-04-26T10:24:53.118Z"
   },
   {
    "duration": 438,
    "start_time": "2023-04-26T10:25:05.105Z"
   },
   {
    "duration": 514,
    "start_time": "2023-04-26T10:25:13.357Z"
   },
   {
    "duration": 6,
    "start_time": "2023-04-26T11:35:03.660Z"
   },
   {
    "duration": 357,
    "start_time": "2023-04-26T11:35:07.834Z"
   },
   {
    "duration": 13,
    "start_time": "2023-04-26T11:35:20.890Z"
   },
   {
    "duration": 199,
    "start_time": "2023-04-26T11:35:23.763Z"
   },
   {
    "duration": 27,
    "start_time": "2023-04-26T11:47:59.505Z"
   },
   {
    "duration": 11,
    "start_time": "2023-04-26T11:49:57.110Z"
   },
   {
    "duration": 315,
    "start_time": "2023-04-26T11:50:55.926Z"
   },
   {
    "duration": 333,
    "start_time": "2023-04-26T11:51:15.468Z"
   },
   {
    "duration": 318,
    "start_time": "2023-04-26T11:55:47.617Z"
   },
   {
    "duration": 315,
    "start_time": "2023-04-26T11:58:13.640Z"
   },
   {
    "duration": 587,
    "start_time": "2023-04-26T12:07:15.737Z"
   },
   {
    "duration": 511,
    "start_time": "2023-04-26T12:22:16.415Z"
   },
   {
    "duration": 263,
    "start_time": "2023-04-26T12:22:29.377Z"
   },
   {
    "duration": 246,
    "start_time": "2023-04-26T12:31:40.822Z"
   },
   {
    "duration": 262,
    "start_time": "2023-04-26T12:31:43.882Z"
   },
   {
    "duration": 293,
    "start_time": "2023-04-26T12:31:48.056Z"
   },
   {
    "duration": 10,
    "start_time": "2023-04-26T12:32:14.642Z"
   },
   {
    "duration": 40,
    "start_time": "2023-04-26T12:42:40.256Z"
   },
   {
    "duration": 34,
    "start_time": "2023-04-26T12:47:12.276Z"
   },
   {
    "duration": 17,
    "start_time": "2023-04-26T12:48:49.218Z"
   },
   {
    "duration": 40,
    "start_time": "2023-04-26T12:49:00.581Z"
   },
   {
    "duration": 29,
    "start_time": "2023-04-26T12:51:08.443Z"
   },
   {
    "duration": 50,
    "start_time": "2023-04-26T12:51:36.673Z"
   },
   {
    "duration": 16,
    "start_time": "2023-04-26T12:52:09.770Z"
   },
   {
    "duration": 12,
    "start_time": "2023-04-26T12:52:39.315Z"
   },
   {
    "duration": 20,
    "start_time": "2023-04-26T12:54:13.212Z"
   },
   {
    "duration": 31,
    "start_time": "2023-04-26T12:54:25.048Z"
   },
   {
    "duration": 11,
    "start_time": "2023-04-26T12:54:31.737Z"
   },
   {
    "duration": 41,
    "start_time": "2023-04-26T12:54:48.171Z"
   },
   {
    "duration": 32,
    "start_time": "2023-04-26T12:54:55.117Z"
   },
   {
    "duration": 9,
    "start_time": "2023-04-26T12:56:12.840Z"
   },
   {
    "duration": 48,
    "start_time": "2023-04-26T12:56:22.872Z"
   },
   {
    "duration": 18,
    "start_time": "2023-04-26T12:57:08.331Z"
   },
   {
    "duration": 30,
    "start_time": "2023-04-26T12:57:48.942Z"
   },
   {
    "duration": 29,
    "start_time": "2023-04-26T12:57:55.624Z"
   },
   {
    "duration": 18,
    "start_time": "2023-04-26T12:58:27.485Z"
   },
   {
    "duration": 11,
    "start_time": "2023-04-26T12:58:41.508Z"
   },
   {
    "duration": 7,
    "start_time": "2023-04-26T12:59:12.221Z"
   },
   {
    "duration": 13,
    "start_time": "2023-04-26T12:59:39.075Z"
   },
   {
    "duration": 10,
    "start_time": "2023-04-26T12:59:40.940Z"
   },
   {
    "duration": 1597,
    "start_time": "2023-04-26T13:00:18.773Z"
   },
   {
    "duration": 870,
    "start_time": "2023-04-26T13:00:20.373Z"
   },
   {
    "duration": 3,
    "start_time": "2023-04-26T13:00:21.245Z"
   },
   {
    "duration": 1102,
    "start_time": "2023-04-26T13:00:21.249Z"
   },
   {
    "duration": 3,
    "start_time": "2023-04-26T13:00:22.355Z"
   },
   {
    "duration": 13,
    "start_time": "2023-04-26T13:00:22.360Z"
   },
   {
    "duration": 22,
    "start_time": "2023-04-26T13:00:22.375Z"
   },
   {
    "duration": 8,
    "start_time": "2023-04-26T13:00:22.398Z"
   },
   {
    "duration": 8,
    "start_time": "2023-04-26T13:00:22.409Z"
   },
   {
    "duration": 42,
    "start_time": "2023-04-26T13:00:22.419Z"
   },
   {
    "duration": 5,
    "start_time": "2023-04-26T13:00:22.463Z"
   },
   {
    "duration": 48,
    "start_time": "2023-04-26T13:00:22.469Z"
   },
   {
    "duration": 13,
    "start_time": "2023-04-26T13:00:22.518Z"
   },
   {
    "duration": 16,
    "start_time": "2023-04-26T13:00:22.537Z"
   },
   {
    "duration": 12,
    "start_time": "2023-04-26T13:00:22.556Z"
   },
   {
    "duration": 13,
    "start_time": "2023-04-26T13:00:22.570Z"
   },
   {
    "duration": 42,
    "start_time": "2023-04-26T13:00:22.585Z"
   },
   {
    "duration": 7,
    "start_time": "2023-04-26T13:00:22.629Z"
   },
   {
    "duration": 21,
    "start_time": "2023-04-26T13:00:22.637Z"
   },
   {
    "duration": 6,
    "start_time": "2023-04-26T13:00:22.660Z"
   },
   {
    "duration": 204,
    "start_time": "2023-04-26T13:00:22.667Z"
   },
   {
    "duration": 190,
    "start_time": "2023-04-26T13:00:22.872Z"
   },
   {
    "duration": 193,
    "start_time": "2023-04-26T13:00:23.064Z"
   },
   {
    "duration": 750,
    "start_time": "2023-04-26T13:00:23.259Z"
   },
   {
    "duration": 291,
    "start_time": "2023-04-26T13:00:24.010Z"
   },
   {
    "duration": 13,
    "start_time": "2023-04-26T13:00:24.303Z"
   },
   {
    "duration": 151,
    "start_time": "2023-04-26T13:00:24.317Z"
   },
   {
    "duration": 0,
    "start_time": "2023-04-26T13:00:24.471Z"
   },
   {
    "duration": 0,
    "start_time": "2023-04-26T13:00:24.472Z"
   },
   {
    "duration": 269,
    "start_time": "2023-04-26T13:01:11.039Z"
   },
   {
    "duration": 319,
    "start_time": "2023-04-26T13:01:14.393Z"
   },
   {
    "duration": 39,
    "start_time": "2023-04-26T13:05:32.499Z"
   },
   {
    "duration": 19,
    "start_time": "2023-04-26T13:20:02.114Z"
   },
   {
    "duration": 11,
    "start_time": "2023-04-26T13:20:10.641Z"
   },
   {
    "duration": 15,
    "start_time": "2023-04-26T13:21:28.965Z"
   },
   {
    "duration": 211,
    "start_time": "2023-04-26T13:24:17.050Z"
   },
   {
    "duration": 18,
    "start_time": "2023-04-26T14:45:04.437Z"
   },
   {
    "duration": 10,
    "start_time": "2023-04-26T14:45:10.958Z"
   },
   {
    "duration": 9,
    "start_time": "2023-04-26T14:45:53.282Z"
   },
   {
    "duration": 6,
    "start_time": "2023-04-26T14:47:02.776Z"
   },
   {
    "duration": 12,
    "start_time": "2023-04-26T14:47:10.956Z"
   },
   {
    "duration": 16,
    "start_time": "2023-04-26T14:47:25.534Z"
   },
   {
    "duration": 10,
    "start_time": "2023-04-26T14:49:38.212Z"
   },
   {
    "duration": 7,
    "start_time": "2023-04-26T14:49:56.017Z"
   },
   {
    "duration": 6,
    "start_time": "2023-04-26T14:51:04.046Z"
   },
   {
    "duration": 9,
    "start_time": "2023-04-26T14:51:48.753Z"
   },
   {
    "duration": 7,
    "start_time": "2023-04-26T14:53:59.521Z"
   },
   {
    "duration": 10,
    "start_time": "2023-04-26T14:54:16.858Z"
   },
   {
    "duration": 10,
    "start_time": "2023-04-26T14:55:22.460Z"
   },
   {
    "duration": 12,
    "start_time": "2023-04-26T14:57:27.766Z"
   },
   {
    "duration": 4,
    "start_time": "2023-04-26T15:23:03.180Z"
   },
   {
    "duration": 364,
    "start_time": "2023-04-26T18:34:05.709Z"
   },
   {
    "duration": 10,
    "start_time": "2023-04-26T18:34:12.332Z"
   },
   {
    "duration": 350,
    "start_time": "2023-04-26T18:34:18.904Z"
   },
   {
    "duration": 16,
    "start_time": "2023-04-26T18:34:25.117Z"
   },
   {
    "duration": 12,
    "start_time": "2023-04-26T19:07:45.487Z"
   },
   {
    "duration": 13,
    "start_time": "2023-04-26T19:07:54.670Z"
   },
   {
    "duration": 10,
    "start_time": "2023-04-26T19:16:09.991Z"
   },
   {
    "duration": 51,
    "start_time": "2023-04-26T19:17:34.797Z"
   },
   {
    "duration": 13,
    "start_time": "2023-04-26T19:17:49.387Z"
   },
   {
    "duration": 14,
    "start_time": "2023-04-26T19:18:08.949Z"
   },
   {
    "duration": 11,
    "start_time": "2023-04-26T19:18:26.848Z"
   },
   {
    "duration": 5,
    "start_time": "2023-04-26T19:18:36.054Z"
   },
   {
    "duration": 8,
    "start_time": "2023-04-26T19:18:49.393Z"
   },
   {
    "duration": 34,
    "start_time": "2023-04-26T19:19:04.743Z"
   },
   {
    "duration": 21,
    "start_time": "2023-04-26T19:19:10.941Z"
   },
   {
    "duration": 12,
    "start_time": "2023-04-26T19:19:36.583Z"
   },
   {
    "duration": 10,
    "start_time": "2023-04-26T19:20:04.098Z"
   },
   {
    "duration": 15,
    "start_time": "2023-04-26T19:20:10.887Z"
   },
   {
    "duration": 215,
    "start_time": "2023-04-26T19:21:25.937Z"
   },
   {
    "duration": 267,
    "start_time": "2023-04-26T19:21:35.801Z"
   },
   {
    "duration": 19,
    "start_time": "2023-04-26T19:23:04.754Z"
   },
   {
    "duration": 12,
    "start_time": "2023-04-26T19:23:15.301Z"
   },
   {
    "duration": 8,
    "start_time": "2023-04-26T19:33:21.731Z"
   },
   {
    "duration": 6,
    "start_time": "2023-04-26T19:34:05.885Z"
   },
   {
    "duration": 34,
    "start_time": "2023-04-26T19:34:16.668Z"
   },
   {
    "duration": 12,
    "start_time": "2023-04-26T19:42:35.626Z"
   },
   {
    "duration": 384,
    "start_time": "2023-04-26T19:43:15.794Z"
   },
   {
    "duration": 13,
    "start_time": "2023-04-26T19:45:45.559Z"
   },
   {
    "duration": 370,
    "start_time": "2023-04-26T19:45:52.948Z"
   },
   {
    "duration": 246,
    "start_time": "2023-04-26T19:46:46.084Z"
   },
   {
    "duration": 10,
    "start_time": "2023-04-26T19:48:25.616Z"
   },
   {
    "duration": 12,
    "start_time": "2023-04-26T19:49:00.265Z"
   },
   {
    "duration": 10,
    "start_time": "2023-04-26T19:51:11.585Z"
   },
   {
    "duration": 11,
    "start_time": "2023-04-26T19:51:13.944Z"
   },
   {
    "duration": 214,
    "start_time": "2023-04-26T19:56:36.829Z"
   },
   {
    "duration": 9,
    "start_time": "2023-04-26T19:56:57.035Z"
   },
   {
    "duration": 1271,
    "start_time": "2023-04-26T19:58:10.429Z"
   },
   {
    "duration": 714,
    "start_time": "2023-04-26T19:58:11.702Z"
   },
   {
    "duration": 3,
    "start_time": "2023-04-26T19:58:12.418Z"
   },
   {
    "duration": 1061,
    "start_time": "2023-04-26T19:58:12.424Z"
   },
   {
    "duration": 5,
    "start_time": "2023-04-26T19:58:13.487Z"
   },
   {
    "duration": 11,
    "start_time": "2023-04-26T19:58:13.493Z"
   },
   {
    "duration": 7,
    "start_time": "2023-04-26T19:58:13.506Z"
   },
   {
    "duration": 9,
    "start_time": "2023-04-26T19:58:13.515Z"
   },
   {
    "duration": 10,
    "start_time": "2023-04-26T19:58:13.525Z"
   },
   {
    "duration": 32,
    "start_time": "2023-04-26T19:58:13.537Z"
   },
   {
    "duration": 24,
    "start_time": "2023-04-26T19:58:13.570Z"
   },
   {
    "duration": 26,
    "start_time": "2023-04-26T19:58:13.596Z"
   },
   {
    "duration": 21,
    "start_time": "2023-04-26T19:58:13.624Z"
   },
   {
    "duration": 16,
    "start_time": "2023-04-26T19:58:13.647Z"
   },
   {
    "duration": 16,
    "start_time": "2023-04-26T19:58:13.664Z"
   },
   {
    "duration": 26,
    "start_time": "2023-04-26T19:58:13.682Z"
   },
   {
    "duration": 16,
    "start_time": "2023-04-26T19:58:13.710Z"
   },
   {
    "duration": 8,
    "start_time": "2023-04-26T19:58:13.728Z"
   },
   {
    "duration": 18,
    "start_time": "2023-04-26T19:58:13.737Z"
   },
   {
    "duration": 5,
    "start_time": "2023-04-26T19:58:13.757Z"
   },
   {
    "duration": 184,
    "start_time": "2023-04-26T19:58:13.763Z"
   },
   {
    "duration": 164,
    "start_time": "2023-04-26T19:58:13.949Z"
   },
   {
    "duration": 169,
    "start_time": "2023-04-26T19:58:14.115Z"
   },
   {
    "duration": 567,
    "start_time": "2023-04-26T19:58:14.285Z"
   },
   {
    "duration": 257,
    "start_time": "2023-04-26T19:58:14.853Z"
   },
   {
    "duration": 8,
    "start_time": "2023-04-26T19:58:15.112Z"
   },
   {
    "duration": 243,
    "start_time": "2023-04-26T19:58:15.122Z"
   },
   {
    "duration": 10,
    "start_time": "2023-04-26T19:58:15.368Z"
   },
   {
    "duration": 240,
    "start_time": "2023-04-26T19:58:15.379Z"
   },
   {
    "duration": 9,
    "start_time": "2023-04-26T19:58:15.621Z"
   },
   {
    "duration": 14,
    "start_time": "2023-04-26T19:58:15.632Z"
   },
   {
    "duration": 13,
    "start_time": "2023-04-26T19:58:15.648Z"
   },
   {
    "duration": 264,
    "start_time": "2023-04-26T19:58:15.662Z"
   },
   {
    "duration": 9,
    "start_time": "2023-04-26T19:58:15.927Z"
   },
   {
    "duration": 336,
    "start_time": "2023-04-26T19:58:15.937Z"
   },
   {
    "duration": 18,
    "start_time": "2023-04-26T19:58:16.275Z"
   },
   {
    "duration": 4,
    "start_time": "2023-04-26T19:58:16.294Z"
   },
   {
    "duration": 1557,
    "start_time": "2023-04-27T18:50:04.289Z"
   },
   {
    "duration": 3940,
    "start_time": "2023-04-27T18:50:05.854Z"
   },
   {
    "duration": 3,
    "start_time": "2023-04-27T18:50:09.796Z"
   },
   {
    "duration": 914,
    "start_time": "2023-04-27T18:50:09.801Z"
   },
   {
    "duration": 2,
    "start_time": "2023-04-27T18:50:10.717Z"
   },
   {
    "duration": 26,
    "start_time": "2023-04-27T18:50:10.720Z"
   },
   {
    "duration": 23,
    "start_time": "2023-04-27T18:50:10.747Z"
   },
   {
    "duration": 8,
    "start_time": "2023-04-27T18:50:10.772Z"
   },
   {
    "duration": 9,
    "start_time": "2023-04-27T18:50:10.781Z"
   },
   {
    "duration": 30,
    "start_time": "2023-04-27T18:50:10.792Z"
   },
   {
    "duration": 5,
    "start_time": "2023-04-27T18:50:10.823Z"
   },
   {
    "duration": 58,
    "start_time": "2023-04-27T18:50:10.831Z"
   },
   {
    "duration": 6,
    "start_time": "2023-04-27T18:50:10.891Z"
   },
   {
    "duration": 10,
    "start_time": "2023-04-27T18:50:10.898Z"
   },
   {
    "duration": 8,
    "start_time": "2023-04-27T18:50:10.910Z"
   },
   {
    "duration": 10,
    "start_time": "2023-04-27T18:50:10.920Z"
   },
   {
    "duration": 37,
    "start_time": "2023-04-27T18:50:10.932Z"
   },
   {
    "duration": 7,
    "start_time": "2023-04-27T18:50:10.970Z"
   },
   {
    "duration": 17,
    "start_time": "2023-04-27T18:50:10.979Z"
   },
   {
    "duration": 5,
    "start_time": "2023-04-27T18:50:10.998Z"
   },
   {
    "duration": 165,
    "start_time": "2023-04-27T18:50:11.005Z"
   },
   {
    "duration": 150,
    "start_time": "2023-04-27T18:50:11.172Z"
   },
   {
    "duration": 165,
    "start_time": "2023-04-27T18:50:11.324Z"
   },
   {
    "duration": 514,
    "start_time": "2023-04-27T18:50:11.491Z"
   },
   {
    "duration": 246,
    "start_time": "2023-04-27T18:50:12.007Z"
   },
   {
    "duration": 10,
    "start_time": "2023-04-27T18:50:12.255Z"
   },
   {
    "duration": 210,
    "start_time": "2023-04-27T18:50:12.266Z"
   },
   {
    "duration": 9,
    "start_time": "2023-04-27T18:50:12.479Z"
   },
   {
    "duration": 223,
    "start_time": "2023-04-27T18:50:12.489Z"
   },
   {
    "duration": 8,
    "start_time": "2023-04-27T18:50:12.714Z"
   },
   {
    "duration": 28,
    "start_time": "2023-04-27T18:50:12.723Z"
   },
   {
    "duration": 18,
    "start_time": "2023-04-27T18:50:12.755Z"
   },
   {
    "duration": 205,
    "start_time": "2023-04-27T18:50:12.774Z"
   },
   {
    "duration": 7,
    "start_time": "2023-04-27T18:50:12.981Z"
   },
   {
    "duration": 303,
    "start_time": "2023-04-27T18:50:12.989Z"
   },
   {
    "duration": 7,
    "start_time": "2023-04-27T18:50:13.294Z"
   },
   {
    "duration": 14,
    "start_time": "2023-04-27T18:50:13.303Z"
   },
   {
    "duration": 4,
    "start_time": "2023-04-27T18:54:01.382Z"
   },
   {
    "duration": 30,
    "start_time": "2023-04-27T19:01:53.665Z"
   },
   {
    "duration": 12,
    "start_time": "2023-04-27T19:12:28.730Z"
   },
   {
    "duration": 3,
    "start_time": "2023-04-27T19:13:02.512Z"
   },
   {
    "duration": 4,
    "start_time": "2023-04-27T19:13:08.928Z"
   },
   {
    "duration": 115,
    "start_time": "2023-04-27T19:14:02.924Z"
   },
   {
    "duration": 13,
    "start_time": "2023-04-27T19:14:15.114Z"
   },
   {
    "duration": 740,
    "start_time": "2023-04-27T19:14:32.722Z"
   },
   {
    "duration": 20,
    "start_time": "2023-04-27T19:14:45.832Z"
   },
   {
    "duration": 6,
    "start_time": "2023-04-27T19:15:11.790Z"
   },
   {
    "duration": 763,
    "start_time": "2023-04-27T19:15:11.797Z"
   },
   {
    "duration": 3,
    "start_time": "2023-04-27T19:15:12.563Z"
   },
   {
    "duration": 896,
    "start_time": "2023-04-27T19:15:12.567Z"
   },
   {
    "duration": 3,
    "start_time": "2023-04-27T19:15:13.465Z"
   },
   {
    "duration": 7,
    "start_time": "2023-04-27T19:15:13.469Z"
   },
   {
    "duration": 11,
    "start_time": "2023-04-27T19:15:13.477Z"
   },
   {
    "duration": 17,
    "start_time": "2023-04-27T19:15:13.490Z"
   },
   {
    "duration": 33,
    "start_time": "2023-04-27T19:15:13.508Z"
   },
   {
    "duration": 57,
    "start_time": "2023-04-27T19:15:13.543Z"
   },
   {
    "duration": 30,
    "start_time": "2023-04-27T19:15:13.602Z"
   },
   {
    "duration": 50,
    "start_time": "2023-04-27T19:15:13.636Z"
   },
   {
    "duration": 17,
    "start_time": "2023-04-27T19:15:13.687Z"
   },
   {
    "duration": 21,
    "start_time": "2023-04-27T19:15:13.706Z"
   },
   {
    "duration": 40,
    "start_time": "2023-04-27T19:15:13.728Z"
   },
   {
    "duration": 23,
    "start_time": "2023-04-27T19:15:13.770Z"
   },
   {
    "duration": 24,
    "start_time": "2023-04-27T19:15:13.794Z"
   },
   {
    "duration": 10,
    "start_time": "2023-04-27T19:15:13.819Z"
   },
   {
    "duration": 33,
    "start_time": "2023-04-27T19:15:13.831Z"
   },
   {
    "duration": 16,
    "start_time": "2023-04-27T19:15:13.866Z"
   },
   {
    "duration": 165,
    "start_time": "2023-04-27T19:15:13.883Z"
   },
   {
    "duration": 167,
    "start_time": "2023-04-27T19:15:14.051Z"
   },
   {
    "duration": 151,
    "start_time": "2023-04-27T19:15:14.219Z"
   },
   {
    "duration": 434,
    "start_time": "2023-04-27T19:15:14.371Z"
   },
   {
    "duration": 300,
    "start_time": "2023-04-27T19:15:14.806Z"
   },
   {
    "duration": 7,
    "start_time": "2023-04-27T19:15:15.108Z"
   },
   {
    "duration": 211,
    "start_time": "2023-04-27T19:15:15.116Z"
   },
   {
    "duration": 22,
    "start_time": "2023-04-27T19:15:15.334Z"
   },
   {
    "duration": 205,
    "start_time": "2023-04-27T19:15:15.361Z"
   },
   {
    "duration": 8,
    "start_time": "2023-04-27T19:15:15.567Z"
   },
   {
    "duration": 8,
    "start_time": "2023-04-27T19:15:15.576Z"
   },
   {
    "duration": 12,
    "start_time": "2023-04-27T19:15:15.585Z"
   },
   {
    "duration": 215,
    "start_time": "2023-04-27T19:15:15.598Z"
   },
   {
    "duration": 7,
    "start_time": "2023-04-27T19:15:15.815Z"
   },
   {
    "duration": 207,
    "start_time": "2023-04-27T19:15:15.823Z"
   },
   {
    "duration": 9,
    "start_time": "2023-04-27T19:15:16.039Z"
   },
   {
    "duration": 22,
    "start_time": "2023-04-27T19:15:16.050Z"
   },
   {
    "duration": 6,
    "start_time": "2023-04-27T19:15:16.073Z"
   },
   {
    "duration": 17,
    "start_time": "2023-04-27T19:15:16.081Z"
   },
   {
    "duration": 12,
    "start_time": "2023-04-27T19:15:16.100Z"
   },
   {
    "duration": 3,
    "start_time": "2023-04-27T19:20:35.326Z"
   },
   {
    "duration": 808,
    "start_time": "2023-04-27T19:20:35.331Z"
   },
   {
    "duration": 10,
    "start_time": "2023-04-27T19:20:36.140Z"
   },
   {
    "duration": 1043,
    "start_time": "2023-04-27T19:20:36.152Z"
   },
   {
    "duration": 4,
    "start_time": "2023-04-27T19:20:37.197Z"
   },
   {
    "duration": 16,
    "start_time": "2023-04-27T19:20:37.202Z"
   },
   {
    "duration": 20,
    "start_time": "2023-04-27T19:20:37.219Z"
   },
   {
    "duration": 34,
    "start_time": "2023-04-27T19:20:37.240Z"
   },
   {
    "duration": 8,
    "start_time": "2023-04-27T19:20:37.275Z"
   },
   {
    "duration": 26,
    "start_time": "2023-04-27T19:20:37.285Z"
   },
   {
    "duration": 4,
    "start_time": "2023-04-27T19:20:37.313Z"
   },
   {
    "duration": 22,
    "start_time": "2023-04-27T19:20:37.318Z"
   },
   {
    "duration": 21,
    "start_time": "2023-04-27T19:20:37.342Z"
   },
   {
    "duration": 7,
    "start_time": "2023-04-27T19:20:37.366Z"
   },
   {
    "duration": 9,
    "start_time": "2023-04-27T19:20:37.374Z"
   },
   {
    "duration": 11,
    "start_time": "2023-04-27T19:20:37.385Z"
   },
   {
    "duration": 15,
    "start_time": "2023-04-27T19:20:37.397Z"
   },
   {
    "duration": 6,
    "start_time": "2023-04-27T19:20:37.414Z"
   },
   {
    "duration": 32,
    "start_time": "2023-04-27T19:20:37.421Z"
   },
   {
    "duration": 9,
    "start_time": "2023-04-27T19:20:37.454Z"
   },
   {
    "duration": 143,
    "start_time": "2023-04-27T19:20:37.465Z"
   },
   {
    "duration": 263,
    "start_time": "2023-04-27T19:20:37.610Z"
   },
   {
    "duration": 174,
    "start_time": "2023-04-27T19:20:37.874Z"
   },
   {
    "duration": 454,
    "start_time": "2023-04-27T19:20:38.060Z"
   },
   {
    "duration": 231,
    "start_time": "2023-04-27T19:20:38.515Z"
   },
   {
    "duration": 16,
    "start_time": "2023-04-27T19:20:38.747Z"
   },
   {
    "duration": 225,
    "start_time": "2023-04-27T19:20:38.765Z"
   },
   {
    "duration": 10,
    "start_time": "2023-04-27T19:20:38.992Z"
   },
   {
    "duration": 250,
    "start_time": "2023-04-27T19:20:39.004Z"
   },
   {
    "duration": 15,
    "start_time": "2023-04-27T19:20:39.255Z"
   },
   {
    "duration": 21,
    "start_time": "2023-04-27T19:20:39.271Z"
   },
   {
    "duration": 8,
    "start_time": "2023-04-27T19:20:39.294Z"
   },
   {
    "duration": 305,
    "start_time": "2023-04-27T19:20:39.304Z"
   },
   {
    "duration": 9,
    "start_time": "2023-04-27T19:20:39.610Z"
   },
   {
    "duration": 274,
    "start_time": "2023-04-27T19:20:39.621Z"
   },
   {
    "duration": 8,
    "start_time": "2023-04-27T19:20:39.896Z"
   },
   {
    "duration": 3,
    "start_time": "2023-04-27T19:20:39.906Z"
   },
   {
    "duration": 11,
    "start_time": "2023-04-27T19:20:39.910Z"
   },
   {
    "duration": 31,
    "start_time": "2023-04-27T19:20:39.922Z"
   },
   {
    "duration": 30,
    "start_time": "2023-04-27T19:20:39.956Z"
   },
   {
    "duration": 11,
    "start_time": "2023-04-27T19:20:39.989Z"
   },
   {
    "duration": 13,
    "start_time": "2023-04-27T19:21:02.084Z"
   },
   {
    "duration": 12,
    "start_time": "2023-04-27T19:21:13.266Z"
   },
   {
    "duration": 831,
    "start_time": "2023-04-27T19:23:20.707Z"
   },
   {
    "duration": 13,
    "start_time": "2023-04-27T19:23:37.061Z"
   },
   {
    "duration": 18,
    "start_time": "2023-04-27T19:26:51.509Z"
   },
   {
    "duration": 13,
    "start_time": "2023-04-27T19:27:15.064Z"
   },
   {
    "duration": 17,
    "start_time": "2023-04-27T19:27:25.157Z"
   },
   {
    "duration": 5,
    "start_time": "2023-04-27T19:27:50.510Z"
   },
   {
    "duration": 13,
    "start_time": "2023-04-27T19:31:42.908Z"
   },
   {
    "duration": 13,
    "start_time": "2023-04-27T19:31:45.661Z"
   },
   {
    "duration": 12,
    "start_time": "2023-04-27T19:31:50.267Z"
   },
   {
    "duration": 12,
    "start_time": "2023-04-27T19:32:26.162Z"
   },
   {
    "duration": 5,
    "start_time": "2023-04-27T19:33:27.662Z"
   },
   {
    "duration": 763,
    "start_time": "2023-04-27T19:33:46.716Z"
   },
   {
    "duration": 18,
    "start_time": "2023-04-27T19:34:01.529Z"
   },
   {
    "duration": 15,
    "start_time": "2023-04-27T19:34:10.457Z"
   },
   {
    "duration": 11,
    "start_time": "2023-04-27T19:34:40.053Z"
   },
   {
    "duration": 735,
    "start_time": "2023-04-27T19:34:40.066Z"
   },
   {
    "duration": 2,
    "start_time": "2023-04-27T19:34:40.803Z"
   },
   {
    "duration": 936,
    "start_time": "2023-04-27T19:34:40.807Z"
   },
   {
    "duration": 4,
    "start_time": "2023-04-27T19:34:41.745Z"
   },
   {
    "duration": 24,
    "start_time": "2023-04-27T19:34:41.751Z"
   },
   {
    "duration": 7,
    "start_time": "2023-04-27T19:34:41.776Z"
   },
   {
    "duration": 4,
    "start_time": "2023-04-27T19:34:41.785Z"
   },
   {
    "duration": 6,
    "start_time": "2023-04-27T19:34:41.791Z"
   },
   {
    "duration": 27,
    "start_time": "2023-04-27T19:34:41.798Z"
   },
   {
    "duration": 4,
    "start_time": "2023-04-27T19:34:41.827Z"
   },
   {
    "duration": 44,
    "start_time": "2023-04-27T19:34:41.833Z"
   },
   {
    "duration": 9,
    "start_time": "2023-04-27T19:34:41.878Z"
   },
   {
    "duration": 5,
    "start_time": "2023-04-27T19:34:41.890Z"
   },
   {
    "duration": 7,
    "start_time": "2023-04-27T19:34:41.897Z"
   },
   {
    "duration": 6,
    "start_time": "2023-04-27T19:34:41.905Z"
   },
   {
    "duration": 13,
    "start_time": "2023-04-27T19:34:41.912Z"
   },
   {
    "duration": 18,
    "start_time": "2023-04-27T19:34:41.926Z"
   },
   {
    "duration": 32,
    "start_time": "2023-04-27T19:34:41.950Z"
   },
   {
    "duration": 6,
    "start_time": "2023-04-27T19:34:41.983Z"
   },
   {
    "duration": 158,
    "start_time": "2023-04-27T19:34:41.990Z"
   },
   {
    "duration": 154,
    "start_time": "2023-04-27T19:34:42.150Z"
   },
   {
    "duration": 167,
    "start_time": "2023-04-27T19:34:42.305Z"
   },
   {
    "duration": 455,
    "start_time": "2023-04-27T19:34:42.474Z"
   },
   {
    "duration": 356,
    "start_time": "2023-04-27T19:34:42.930Z"
   },
   {
    "duration": 10,
    "start_time": "2023-04-27T19:34:43.288Z"
   },
   {
    "duration": 259,
    "start_time": "2023-04-27T19:34:43.300Z"
   },
   {
    "duration": 13,
    "start_time": "2023-04-27T19:34:43.565Z"
   },
   {
    "duration": 223,
    "start_time": "2023-04-27T19:34:43.579Z"
   },
   {
    "duration": 8,
    "start_time": "2023-04-27T19:34:43.803Z"
   },
   {
    "duration": 33,
    "start_time": "2023-04-27T19:34:43.813Z"
   },
   {
    "duration": 23,
    "start_time": "2023-04-27T19:34:43.847Z"
   },
   {
    "duration": 235,
    "start_time": "2023-04-27T19:34:43.871Z"
   },
   {
    "duration": 10,
    "start_time": "2023-04-27T19:34:44.108Z"
   },
   {
    "duration": 258,
    "start_time": "2023-04-27T19:34:44.120Z"
   },
   {
    "duration": 8,
    "start_time": "2023-04-27T19:34:44.379Z"
   },
   {
    "duration": 4,
    "start_time": "2023-04-27T19:34:44.389Z"
   },
   {
    "duration": 14,
    "start_time": "2023-04-27T19:34:44.394Z"
   },
   {
    "duration": 32,
    "start_time": "2023-04-27T19:34:44.410Z"
   },
   {
    "duration": 35,
    "start_time": "2023-04-27T19:34:44.444Z"
   },
   {
    "duration": 20,
    "start_time": "2023-04-27T19:34:44.484Z"
   },
   {
    "duration": 9,
    "start_time": "2023-04-27T19:37:25.677Z"
   },
   {
    "duration": 9,
    "start_time": "2023-04-27T19:39:35.580Z"
   },
   {
    "duration": 3,
    "start_time": "2023-04-27T19:40:45.009Z"
   },
   {
    "duration": 91,
    "start_time": "2023-04-27T19:40:53.140Z"
   },
   {
    "duration": 9,
    "start_time": "2023-04-27T19:40:58.202Z"
   },
   {
    "duration": 9,
    "start_time": "2023-04-27T19:41:12.758Z"
   },
   {
    "duration": 4,
    "start_time": "2023-04-27T19:41:46.263Z"
   },
   {
    "duration": 782,
    "start_time": "2023-04-27T19:41:46.268Z"
   },
   {
    "duration": 13,
    "start_time": "2023-04-27T19:41:47.057Z"
   },
   {
    "duration": 910,
    "start_time": "2023-04-27T19:41:47.072Z"
   },
   {
    "duration": 3,
    "start_time": "2023-04-27T19:41:47.984Z"
   },
   {
    "duration": 8,
    "start_time": "2023-04-27T19:41:47.988Z"
   },
   {
    "duration": 9,
    "start_time": "2023-04-27T19:41:47.998Z"
   },
   {
    "duration": 7,
    "start_time": "2023-04-27T19:41:48.009Z"
   },
   {
    "duration": 12,
    "start_time": "2023-04-27T19:41:48.034Z"
   },
   {
    "duration": 51,
    "start_time": "2023-04-27T19:41:48.048Z"
   },
   {
    "duration": 4,
    "start_time": "2023-04-27T19:41:48.100Z"
   },
   {
    "duration": 14,
    "start_time": "2023-04-27T19:41:48.105Z"
   },
   {
    "duration": 5,
    "start_time": "2023-04-27T19:41:48.120Z"
   },
   {
    "duration": 23,
    "start_time": "2023-04-27T19:41:48.128Z"
   },
   {
    "duration": 14,
    "start_time": "2023-04-27T19:41:48.156Z"
   },
   {
    "duration": 7,
    "start_time": "2023-04-27T19:41:48.172Z"
   },
   {
    "duration": 22,
    "start_time": "2023-04-27T19:41:48.180Z"
   },
   {
    "duration": 6,
    "start_time": "2023-04-27T19:41:48.203Z"
   },
   {
    "duration": 15,
    "start_time": "2023-04-27T19:41:48.210Z"
   },
   {
    "duration": 5,
    "start_time": "2023-04-27T19:41:48.226Z"
   },
   {
    "duration": 297,
    "start_time": "2023-04-27T19:41:48.232Z"
   },
   {
    "duration": 162,
    "start_time": "2023-04-27T19:41:48.531Z"
   },
   {
    "duration": 173,
    "start_time": "2023-04-27T19:41:48.694Z"
   },
   {
    "duration": 437,
    "start_time": "2023-04-27T19:41:48.869Z"
   },
   {
    "duration": 237,
    "start_time": "2023-04-27T19:41:49.308Z"
   },
   {
    "duration": 17,
    "start_time": "2023-04-27T19:41:49.547Z"
   },
   {
    "duration": 236,
    "start_time": "2023-04-27T19:41:49.565Z"
   },
   {
    "duration": 8,
    "start_time": "2023-04-27T19:41:49.803Z"
   },
   {
    "duration": 350,
    "start_time": "2023-04-27T19:41:49.813Z"
   },
   {
    "duration": 8,
    "start_time": "2023-04-27T19:41:50.169Z"
   },
   {
    "duration": 21,
    "start_time": "2023-04-27T19:41:50.178Z"
   },
   {
    "duration": 21,
    "start_time": "2023-04-27T19:41:50.201Z"
   },
   {
    "duration": 238,
    "start_time": "2023-04-27T19:41:50.224Z"
   },
   {
    "duration": 9,
    "start_time": "2023-04-27T19:41:50.464Z"
   },
   {
    "duration": 212,
    "start_time": "2023-04-27T19:41:50.475Z"
   },
   {
    "duration": 8,
    "start_time": "2023-04-27T19:41:50.689Z"
   },
   {
    "duration": 4,
    "start_time": "2023-04-27T19:41:50.699Z"
   },
   {
    "duration": 7,
    "start_time": "2023-04-27T19:41:50.705Z"
   },
   {
    "duration": 39,
    "start_time": "2023-04-27T19:41:50.713Z"
   },
   {
    "duration": 15,
    "start_time": "2023-04-27T19:41:50.759Z"
   },
   {
    "duration": 14,
    "start_time": "2023-04-27T19:41:50.777Z"
   },
   {
    "duration": 0,
    "start_time": "2023-04-27T19:41:50.792Z"
   },
   {
    "duration": 8,
    "start_time": "2023-04-27T20:03:57.283Z"
   },
   {
    "duration": 3,
    "start_time": "2023-04-27T20:04:16.170Z"
   },
   {
    "duration": 10,
    "start_time": "2023-04-27T20:04:22.956Z"
   },
   {
    "duration": 4,
    "start_time": "2023-04-27T20:04:58.623Z"
   },
   {
    "duration": 718,
    "start_time": "2023-04-27T20:04:58.628Z"
   },
   {
    "duration": 4,
    "start_time": "2023-04-27T20:04:59.355Z"
   },
   {
    "duration": 904,
    "start_time": "2023-04-27T20:04:59.361Z"
   },
   {
    "duration": 3,
    "start_time": "2023-04-27T20:05:00.267Z"
   },
   {
    "duration": 19,
    "start_time": "2023-04-27T20:05:00.272Z"
   },
   {
    "duration": 31,
    "start_time": "2023-04-27T20:05:00.293Z"
   },
   {
    "duration": 40,
    "start_time": "2023-04-27T20:05:00.326Z"
   },
   {
    "duration": 32,
    "start_time": "2023-04-27T20:05:00.368Z"
   },
   {
    "duration": 43,
    "start_time": "2023-04-27T20:05:00.402Z"
   },
   {
    "duration": 32,
    "start_time": "2023-04-27T20:05:00.450Z"
   },
   {
    "duration": 32,
    "start_time": "2023-04-27T20:05:00.484Z"
   },
   {
    "duration": 101,
    "start_time": "2023-04-27T20:05:00.518Z"
   },
   {
    "duration": 71,
    "start_time": "2023-04-27T20:05:00.623Z"
   },
   {
    "duration": 80,
    "start_time": "2023-04-27T20:05:00.696Z"
   },
   {
    "duration": 53,
    "start_time": "2023-04-27T20:05:00.778Z"
   },
   {
    "duration": 75,
    "start_time": "2023-04-27T20:05:00.833Z"
   },
   {
    "duration": 55,
    "start_time": "2023-04-27T20:05:00.910Z"
   },
   {
    "duration": 53,
    "start_time": "2023-04-27T20:05:00.967Z"
   },
   {
    "duration": 21,
    "start_time": "2023-04-27T20:05:01.022Z"
   },
   {
    "duration": 219,
    "start_time": "2023-04-27T20:05:01.058Z"
   },
   {
    "duration": 151,
    "start_time": "2023-04-27T20:05:01.279Z"
   },
   {
    "duration": 154,
    "start_time": "2023-04-27T20:05:01.432Z"
   },
   {
    "duration": 425,
    "start_time": "2023-04-27T20:05:01.587Z"
   },
   {
    "duration": 366,
    "start_time": "2023-04-27T20:05:02.014Z"
   },
   {
    "duration": 9,
    "start_time": "2023-04-27T20:05:02.382Z"
   },
   {
    "duration": 223,
    "start_time": "2023-04-27T20:05:02.392Z"
   },
   {
    "duration": 8,
    "start_time": "2023-04-27T20:05:02.616Z"
   },
   {
    "duration": 253,
    "start_time": "2023-04-27T20:05:02.625Z"
   },
   {
    "duration": 7,
    "start_time": "2023-04-27T20:05:02.880Z"
   },
   {
    "duration": 22,
    "start_time": "2023-04-27T20:05:02.889Z"
   },
   {
    "duration": 30,
    "start_time": "2023-04-27T20:05:02.912Z"
   },
   {
    "duration": 236,
    "start_time": "2023-04-27T20:05:02.943Z"
   },
   {
    "duration": 9,
    "start_time": "2023-04-27T20:05:03.181Z"
   },
   {
    "duration": 214,
    "start_time": "2023-04-27T20:05:03.192Z"
   },
   {
    "duration": 8,
    "start_time": "2023-04-27T20:05:03.408Z"
   },
   {
    "duration": 55,
    "start_time": "2023-04-27T20:05:03.417Z"
   },
   {
    "duration": 21,
    "start_time": "2023-04-27T20:05:03.474Z"
   },
   {
    "duration": 29,
    "start_time": "2023-04-27T20:05:03.496Z"
   },
   {
    "duration": 25,
    "start_time": "2023-04-27T20:05:03.526Z"
   },
   {
    "duration": 29,
    "start_time": "2023-04-27T20:05:03.557Z"
   },
   {
    "duration": 0,
    "start_time": "2023-04-27T20:05:03.587Z"
   },
   {
    "duration": 4,
    "start_time": "2023-04-27T20:06:30.806Z"
   },
   {
    "duration": 849,
    "start_time": "2023-04-27T20:06:30.812Z"
   },
   {
    "duration": 3,
    "start_time": "2023-04-27T20:06:31.662Z"
   },
   {
    "duration": 894,
    "start_time": "2023-04-27T20:06:31.666Z"
   },
   {
    "duration": 3,
    "start_time": "2023-04-27T20:06:32.563Z"
   },
   {
    "duration": 30,
    "start_time": "2023-04-27T20:06:32.567Z"
   },
   {
    "duration": 9,
    "start_time": "2023-04-27T20:06:32.598Z"
   },
   {
    "duration": 17,
    "start_time": "2023-04-27T20:06:32.608Z"
   },
   {
    "duration": 48,
    "start_time": "2023-04-27T20:06:32.626Z"
   },
   {
    "duration": 46,
    "start_time": "2023-04-27T20:06:32.675Z"
   },
   {
    "duration": 4,
    "start_time": "2023-04-27T20:06:32.722Z"
   },
   {
    "duration": 46,
    "start_time": "2023-04-27T20:06:32.728Z"
   },
   {
    "duration": 32,
    "start_time": "2023-04-27T20:06:32.776Z"
   },
   {
    "duration": 13,
    "start_time": "2023-04-27T20:06:32.812Z"
   },
   {
    "duration": 36,
    "start_time": "2023-04-27T20:06:32.827Z"
   },
   {
    "duration": 6,
    "start_time": "2023-04-27T20:06:32.864Z"
   },
   {
    "duration": 19,
    "start_time": "2023-04-27T20:06:32.871Z"
   },
   {
    "duration": 11,
    "start_time": "2023-04-27T20:06:32.891Z"
   },
   {
    "duration": 14,
    "start_time": "2023-04-27T20:06:32.903Z"
   },
   {
    "duration": 6,
    "start_time": "2023-04-27T20:06:32.918Z"
   },
   {
    "duration": 173,
    "start_time": "2023-04-27T20:06:32.925Z"
   },
   {
    "duration": 170,
    "start_time": "2023-04-27T20:06:33.100Z"
   },
   {
    "duration": 142,
    "start_time": "2023-04-27T20:06:33.271Z"
   },
   {
    "duration": 572,
    "start_time": "2023-04-27T20:06:33.415Z"
   },
   {
    "duration": 258,
    "start_time": "2023-04-27T20:06:33.988Z"
   },
   {
    "duration": 11,
    "start_time": "2023-04-27T20:06:34.251Z"
   },
   {
    "duration": 229,
    "start_time": "2023-04-27T20:06:34.263Z"
   },
   {
    "duration": 9,
    "start_time": "2023-04-27T20:06:34.493Z"
   },
   {
    "duration": 210,
    "start_time": "2023-04-27T20:06:34.504Z"
   },
   {
    "duration": 7,
    "start_time": "2023-04-27T20:06:34.716Z"
   },
   {
    "duration": 26,
    "start_time": "2023-04-27T20:06:34.732Z"
   },
   {
    "duration": 12,
    "start_time": "2023-04-27T20:06:34.760Z"
   },
   {
    "duration": 210,
    "start_time": "2023-04-27T20:06:34.773Z"
   },
   {
    "duration": 8,
    "start_time": "2023-04-27T20:06:34.985Z"
   },
   {
    "duration": 206,
    "start_time": "2023-04-27T20:06:34.994Z"
   },
   {
    "duration": 8,
    "start_time": "2023-04-27T20:06:35.201Z"
   },
   {
    "duration": 18,
    "start_time": "2023-04-27T20:06:35.210Z"
   },
   {
    "duration": 10,
    "start_time": "2023-04-27T20:06:35.229Z"
   },
   {
    "duration": 37,
    "start_time": "2023-04-27T20:06:35.247Z"
   },
   {
    "duration": 11,
    "start_time": "2023-04-27T20:06:35.286Z"
   },
   {
    "duration": 2,
    "start_time": "2023-04-27T20:06:35.301Z"
   },
   {
    "duration": 27,
    "start_time": "2023-04-27T20:06:35.304Z"
   },
   {
    "duration": 14,
    "start_time": "2023-04-27T20:06:50.672Z"
   },
   {
    "duration": 4,
    "start_time": "2023-04-27T20:06:54.304Z"
   },
   {
    "duration": 765,
    "start_time": "2023-04-27T20:06:54.310Z"
   },
   {
    "duration": 4,
    "start_time": "2023-04-27T20:06:55.079Z"
   },
   {
    "duration": 912,
    "start_time": "2023-04-27T20:06:55.084Z"
   },
   {
    "duration": 2,
    "start_time": "2023-04-27T20:06:55.998Z"
   },
   {
    "duration": 7,
    "start_time": "2023-04-27T20:06:56.002Z"
   },
   {
    "duration": 4,
    "start_time": "2023-04-27T20:06:56.011Z"
   },
   {
    "duration": 18,
    "start_time": "2023-04-27T20:06:56.016Z"
   },
   {
    "duration": 28,
    "start_time": "2023-04-27T20:06:56.035Z"
   },
   {
    "duration": 33,
    "start_time": "2023-04-27T20:06:56.065Z"
   },
   {
    "duration": 4,
    "start_time": "2023-04-27T20:06:56.099Z"
   },
   {
    "duration": 14,
    "start_time": "2023-04-27T20:06:56.104Z"
   },
   {
    "duration": 7,
    "start_time": "2023-04-27T20:06:56.119Z"
   },
   {
    "duration": 35,
    "start_time": "2023-04-27T20:06:56.128Z"
   },
   {
    "duration": 6,
    "start_time": "2023-04-27T20:06:56.164Z"
   },
   {
    "duration": 6,
    "start_time": "2023-04-27T20:06:56.171Z"
   },
   {
    "duration": 13,
    "start_time": "2023-04-27T20:06:56.178Z"
   },
   {
    "duration": 6,
    "start_time": "2023-04-27T20:06:56.192Z"
   },
   {
    "duration": 16,
    "start_time": "2023-04-27T20:06:56.199Z"
   },
   {
    "duration": 4,
    "start_time": "2023-04-27T20:06:56.217Z"
   },
   {
    "duration": 151,
    "start_time": "2023-04-27T20:06:56.223Z"
   },
   {
    "duration": 148,
    "start_time": "2023-04-27T20:06:56.375Z"
   },
   {
    "duration": 166,
    "start_time": "2023-04-27T20:06:56.525Z"
   },
   {
    "duration": 666,
    "start_time": "2023-04-27T20:06:56.693Z"
   },
   {
    "duration": 225,
    "start_time": "2023-04-27T20:06:57.361Z"
   },
   {
    "duration": 8,
    "start_time": "2023-04-27T20:06:57.587Z"
   },
   {
    "duration": 224,
    "start_time": "2023-04-27T20:06:57.596Z"
   },
   {
    "duration": 25,
    "start_time": "2023-04-27T20:06:57.822Z"
   },
   {
    "duration": 239,
    "start_time": "2023-04-27T20:06:57.854Z"
   },
   {
    "duration": 8,
    "start_time": "2023-04-27T20:06:58.094Z"
   },
   {
    "duration": 9,
    "start_time": "2023-04-27T20:06:58.103Z"
   },
   {
    "duration": 17,
    "start_time": "2023-04-27T20:06:58.113Z"
   },
   {
    "duration": 240,
    "start_time": "2023-04-27T20:06:58.131Z"
   },
   {
    "duration": 8,
    "start_time": "2023-04-27T20:06:58.372Z"
   },
   {
    "duration": 207,
    "start_time": "2023-04-27T20:06:58.381Z"
   },
   {
    "duration": 8,
    "start_time": "2023-04-27T20:06:58.589Z"
   },
   {
    "duration": 3,
    "start_time": "2023-04-27T20:06:58.598Z"
   },
   {
    "duration": 18,
    "start_time": "2023-04-27T20:06:58.603Z"
   },
   {
    "duration": 184,
    "start_time": "2023-04-27T20:06:58.622Z"
   },
   {
    "duration": 12,
    "start_time": "2023-04-27T20:06:58.807Z"
   },
   {
    "duration": 6,
    "start_time": "2023-04-27T20:06:58.822Z"
   },
   {
    "duration": 51,
    "start_time": "2023-04-27T20:06:58.829Z"
   },
   {
    "duration": 2006,
    "start_time": "2023-04-27T20:25:24.994Z"
   },
   {
    "duration": 11,
    "start_time": "2023-04-27T20:25:54.122Z"
   },
   {
    "duration": 17,
    "start_time": "2023-04-27T20:26:34.534Z"
   },
   {
    "duration": 17,
    "start_time": "2023-04-27T20:30:32.075Z"
   },
   {
    "duration": 28,
    "start_time": "2023-04-27T20:30:46.981Z"
   },
   {
    "duration": 23,
    "start_time": "2023-04-27T20:31:22.926Z"
   },
   {
    "duration": 26,
    "start_time": "2023-04-27T20:32:43.636Z"
   },
   {
    "duration": 10,
    "start_time": "2023-04-27T20:33:11.080Z"
   },
   {
    "duration": 17,
    "start_time": "2023-04-27T20:34:27.473Z"
   },
   {
    "duration": 2217,
    "start_time": "2023-04-28T08:37:00.843Z"
   },
   {
    "duration": 4178,
    "start_time": "2023-04-28T08:37:03.076Z"
   },
   {
    "duration": 2,
    "start_time": "2023-04-28T08:37:07.259Z"
   },
   {
    "duration": 1214,
    "start_time": "2023-04-28T08:37:07.263Z"
   },
   {
    "duration": 4,
    "start_time": "2023-04-28T08:37:08.480Z"
   },
   {
    "duration": 40,
    "start_time": "2023-04-28T08:37:08.485Z"
   },
   {
    "duration": 22,
    "start_time": "2023-04-28T08:37:08.532Z"
   },
   {
    "duration": 14,
    "start_time": "2023-04-28T08:37:08.556Z"
   },
   {
    "duration": 17,
    "start_time": "2023-04-28T08:37:08.571Z"
   },
   {
    "duration": 45,
    "start_time": "2023-04-28T08:37:08.590Z"
   },
   {
    "duration": 30,
    "start_time": "2023-04-28T08:37:08.637Z"
   },
   {
    "duration": 65,
    "start_time": "2023-04-28T08:37:08.669Z"
   },
   {
    "duration": 25,
    "start_time": "2023-04-28T08:37:08.735Z"
   },
   {
    "duration": 8,
    "start_time": "2023-04-28T08:37:08.763Z"
   },
   {
    "duration": 20,
    "start_time": "2023-04-28T08:37:08.773Z"
   },
   {
    "duration": 44,
    "start_time": "2023-04-28T08:37:08.794Z"
   },
   {
    "duration": 50,
    "start_time": "2023-04-28T08:37:08.845Z"
   },
   {
    "duration": 18,
    "start_time": "2023-04-28T08:37:08.896Z"
   },
   {
    "duration": 52,
    "start_time": "2023-04-28T08:37:08.916Z"
   },
   {
    "duration": 11,
    "start_time": "2023-04-28T08:37:08.970Z"
   },
   {
    "duration": 212,
    "start_time": "2023-04-28T08:37:08.983Z"
   },
   {
    "duration": 214,
    "start_time": "2023-04-28T08:37:09.198Z"
   },
   {
    "duration": 283,
    "start_time": "2023-04-28T08:37:09.418Z"
   },
   {
    "duration": 580,
    "start_time": "2023-04-28T08:37:09.703Z"
   },
   {
    "duration": 302,
    "start_time": "2023-04-28T08:37:10.285Z"
   },
   {
    "duration": 11,
    "start_time": "2023-04-28T08:37:10.590Z"
   },
   {
    "duration": 290,
    "start_time": "2023-04-28T08:37:10.603Z"
   },
   {
    "duration": 10,
    "start_time": "2023-04-28T08:37:10.894Z"
   },
   {
    "duration": 267,
    "start_time": "2023-04-28T08:37:10.920Z"
   },
   {
    "duration": 12,
    "start_time": "2023-04-28T08:37:11.189Z"
   },
   {
    "duration": 62,
    "start_time": "2023-04-28T08:37:11.203Z"
   },
   {
    "duration": 19,
    "start_time": "2023-04-28T08:37:11.267Z"
   },
   {
    "duration": 365,
    "start_time": "2023-04-28T08:37:11.288Z"
   },
   {
    "duration": 12,
    "start_time": "2023-04-28T08:37:11.654Z"
   },
   {
    "duration": 274,
    "start_time": "2023-04-28T08:37:11.667Z"
   },
   {
    "duration": 17,
    "start_time": "2023-04-28T08:37:11.943Z"
   },
   {
    "duration": 14,
    "start_time": "2023-04-28T08:37:11.966Z"
   },
   {
    "duration": 8,
    "start_time": "2023-04-28T08:37:11.982Z"
   },
   {
    "duration": 39,
    "start_time": "2023-04-28T08:37:11.991Z"
   },
   {
    "duration": 33,
    "start_time": "2023-04-28T08:37:12.035Z"
   },
   {
    "duration": 8,
    "start_time": "2023-04-28T08:37:12.072Z"
   },
   {
    "duration": 20,
    "start_time": "2023-04-28T08:37:12.082Z"
   },
   {
    "duration": 12,
    "start_time": "2023-04-28T08:37:12.104Z"
   },
   {
    "duration": 49,
    "start_time": "2023-04-28T08:37:12.118Z"
   },
   {
    "duration": 3,
    "start_time": "2023-04-28T08:37:12.169Z"
   },
   {
    "duration": 16,
    "start_time": "2023-04-28T08:37:27.775Z"
   },
   {
    "duration": 12,
    "start_time": "2023-04-28T09:48:32.719Z"
   },
   {
    "duration": 762,
    "start_time": "2023-04-28T09:48:32.734Z"
   },
   {
    "duration": 3,
    "start_time": "2023-04-28T09:48:33.497Z"
   },
   {
    "duration": 1083,
    "start_time": "2023-04-28T09:48:33.502Z"
   },
   {
    "duration": 4,
    "start_time": "2023-04-28T09:48:34.587Z"
   },
   {
    "duration": 45,
    "start_time": "2023-04-28T09:48:34.592Z"
   },
   {
    "duration": 16,
    "start_time": "2023-04-28T09:48:34.639Z"
   },
   {
    "duration": 16,
    "start_time": "2023-04-28T09:48:34.657Z"
   },
   {
    "duration": 35,
    "start_time": "2023-04-28T09:48:34.675Z"
   },
   {
    "duration": 67,
    "start_time": "2023-04-28T09:48:34.712Z"
   },
   {
    "duration": 8,
    "start_time": "2023-04-28T09:48:34.781Z"
   },
   {
    "duration": 44,
    "start_time": "2023-04-28T09:48:34.791Z"
   },
   {
    "duration": 23,
    "start_time": "2023-04-28T09:48:34.837Z"
   },
   {
    "duration": 30,
    "start_time": "2023-04-28T09:48:34.861Z"
   },
   {
    "duration": 23,
    "start_time": "2023-04-28T09:48:34.892Z"
   },
   {
    "duration": 24,
    "start_time": "2023-04-28T09:48:34.917Z"
   },
   {
    "duration": 27,
    "start_time": "2023-04-28T09:48:34.943Z"
   },
   {
    "duration": 14,
    "start_time": "2023-04-28T09:48:34.972Z"
   },
   {
    "duration": 26,
    "start_time": "2023-04-28T09:48:34.988Z"
   },
   {
    "duration": 12,
    "start_time": "2023-04-28T09:48:35.016Z"
   },
   {
    "duration": 202,
    "start_time": "2023-04-28T09:48:35.031Z"
   },
   {
    "duration": 199,
    "start_time": "2023-04-28T09:48:35.235Z"
   },
   {
    "duration": 166,
    "start_time": "2023-04-28T09:48:35.436Z"
   },
   {
    "duration": 541,
    "start_time": "2023-04-28T09:48:35.604Z"
   },
   {
    "duration": 397,
    "start_time": "2023-04-28T09:48:36.147Z"
   },
   {
    "duration": 11,
    "start_time": "2023-04-28T09:48:36.546Z"
   },
   {
    "duration": 296,
    "start_time": "2023-04-28T09:48:36.559Z"
   },
   {
    "duration": 11,
    "start_time": "2023-04-28T09:48:36.859Z"
   },
   {
    "duration": 300,
    "start_time": "2023-04-28T09:48:36.872Z"
   },
   {
    "duration": 11,
    "start_time": "2023-04-28T09:48:37.173Z"
   },
   {
    "duration": 72,
    "start_time": "2023-04-28T09:48:37.186Z"
   },
   {
    "duration": 20,
    "start_time": "2023-04-28T09:48:37.259Z"
   },
   {
    "duration": 311,
    "start_time": "2023-04-28T09:48:37.281Z"
   },
   {
    "duration": 9,
    "start_time": "2023-04-28T09:48:37.594Z"
   },
   {
    "duration": 275,
    "start_time": "2023-04-28T09:48:37.604Z"
   },
   {
    "duration": 10,
    "start_time": "2023-04-28T09:48:37.882Z"
   },
   {
    "duration": 22,
    "start_time": "2023-04-28T09:48:37.893Z"
   },
   {
    "duration": 33,
    "start_time": "2023-04-28T09:48:37.917Z"
   },
   {
    "duration": 57,
    "start_time": "2023-04-28T09:48:37.952Z"
   },
   {
    "duration": 44,
    "start_time": "2023-04-28T09:48:38.011Z"
   },
   {
    "duration": 3,
    "start_time": "2023-04-28T09:48:38.057Z"
   },
   {
    "duration": 71,
    "start_time": "2023-04-28T09:48:38.061Z"
   },
   {
    "duration": 33,
    "start_time": "2023-04-28T09:48:38.134Z"
   },
   {
    "duration": 23,
    "start_time": "2023-04-28T09:48:38.168Z"
   },
   {
    "duration": 142,
    "start_time": "2023-04-28T09:48:49.221Z"
   },
   {
    "duration": 20,
    "start_time": "2023-04-28T09:48:58.826Z"
   },
   {
    "duration": 4,
    "start_time": "2023-04-28T10:07:10.071Z"
   },
   {
    "duration": 3,
    "start_time": "2023-04-28T10:15:39.096Z"
   },
   {
    "duration": 10,
    "start_time": "2023-04-28T10:16:49.865Z"
   },
   {
    "duration": 10,
    "start_time": "2023-04-28T10:23:41.115Z"
   },
   {
    "duration": 4917,
    "start_time": "2023-04-28T10:23:54.012Z"
   },
   {
    "duration": 1065,
    "start_time": "2023-04-28T10:24:23.773Z"
   },
   {
    "duration": 664,
    "start_time": "2023-04-28T10:26:51.676Z"
   },
   {
    "duration": 1739,
    "start_time": "2023-04-28T10:27:34.486Z"
   },
   {
    "duration": 30,
    "start_time": "2023-04-28T10:29:36.214Z"
   },
   {
    "duration": 4,
    "start_time": "2023-04-28T10:40:16.066Z"
   },
   {
    "duration": 1008,
    "start_time": "2023-04-28T10:40:16.073Z"
   },
   {
    "duration": 4,
    "start_time": "2023-04-28T10:40:17.083Z"
   },
   {
    "duration": 1313,
    "start_time": "2023-04-28T10:40:17.088Z"
   },
   {
    "duration": 3,
    "start_time": "2023-04-28T10:40:18.402Z"
   },
   {
    "duration": 47,
    "start_time": "2023-04-28T10:40:18.408Z"
   },
   {
    "duration": 18,
    "start_time": "2023-04-28T10:40:18.458Z"
   },
   {
    "duration": 18,
    "start_time": "2023-04-28T10:40:18.478Z"
   },
   {
    "duration": 26,
    "start_time": "2023-04-28T10:40:18.497Z"
   },
   {
    "duration": 70,
    "start_time": "2023-04-28T10:40:18.526Z"
   },
   {
    "duration": 4,
    "start_time": "2023-04-28T10:40:18.598Z"
   },
   {
    "duration": 28,
    "start_time": "2023-04-28T10:40:18.604Z"
   },
   {
    "duration": 47,
    "start_time": "2023-04-28T10:40:18.634Z"
   },
   {
    "duration": 21,
    "start_time": "2023-04-28T10:40:18.683Z"
   },
   {
    "duration": 9,
    "start_time": "2023-04-28T10:40:18.707Z"
   },
   {
    "duration": 54,
    "start_time": "2023-04-28T10:40:18.723Z"
   },
   {
    "duration": 29,
    "start_time": "2023-04-28T10:40:18.778Z"
   },
   {
    "duration": 54,
    "start_time": "2023-04-28T10:40:18.809Z"
   },
   {
    "duration": 23,
    "start_time": "2023-04-28T10:40:18.865Z"
   },
   {
    "duration": 34,
    "start_time": "2023-04-28T10:40:18.889Z"
   },
   {
    "duration": 266,
    "start_time": "2023-04-28T10:40:18.927Z"
   },
   {
    "duration": 247,
    "start_time": "2023-04-28T10:40:19.195Z"
   },
   {
    "duration": 214,
    "start_time": "2023-04-28T10:40:19.447Z"
   },
   {
    "duration": 635,
    "start_time": "2023-04-28T10:40:19.664Z"
   },
   {
    "duration": 310,
    "start_time": "2023-04-28T10:40:20.301Z"
   },
   {
    "duration": 14,
    "start_time": "2023-04-28T10:40:20.613Z"
   },
   {
    "duration": 355,
    "start_time": "2023-04-28T10:40:20.628Z"
   },
   {
    "duration": 10,
    "start_time": "2023-04-28T10:40:20.985Z"
   },
   {
    "duration": 428,
    "start_time": "2023-04-28T10:40:20.997Z"
   },
   {
    "duration": 15,
    "start_time": "2023-04-28T10:40:21.427Z"
   },
   {
    "duration": 40,
    "start_time": "2023-04-28T10:40:21.445Z"
   },
   {
    "duration": 21,
    "start_time": "2023-04-28T10:40:21.487Z"
   },
   {
    "duration": 283,
    "start_time": "2023-04-28T10:40:21.510Z"
   },
   {
    "duration": 8,
    "start_time": "2023-04-28T10:40:21.796Z"
   },
   {
    "duration": 334,
    "start_time": "2023-04-28T10:40:21.806Z"
   },
   {
    "duration": 16,
    "start_time": "2023-04-28T10:40:22.142Z"
   },
   {
    "duration": 7,
    "start_time": "2023-04-28T10:40:22.160Z"
   },
   {
    "duration": 8,
    "start_time": "2023-04-28T10:40:22.169Z"
   },
   {
    "duration": 25,
    "start_time": "2023-04-28T10:40:22.179Z"
   },
   {
    "duration": 35,
    "start_time": "2023-04-28T10:40:22.205Z"
   },
   {
    "duration": 31,
    "start_time": "2023-04-28T10:40:22.243Z"
   },
   {
    "duration": 22,
    "start_time": "2023-04-28T10:40:22.278Z"
   },
   {
    "duration": 9,
    "start_time": "2023-04-28T10:40:22.302Z"
   },
   {
    "duration": 64,
    "start_time": "2023-04-28T10:40:22.312Z"
   },
   {
    "duration": 25,
    "start_time": "2023-04-28T10:40:22.378Z"
   },
   {
    "duration": 63,
    "start_time": "2023-04-28T10:40:22.406Z"
   },
   {
    "duration": 71,
    "start_time": "2023-04-28T10:40:22.471Z"
   },
   {
    "duration": 10,
    "start_time": "2023-04-28T10:40:28.536Z"
   },
   {
    "duration": 970,
    "start_time": "2023-04-28T10:57:35.280Z"
   },
   {
    "duration": 971,
    "start_time": "2023-04-28T10:58:52.615Z"
   },
   {
    "duration": 4,
    "start_time": "2023-04-28T10:59:08.003Z"
   },
   {
    "duration": 820,
    "start_time": "2023-04-28T10:59:08.009Z"
   },
   {
    "duration": 3,
    "start_time": "2023-04-28T10:59:08.835Z"
   },
   {
    "duration": 1145,
    "start_time": "2023-04-28T10:59:08.840Z"
   },
   {
    "duration": 3,
    "start_time": "2023-04-28T10:59:09.988Z"
   },
   {
    "duration": 49,
    "start_time": "2023-04-28T10:59:09.992Z"
   },
   {
    "duration": 22,
    "start_time": "2023-04-28T10:59:10.043Z"
   },
   {
    "duration": 43,
    "start_time": "2023-04-28T10:59:10.066Z"
   },
   {
    "duration": 37,
    "start_time": "2023-04-28T10:59:10.111Z"
   },
   {
    "duration": 34,
    "start_time": "2023-04-28T10:59:10.150Z"
   },
   {
    "duration": 4,
    "start_time": "2023-04-28T10:59:10.187Z"
   },
   {
    "duration": 23,
    "start_time": "2023-04-28T10:59:10.192Z"
   },
   {
    "duration": 24,
    "start_time": "2023-04-28T10:59:10.217Z"
   },
   {
    "duration": 24,
    "start_time": "2023-04-28T10:59:10.242Z"
   },
   {
    "duration": 7,
    "start_time": "2023-04-28T10:59:10.267Z"
   },
   {
    "duration": 24,
    "start_time": "2023-04-28T10:59:10.276Z"
   },
   {
    "duration": 36,
    "start_time": "2023-04-28T10:59:10.303Z"
   },
   {
    "duration": 13,
    "start_time": "2023-04-28T10:59:10.341Z"
   },
   {
    "duration": 22,
    "start_time": "2023-04-28T10:59:10.356Z"
   },
   {
    "duration": 12,
    "start_time": "2023-04-28T10:59:10.380Z"
   },
   {
    "duration": 199,
    "start_time": "2023-04-28T10:59:10.394Z"
   },
   {
    "duration": 195,
    "start_time": "2023-04-28T10:59:10.595Z"
   },
   {
    "duration": 184,
    "start_time": "2023-04-28T10:59:10.792Z"
   },
   {
    "duration": 674,
    "start_time": "2023-04-28T10:59:10.977Z"
   },
   {
    "duration": 332,
    "start_time": "2023-04-28T10:59:11.653Z"
   },
   {
    "duration": 13,
    "start_time": "2023-04-28T10:59:11.987Z"
   },
   {
    "duration": 286,
    "start_time": "2023-04-28T10:59:12.002Z"
   },
   {
    "duration": 9,
    "start_time": "2023-04-28T10:59:12.290Z"
   },
   {
    "duration": 337,
    "start_time": "2023-04-28T10:59:12.303Z"
   },
   {
    "duration": 13,
    "start_time": "2023-04-28T10:59:12.642Z"
   },
   {
    "duration": 18,
    "start_time": "2023-04-28T10:59:12.657Z"
   },
   {
    "duration": 29,
    "start_time": "2023-04-28T10:59:12.677Z"
   },
   {
    "duration": 271,
    "start_time": "2023-04-28T10:59:12.721Z"
   },
   {
    "duration": 10,
    "start_time": "2023-04-28T10:59:12.994Z"
   },
   {
    "duration": 279,
    "start_time": "2023-04-28T10:59:13.020Z"
   },
   {
    "duration": 18,
    "start_time": "2023-04-28T10:59:13.301Z"
   },
   {
    "duration": 9,
    "start_time": "2023-04-28T10:59:13.324Z"
   },
   {
    "duration": 20,
    "start_time": "2023-04-28T10:59:13.338Z"
   },
   {
    "duration": 170,
    "start_time": "2023-04-28T10:59:13.360Z"
   },
   {
    "duration": 15,
    "start_time": "2023-04-28T10:59:13.532Z"
   },
   {
    "duration": 4,
    "start_time": "2023-04-28T10:59:13.549Z"
   },
   {
    "duration": 27,
    "start_time": "2023-04-28T10:59:13.554Z"
   },
   {
    "duration": 3,
    "start_time": "2023-04-28T10:59:13.582Z"
   },
   {
    "duration": 48,
    "start_time": "2023-04-28T10:59:13.586Z"
   },
   {
    "duration": 7,
    "start_time": "2023-04-28T10:59:13.636Z"
   },
   {
    "duration": 6,
    "start_time": "2023-04-28T10:59:13.645Z"
   },
   {
    "duration": 41,
    "start_time": "2023-04-28T10:59:13.653Z"
   },
   {
    "duration": 4,
    "start_time": "2023-04-28T10:59:13.696Z"
   },
   {
    "duration": 947,
    "start_time": "2023-04-28T10:59:16.329Z"
   },
   {
    "duration": 4,
    "start_time": "2023-04-28T11:01:39.574Z"
   },
   {
    "duration": 4,
    "start_time": "2023-04-28T11:01:51.701Z"
   },
   {
    "duration": 28,
    "start_time": "2023-04-28T11:01:53.686Z"
   },
   {
    "duration": 3,
    "start_time": "2023-04-28T11:02:00.598Z"
   },
   {
    "duration": 921,
    "start_time": "2023-04-28T11:02:09.810Z"
   },
   {
    "duration": 11,
    "start_time": "2023-04-28T11:02:37.266Z"
   },
   {
    "duration": 646,
    "start_time": "2023-04-28T11:02:47.882Z"
   },
   {
    "duration": 982,
    "start_time": "2023-04-28T11:03:37.051Z"
   },
   {
    "duration": 924,
    "start_time": "2023-04-28T11:04:19.708Z"
   },
   {
    "duration": 965,
    "start_time": "2023-04-28T11:06:09.843Z"
   },
   {
    "duration": 932,
    "start_time": "2023-04-28T11:06:50.116Z"
   },
   {
    "duration": 5,
    "start_time": "2023-04-28T11:11:05.605Z"
   },
   {
    "duration": 874,
    "start_time": "2023-04-28T11:11:05.612Z"
   },
   {
    "duration": 3,
    "start_time": "2023-04-28T11:11:06.488Z"
   },
   {
    "duration": 1415,
    "start_time": "2023-04-28T11:11:06.493Z"
   },
   {
    "duration": 7,
    "start_time": "2023-04-28T11:11:07.911Z"
   },
   {
    "duration": 40,
    "start_time": "2023-04-28T11:11:07.920Z"
   },
   {
    "duration": 22,
    "start_time": "2023-04-28T11:11:07.963Z"
   },
   {
    "duration": 13,
    "start_time": "2023-04-28T11:11:07.987Z"
   },
   {
    "duration": 53,
    "start_time": "2023-04-28T11:11:08.003Z"
   },
   {
    "duration": 56,
    "start_time": "2023-04-28T11:11:08.058Z"
   },
   {
    "duration": 13,
    "start_time": "2023-04-28T11:11:08.116Z"
   },
   {
    "duration": 24,
    "start_time": "2023-04-28T11:11:08.133Z"
   },
   {
    "duration": 13,
    "start_time": "2023-04-28T11:11:08.159Z"
   },
   {
    "duration": 7,
    "start_time": "2023-04-28T11:11:08.176Z"
   },
   {
    "duration": 11,
    "start_time": "2023-04-28T11:11:08.185Z"
   },
   {
    "duration": 11,
    "start_time": "2023-04-28T11:11:08.198Z"
   },
   {
    "duration": 28,
    "start_time": "2023-04-28T11:11:08.210Z"
   },
   {
    "duration": 12,
    "start_time": "2023-04-28T11:11:08.240Z"
   },
   {
    "duration": 19,
    "start_time": "2023-04-28T11:11:08.254Z"
   },
   {
    "duration": 7,
    "start_time": "2023-04-28T11:11:08.275Z"
   },
   {
    "duration": 193,
    "start_time": "2023-04-28T11:11:08.283Z"
   },
   {
    "duration": 189,
    "start_time": "2023-04-28T11:11:08.478Z"
   },
   {
    "duration": 205,
    "start_time": "2023-04-28T11:11:08.668Z"
   },
   {
    "duration": 729,
    "start_time": "2023-04-28T11:11:08.875Z"
   },
   {
    "duration": 341,
    "start_time": "2023-04-28T11:11:09.606Z"
   },
   {
    "duration": 12,
    "start_time": "2023-04-28T11:11:09.950Z"
   },
   {
    "duration": 295,
    "start_time": "2023-04-28T11:11:09.964Z"
   },
   {
    "duration": 12,
    "start_time": "2023-04-28T11:11:10.261Z"
   },
   {
    "duration": 452,
    "start_time": "2023-04-28T11:11:10.276Z"
   },
   {
    "duration": 20,
    "start_time": "2023-04-28T11:11:10.731Z"
   },
   {
    "duration": 22,
    "start_time": "2023-04-28T11:11:10.753Z"
   },
   {
    "duration": 20,
    "start_time": "2023-04-28T11:11:10.778Z"
   },
   {
    "duration": 267,
    "start_time": "2023-04-28T11:11:10.801Z"
   },
   {
    "duration": 9,
    "start_time": "2023-04-28T11:11:11.070Z"
   },
   {
    "duration": 283,
    "start_time": "2023-04-28T11:11:11.081Z"
   },
   {
    "duration": 10,
    "start_time": "2023-04-28T11:11:11.365Z"
   },
   {
    "duration": 9,
    "start_time": "2023-04-28T11:11:11.377Z"
   },
   {
    "duration": 9,
    "start_time": "2023-04-28T11:11:11.387Z"
   },
   {
    "duration": 64,
    "start_time": "2023-04-28T11:11:11.397Z"
   },
   {
    "duration": 15,
    "start_time": "2023-04-28T11:11:11.463Z"
   },
   {
    "duration": 3,
    "start_time": "2023-04-28T11:11:11.483Z"
   },
   {
    "duration": 45,
    "start_time": "2023-04-28T11:11:11.488Z"
   },
   {
    "duration": 15,
    "start_time": "2023-04-28T11:11:11.535Z"
   },
   {
    "duration": 26,
    "start_time": "2023-04-28T11:11:11.553Z"
   },
   {
    "duration": 6,
    "start_time": "2023-04-28T11:11:11.581Z"
   },
   {
    "duration": 15,
    "start_time": "2023-04-28T11:11:11.589Z"
   },
   {
    "duration": 14,
    "start_time": "2023-04-28T11:11:11.606Z"
   },
   {
    "duration": 31,
    "start_time": "2023-04-28T11:11:11.623Z"
   },
   {
    "duration": 1047,
    "start_time": "2023-04-28T11:11:11.656Z"
   },
   {
    "duration": 0,
    "start_time": "2023-04-28T11:11:12.706Z"
   },
   {
    "duration": 53,
    "start_time": "2023-04-28T11:11:25.381Z"
   },
   {
    "duration": 956,
    "start_time": "2023-04-28T11:11:28.133Z"
   },
   {
    "duration": 11,
    "start_time": "2023-04-28T11:12:51.310Z"
   },
   {
    "duration": 8,
    "start_time": "2023-04-28T11:13:03.231Z"
   },
   {
    "duration": 5,
    "start_time": "2023-04-28T11:13:25.679Z"
   },
   {
    "duration": 996,
    "start_time": "2023-04-28T11:13:25.687Z"
   },
   {
    "duration": 3,
    "start_time": "2023-04-28T11:13:26.685Z"
   },
   {
    "duration": 1273,
    "start_time": "2023-04-28T11:13:26.691Z"
   },
   {
    "duration": 3,
    "start_time": "2023-04-28T11:13:27.968Z"
   },
   {
    "duration": 15,
    "start_time": "2023-04-28T11:13:27.974Z"
   },
   {
    "duration": 19,
    "start_time": "2023-04-28T11:13:27.991Z"
   },
   {
    "duration": 41,
    "start_time": "2023-04-28T11:13:28.012Z"
   },
   {
    "duration": 20,
    "start_time": "2023-04-28T11:13:28.056Z"
   },
   {
    "duration": 56,
    "start_time": "2023-04-28T11:13:28.078Z"
   },
   {
    "duration": 9,
    "start_time": "2023-04-28T11:13:28.136Z"
   },
   {
    "duration": 22,
    "start_time": "2023-04-28T11:13:28.151Z"
   },
   {
    "duration": 21,
    "start_time": "2023-04-28T11:13:28.175Z"
   },
   {
    "duration": 17,
    "start_time": "2023-04-28T11:13:28.201Z"
   },
   {
    "duration": 30,
    "start_time": "2023-04-28T11:13:28.227Z"
   },
   {
    "duration": 13,
    "start_time": "2023-04-28T11:13:28.260Z"
   },
   {
    "duration": 31,
    "start_time": "2023-04-28T11:13:28.275Z"
   },
   {
    "duration": 41,
    "start_time": "2023-04-28T11:13:28.308Z"
   },
   {
    "duration": 25,
    "start_time": "2023-04-28T11:13:28.351Z"
   },
   {
    "duration": 19,
    "start_time": "2023-04-28T11:13:28.378Z"
   },
   {
    "duration": 199,
    "start_time": "2023-04-28T11:13:28.398Z"
   },
   {
    "duration": 225,
    "start_time": "2023-04-28T11:13:28.599Z"
   },
   {
    "duration": 182,
    "start_time": "2023-04-28T11:13:28.831Z"
   },
   {
    "duration": 589,
    "start_time": "2023-04-28T11:13:29.020Z"
   },
   {
    "duration": 475,
    "start_time": "2023-04-28T11:13:29.611Z"
   },
   {
    "duration": 12,
    "start_time": "2023-04-28T11:13:30.089Z"
   },
   {
    "duration": 362,
    "start_time": "2023-04-28T11:13:30.103Z"
   },
   {
    "duration": 12,
    "start_time": "2023-04-28T11:13:30.467Z"
   },
   {
    "duration": 397,
    "start_time": "2023-04-28T11:13:30.481Z"
   },
   {
    "duration": 10,
    "start_time": "2023-04-28T11:13:30.881Z"
   },
   {
    "duration": 154,
    "start_time": "2023-04-28T11:13:30.895Z"
   },
   {
    "duration": 80,
    "start_time": "2023-04-28T11:13:31.051Z"
   },
   {
    "duration": 348,
    "start_time": "2023-04-28T11:13:31.133Z"
   },
   {
    "duration": 11,
    "start_time": "2023-04-28T11:13:31.483Z"
   },
   {
    "duration": 386,
    "start_time": "2023-04-28T11:13:31.496Z"
   },
   {
    "duration": 11,
    "start_time": "2023-04-28T11:13:31.885Z"
   },
   {
    "duration": 57,
    "start_time": "2023-04-28T11:13:31.898Z"
   },
   {
    "duration": 39,
    "start_time": "2023-04-28T11:13:31.956Z"
   },
   {
    "duration": 81,
    "start_time": "2023-04-28T11:13:31.997Z"
   },
   {
    "duration": 37,
    "start_time": "2023-04-28T11:13:32.080Z"
   },
   {
    "duration": 16,
    "start_time": "2023-04-28T11:13:32.125Z"
   },
   {
    "duration": 56,
    "start_time": "2023-04-28T11:13:32.143Z"
   },
   {
    "duration": 37,
    "start_time": "2023-04-28T11:13:32.201Z"
   },
   {
    "duration": 78,
    "start_time": "2023-04-28T11:13:32.241Z"
   },
   {
    "duration": 42,
    "start_time": "2023-04-28T11:13:34.440Z"
   },
   {
    "duration": 18,
    "start_time": "2023-04-28T11:13:53.304Z"
   },
   {
    "duration": 3,
    "start_time": "2023-04-28T11:14:07.740Z"
   },
   {
    "duration": 3,
    "start_time": "2023-04-28T11:14:13.170Z"
   },
   {
    "duration": 956,
    "start_time": "2023-04-28T11:14:20.145Z"
   },
   {
    "duration": 942,
    "start_time": "2023-04-28T11:33:05.405Z"
   },
   {
    "duration": 19,
    "start_time": "2023-04-28T11:47:02.007Z"
   },
   {
    "duration": 958,
    "start_time": "2023-04-28T11:48:23.828Z"
   },
   {
    "duration": 4,
    "start_time": "2023-04-28T11:52:39.336Z"
   },
   {
    "duration": 3,
    "start_time": "2023-04-28T11:52:46.282Z"
   },
   {
    "duration": 972,
    "start_time": "2023-04-28T11:52:49.900Z"
   },
   {
    "duration": 1092,
    "start_time": "2023-04-28T12:00:56.095Z"
   },
   {
    "duration": 4,
    "start_time": "2023-04-28T12:04:00.204Z"
   },
   {
    "duration": 3,
    "start_time": "2023-04-28T12:04:06.476Z"
   },
   {
    "duration": 8756,
    "start_time": "2023-04-28T12:04:08.374Z"
   },
   {
    "duration": 8875,
    "start_time": "2023-04-28T12:04:53.157Z"
   },
   {
    "duration": 8437,
    "start_time": "2023-04-28T12:05:30.648Z"
   },
   {
    "duration": 8186,
    "start_time": "2023-04-28T12:05:53.940Z"
   },
   {
    "duration": 4,
    "start_time": "2023-04-28T12:06:34.635Z"
   },
   {
    "duration": 802,
    "start_time": "2023-04-28T12:06:34.641Z"
   },
   {
    "duration": 3,
    "start_time": "2023-04-28T12:06:35.445Z"
   },
   {
    "duration": 1126,
    "start_time": "2023-04-28T12:06:35.450Z"
   },
   {
    "duration": 4,
    "start_time": "2023-04-28T12:06:36.578Z"
   },
   {
    "duration": 75,
    "start_time": "2023-04-28T12:06:36.584Z"
   },
   {
    "duration": 46,
    "start_time": "2023-04-28T12:06:36.661Z"
   },
   {
    "duration": 59,
    "start_time": "2023-04-28T12:06:36.708Z"
   },
   {
    "duration": 37,
    "start_time": "2023-04-28T12:06:36.769Z"
   },
   {
    "duration": 84,
    "start_time": "2023-04-28T12:06:36.808Z"
   },
   {
    "duration": 12,
    "start_time": "2023-04-28T12:06:36.894Z"
   },
   {
    "duration": 51,
    "start_time": "2023-04-28T12:06:36.908Z"
   },
   {
    "duration": 27,
    "start_time": "2023-04-28T12:06:36.961Z"
   },
   {
    "duration": 12,
    "start_time": "2023-04-28T12:06:36.991Z"
   },
   {
    "duration": 32,
    "start_time": "2023-04-28T12:06:37.005Z"
   },
   {
    "duration": 28,
    "start_time": "2023-04-28T12:06:37.040Z"
   },
   {
    "duration": 29,
    "start_time": "2023-04-28T12:06:37.071Z"
   },
   {
    "duration": 20,
    "start_time": "2023-04-28T12:06:37.102Z"
   },
   {
    "duration": 41,
    "start_time": "2023-04-28T12:06:37.123Z"
   },
   {
    "duration": 9,
    "start_time": "2023-04-28T12:06:37.165Z"
   },
   {
    "duration": 225,
    "start_time": "2023-04-28T12:06:37.176Z"
   },
   {
    "duration": 187,
    "start_time": "2023-04-28T12:06:37.403Z"
   },
   {
    "duration": 340,
    "start_time": "2023-04-28T12:06:37.591Z"
   },
   {
    "duration": 544,
    "start_time": "2023-04-28T12:06:37.935Z"
   },
   {
    "duration": 276,
    "start_time": "2023-04-28T12:06:38.481Z"
   },
   {
    "duration": 10,
    "start_time": "2023-04-28T12:06:38.759Z"
   },
   {
    "duration": 280,
    "start_time": "2023-04-28T12:06:38.770Z"
   },
   {
    "duration": 8,
    "start_time": "2023-04-28T12:06:39.052Z"
   },
   {
    "duration": 270,
    "start_time": "2023-04-28T12:06:39.062Z"
   },
   {
    "duration": 10,
    "start_time": "2023-04-28T12:06:39.334Z"
   },
   {
    "duration": 38,
    "start_time": "2023-04-28T12:06:39.346Z"
   },
   {
    "duration": 65,
    "start_time": "2023-04-28T12:06:39.385Z"
   },
   {
    "duration": 278,
    "start_time": "2023-04-28T12:06:39.452Z"
   },
   {
    "duration": 10,
    "start_time": "2023-04-28T12:06:39.733Z"
   },
   {
    "duration": 421,
    "start_time": "2023-04-28T12:06:39.744Z"
   },
   {
    "duration": 10,
    "start_time": "2023-04-28T12:06:40.167Z"
   },
   {
    "duration": 9,
    "start_time": "2023-04-28T12:06:40.179Z"
   },
   {
    "duration": 71,
    "start_time": "2023-04-28T12:06:40.190Z"
   },
   {
    "duration": 63,
    "start_time": "2023-04-28T12:06:40.263Z"
   },
   {
    "duration": 29,
    "start_time": "2023-04-28T12:06:40.328Z"
   },
   {
    "duration": 21,
    "start_time": "2023-04-28T12:06:40.359Z"
   },
   {
    "duration": 58,
    "start_time": "2023-04-28T12:06:40.383Z"
   },
   {
    "duration": 12,
    "start_time": "2023-04-28T12:06:40.443Z"
   },
   {
    "duration": 33,
    "start_time": "2023-04-28T12:06:40.457Z"
   },
   {
    "duration": 46,
    "start_time": "2023-04-28T12:06:40.492Z"
   },
   {
    "duration": 34,
    "start_time": "2023-04-28T12:06:40.540Z"
   },
   {
    "duration": 28,
    "start_time": "2023-04-28T12:06:40.576Z"
   },
   {
    "duration": 26,
    "start_time": "2023-04-28T12:06:40.606Z"
   },
   {
    "duration": 17,
    "start_time": "2023-04-28T12:06:40.634Z"
   },
   {
    "duration": 8447,
    "start_time": "2023-04-28T12:06:40.653Z"
   },
   {
    "duration": 9511,
    "start_time": "2023-04-28T12:07:12.342Z"
   },
   {
    "duration": 9813,
    "start_time": "2023-04-28T12:07:29.439Z"
   },
   {
    "duration": 8891,
    "start_time": "2023-04-28T12:08:05.141Z"
   },
   {
    "duration": 3762,
    "start_time": "2023-04-28T12:09:06.972Z"
   },
   {
    "duration": 397277,
    "start_time": "2023-04-28T12:10:48.514Z"
   },
   {
    "duration": 10429,
    "start_time": "2023-04-28T12:18:02.454Z"
   },
   {
    "duration": 52849,
    "start_time": "2023-04-28T12:18:21.058Z"
   },
   {
    "duration": 9070,
    "start_time": "2023-04-28T12:19:47.214Z"
   },
   {
    "duration": 4316,
    "start_time": "2023-04-28T12:20:00.306Z"
   },
   {
    "duration": 5,
    "start_time": "2023-04-28T12:20:34.161Z"
   },
   {
    "duration": 3,
    "start_time": "2023-04-28T12:20:37.532Z"
   },
   {
    "duration": 9014,
    "start_time": "2023-04-28T12:20:38.755Z"
   },
   {
    "duration": 3291,
    "start_time": "2023-04-28T12:20:50.334Z"
   },
   {
    "duration": 3,
    "start_time": "2023-04-28T12:21:08.207Z"
   },
   {
    "duration": 41,
    "start_time": "2023-04-28T12:21:09.802Z"
   },
   {
    "duration": 3,
    "start_time": "2023-04-28T12:21:11.434Z"
   },
   {
    "duration": 8737,
    "start_time": "2023-04-28T12:21:12.797Z"
   },
   {
    "duration": 4484,
    "start_time": "2023-04-28T12:21:24.043Z"
   },
   {
    "duration": 15,
    "start_time": "2023-04-28T12:24:24.274Z"
   },
   {
    "duration": 34210,
    "start_time": "2023-04-28T12:25:03.944Z"
   },
   {
    "duration": 35737,
    "start_time": "2023-04-28T12:26:54.636Z"
   },
   {
    "duration": 134,
    "start_time": "2023-04-28T12:29:08.948Z"
   },
   {
    "duration": 211,
    "start_time": "2023-04-28T12:29:45.254Z"
   },
   {
    "duration": 29087,
    "start_time": "2023-04-28T12:29:54.952Z"
   },
   {
    "duration": 27280,
    "start_time": "2023-04-28T12:31:48.698Z"
   },
   {
    "duration": 212951,
    "start_time": "2023-04-28T12:32:32.352Z"
   },
   {
    "duration": 4,
    "start_time": "2023-04-28T12:39:26.001Z"
   },
   {
    "duration": 38046,
    "start_time": "2023-04-28T12:45:19.859Z"
   },
   {
    "duration": 90,
    "start_time": "2023-04-28T13:41:03.511Z"
   },
   {
    "duration": 4732,
    "start_time": "2023-04-28T13:41:13.653Z"
   },
   {
    "duration": 15,
    "start_time": "2023-04-28T13:55:22.165Z"
   },
   {
    "duration": 6,
    "start_time": "2023-04-28T13:55:55.291Z"
   },
   {
    "duration": 13,
    "start_time": "2023-04-28T13:56:07.285Z"
   },
   {
    "duration": 5273,
    "start_time": "2023-04-28T13:56:21.102Z"
   },
   {
    "duration": 14,
    "start_time": "2023-04-28T13:57:42.549Z"
   },
   {
    "duration": 3770,
    "start_time": "2023-04-28T13:59:03.257Z"
   },
   {
    "duration": 13,
    "start_time": "2023-04-28T13:59:09.092Z"
   },
   {
    "duration": 5463,
    "start_time": "2023-04-28T13:59:16.708Z"
   },
   {
    "duration": 15,
    "start_time": "2023-04-28T13:59:54.991Z"
   },
   {
    "duration": 1090,
    "start_time": "2023-04-28T14:01:41.179Z"
   },
   {
    "duration": 7666,
    "start_time": "2023-04-28T14:01:49.502Z"
   },
   {
    "duration": 5018,
    "start_time": "2023-04-28T14:02:03.935Z"
   },
   {
    "duration": 10148,
    "start_time": "2023-04-28T14:03:04.793Z"
   },
   {
    "duration": 15697,
    "start_time": "2023-04-28T14:03:22.441Z"
   },
   {
    "duration": 5094,
    "start_time": "2023-04-28T14:03:50.736Z"
   },
   {
    "duration": 2328,
    "start_time": "2023-04-28T14:03:58.953Z"
   },
   {
    "duration": 4712,
    "start_time": "2023-04-28T14:04:15.914Z"
   },
   {
    "duration": 50074,
    "start_time": "2023-04-28T14:07:36.768Z"
   },
   {
    "duration": 0,
    "start_time": "2023-04-28T14:09:56.822Z"
   },
   {
    "duration": 63412,
    "start_time": "2023-04-28T14:10:20.769Z"
   },
   {
    "duration": 31619,
    "start_time": "2023-04-28T14:15:40.340Z"
   },
   {
    "duration": 1762,
    "start_time": "2023-04-28T14:16:28.481Z"
   },
   {
    "duration": 860,
    "start_time": "2023-04-28T14:16:30.245Z"
   },
   {
    "duration": 3,
    "start_time": "2023-04-28T14:16:31.106Z"
   },
   {
    "duration": 1299,
    "start_time": "2023-04-28T14:16:31.118Z"
   },
   {
    "duration": 8,
    "start_time": "2023-04-28T14:16:32.421Z"
   },
   {
    "duration": 33,
    "start_time": "2023-04-28T14:16:32.431Z"
   },
   {
    "duration": 24,
    "start_time": "2023-04-28T14:16:32.466Z"
   },
   {
    "duration": 53,
    "start_time": "2023-04-28T14:16:32.492Z"
   },
   {
    "duration": 42,
    "start_time": "2023-04-28T14:16:32.548Z"
   },
   {
    "duration": 73,
    "start_time": "2023-04-28T14:16:32.593Z"
   },
   {
    "duration": 27,
    "start_time": "2023-04-28T14:16:32.668Z"
   },
   {
    "duration": 80,
    "start_time": "2023-04-28T14:16:32.697Z"
   },
   {
    "duration": 81,
    "start_time": "2023-04-28T14:16:32.783Z"
   },
   {
    "duration": 28,
    "start_time": "2023-04-28T14:16:32.868Z"
   },
   {
    "duration": 38,
    "start_time": "2023-04-28T14:16:32.898Z"
   },
   {
    "duration": 22,
    "start_time": "2023-04-28T14:16:32.938Z"
   },
   {
    "duration": 24,
    "start_time": "2023-04-28T14:16:32.962Z"
   },
   {
    "duration": 22,
    "start_time": "2023-04-28T14:16:32.988Z"
   },
   {
    "duration": 43,
    "start_time": "2023-04-28T14:16:33.012Z"
   },
   {
    "duration": 6,
    "start_time": "2023-04-28T14:16:33.058Z"
   },
   {
    "duration": 204,
    "start_time": "2023-04-28T14:16:33.066Z"
   },
   {
    "duration": 211,
    "start_time": "2023-04-28T14:16:33.272Z"
   },
   {
    "duration": 184,
    "start_time": "2023-04-28T14:16:33.485Z"
   },
   {
    "duration": 618,
    "start_time": "2023-04-28T14:16:33.671Z"
   },
   {
    "duration": 353,
    "start_time": "2023-04-28T14:16:34.292Z"
   },
   {
    "duration": 10,
    "start_time": "2023-04-28T14:16:34.647Z"
   },
   {
    "duration": 308,
    "start_time": "2023-04-28T14:16:34.659Z"
   },
   {
    "duration": 12,
    "start_time": "2023-04-28T14:16:34.969Z"
   },
   {
    "duration": 285,
    "start_time": "2023-04-28T14:16:34.983Z"
   },
   {
    "duration": 10,
    "start_time": "2023-04-28T14:16:35.270Z"
   },
   {
    "duration": 22,
    "start_time": "2023-04-28T14:16:35.281Z"
   },
   {
    "duration": 58,
    "start_time": "2023-04-28T14:16:35.305Z"
   },
   {
    "duration": 302,
    "start_time": "2023-04-28T14:16:35.366Z"
   },
   {
    "duration": 10,
    "start_time": "2023-04-28T14:16:35.670Z"
   },
   {
    "duration": 381,
    "start_time": "2023-04-28T14:16:35.682Z"
   },
   {
    "duration": 10,
    "start_time": "2023-04-28T14:16:36.065Z"
   },
   {
    "duration": 32,
    "start_time": "2023-04-28T14:16:36.077Z"
   },
   {
    "duration": 34,
    "start_time": "2023-04-28T14:16:36.110Z"
   },
   {
    "duration": 65,
    "start_time": "2023-04-28T14:16:36.146Z"
   },
   {
    "duration": 37,
    "start_time": "2023-04-28T14:16:36.213Z"
   },
   {
    "duration": 23,
    "start_time": "2023-04-28T14:16:36.255Z"
   },
   {
    "duration": 58,
    "start_time": "2023-04-28T14:16:36.282Z"
   },
   {
    "duration": 32,
    "start_time": "2023-04-28T14:16:36.343Z"
   },
   {
    "duration": 66,
    "start_time": "2023-04-28T14:16:36.377Z"
   },
   {
    "duration": 41,
    "start_time": "2023-04-28T14:16:36.445Z"
   },
   {
    "duration": 33402,
    "start_time": "2023-04-28T14:16:36.489Z"
   },
   {
    "duration": 226368,
    "start_time": "2023-04-28T14:17:09.892Z"
   },
   {
    "duration": 6264,
    "start_time": "2023-04-28T14:20:56.262Z"
   },
   {
    "duration": 5600,
    "start_time": "2023-04-28T14:21:02.529Z"
   },
   {
    "duration": 1661,
    "start_time": "2023-04-29T12:32:21.178Z"
   },
   {
    "duration": 2065,
    "start_time": "2023-04-29T12:32:22.841Z"
   },
   {
    "duration": 3,
    "start_time": "2023-04-29T12:32:24.908Z"
   },
   {
    "duration": 992,
    "start_time": "2023-04-29T12:32:24.913Z"
   },
   {
    "duration": 3,
    "start_time": "2023-04-29T12:32:25.906Z"
   },
   {
    "duration": 44,
    "start_time": "2023-04-29T12:32:25.910Z"
   },
   {
    "duration": 10,
    "start_time": "2023-04-29T12:32:25.955Z"
   },
   {
    "duration": 4,
    "start_time": "2023-04-29T12:32:25.967Z"
   },
   {
    "duration": 7,
    "start_time": "2023-04-29T12:32:25.973Z"
   },
   {
    "duration": 30,
    "start_time": "2023-04-29T12:32:25.982Z"
   },
   {
    "duration": 4,
    "start_time": "2023-04-29T12:32:26.014Z"
   },
   {
    "duration": 19,
    "start_time": "2023-04-29T12:32:26.019Z"
   },
   {
    "duration": 15,
    "start_time": "2023-04-29T12:32:26.039Z"
   },
   {
    "duration": 5,
    "start_time": "2023-04-29T12:32:26.055Z"
   },
   {
    "duration": 5,
    "start_time": "2023-04-29T12:32:26.062Z"
   },
   {
    "duration": 5,
    "start_time": "2023-04-29T12:32:26.069Z"
   },
   {
    "duration": 38,
    "start_time": "2023-04-29T12:32:26.076Z"
   },
   {
    "duration": 7,
    "start_time": "2023-04-29T12:32:26.117Z"
   },
   {
    "duration": 19,
    "start_time": "2023-04-29T12:32:26.126Z"
   },
   {
    "duration": 6,
    "start_time": "2023-04-29T12:32:26.147Z"
   },
   {
    "duration": 189,
    "start_time": "2023-04-29T12:32:26.154Z"
   },
   {
    "duration": 178,
    "start_time": "2023-04-29T12:32:26.344Z"
   },
   {
    "duration": 171,
    "start_time": "2023-04-29T12:32:26.524Z"
   },
   {
    "duration": 553,
    "start_time": "2023-04-29T12:32:26.697Z"
   },
   {
    "duration": 139,
    "start_time": "2023-04-29T12:32:36.936Z"
   },
   {
    "duration": 57,
    "start_time": "2023-04-29T12:33:14.792Z"
   },
   {
    "duration": 399,
    "start_time": "2023-04-29T12:34:07.872Z"
   },
   {
    "duration": 517,
    "start_time": "2023-04-29T12:34:30.001Z"
   },
   {
    "duration": 730,
    "start_time": "2023-04-29T12:35:04.117Z"
   },
   {
    "duration": 14,
    "start_time": "2023-04-29T12:40:05.035Z"
   },
   {
    "duration": 134,
    "start_time": "2023-04-29T12:40:53.985Z"
   },
   {
    "duration": 624,
    "start_time": "2023-04-29T12:41:00.262Z"
   },
   {
    "duration": 406,
    "start_time": "2023-04-29T12:41:09.190Z"
   },
   {
    "duration": 508,
    "start_time": "2023-04-29T12:41:17.590Z"
   },
   {
    "duration": 366,
    "start_time": "2023-04-29T12:41:29.861Z"
   },
   {
    "duration": 259,
    "start_time": "2023-04-29T12:41:32.663Z"
   },
   {
    "duration": 336,
    "start_time": "2023-04-29T12:56:56.333Z"
   },
   {
    "duration": 423,
    "start_time": "2023-04-29T12:57:05.588Z"
   },
   {
    "duration": 489,
    "start_time": "2023-04-29T12:57:24.911Z"
   },
   {
    "duration": 136,
    "start_time": "2023-04-29T12:58:55.034Z"
   },
   {
    "duration": 467,
    "start_time": "2023-04-29T12:59:09.152Z"
   },
   {
    "duration": 398,
    "start_time": "2023-04-29T12:59:31.333Z"
   },
   {
    "duration": 539,
    "start_time": "2023-04-29T12:59:46.327Z"
   },
   {
    "duration": 4,
    "start_time": "2023-04-29T13:00:23.146Z"
   },
   {
    "duration": 696,
    "start_time": "2023-04-29T13:00:23.152Z"
   },
   {
    "duration": 2,
    "start_time": "2023-04-29T13:00:23.850Z"
   },
   {
    "duration": 973,
    "start_time": "2023-04-29T13:00:23.854Z"
   },
   {
    "duration": 3,
    "start_time": "2023-04-29T13:00:24.829Z"
   },
   {
    "duration": 11,
    "start_time": "2023-04-29T13:00:24.834Z"
   },
   {
    "duration": 12,
    "start_time": "2023-04-29T13:00:24.847Z"
   },
   {
    "duration": 25,
    "start_time": "2023-04-29T13:00:24.861Z"
   },
   {
    "duration": 5,
    "start_time": "2023-04-29T13:00:24.887Z"
   },
   {
    "duration": 29,
    "start_time": "2023-04-29T13:00:24.893Z"
   },
   {
    "duration": 4,
    "start_time": "2023-04-29T13:00:24.924Z"
   },
   {
    "duration": 18,
    "start_time": "2023-04-29T13:00:24.929Z"
   },
   {
    "duration": 7,
    "start_time": "2023-04-29T13:00:24.950Z"
   },
   {
    "duration": 7,
    "start_time": "2023-04-29T13:00:24.958Z"
   },
   {
    "duration": 8,
    "start_time": "2023-04-29T13:00:24.967Z"
   },
   {
    "duration": 5,
    "start_time": "2023-04-29T13:00:24.993Z"
   },
   {
    "duration": 12,
    "start_time": "2023-04-29T13:00:25.000Z"
   },
   {
    "duration": 7,
    "start_time": "2023-04-29T13:00:25.014Z"
   },
   {
    "duration": 15,
    "start_time": "2023-04-29T13:00:25.022Z"
   },
   {
    "duration": 15,
    "start_time": "2023-04-29T13:00:25.039Z"
   },
   {
    "duration": 193,
    "start_time": "2023-04-29T13:00:25.055Z"
   },
   {
    "duration": 176,
    "start_time": "2023-04-29T13:00:25.249Z"
   },
   {
    "duration": 169,
    "start_time": "2023-04-29T13:00:25.426Z"
   },
   {
    "duration": 388,
    "start_time": "2023-04-29T13:00:25.596Z"
   },
   {
    "duration": 407,
    "start_time": "2023-04-29T13:00:25.986Z"
   },
   {
    "duration": 263,
    "start_time": "2023-04-29T13:02:20.215Z"
   },
   {
    "duration": 405,
    "start_time": "2023-04-29T13:03:14.211Z"
   },
   {
    "duration": 344,
    "start_time": "2023-04-29T13:03:27.015Z"
   },
   {
    "duration": 98,
    "start_time": "2023-04-29T13:03:39.845Z"
   },
   {
    "duration": 110,
    "start_time": "2023-04-29T13:03:45.932Z"
   },
   {
    "duration": 117,
    "start_time": "2023-04-29T13:03:51.078Z"
   },
   {
    "duration": 224,
    "start_time": "2023-04-29T13:03:54.776Z"
   },
   {
    "duration": 347,
    "start_time": "2023-04-29T13:04:36.845Z"
   },
   {
    "duration": 106,
    "start_time": "2023-04-29T13:04:48.689Z"
   },
   {
    "duration": 351,
    "start_time": "2023-04-29T13:04:54.313Z"
   },
   {
    "duration": 318,
    "start_time": "2023-04-29T13:05:00.189Z"
   },
   {
    "duration": 357,
    "start_time": "2023-04-29T13:05:04.860Z"
   },
   {
    "duration": 251,
    "start_time": "2023-04-29T13:05:13.725Z"
   },
   {
    "duration": 244,
    "start_time": "2023-04-29T13:05:34.909Z"
   },
   {
    "duration": 349,
    "start_time": "2023-04-29T13:18:01.884Z"
   },
   {
    "duration": 216,
    "start_time": "2023-04-29T13:18:05.871Z"
   },
   {
    "duration": 405,
    "start_time": "2023-04-29T13:18:09.994Z"
   },
   {
    "duration": 279,
    "start_time": "2023-04-29T13:18:18.588Z"
   },
   {
    "duration": 335,
    "start_time": "2023-04-29T13:18:23.017Z"
   },
   {
    "duration": 348,
    "start_time": "2023-04-29T13:18:27.785Z"
   },
   {
    "duration": 520,
    "start_time": "2023-04-29T13:18:33.930Z"
   },
   {
    "duration": 352,
    "start_time": "2023-04-29T13:18:37.984Z"
   },
   {
    "duration": 3,
    "start_time": "2023-04-29T13:27:17.722Z"
   },
   {
    "duration": 665,
    "start_time": "2023-04-29T13:27:17.727Z"
   },
   {
    "duration": 3,
    "start_time": "2023-04-29T13:27:18.394Z"
   },
   {
    "duration": 1020,
    "start_time": "2023-04-29T13:27:18.398Z"
   },
   {
    "duration": 2,
    "start_time": "2023-04-29T13:27:19.420Z"
   },
   {
    "duration": 10,
    "start_time": "2023-04-29T13:27:19.424Z"
   },
   {
    "duration": 6,
    "start_time": "2023-04-29T13:27:19.436Z"
   },
   {
    "duration": 4,
    "start_time": "2023-04-29T13:27:19.444Z"
   },
   {
    "duration": 4,
    "start_time": "2023-04-29T13:27:19.450Z"
   },
   {
    "duration": 52,
    "start_time": "2023-04-29T13:27:19.456Z"
   },
   {
    "duration": 4,
    "start_time": "2023-04-29T13:27:19.510Z"
   },
   {
    "duration": 14,
    "start_time": "2023-04-29T13:27:19.516Z"
   },
   {
    "duration": 5,
    "start_time": "2023-04-29T13:27:19.532Z"
   },
   {
    "duration": 13,
    "start_time": "2023-04-29T13:27:19.538Z"
   },
   {
    "duration": 26,
    "start_time": "2023-04-29T13:27:19.552Z"
   },
   {
    "duration": 14,
    "start_time": "2023-04-29T13:27:19.580Z"
   },
   {
    "duration": 13,
    "start_time": "2023-04-29T13:27:19.596Z"
   },
   {
    "duration": 7,
    "start_time": "2023-04-29T13:27:19.611Z"
   },
   {
    "duration": 15,
    "start_time": "2023-04-29T13:27:19.620Z"
   },
   {
    "duration": 6,
    "start_time": "2023-04-29T13:27:19.637Z"
   },
   {
    "duration": 199,
    "start_time": "2023-04-29T13:27:19.645Z"
   },
   {
    "duration": 177,
    "start_time": "2023-04-29T13:27:19.846Z"
   },
   {
    "duration": 163,
    "start_time": "2023-04-29T13:27:20.025Z"
   },
   {
    "duration": 534,
    "start_time": "2023-04-29T13:27:20.193Z"
   },
   {
    "duration": 343,
    "start_time": "2023-04-29T13:27:20.729Z"
   },
   {
    "duration": 260,
    "start_time": "2023-04-29T13:27:21.074Z"
   },
   {
    "duration": 8,
    "start_time": "2023-04-29T13:27:21.336Z"
   },
   {
    "duration": 251,
    "start_time": "2023-04-29T13:27:21.346Z"
   },
   {
    "duration": 9,
    "start_time": "2023-04-29T13:27:21.598Z"
   },
   {
    "duration": 257,
    "start_time": "2023-04-29T13:27:21.609Z"
   },
   {
    "duration": 11,
    "start_time": "2023-04-29T13:27:21.868Z"
   },
   {
    "duration": 21,
    "start_time": "2023-04-29T13:27:21.881Z"
   },
   {
    "duration": 10,
    "start_time": "2023-04-29T13:27:21.904Z"
   },
   {
    "duration": 438,
    "start_time": "2023-04-29T13:27:21.916Z"
   },
   {
    "duration": 10,
    "start_time": "2023-04-29T13:27:22.356Z"
   },
   {
    "duration": 235,
    "start_time": "2023-04-29T13:27:22.368Z"
   },
   {
    "duration": 8,
    "start_time": "2023-04-29T13:27:22.607Z"
   },
   {
    "duration": 22,
    "start_time": "2023-04-29T13:27:22.617Z"
   },
   {
    "duration": 13,
    "start_time": "2023-04-29T13:27:22.641Z"
   },
   {
    "duration": 24,
    "start_time": "2023-04-29T13:27:22.656Z"
   },
   {
    "duration": 13,
    "start_time": "2023-04-29T13:27:22.682Z"
   },
   {
    "duration": 3,
    "start_time": "2023-04-29T13:27:22.697Z"
   },
   {
    "duration": 23,
    "start_time": "2023-04-29T13:27:22.702Z"
   },
   {
    "duration": 2,
    "start_time": "2023-04-29T13:27:22.727Z"
   },
   {
    "duration": 20,
    "start_time": "2023-04-29T13:27:22.731Z"
   },
   {
    "duration": 7,
    "start_time": "2023-04-29T13:27:22.753Z"
   },
   {
    "duration": 28310,
    "start_time": "2023-04-29T13:27:22.762Z"
   },
   {
    "duration": 173136,
    "start_time": "2023-04-29T13:27:51.074Z"
   },
   {
    "duration": 2487,
    "start_time": "2023-04-29T13:30:44.212Z"
   },
   {
    "duration": 4256,
    "start_time": "2023-04-29T13:30:46.702Z"
   },
   {
    "duration": 9,
    "start_time": "2023-04-29T13:30:50.960Z"
   },
   {
    "duration": 3,
    "start_time": "2023-04-29T14:02:16.622Z"
   },
   {
    "duration": 11,
    "start_time": "2023-04-29T14:20:31.452Z"
   },
   {
    "duration": 24,
    "start_time": "2023-04-29T14:21:08.114Z"
   },
   {
    "duration": 17,
    "start_time": "2023-04-29T14:23:52.777Z"
   },
   {
    "duration": 3,
    "start_time": "2023-04-29T14:24:04.618Z"
   },
   {
    "duration": 17,
    "start_time": "2023-04-29T14:24:08.155Z"
   },
   {
    "duration": 14,
    "start_time": "2023-04-29T14:26:33.656Z"
   },
   {
    "duration": 14,
    "start_time": "2023-04-29T14:27:04.062Z"
   },
   {
    "duration": 4099,
    "start_time": "2023-04-29T14:28:41.078Z"
   },
   {
    "duration": 4094,
    "start_time": "2023-04-29T14:29:50.080Z"
   },
   {
    "duration": 4120,
    "start_time": "2023-04-29T14:30:05.474Z"
   },
   {
    "duration": 3,
    "start_time": "2023-04-29T14:33:33.979Z"
   },
   {
    "duration": 4055,
    "start_time": "2023-04-29T14:33:52.599Z"
   },
   {
    "duration": 4060,
    "start_time": "2023-04-29T14:34:40.311Z"
   },
   {
    "duration": 4072,
    "start_time": "2023-04-29T14:34:51.863Z"
   },
   {
    "duration": 580322,
    "start_time": "2023-04-29T14:36:09.856Z"
   },
   {
    "duration": 0,
    "start_time": "2023-04-29T14:45:50.179Z"
   },
   {
    "duration": 28,
    "start_time": "2023-04-29T14:46:42.182Z"
   },
   {
    "duration": 734,
    "start_time": "2023-04-29T14:46:42.212Z"
   },
   {
    "duration": 3,
    "start_time": "2023-04-29T14:46:42.948Z"
   },
   {
    "duration": 1015,
    "start_time": "2023-04-29T14:46:42.953Z"
   },
   {
    "duration": 2,
    "start_time": "2023-04-29T14:46:43.971Z"
   },
   {
    "duration": 12,
    "start_time": "2023-04-29T14:46:43.975Z"
   },
   {
    "duration": 8,
    "start_time": "2023-04-29T14:46:43.992Z"
   },
   {
    "duration": 8,
    "start_time": "2023-04-29T14:46:44.001Z"
   },
   {
    "duration": 4,
    "start_time": "2023-04-29T14:46:44.010Z"
   },
   {
    "duration": 28,
    "start_time": "2023-04-29T14:46:44.016Z"
   },
   {
    "duration": 4,
    "start_time": "2023-04-29T14:46:44.046Z"
   },
   {
    "duration": 14,
    "start_time": "2023-04-29T14:46:44.051Z"
   },
   {
    "duration": 6,
    "start_time": "2023-04-29T14:46:44.103Z"
   },
   {
    "duration": 9,
    "start_time": "2023-04-29T14:46:44.111Z"
   },
   {
    "duration": 12,
    "start_time": "2023-04-29T14:46:44.122Z"
   },
   {
    "duration": 5,
    "start_time": "2023-04-29T14:46:44.135Z"
   },
   {
    "duration": 12,
    "start_time": "2023-04-29T14:46:44.141Z"
   },
   {
    "duration": 6,
    "start_time": "2023-04-29T14:46:44.155Z"
   },
   {
    "duration": 25,
    "start_time": "2023-04-29T14:46:44.163Z"
   },
   {
    "duration": 40,
    "start_time": "2023-04-29T14:46:44.192Z"
   },
   {
    "duration": 173,
    "start_time": "2023-04-29T14:46:44.234Z"
   },
   {
    "duration": 166,
    "start_time": "2023-04-29T14:46:44.409Z"
   },
   {
    "duration": 171,
    "start_time": "2023-04-29T14:46:44.577Z"
   },
   {
    "duration": 419,
    "start_time": "2023-04-29T14:46:44.749Z"
   },
   {
    "duration": 551,
    "start_time": "2023-04-29T14:46:45.170Z"
   },
   {
    "duration": 253,
    "start_time": "2023-04-29T14:46:45.723Z"
   },
   {
    "duration": 27,
    "start_time": "2023-04-29T14:46:45.978Z"
   },
   {
    "duration": 246,
    "start_time": "2023-04-29T14:46:46.007Z"
   },
   {
    "duration": 10,
    "start_time": "2023-04-29T14:46:46.255Z"
   },
   {
    "duration": 255,
    "start_time": "2023-04-29T14:46:46.267Z"
   },
   {
    "duration": 8,
    "start_time": "2023-04-29T14:46:46.524Z"
   },
   {
    "duration": 8,
    "start_time": "2023-04-29T14:46:46.534Z"
   },
   {
    "duration": 10,
    "start_time": "2023-04-29T14:46:46.544Z"
   },
   {
    "duration": 257,
    "start_time": "2023-04-29T14:46:46.555Z"
   },
   {
    "duration": 8,
    "start_time": "2023-04-29T14:46:46.814Z"
   },
   {
    "duration": 239,
    "start_time": "2023-04-29T14:46:46.824Z"
   },
   {
    "duration": 8,
    "start_time": "2023-04-29T14:46:47.065Z"
   },
   {
    "duration": 17,
    "start_time": "2023-04-29T14:46:47.075Z"
   },
   {
    "duration": 22,
    "start_time": "2023-04-29T14:46:47.094Z"
   },
   {
    "duration": 183,
    "start_time": "2023-04-29T14:46:47.118Z"
   },
   {
    "duration": 19,
    "start_time": "2023-04-29T14:46:47.310Z"
   },
   {
    "duration": 3,
    "start_time": "2023-04-29T14:46:47.331Z"
   },
   {
    "duration": 33,
    "start_time": "2023-04-29T14:46:47.336Z"
   },
   {
    "duration": 3,
    "start_time": "2023-04-29T14:46:47.370Z"
   },
   {
    "duration": 29,
    "start_time": "2023-04-29T14:46:47.375Z"
   },
   {
    "duration": 5,
    "start_time": "2023-04-29T14:46:47.406Z"
   },
   {
    "duration": 29971,
    "start_time": "2023-04-29T14:50:06.717Z"
   },
   {
    "duration": 176686,
    "start_time": "2023-04-29T14:53:39.856Z"
   },
   {
    "duration": 9,
    "start_time": "2023-04-29T14:56:53.680Z"
   },
   {
    "duration": 11,
    "start_time": "2023-04-29T14:57:56.620Z"
   },
   {
    "duration": 9,
    "start_time": "2023-04-29T14:58:45.859Z"
   },
   {
    "duration": 5,
    "start_time": "2023-04-29T15:00:15.562Z"
   },
   {
    "duration": 9,
    "start_time": "2023-04-29T15:00:36.644Z"
   },
   {
    "duration": 11,
    "start_time": "2023-04-29T15:02:07.662Z"
   },
   {
    "duration": 730,
    "start_time": "2023-04-29T15:06:26.133Z"
   },
   {
    "duration": 522,
    "start_time": "2023-04-29T15:08:26.852Z"
   },
   {
    "duration": 529,
    "start_time": "2023-04-29T15:10:10.327Z"
   },
   {
    "duration": 1416,
    "start_time": "2023-04-29T15:17:41.886Z"
   },
   {
    "duration": 1777,
    "start_time": "2023-04-29T15:17:43.304Z"
   },
   {
    "duration": 2,
    "start_time": "2023-04-29T15:17:45.083Z"
   },
   {
    "duration": 980,
    "start_time": "2023-04-29T15:17:45.087Z"
   },
   {
    "duration": 3,
    "start_time": "2023-04-29T15:17:46.069Z"
   },
   {
    "duration": 20,
    "start_time": "2023-04-29T15:17:46.073Z"
   },
   {
    "duration": 5,
    "start_time": "2023-04-29T15:17:46.094Z"
   },
   {
    "duration": 13,
    "start_time": "2023-04-29T15:17:46.100Z"
   },
   {
    "duration": 9,
    "start_time": "2023-04-29T15:17:46.114Z"
   },
   {
    "duration": 28,
    "start_time": "2023-04-29T15:17:46.124Z"
   },
   {
    "duration": 3,
    "start_time": "2023-04-29T15:17:46.154Z"
   },
   {
    "duration": 19,
    "start_time": "2023-04-29T15:17:46.159Z"
   },
   {
    "duration": 5,
    "start_time": "2023-04-29T15:17:46.192Z"
   },
   {
    "duration": 5,
    "start_time": "2023-04-29T15:17:46.199Z"
   },
   {
    "duration": 12,
    "start_time": "2023-04-29T15:17:46.205Z"
   },
   {
    "duration": 5,
    "start_time": "2023-04-29T15:17:46.218Z"
   },
   {
    "duration": 12,
    "start_time": "2023-04-29T15:17:46.224Z"
   },
   {
    "duration": 6,
    "start_time": "2023-04-29T15:17:46.238Z"
   },
   {
    "duration": 47,
    "start_time": "2023-04-29T15:17:46.246Z"
   },
   {
    "duration": 8,
    "start_time": "2023-04-29T15:17:46.295Z"
   },
   {
    "duration": 172,
    "start_time": "2023-04-29T15:17:46.304Z"
   },
   {
    "duration": 168,
    "start_time": "2023-04-29T15:17:46.478Z"
   },
   {
    "duration": 211,
    "start_time": "2023-04-29T15:17:46.648Z"
   },
   {
    "duration": 381,
    "start_time": "2023-04-29T15:17:46.861Z"
   },
   {
    "duration": 356,
    "start_time": "2023-04-29T15:17:47.243Z"
   },
   {
    "duration": 240,
    "start_time": "2023-04-29T15:17:47.600Z"
   },
   {
    "duration": 8,
    "start_time": "2023-04-29T15:17:47.842Z"
   },
   {
    "duration": 248,
    "start_time": "2023-04-29T15:17:47.852Z"
   },
   {
    "duration": 10,
    "start_time": "2023-04-29T15:17:48.101Z"
   },
   {
    "duration": 331,
    "start_time": "2023-04-29T15:17:48.113Z"
   },
   {
    "duration": 9,
    "start_time": "2023-04-29T15:17:48.445Z"
   },
   {
    "duration": 11,
    "start_time": "2023-04-29T15:17:48.456Z"
   },
   {
    "duration": 29,
    "start_time": "2023-04-29T15:17:48.469Z"
   },
   {
    "duration": 228,
    "start_time": "2023-04-29T15:17:48.500Z"
   },
   {
    "duration": 9,
    "start_time": "2023-04-29T15:17:48.731Z"
   },
   {
    "duration": 220,
    "start_time": "2023-04-29T15:17:48.742Z"
   },
   {
    "duration": 8,
    "start_time": "2023-04-29T15:17:48.964Z"
   },
   {
    "duration": 7,
    "start_time": "2023-04-29T15:17:48.973Z"
   },
   {
    "duration": 14,
    "start_time": "2023-04-29T15:17:48.982Z"
   },
   {
    "duration": 22,
    "start_time": "2023-04-29T15:17:48.998Z"
   },
   {
    "duration": 13,
    "start_time": "2023-04-29T15:17:49.024Z"
   },
   {
    "duration": 3,
    "start_time": "2023-04-29T15:17:49.038Z"
   },
   {
    "duration": 29,
    "start_time": "2023-04-29T15:17:49.043Z"
   },
   {
    "duration": 2,
    "start_time": "2023-04-29T15:17:49.074Z"
   },
   {
    "duration": 13,
    "start_time": "2023-04-29T15:17:49.092Z"
   },
   {
    "duration": 11,
    "start_time": "2023-04-29T15:17:49.107Z"
   },
   {
    "duration": 28085,
    "start_time": "2023-04-29T15:17:49.120Z"
   },
   {
    "duration": 171992,
    "start_time": "2023-04-29T15:18:17.207Z"
   },
   {
    "duration": 3,
    "start_time": "2023-04-29T15:21:09.201Z"
   },
   {
    "duration": 8,
    "start_time": "2023-04-29T15:21:09.206Z"
   },
   {
    "duration": 7,
    "start_time": "2023-04-29T15:21:09.218Z"
   },
   {
    "duration": 8,
    "start_time": "2023-04-29T15:21:09.227Z"
   },
   {
    "duration": 858,
    "start_time": "2023-04-29T15:21:29.235Z"
   },
   {
    "duration": 1327,
    "start_time": "2023-04-29T15:22:16.524Z"
   },
   {
    "duration": 1776,
    "start_time": "2023-04-29T15:22:17.853Z"
   },
   {
    "duration": 3,
    "start_time": "2023-04-29T15:22:19.631Z"
   },
   {
    "duration": 970,
    "start_time": "2023-04-29T15:22:19.635Z"
   },
   {
    "duration": 3,
    "start_time": "2023-04-29T15:22:20.608Z"
   },
   {
    "duration": 8,
    "start_time": "2023-04-29T15:22:20.613Z"
   },
   {
    "duration": 4,
    "start_time": "2023-04-29T15:22:20.623Z"
   },
   {
    "duration": 7,
    "start_time": "2023-04-29T15:22:20.628Z"
   },
   {
    "duration": 5,
    "start_time": "2023-04-29T15:22:20.636Z"
   },
   {
    "duration": 61,
    "start_time": "2023-04-29T15:22:20.643Z"
   },
   {
    "duration": 5,
    "start_time": "2023-04-29T15:22:20.706Z"
   },
   {
    "duration": 21,
    "start_time": "2023-04-29T15:22:20.713Z"
   },
   {
    "duration": 7,
    "start_time": "2023-04-29T15:22:20.735Z"
   },
   {
    "duration": 9,
    "start_time": "2023-04-29T15:22:20.745Z"
   },
   {
    "duration": 7,
    "start_time": "2023-04-29T15:22:20.755Z"
   },
   {
    "duration": 8,
    "start_time": "2023-04-29T15:22:20.764Z"
   },
   {
    "duration": 31,
    "start_time": "2023-04-29T15:22:20.774Z"
   },
   {
    "duration": 7,
    "start_time": "2023-04-29T15:22:20.806Z"
   },
   {
    "duration": 23,
    "start_time": "2023-04-29T15:22:20.815Z"
   },
   {
    "duration": 6,
    "start_time": "2023-04-29T15:22:20.840Z"
   },
   {
    "duration": 194,
    "start_time": "2023-04-29T15:22:20.848Z"
   },
   {
    "duration": 171,
    "start_time": "2023-04-29T15:22:21.044Z"
   },
   {
    "duration": 240,
    "start_time": "2023-04-29T15:22:21.218Z"
   },
   {
    "duration": 435,
    "start_time": "2023-04-29T15:22:21.460Z"
   },
   {
    "duration": 395,
    "start_time": "2023-04-29T15:22:21.898Z"
   },
   {
    "duration": 262,
    "start_time": "2023-04-29T15:22:22.294Z"
   },
   {
    "duration": 9,
    "start_time": "2023-04-29T15:22:22.557Z"
   },
   {
    "duration": 245,
    "start_time": "2023-04-29T15:22:22.567Z"
   },
   {
    "duration": 8,
    "start_time": "2023-04-29T15:22:22.814Z"
   },
   {
    "duration": 327,
    "start_time": "2023-04-29T15:22:22.824Z"
   },
   {
    "duration": 9,
    "start_time": "2023-04-29T15:22:23.152Z"
   },
   {
    "duration": 19,
    "start_time": "2023-04-29T15:22:23.162Z"
   },
   {
    "duration": 21,
    "start_time": "2023-04-29T15:22:23.182Z"
   },
   {
    "duration": 233,
    "start_time": "2023-04-29T15:22:23.205Z"
   },
   {
    "duration": 8,
    "start_time": "2023-04-29T15:22:23.440Z"
   },
   {
    "duration": 231,
    "start_time": "2023-04-29T15:22:23.450Z"
   },
   {
    "duration": 14,
    "start_time": "2023-04-29T15:22:23.683Z"
   },
   {
    "duration": 3,
    "start_time": "2023-04-29T15:22:23.699Z"
   },
   {
    "duration": 19,
    "start_time": "2023-04-29T15:22:23.704Z"
   },
   {
    "duration": 29,
    "start_time": "2023-04-29T15:22:23.725Z"
   },
   {
    "duration": 15,
    "start_time": "2023-04-29T15:22:23.757Z"
   },
   {
    "duration": 4,
    "start_time": "2023-04-29T15:22:23.773Z"
   },
   {
    "duration": 26,
    "start_time": "2023-04-29T15:22:23.778Z"
   },
   {
    "duration": 2,
    "start_time": "2023-04-29T15:22:23.806Z"
   },
   {
    "duration": 19,
    "start_time": "2023-04-29T15:22:23.809Z"
   },
   {
    "duration": 9,
    "start_time": "2023-04-29T15:22:23.830Z"
   },
   {
    "duration": 28463,
    "start_time": "2023-04-29T15:22:23.840Z"
   },
   {
    "duration": 169424,
    "start_time": "2023-04-29T15:22:52.305Z"
   },
   {
    "duration": 2365,
    "start_time": "2023-04-29T15:25:41.731Z"
   },
   {
    "duration": 4221,
    "start_time": "2023-04-29T15:25:44.098Z"
   },
   {
    "duration": 8,
    "start_time": "2023-04-29T15:25:48.321Z"
   },
   {
    "duration": 52,
    "start_time": "2023-04-29T15:28:15.811Z"
   },
   {
    "duration": 1019531,
    "start_time": "2023-04-29T15:30:15.470Z"
   },
   {
    "duration": 516765,
    "start_time": "2023-04-29T16:00:15.942Z"
   },
   {
    "duration": 4,
    "start_time": "2023-04-29T16:09:35.305Z"
   },
   {
    "duration": 149966,
    "start_time": "2023-04-29T16:14:39.535Z"
   },
   {
    "duration": 146025,
    "start_time": "2023-04-29T16:17:38.969Z"
   },
   {
    "duration": 39618,
    "start_time": "2023-04-29T16:20:07.622Z"
   },
   {
    "duration": 248110,
    "start_time": "2023-04-29T16:21:03.761Z"
   },
   {
    "duration": 78264,
    "start_time": "2023-04-29T16:25:26.647Z"
   },
   {
    "duration": 2499,
    "start_time": "2023-04-29T16:27:08.100Z"
   },
   {
    "duration": 16734,
    "start_time": "2023-04-29T16:27:13.365Z"
   },
   {
    "duration": 8,
    "start_time": "2023-04-29T16:31:48.249Z"
   },
   {
    "duration": 9,
    "start_time": "2023-04-29T16:31:57.430Z"
   },
   {
    "duration": 9,
    "start_time": "2023-04-29T16:32:06.602Z"
   },
   {
    "duration": 177320,
    "start_time": "2023-04-29T16:34:56.488Z"
   },
   {
    "duration": 0,
    "start_time": "2023-04-29T16:37:53.812Z"
   },
   {
    "duration": 28329,
    "start_time": "2023-04-29T16:38:11.271Z"
   },
   {
    "duration": 50241,
    "start_time": "2023-04-29T16:39:10.554Z"
   },
   {
    "duration": 18394,
    "start_time": "2023-04-29T16:42:24.707Z"
   },
   {
    "duration": 9,
    "start_time": "2023-04-29T17:02:33.240Z"
   }
  ],
  "kernelspec": {
   "display_name": "Python 3 (ipykernel)",
   "language": "python",
   "name": "python3"
  },
  "language_info": {
   "codemirror_mode": {
    "name": "ipython",
    "version": 3
   },
   "file_extension": ".py",
   "mimetype": "text/x-python",
   "name": "python",
   "nbconvert_exporter": "python",
   "pygments_lexer": "ipython3",
   "version": "3.9.13"
  },
  "toc": {
   "base_numbering": 1,
   "nav_menu": {},
   "number_sections": true,
   "sideBar": true,
   "skip_h1_title": true,
   "title_cell": "Содержание",
   "title_sidebar": "Contents",
   "toc_cell": true,
   "toc_position": {
    "height": "784px",
    "left": "328px",
    "top": "172px",
    "width": "337px"
   },
   "toc_section_display": true,
   "toc_window_display": false
  }
 },
 "nbformat": 4,
 "nbformat_minor": 2
}
