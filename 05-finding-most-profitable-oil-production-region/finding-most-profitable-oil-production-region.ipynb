{
 "cells": [
  {
   "cell_type": "markdown",
   "metadata": {},
   "source": [
    "# Выбор локации для скважины"
   ]
  },
  {
   "cell_type": "markdown",
   "metadata": {},
   "source": [
    "Допустим, вы работаете в добывающей компании «ГлавРосГосНефть». Нужно решить, где бурить новую скважину.\n",
    "\n",
    "Вам предоставлены пробы нефти в трёх регионах: в каждом 10 000 месторождений, где измерили качество нефти и объём её запасов. Постройте модель машинного обучения, которая поможет определить регион, где добыча принесёт наибольшую прибыль. Проанализируйте возможную прибыль и риски техникой *Bootstrap.*\n",
    "\n",
    "Шаги для выбора локации:\n",
    "\n",
    "- В избранном регионе ищут месторождения, для каждого определяют значения признаков;\n",
    "- Строят модель и оценивают объём запасов;\n",
    "- Выбирают месторождения с самым высокими оценками значений. Количество месторождений зависит от бюджета компании и стоимости разработки одной скважины;\n",
    "- Прибыль равна суммарной прибыли отобранных месторождений.\n",
    "\n",
    "\n",
    "Данные геологоразведки трёх регионов находятся в файлах: \n",
    "- /datasets/geo_data_0.csv\n",
    "- /datasets/geo_data_1.csv\n",
    "- /datasets/geo_data_2.csv\n",
    "\n",
    "Признаки:\n",
    "- id — уникальный идентификатор скважины;\n",
    "- f0, f1, f2 — три признака точек (неважно, что они означают, но сами признаки значимы);\n",
    "\n",
    "Целевой признак:\n",
    "- product — объём запасов в скважине (тыс. баррелей).\n",
    "\n",
    "Условия задачи:\n",
    "- Для обучения модели подходит только линейная регрессия (остальные — недостаточно предсказуемые).\n",
    "- При разведке региона исследуют 500 точек, из которых с помощью машинного обучения выбирают 200 лучших для разработки.\n",
    "- Бюджет на разработку скважин в регионе — 10 млрд рублей.\n",
    "- При нынешних ценах один баррель сырья приносит 450 рублей дохода. Доход с каждой единицы продукта составляет 450 тыс. рублей, поскольку объём указан в тысячах баррелей.\n",
    "- После оценки рисков нужно оставить лишь те регионы, в которых вероятность убытков меньше 2.5%. Среди них выбирают регион с наибольшей средней прибылью."
   ]
  },
  {
   "cell_type": "markdown",
   "metadata": {},
   "source": [
    "## Загрузка и подготовка данных"
   ]
  },
  {
   "cell_type": "markdown",
   "metadata": {},
   "source": [
    "Загрузим все необходимые нам библиотеки."
   ]
  },
  {
   "cell_type": "code",
   "execution_count": 1,
   "metadata": {},
   "outputs": [],
   "source": [
    "import pandas as pd\n",
    "import numpy as np\n",
    "from sklearn.model_selection import train_test_split\n",
    "from sklearn.preprocessing import StandardScaler\n",
    "from sklearn.linear_model import LinearRegression\n",
    "from sklearn.metrics import mean_squared_error, mean_absolute_error"
   ]
  },
  {
   "cell_type": "markdown",
   "metadata": {},
   "source": [
    "Загрузим все 3 файла и изучим исходные данные."
   ]
  },
  {
   "cell_type": "code",
   "execution_count": 2,
   "metadata": {},
   "outputs": [],
   "source": [
    "df_0 = pd.read_csv('/datasets/geo_data_0.csv')\n",
    "df_1 = pd.read_csv('/datasets/geo_data_1.csv')\n",
    "df_2 = pd.read_csv('/datasets/geo_data_2.csv')"
   ]
  },
  {
   "cell_type": "code",
   "execution_count": 3,
   "metadata": {},
   "outputs": [],
   "source": [
    "datasets = [df_0, df_1, df_2]"
   ]
  },
  {
   "cell_type": "code",
   "execution_count": 4,
   "metadata": {
    "scrolled": false
   },
   "outputs": [
    {
     "data": {
      "text/plain": [
       "'All the info for region #0'"
      ]
     },
     "metadata": {},
     "output_type": "display_data"
    },
    {
     "data": {
      "text/html": [
       "<div>\n",
       "<style scoped>\n",
       "    .dataframe tbody tr th:only-of-type {\n",
       "        vertical-align: middle;\n",
       "    }\n",
       "\n",
       "    .dataframe tbody tr th {\n",
       "        vertical-align: top;\n",
       "    }\n",
       "\n",
       "    .dataframe thead th {\n",
       "        text-align: right;\n",
       "    }\n",
       "</style>\n",
       "<table border=\"1\" class=\"dataframe\">\n",
       "  <thead>\n",
       "    <tr style=\"text-align: right;\">\n",
       "      <th></th>\n",
       "      <th>id</th>\n",
       "      <th>f0</th>\n",
       "      <th>f1</th>\n",
       "      <th>f2</th>\n",
       "      <th>product</th>\n",
       "    </tr>\n",
       "  </thead>\n",
       "  <tbody>\n",
       "    <tr>\n",
       "      <th>0</th>\n",
       "      <td>txEyH</td>\n",
       "      <td>0.705745</td>\n",
       "      <td>-0.497823</td>\n",
       "      <td>1.221170</td>\n",
       "      <td>105.280062</td>\n",
       "    </tr>\n",
       "    <tr>\n",
       "      <th>1</th>\n",
       "      <td>2acmU</td>\n",
       "      <td>1.334711</td>\n",
       "      <td>-0.340164</td>\n",
       "      <td>4.365080</td>\n",
       "      <td>73.037750</td>\n",
       "    </tr>\n",
       "    <tr>\n",
       "      <th>2</th>\n",
       "      <td>409Wp</td>\n",
       "      <td>1.022732</td>\n",
       "      <td>0.151990</td>\n",
       "      <td>1.419926</td>\n",
       "      <td>85.265647</td>\n",
       "    </tr>\n",
       "    <tr>\n",
       "      <th>3</th>\n",
       "      <td>iJLyR</td>\n",
       "      <td>-0.032172</td>\n",
       "      <td>0.139033</td>\n",
       "      <td>2.978566</td>\n",
       "      <td>168.620776</td>\n",
       "    </tr>\n",
       "    <tr>\n",
       "      <th>4</th>\n",
       "      <td>Xdl7t</td>\n",
       "      <td>1.988431</td>\n",
       "      <td>0.155413</td>\n",
       "      <td>4.751769</td>\n",
       "      <td>154.036647</td>\n",
       "    </tr>\n",
       "    <tr>\n",
       "      <th>5</th>\n",
       "      <td>wX4Hy</td>\n",
       "      <td>0.969570</td>\n",
       "      <td>0.489775</td>\n",
       "      <td>-0.735383</td>\n",
       "      <td>64.741541</td>\n",
       "    </tr>\n",
       "    <tr>\n",
       "      <th>6</th>\n",
       "      <td>tL6pL</td>\n",
       "      <td>0.645075</td>\n",
       "      <td>0.530656</td>\n",
       "      <td>1.780266</td>\n",
       "      <td>49.055285</td>\n",
       "    </tr>\n",
       "    <tr>\n",
       "      <th>7</th>\n",
       "      <td>BYPU6</td>\n",
       "      <td>-0.400648</td>\n",
       "      <td>0.808337</td>\n",
       "      <td>-5.624670</td>\n",
       "      <td>72.943292</td>\n",
       "    </tr>\n",
       "    <tr>\n",
       "      <th>8</th>\n",
       "      <td>j9Oui</td>\n",
       "      <td>0.643105</td>\n",
       "      <td>-0.551583</td>\n",
       "      <td>2.372141</td>\n",
       "      <td>113.356160</td>\n",
       "    </tr>\n",
       "    <tr>\n",
       "      <th>9</th>\n",
       "      <td>OLuZU</td>\n",
       "      <td>2.173381</td>\n",
       "      <td>0.563698</td>\n",
       "      <td>9.441852</td>\n",
       "      <td>127.910945</td>\n",
       "    </tr>\n",
       "  </tbody>\n",
       "</table>\n",
       "</div>"
      ],
      "text/plain": [
       "      id        f0        f1        f2     product\n",
       "0  txEyH  0.705745 -0.497823  1.221170  105.280062\n",
       "1  2acmU  1.334711 -0.340164  4.365080   73.037750\n",
       "2  409Wp  1.022732  0.151990  1.419926   85.265647\n",
       "3  iJLyR -0.032172  0.139033  2.978566  168.620776\n",
       "4  Xdl7t  1.988431  0.155413  4.751769  154.036647\n",
       "5  wX4Hy  0.969570  0.489775 -0.735383   64.741541\n",
       "6  tL6pL  0.645075  0.530656  1.780266   49.055285\n",
       "7  BYPU6 -0.400648  0.808337 -5.624670   72.943292\n",
       "8  j9Oui  0.643105 -0.551583  2.372141  113.356160\n",
       "9  OLuZU  2.173381  0.563698  9.441852  127.910945"
      ]
     },
     "metadata": {},
     "output_type": "display_data"
    },
    {
     "name": "stdout",
     "output_type": "stream",
     "text": [
      "<class 'pandas.core.frame.DataFrame'>\n",
      "RangeIndex: 100000 entries, 0 to 99999\n",
      "Data columns (total 5 columns):\n",
      " #   Column   Non-Null Count   Dtype  \n",
      "---  ------   --------------   -----  \n",
      " 0   id       100000 non-null  object \n",
      " 1   f0       100000 non-null  float64\n",
      " 2   f1       100000 non-null  float64\n",
      " 3   f2       100000 non-null  float64\n",
      " 4   product  100000 non-null  float64\n",
      "dtypes: float64(4), object(1)\n",
      "memory usage: 3.8+ MB\n"
     ]
    },
    {
     "data": {
      "text/plain": [
       "None"
      ]
     },
     "metadata": {},
     "output_type": "display_data"
    },
    {
     "data": {
      "text/html": [
       "<div>\n",
       "<style scoped>\n",
       "    .dataframe tbody tr th:only-of-type {\n",
       "        vertical-align: middle;\n",
       "    }\n",
       "\n",
       "    .dataframe tbody tr th {\n",
       "        vertical-align: top;\n",
       "    }\n",
       "\n",
       "    .dataframe thead th {\n",
       "        text-align: right;\n",
       "    }\n",
       "</style>\n",
       "<table border=\"1\" class=\"dataframe\">\n",
       "  <thead>\n",
       "    <tr style=\"text-align: right;\">\n",
       "      <th></th>\n",
       "      <th>f0</th>\n",
       "      <th>f1</th>\n",
       "      <th>f2</th>\n",
       "      <th>product</th>\n",
       "    </tr>\n",
       "  </thead>\n",
       "  <tbody>\n",
       "    <tr>\n",
       "      <th>count</th>\n",
       "      <td>100000.000000</td>\n",
       "      <td>100000.000000</td>\n",
       "      <td>100000.000000</td>\n",
       "      <td>100000.000000</td>\n",
       "    </tr>\n",
       "    <tr>\n",
       "      <th>mean</th>\n",
       "      <td>0.500419</td>\n",
       "      <td>0.250143</td>\n",
       "      <td>2.502647</td>\n",
       "      <td>92.500000</td>\n",
       "    </tr>\n",
       "    <tr>\n",
       "      <th>std</th>\n",
       "      <td>0.871832</td>\n",
       "      <td>0.504433</td>\n",
       "      <td>3.248248</td>\n",
       "      <td>44.288691</td>\n",
       "    </tr>\n",
       "    <tr>\n",
       "      <th>min</th>\n",
       "      <td>-1.408605</td>\n",
       "      <td>-0.848218</td>\n",
       "      <td>-12.088328</td>\n",
       "      <td>0.000000</td>\n",
       "    </tr>\n",
       "    <tr>\n",
       "      <th>25%</th>\n",
       "      <td>-0.072580</td>\n",
       "      <td>-0.200881</td>\n",
       "      <td>0.287748</td>\n",
       "      <td>56.497507</td>\n",
       "    </tr>\n",
       "    <tr>\n",
       "      <th>50%</th>\n",
       "      <td>0.502360</td>\n",
       "      <td>0.250252</td>\n",
       "      <td>2.515969</td>\n",
       "      <td>91.849972</td>\n",
       "    </tr>\n",
       "    <tr>\n",
       "      <th>75%</th>\n",
       "      <td>1.073581</td>\n",
       "      <td>0.700646</td>\n",
       "      <td>4.715088</td>\n",
       "      <td>128.564089</td>\n",
       "    </tr>\n",
       "    <tr>\n",
       "      <th>max</th>\n",
       "      <td>2.362331</td>\n",
       "      <td>1.343769</td>\n",
       "      <td>16.003790</td>\n",
       "      <td>185.364347</td>\n",
       "    </tr>\n",
       "  </tbody>\n",
       "</table>\n",
       "</div>"
      ],
      "text/plain": [
       "                  f0             f1             f2        product\n",
       "count  100000.000000  100000.000000  100000.000000  100000.000000\n",
       "mean        0.500419       0.250143       2.502647      92.500000\n",
       "std         0.871832       0.504433       3.248248      44.288691\n",
       "min        -1.408605      -0.848218     -12.088328       0.000000\n",
       "25%        -0.072580      -0.200881       0.287748      56.497507\n",
       "50%         0.502360       0.250252       2.515969      91.849972\n",
       "75%         1.073581       0.700646       4.715088     128.564089\n",
       "max         2.362331       1.343769      16.003790     185.364347"
      ]
     },
     "metadata": {},
     "output_type": "display_data"
    },
    {
     "data": {
      "text/plain": [
       "id         0\n",
       "f0         0\n",
       "f1         0\n",
       "f2         0\n",
       "product    0\n",
       "dtype: int64"
      ]
     },
     "metadata": {},
     "output_type": "display_data"
    },
    {
     "data": {
      "text/plain": [
       "0"
      ]
     },
     "metadata": {},
     "output_type": "display_data"
    },
    {
     "data": {
      "text/plain": [
       "'All the info for region #1'"
      ]
     },
     "metadata": {},
     "output_type": "display_data"
    },
    {
     "data": {
      "text/html": [
       "<div>\n",
       "<style scoped>\n",
       "    .dataframe tbody tr th:only-of-type {\n",
       "        vertical-align: middle;\n",
       "    }\n",
       "\n",
       "    .dataframe tbody tr th {\n",
       "        vertical-align: top;\n",
       "    }\n",
       "\n",
       "    .dataframe thead th {\n",
       "        text-align: right;\n",
       "    }\n",
       "</style>\n",
       "<table border=\"1\" class=\"dataframe\">\n",
       "  <thead>\n",
       "    <tr style=\"text-align: right;\">\n",
       "      <th></th>\n",
       "      <th>id</th>\n",
       "      <th>f0</th>\n",
       "      <th>f1</th>\n",
       "      <th>f2</th>\n",
       "      <th>product</th>\n",
       "    </tr>\n",
       "  </thead>\n",
       "  <tbody>\n",
       "    <tr>\n",
       "      <th>0</th>\n",
       "      <td>kBEdx</td>\n",
       "      <td>-15.001348</td>\n",
       "      <td>-8.276000</td>\n",
       "      <td>-0.005876</td>\n",
       "      <td>3.179103</td>\n",
       "    </tr>\n",
       "    <tr>\n",
       "      <th>1</th>\n",
       "      <td>62mP7</td>\n",
       "      <td>14.272088</td>\n",
       "      <td>-3.475083</td>\n",
       "      <td>0.999183</td>\n",
       "      <td>26.953261</td>\n",
       "    </tr>\n",
       "    <tr>\n",
       "      <th>2</th>\n",
       "      <td>vyE1P</td>\n",
       "      <td>6.263187</td>\n",
       "      <td>-5.948386</td>\n",
       "      <td>5.001160</td>\n",
       "      <td>134.766305</td>\n",
       "    </tr>\n",
       "    <tr>\n",
       "      <th>3</th>\n",
       "      <td>KcrkZ</td>\n",
       "      <td>-13.081196</td>\n",
       "      <td>-11.506057</td>\n",
       "      <td>4.999415</td>\n",
       "      <td>137.945408</td>\n",
       "    </tr>\n",
       "    <tr>\n",
       "      <th>4</th>\n",
       "      <td>AHL4O</td>\n",
       "      <td>12.702195</td>\n",
       "      <td>-8.147433</td>\n",
       "      <td>5.004363</td>\n",
       "      <td>134.766305</td>\n",
       "    </tr>\n",
       "    <tr>\n",
       "      <th>5</th>\n",
       "      <td>HHckp</td>\n",
       "      <td>-3.327590</td>\n",
       "      <td>-2.205276</td>\n",
       "      <td>3.003647</td>\n",
       "      <td>84.038886</td>\n",
       "    </tr>\n",
       "    <tr>\n",
       "      <th>6</th>\n",
       "      <td>h5Ujo</td>\n",
       "      <td>-11.142655</td>\n",
       "      <td>-10.133399</td>\n",
       "      <td>4.002382</td>\n",
       "      <td>110.992147</td>\n",
       "    </tr>\n",
       "    <tr>\n",
       "      <th>7</th>\n",
       "      <td>muH9x</td>\n",
       "      <td>4.234715</td>\n",
       "      <td>-0.001354</td>\n",
       "      <td>2.004588</td>\n",
       "      <td>53.906522</td>\n",
       "    </tr>\n",
       "    <tr>\n",
       "      <th>8</th>\n",
       "      <td>YiRkx</td>\n",
       "      <td>13.355129</td>\n",
       "      <td>-0.332068</td>\n",
       "      <td>4.998647</td>\n",
       "      <td>134.766305</td>\n",
       "    </tr>\n",
       "    <tr>\n",
       "      <th>9</th>\n",
       "      <td>jG6Gi</td>\n",
       "      <td>1.069227</td>\n",
       "      <td>-11.025667</td>\n",
       "      <td>4.997844</td>\n",
       "      <td>137.945408</td>\n",
       "    </tr>\n",
       "  </tbody>\n",
       "</table>\n",
       "</div>"
      ],
      "text/plain": [
       "      id         f0         f1        f2     product\n",
       "0  kBEdx -15.001348  -8.276000 -0.005876    3.179103\n",
       "1  62mP7  14.272088  -3.475083  0.999183   26.953261\n",
       "2  vyE1P   6.263187  -5.948386  5.001160  134.766305\n",
       "3  KcrkZ -13.081196 -11.506057  4.999415  137.945408\n",
       "4  AHL4O  12.702195  -8.147433  5.004363  134.766305\n",
       "5  HHckp  -3.327590  -2.205276  3.003647   84.038886\n",
       "6  h5Ujo -11.142655 -10.133399  4.002382  110.992147\n",
       "7  muH9x   4.234715  -0.001354  2.004588   53.906522\n",
       "8  YiRkx  13.355129  -0.332068  4.998647  134.766305\n",
       "9  jG6Gi   1.069227 -11.025667  4.997844  137.945408"
      ]
     },
     "metadata": {},
     "output_type": "display_data"
    },
    {
     "name": "stdout",
     "output_type": "stream",
     "text": [
      "<class 'pandas.core.frame.DataFrame'>\n",
      "RangeIndex: 100000 entries, 0 to 99999\n",
      "Data columns (total 5 columns):\n",
      " #   Column   Non-Null Count   Dtype  \n",
      "---  ------   --------------   -----  \n",
      " 0   id       100000 non-null  object \n",
      " 1   f0       100000 non-null  float64\n",
      " 2   f1       100000 non-null  float64\n",
      " 3   f2       100000 non-null  float64\n",
      " 4   product  100000 non-null  float64\n",
      "dtypes: float64(4), object(1)\n",
      "memory usage: 3.8+ MB\n"
     ]
    },
    {
     "data": {
      "text/plain": [
       "None"
      ]
     },
     "metadata": {},
     "output_type": "display_data"
    },
    {
     "data": {
      "text/html": [
       "<div>\n",
       "<style scoped>\n",
       "    .dataframe tbody tr th:only-of-type {\n",
       "        vertical-align: middle;\n",
       "    }\n",
       "\n",
       "    .dataframe tbody tr th {\n",
       "        vertical-align: top;\n",
       "    }\n",
       "\n",
       "    .dataframe thead th {\n",
       "        text-align: right;\n",
       "    }\n",
       "</style>\n",
       "<table border=\"1\" class=\"dataframe\">\n",
       "  <thead>\n",
       "    <tr style=\"text-align: right;\">\n",
       "      <th></th>\n",
       "      <th>f0</th>\n",
       "      <th>f1</th>\n",
       "      <th>f2</th>\n",
       "      <th>product</th>\n",
       "    </tr>\n",
       "  </thead>\n",
       "  <tbody>\n",
       "    <tr>\n",
       "      <th>count</th>\n",
       "      <td>100000.000000</td>\n",
       "      <td>100000.000000</td>\n",
       "      <td>100000.000000</td>\n",
       "      <td>100000.000000</td>\n",
       "    </tr>\n",
       "    <tr>\n",
       "      <th>mean</th>\n",
       "      <td>1.141296</td>\n",
       "      <td>-4.796579</td>\n",
       "      <td>2.494541</td>\n",
       "      <td>68.825000</td>\n",
       "    </tr>\n",
       "    <tr>\n",
       "      <th>std</th>\n",
       "      <td>8.965932</td>\n",
       "      <td>5.119872</td>\n",
       "      <td>1.703572</td>\n",
       "      <td>45.944423</td>\n",
       "    </tr>\n",
       "    <tr>\n",
       "      <th>min</th>\n",
       "      <td>-31.609576</td>\n",
       "      <td>-26.358598</td>\n",
       "      <td>-0.018144</td>\n",
       "      <td>0.000000</td>\n",
       "    </tr>\n",
       "    <tr>\n",
       "      <th>25%</th>\n",
       "      <td>-6.298551</td>\n",
       "      <td>-8.267985</td>\n",
       "      <td>1.000021</td>\n",
       "      <td>26.953261</td>\n",
       "    </tr>\n",
       "    <tr>\n",
       "      <th>50%</th>\n",
       "      <td>1.153055</td>\n",
       "      <td>-4.813172</td>\n",
       "      <td>2.011479</td>\n",
       "      <td>57.085625</td>\n",
       "    </tr>\n",
       "    <tr>\n",
       "      <th>75%</th>\n",
       "      <td>8.621015</td>\n",
       "      <td>-1.332816</td>\n",
       "      <td>3.999904</td>\n",
       "      <td>107.813044</td>\n",
       "    </tr>\n",
       "    <tr>\n",
       "      <th>max</th>\n",
       "      <td>29.421755</td>\n",
       "      <td>18.734063</td>\n",
       "      <td>5.019721</td>\n",
       "      <td>137.945408</td>\n",
       "    </tr>\n",
       "  </tbody>\n",
       "</table>\n",
       "</div>"
      ],
      "text/plain": [
       "                  f0             f1             f2        product\n",
       "count  100000.000000  100000.000000  100000.000000  100000.000000\n",
       "mean        1.141296      -4.796579       2.494541      68.825000\n",
       "std         8.965932       5.119872       1.703572      45.944423\n",
       "min       -31.609576     -26.358598      -0.018144       0.000000\n",
       "25%        -6.298551      -8.267985       1.000021      26.953261\n",
       "50%         1.153055      -4.813172       2.011479      57.085625\n",
       "75%         8.621015      -1.332816       3.999904     107.813044\n",
       "max        29.421755      18.734063       5.019721     137.945408"
      ]
     },
     "metadata": {},
     "output_type": "display_data"
    },
    {
     "data": {
      "text/plain": [
       "id         0\n",
       "f0         0\n",
       "f1         0\n",
       "f2         0\n",
       "product    0\n",
       "dtype: int64"
      ]
     },
     "metadata": {},
     "output_type": "display_data"
    },
    {
     "data": {
      "text/plain": [
       "0"
      ]
     },
     "metadata": {},
     "output_type": "display_data"
    },
    {
     "data": {
      "text/plain": [
       "'All the info for region #2'"
      ]
     },
     "metadata": {},
     "output_type": "display_data"
    },
    {
     "data": {
      "text/html": [
       "<div>\n",
       "<style scoped>\n",
       "    .dataframe tbody tr th:only-of-type {\n",
       "        vertical-align: middle;\n",
       "    }\n",
       "\n",
       "    .dataframe tbody tr th {\n",
       "        vertical-align: top;\n",
       "    }\n",
       "\n",
       "    .dataframe thead th {\n",
       "        text-align: right;\n",
       "    }\n",
       "</style>\n",
       "<table border=\"1\" class=\"dataframe\">\n",
       "  <thead>\n",
       "    <tr style=\"text-align: right;\">\n",
       "      <th></th>\n",
       "      <th>id</th>\n",
       "      <th>f0</th>\n",
       "      <th>f1</th>\n",
       "      <th>f2</th>\n",
       "      <th>product</th>\n",
       "    </tr>\n",
       "  </thead>\n",
       "  <tbody>\n",
       "    <tr>\n",
       "      <th>0</th>\n",
       "      <td>fwXo0</td>\n",
       "      <td>-1.146987</td>\n",
       "      <td>0.963328</td>\n",
       "      <td>-0.828965</td>\n",
       "      <td>27.758673</td>\n",
       "    </tr>\n",
       "    <tr>\n",
       "      <th>1</th>\n",
       "      <td>WJtFt</td>\n",
       "      <td>0.262778</td>\n",
       "      <td>0.269839</td>\n",
       "      <td>-2.530187</td>\n",
       "      <td>56.069697</td>\n",
       "    </tr>\n",
       "    <tr>\n",
       "      <th>2</th>\n",
       "      <td>ovLUW</td>\n",
       "      <td>0.194587</td>\n",
       "      <td>0.289035</td>\n",
       "      <td>-5.586433</td>\n",
       "      <td>62.871910</td>\n",
       "    </tr>\n",
       "    <tr>\n",
       "      <th>3</th>\n",
       "      <td>q6cA6</td>\n",
       "      <td>2.236060</td>\n",
       "      <td>-0.553760</td>\n",
       "      <td>0.930038</td>\n",
       "      <td>114.572842</td>\n",
       "    </tr>\n",
       "    <tr>\n",
       "      <th>4</th>\n",
       "      <td>WPMUX</td>\n",
       "      <td>-0.515993</td>\n",
       "      <td>1.716266</td>\n",
       "      <td>5.899011</td>\n",
       "      <td>149.600746</td>\n",
       "    </tr>\n",
       "    <tr>\n",
       "      <th>5</th>\n",
       "      <td>LzZXx</td>\n",
       "      <td>-0.758092</td>\n",
       "      <td>0.710691</td>\n",
       "      <td>2.585887</td>\n",
       "      <td>90.222465</td>\n",
       "    </tr>\n",
       "    <tr>\n",
       "      <th>6</th>\n",
       "      <td>WBHRv</td>\n",
       "      <td>-0.574891</td>\n",
       "      <td>0.317727</td>\n",
       "      <td>1.773745</td>\n",
       "      <td>45.641478</td>\n",
       "    </tr>\n",
       "    <tr>\n",
       "      <th>7</th>\n",
       "      <td>XO8fn</td>\n",
       "      <td>-1.906649</td>\n",
       "      <td>-2.458350</td>\n",
       "      <td>-0.177097</td>\n",
       "      <td>72.480640</td>\n",
       "    </tr>\n",
       "    <tr>\n",
       "      <th>8</th>\n",
       "      <td>ybmQ5</td>\n",
       "      <td>1.776292</td>\n",
       "      <td>-0.279356</td>\n",
       "      <td>3.004156</td>\n",
       "      <td>106.616832</td>\n",
       "    </tr>\n",
       "    <tr>\n",
       "      <th>9</th>\n",
       "      <td>OilcN</td>\n",
       "      <td>-1.214452</td>\n",
       "      <td>-0.439314</td>\n",
       "      <td>5.922514</td>\n",
       "      <td>52.954532</td>\n",
       "    </tr>\n",
       "  </tbody>\n",
       "</table>\n",
       "</div>"
      ],
      "text/plain": [
       "      id        f0        f1        f2     product\n",
       "0  fwXo0 -1.146987  0.963328 -0.828965   27.758673\n",
       "1  WJtFt  0.262778  0.269839 -2.530187   56.069697\n",
       "2  ovLUW  0.194587  0.289035 -5.586433   62.871910\n",
       "3  q6cA6  2.236060 -0.553760  0.930038  114.572842\n",
       "4  WPMUX -0.515993  1.716266  5.899011  149.600746\n",
       "5  LzZXx -0.758092  0.710691  2.585887   90.222465\n",
       "6  WBHRv -0.574891  0.317727  1.773745   45.641478\n",
       "7  XO8fn -1.906649 -2.458350 -0.177097   72.480640\n",
       "8  ybmQ5  1.776292 -0.279356  3.004156  106.616832\n",
       "9  OilcN -1.214452 -0.439314  5.922514   52.954532"
      ]
     },
     "metadata": {},
     "output_type": "display_data"
    },
    {
     "name": "stdout",
     "output_type": "stream",
     "text": [
      "<class 'pandas.core.frame.DataFrame'>\n",
      "RangeIndex: 100000 entries, 0 to 99999\n",
      "Data columns (total 5 columns):\n",
      " #   Column   Non-Null Count   Dtype  \n",
      "---  ------   --------------   -----  \n",
      " 0   id       100000 non-null  object \n",
      " 1   f0       100000 non-null  float64\n",
      " 2   f1       100000 non-null  float64\n",
      " 3   f2       100000 non-null  float64\n",
      " 4   product  100000 non-null  float64\n",
      "dtypes: float64(4), object(1)\n",
      "memory usage: 3.8+ MB\n"
     ]
    },
    {
     "data": {
      "text/plain": [
       "None"
      ]
     },
     "metadata": {},
     "output_type": "display_data"
    },
    {
     "data": {
      "text/html": [
       "<div>\n",
       "<style scoped>\n",
       "    .dataframe tbody tr th:only-of-type {\n",
       "        vertical-align: middle;\n",
       "    }\n",
       "\n",
       "    .dataframe tbody tr th {\n",
       "        vertical-align: top;\n",
       "    }\n",
       "\n",
       "    .dataframe thead th {\n",
       "        text-align: right;\n",
       "    }\n",
       "</style>\n",
       "<table border=\"1\" class=\"dataframe\">\n",
       "  <thead>\n",
       "    <tr style=\"text-align: right;\">\n",
       "      <th></th>\n",
       "      <th>f0</th>\n",
       "      <th>f1</th>\n",
       "      <th>f2</th>\n",
       "      <th>product</th>\n",
       "    </tr>\n",
       "  </thead>\n",
       "  <tbody>\n",
       "    <tr>\n",
       "      <th>count</th>\n",
       "      <td>100000.000000</td>\n",
       "      <td>100000.000000</td>\n",
       "      <td>100000.000000</td>\n",
       "      <td>100000.000000</td>\n",
       "    </tr>\n",
       "    <tr>\n",
       "      <th>mean</th>\n",
       "      <td>0.002023</td>\n",
       "      <td>-0.002081</td>\n",
       "      <td>2.495128</td>\n",
       "      <td>95.000000</td>\n",
       "    </tr>\n",
       "    <tr>\n",
       "      <th>std</th>\n",
       "      <td>1.732045</td>\n",
       "      <td>1.730417</td>\n",
       "      <td>3.473445</td>\n",
       "      <td>44.749921</td>\n",
       "    </tr>\n",
       "    <tr>\n",
       "      <th>min</th>\n",
       "      <td>-8.760004</td>\n",
       "      <td>-7.084020</td>\n",
       "      <td>-11.970335</td>\n",
       "      <td>0.000000</td>\n",
       "    </tr>\n",
       "    <tr>\n",
       "      <th>25%</th>\n",
       "      <td>-1.162288</td>\n",
       "      <td>-1.174820</td>\n",
       "      <td>0.130359</td>\n",
       "      <td>59.450441</td>\n",
       "    </tr>\n",
       "    <tr>\n",
       "      <th>50%</th>\n",
       "      <td>0.009424</td>\n",
       "      <td>-0.009482</td>\n",
       "      <td>2.484236</td>\n",
       "      <td>94.925613</td>\n",
       "    </tr>\n",
       "    <tr>\n",
       "      <th>75%</th>\n",
       "      <td>1.158535</td>\n",
       "      <td>1.163678</td>\n",
       "      <td>4.858794</td>\n",
       "      <td>130.595027</td>\n",
       "    </tr>\n",
       "    <tr>\n",
       "      <th>max</th>\n",
       "      <td>7.238262</td>\n",
       "      <td>7.844801</td>\n",
       "      <td>16.739402</td>\n",
       "      <td>190.029838</td>\n",
       "    </tr>\n",
       "  </tbody>\n",
       "</table>\n",
       "</div>"
      ],
      "text/plain": [
       "                  f0             f1             f2        product\n",
       "count  100000.000000  100000.000000  100000.000000  100000.000000\n",
       "mean        0.002023      -0.002081       2.495128      95.000000\n",
       "std         1.732045       1.730417       3.473445      44.749921\n",
       "min        -8.760004      -7.084020     -11.970335       0.000000\n",
       "25%        -1.162288      -1.174820       0.130359      59.450441\n",
       "50%         0.009424      -0.009482       2.484236      94.925613\n",
       "75%         1.158535       1.163678       4.858794     130.595027\n",
       "max         7.238262       7.844801      16.739402     190.029838"
      ]
     },
     "metadata": {},
     "output_type": "display_data"
    },
    {
     "data": {
      "text/plain": [
       "id         0\n",
       "f0         0\n",
       "f1         0\n",
       "f2         0\n",
       "product    0\n",
       "dtype: int64"
      ]
     },
     "metadata": {},
     "output_type": "display_data"
    },
    {
     "data": {
      "text/plain": [
       "0"
      ]
     },
     "metadata": {},
     "output_type": "display_data"
    }
   ],
   "source": [
    "a = 0\n",
    "for df in datasets:\n",
    "    display(f'All the info for region #{a}')\n",
    "    display(df.head(10))\n",
    "    display(df.info())\n",
    "    display(df.describe())\n",
    "    display(df.isna().sum())\n",
    "    display(df.duplicated().sum())\n",
    "    a += 1"
   ]
  },
  {
   "cell_type": "markdown",
   "metadata": {},
   "source": [
    "Данные выглядят хорошо и почти не требуют предварительной подготовки. Единственное, что мы сделаем - удалим уникальный идентификатор скважины во всех трех таблицах."
   ]
  },
  {
   "cell_type": "code",
   "execution_count": 5,
   "metadata": {},
   "outputs": [],
   "source": [
    "df_0 = df_0.drop(['id'], axis=1)\n",
    "df_1 = df_1.drop(['id'], axis=1)\n",
    "df_2 = df_2.drop(['id'], axis=1)"
   ]
  },
  {
   "cell_type": "code",
   "execution_count": 6,
   "metadata": {},
   "outputs": [
    {
     "data": {
      "text/html": [
       "<div>\n",
       "<style scoped>\n",
       "    .dataframe tbody tr th:only-of-type {\n",
       "        vertical-align: middle;\n",
       "    }\n",
       "\n",
       "    .dataframe tbody tr th {\n",
       "        vertical-align: top;\n",
       "    }\n",
       "\n",
       "    .dataframe thead th {\n",
       "        text-align: right;\n",
       "    }\n",
       "</style>\n",
       "<table border=\"1\" class=\"dataframe\">\n",
       "  <thead>\n",
       "    <tr style=\"text-align: right;\">\n",
       "      <th></th>\n",
       "      <th>f0</th>\n",
       "      <th>f1</th>\n",
       "      <th>f2</th>\n",
       "      <th>product</th>\n",
       "    </tr>\n",
       "  </thead>\n",
       "  <tbody>\n",
       "    <tr>\n",
       "      <th>0</th>\n",
       "      <td>0.705745</td>\n",
       "      <td>-0.497823</td>\n",
       "      <td>1.221170</td>\n",
       "      <td>105.280062</td>\n",
       "    </tr>\n",
       "    <tr>\n",
       "      <th>1</th>\n",
       "      <td>1.334711</td>\n",
       "      <td>-0.340164</td>\n",
       "      <td>4.365080</td>\n",
       "      <td>73.037750</td>\n",
       "    </tr>\n",
       "    <tr>\n",
       "      <th>2</th>\n",
       "      <td>1.022732</td>\n",
       "      <td>0.151990</td>\n",
       "      <td>1.419926</td>\n",
       "      <td>85.265647</td>\n",
       "    </tr>\n",
       "    <tr>\n",
       "      <th>3</th>\n",
       "      <td>-0.032172</td>\n",
       "      <td>0.139033</td>\n",
       "      <td>2.978566</td>\n",
       "      <td>168.620776</td>\n",
       "    </tr>\n",
       "    <tr>\n",
       "      <th>4</th>\n",
       "      <td>1.988431</td>\n",
       "      <td>0.155413</td>\n",
       "      <td>4.751769</td>\n",
       "      <td>154.036647</td>\n",
       "    </tr>\n",
       "  </tbody>\n",
       "</table>\n",
       "</div>"
      ],
      "text/plain": [
       "         f0        f1        f2     product\n",
       "0  0.705745 -0.497823  1.221170  105.280062\n",
       "1  1.334711 -0.340164  4.365080   73.037750\n",
       "2  1.022732  0.151990  1.419926   85.265647\n",
       "3 -0.032172  0.139033  2.978566  168.620776\n",
       "4  1.988431  0.155413  4.751769  154.036647"
      ]
     },
     "execution_count": 6,
     "metadata": {},
     "output_type": "execute_result"
    }
   ],
   "source": [
    "df_0.head()"
   ]
  },
  {
   "cell_type": "markdown",
   "metadata": {},
   "source": [
    "Проверим количество нулевых значений целевого признака во всех регионах, а также распределение значение на гистограмме."
   ]
  },
  {
   "cell_type": "code",
   "execution_count": 7,
   "metadata": {},
   "outputs": [
    {
     "data": {
      "text/plain": [
       "1"
      ]
     },
     "metadata": {},
     "output_type": "display_data"
    },
    {
     "data": {
      "text/plain": [
       "8235"
      ]
     },
     "metadata": {},
     "output_type": "display_data"
    },
    {
     "data": {
      "text/plain": [
       "1"
      ]
     },
     "metadata": {},
     "output_type": "display_data"
    }
   ],
   "source": [
    "for df in datasets:\n",
    "        display(df[df['product']==0]['product'].count())"
   ]
  },
  {
   "cell_type": "code",
   "execution_count": 8,
   "metadata": {},
   "outputs": [
    {
     "data": {
      "text/plain": [
       "<AxesSubplot:ylabel='Frequency'>"
      ]
     },
     "execution_count": 8,
     "metadata": {},
     "output_type": "execute_result"
    },
    {
     "data": {
      "image/png": "[encoded data removed]",
      "text/plain": [
       "<Figure size 432x288 with 1 Axes>"
      ]
     },
     "metadata": {
      "needs_background": "light"
     },
     "output_type": "display_data"
    }
   ],
   "source": [
    "df_0['product'].plot(kind=\"hist\")"
   ]
  },
  {
   "cell_type": "code",
   "execution_count": 9,
   "metadata": {},
   "outputs": [
    {
     "data": {
      "text/plain": [
       "<AxesSubplot:ylabel='Frequency'>"
      ]
     },
     "execution_count": 9,
     "metadata": {},
     "output_type": "execute_result"
    },
    {
     "data": {
      "image/png": "[encoded data removed]",
      "text/plain": [
       "<Figure size 432x288 with 1 Axes>"
      ]
     },
     "metadata": {
      "needs_background": "light"
     },
     "output_type": "display_data"
    }
   ],
   "source": [
    "df_1['product'].plot(kind=\"hist\")"
   ]
  },
  {
   "cell_type": "code",
   "execution_count": 10,
   "metadata": {},
   "outputs": [
    {
     "data": {
      "text/plain": [
       "<AxesSubplot:ylabel='Frequency'>"
      ]
     },
     "execution_count": 10,
     "metadata": {},
     "output_type": "execute_result"
    },
    {
     "data": {
      "image/png": "[encoded data removed]",
      "text/plain": [
       "<Figure size 432x288 with 1 Axes>"
      ]
     },
     "metadata": {
      "needs_background": "light"
     },
     "output_type": "display_data"
    }
   ],
   "source": [
    "df_2['product'].plot(kind=\"hist\")"
   ]
  },
  {
   "cell_type": "markdown",
   "metadata": {},
   "source": [
    "В регионе #1 оказалось 8235 нулевых значений (т.е. около 8.235%). Это говорит нам о том, что:\n",
    "- либо объемы по этим скважинам уже истощены;\n",
    "- либо их объемы не были измерены корректно и были заполнены нулями.\n",
    "\n",
    "Помимо этого, у нас также есть большое кол-во скважин с максимальным кол-вом баррелей в них.\n",
    "Поскольку мы не знаем наверняка, в чем причина, оставим все как есть.\n",
    "\n",
    "Данные по региону #0 и #2 выглядят хорошо и их распределения целевого признака похожи на нормальные."
   ]
  },
  {
   "cell_type": "markdown",
   "metadata": {},
   "source": [
    "## Обучение и проверка модели"
   ]
  },
  {
   "cell_type": "markdown",
   "metadata": {},
   "source": [
    "Выделим признаки *features* и целевой признак *target*, а затем разделим исходные данные на обучающую и валидационную выборки в соотношении 75:25. А также выделим признаки и целевой признак для каждой выборки. Для этого создадим функцию **data_split**, и затем применим к каждому региону."
   ]
  },
  {
   "cell_type": "code",
   "execution_count": 11,
   "metadata": {},
   "outputs": [],
   "source": [
    "def data_split(df, target):\n",
    "    features = df.drop([target], axis=1)\n",
    "    target = df[target]\n",
    "    \n",
    "    features_train, features_valid, target_train, target_valid = train_test_split(features, target, test_size=0.25, random_state=12345)\n",
    "    return features_train, features_valid, target_train, target_valid"
   ]
  },
  {
   "cell_type": "code",
   "execution_count": 12,
   "metadata": {},
   "outputs": [],
   "source": [
    "features_train_0, features_valid_0, target_train_0, target_valid_0 = data_split(df_0, 'product')\n",
    "features_train_1, features_valid_1, target_train_1, target_valid_1 = data_split(df_1, 'product')\n",
    "features_train_2, features_valid_2, target_train_2, target_valid_2 = data_split(df_2, 'product')"
   ]
  },
  {
   "cell_type": "code",
   "execution_count": 13,
   "metadata": {},
   "outputs": [
    {
     "name": "stdout",
     "output_type": "stream",
     "text": [
      "Размер тренировочной выборки региона #0: 75000\n",
      "Размер валидационной выборки региона #0: 25000\n"
     ]
    }
   ],
   "source": [
    "print('Размер тренировочной выборки региона #0:', features_train_0.shape[0])\n",
    "print('Размер валидационной выборки региона #0:', features_valid_0.shape[0])"
   ]
  },
  {
   "cell_type": "markdown",
   "metadata": {},
   "source": [
    "Проведем маштабирование признаков с помощью метода *StandardScaler*. Для этого создадим функцию **features_scaled** и применим ко всем признакам каждой выборки."
   ]
  },
  {
   "cell_type": "code",
   "execution_count": 14,
   "metadata": {},
   "outputs": [],
   "source": [
    "def features_scaled(features_train, features_valid):\n",
    "    scaler = StandardScaler()\n",
    "    scaler.fit(features_train)\n",
    "    train = scaler.transform(features_train)\n",
    "    valid = scaler.transform(features_valid)\n",
    "    return train, valid"
   ]
  },
  {
   "cell_type": "code",
   "execution_count": 15,
   "metadata": {},
   "outputs": [],
   "source": [
    "features_train_0, features_valid_0 = features_scaled(features_train_0, features_valid_0)\n",
    "features_train_1, features_valid_1 = features_scaled(features_train_1, features_valid_1)\n",
    "features_train_2, features_valid_2 = features_scaled(features_train_2, features_valid_2)"
   ]
  },
  {
   "cell_type": "markdown",
   "metadata": {},
   "source": [
    "Обучим три модели ***линейной регрессии***, сделаем необходимые предсказания. Затем узнаем средний запас предсказанного сырья и RMSE каждой модели. Для этого снова создадим функцию, назовем ее **linearregression_mse** и применим к каждому региону."
   ]
  },
  {
   "cell_type": "code",
   "execution_count": 16,
   "metadata": {},
   "outputs": [],
   "source": [
    "def linearregression_mse(features_train, features_valid, target_train, target_valid):\n",
    "    model = LinearRegression()\n",
    "    model.fit(features_train, target_train)\n",
    "    predictions = model.predict(features_valid)\n",
    "    rmse = (mean_squared_error(target_valid, predictions))**0.5\n",
    "    return predictions, rmse"
   ]
  },
  {
   "cell_type": "code",
   "execution_count": 17,
   "metadata": {},
   "outputs": [
    {
     "name": "stdout",
     "output_type": "stream",
     "text": [
      "Средний запас предсказанного сырья для региона #0: 92.59256778438035 тысяч баррелей.\n",
      "RMSE модели для региона #0: 37.5794217150813\n"
     ]
    }
   ],
   "source": [
    "predictions_0, rmse_0 = linearregression_mse(features_train_0, features_valid_0, target_train_0, target_valid_0)\n",
    "print(f'Средний запас предсказанного сырья для региона #0: {predictions_0.mean()} тысяч баррелей.')\n",
    "print(f'RMSE модели для региона #0: {rmse_0}')"
   ]
  },
  {
   "cell_type": "code",
   "execution_count": 18,
   "metadata": {},
   "outputs": [
    {
     "name": "stdout",
     "output_type": "stream",
     "text": [
      "Средний запас предсказанного сырья для региона #1: 68.728546895446 тысяч баррелей.\n",
      "RMSE модели для региона #1: 0.893099286775617\n"
     ]
    }
   ],
   "source": [
    "predictions_1, rmse_1 = linearregression_mse(features_train_1, features_valid_1, target_train_1, target_valid_1)\n",
    "print(f'Средний запас предсказанного сырья для региона #1: {predictions_1.mean()} тысяч баррелей.')\n",
    "print(f'RMSE модели для региона #1: {rmse_1}')"
   ]
  },
  {
   "cell_type": "code",
   "execution_count": 19,
   "metadata": {},
   "outputs": [
    {
     "name": "stdout",
     "output_type": "stream",
     "text": [
      "Средний запас предсказанного сырья для региона #2: 94.96504596800489 тысяч баррелей.\n",
      "RMSE модели для региона #2: 40.02970873393434\n"
     ]
    }
   ],
   "source": [
    "predictions_2, rmse_2 = linearregression_mse(features_train_2, features_valid_2, target_train_2, target_valid_2)\n",
    "print(f'Средний запас предсказанного сырья для региона #2: {predictions_2.mean()} тысяч баррелей.')\n",
    "print(f'RMSE модели для региона #2: {rmse_2}')"
   ]
  },
  {
   "cell_type": "markdown",
   "metadata": {},
   "source": [
    "**Вывод:**\n",
    "\n",
    "Мы получили хороший результат RMSE моделей для региона #1, RMSE модели для региона #1 ниже всех и получилась 0.8931. Однако, средний запас предсказанного сырья для региона #1 также ниже, чем в остальных регионах, и составил 68.73 тысяч баррелей. Скорее всего, это связано с тем, что, как мы выяснили ранее, в регионе #1 около 8,235% данных с нулевым значением по целевому признаку."
   ]
  },
  {
   "cell_type": "markdown",
   "metadata": {},
   "source": [
    "## Подготовка к расчёту прибыли"
   ]
  },
  {
   "cell_type": "markdown",
   "metadata": {},
   "source": [
    "Еще раз повторим условия задачи:\n",
    "\n",
    "- При разведке региона исследуют 500 точек, из которых с помощью машинного обучения выбирают 200 лучших для разработки.\n",
    "- Бюджет на разработку скважин в регионе — 10 млрд рублей.\n",
    "- При нынешних ценах один баррель сырья приносит 450 рублей дохода. Доход с каждой единицы продукта составляет 450 тыс. рублей, поскольку объём указан в тысячах баррелей.\n",
    "- После оценки рисков нужно оставить лишь те регионы, в которых вероятность убытков меньше 2.5%. Среди них выбирают регион с наибольшей средней прибылью.\n",
    "\n",
    "Введем новые переменные."
   ]
  },
  {
   "cell_type": "code",
   "execution_count": 20,
   "metadata": {},
   "outputs": [],
   "source": [
    "POINTS = 500\n",
    "BEST_POINTS = 200\n",
    "BUDGET = 10**10\n",
    "INCOME_PER_POINT = 450000"
   ]
  },
  {
   "cell_type": "markdown",
   "metadata": {},
   "source": [
    "Рассчитаем, сколько баррелей в среднем необходимо добыть для безубыточной разработки новой скважины."
   ]
  },
  {
   "cell_type": "code",
   "execution_count": 21,
   "metadata": {},
   "outputs": [
    {
     "name": "stdout",
     "output_type": "stream",
     "text": [
      "Достаточный объём сырья для безубыточной разработки новой скважины составляет 111.11111111111111 тыс баррелей.\n"
     ]
    }
   ],
   "source": [
    "average_income = (BUDGET/BEST_POINTS)/INCOME_PER_POINT\n",
    "print(f'Достаточный объём сырья для безубыточной разработки новой скважины составляет {average_income} тыс баррелей.')"
   ]
  },
  {
   "cell_type": "markdown",
   "metadata": {},
   "source": [
    "Сравним полученный объём сырья со средним запасом в каждом регионе."
   ]
  },
  {
   "cell_type": "code",
   "execution_count": 22,
   "metadata": {},
   "outputs": [
    {
     "name": "stdout",
     "output_type": "stream",
     "text": [
      "Средний запас нефти на скважину в регионе #0 92.50000000000001\n",
      "Средний запас нефти на скважину в регионе #1 68.82500000000002\n",
      "Средний запас нефти на скважину в регионе #2 95.00000000000004\n"
     ]
    }
   ],
   "source": [
    "print('Средний запас нефти на скважину в регионе #0', df_0['product'].mean())\n",
    "print('Средний запас нефти на скважину в регионе #1', df_1['product'].mean())\n",
    "print('Средний запас нефти на скважину в регионе #2', df_2['product'].mean())"
   ]
  },
  {
   "cell_type": "markdown",
   "metadata": {},
   "source": [
    "**Вывод:**\n",
    "\n",
    "Пока однозначный вывод сделать мы не можем, однако, судя по среднему запасу нефти на скважину в каждом регионе, наибольшая вероятность прибольности есть у регионов #2 и #0."
   ]
  },
  {
   "cell_type": "markdown",
   "metadata": {},
   "source": [
    "## Расчёт прибыли и рисков "
   ]
  },
  {
   "cell_type": "markdown",
   "metadata": {},
   "source": [
    "Напишем функцию для расчёта прибыли по выбранным скважинам и предсказаниям модели:\n",
    "- Выберем скважины с максимальными значениями предсказаний (топ-200). \n",
    "- Просуммируем целевое значение объёма сырья, соответствующее этим предсказаниям.\n",
    "- Рассчитаем прибыль для полученного объёма сырья."
   ]
  },
  {
   "cell_type": "markdown",
   "metadata": {},
   "source": [
    "Перед этим переведем все наши предсказания в pd.Series и сбросим индексы целевого признака в валидационной выборке для каждого региона."
   ]
  },
  {
   "cell_type": "code",
   "execution_count": 23,
   "metadata": {},
   "outputs": [],
   "source": [
    "predictions_0 = pd.Series(predictions_0)\n",
    "predictions_1 = pd.Series(predictions_1)\n",
    "predictions_2 = pd.Series(predictions_2)\n",
    "\n",
    "target_valid_0.reset_index(drop=True, inplace=True)\n",
    "target_valid_1.reset_index(drop=True, inplace=True)\n",
    "target_valid_2.reset_index(drop=True, inplace=True)"
   ]
  },
  {
   "cell_type": "markdown",
   "metadata": {},
   "source": [
    "Пишем функцию."
   ]
  },
  {
   "cell_type": "code",
   "execution_count": 24,
   "metadata": {},
   "outputs": [],
   "source": [
    "def revenue(target, probabilities):\n",
    "    probs_sorted = probabilities.sort_values(ascending=False)\n",
    "    selected = target[probs_sorted.index][:200]\n",
    "    profit = (INCOME_PER_POINT * selected.sum()) - BUDGET\n",
    "    return profit"
   ]
  },
  {
   "cell_type": "markdown",
   "metadata": {},
   "source": [
    "Прибыль с 200 лучших скважин в регионе #0 (млрд руб):"
   ]
  },
  {
   "cell_type": "code",
   "execution_count": 25,
   "metadata": {},
   "outputs": [
    {
     "data": {
      "text/plain": [
       "3.3208260431398506"
      ]
     },
     "execution_count": 25,
     "metadata": {},
     "output_type": "execute_result"
    }
   ],
   "source": [
    "revenue(target_valid_0, predictions_0) / 10**9"
   ]
  },
  {
   "cell_type": "markdown",
   "metadata": {},
   "source": [
    "Прибыль с 200 лучших скважин в регионе #1 (млрд руб):"
   ]
  },
  {
   "cell_type": "code",
   "execution_count": 26,
   "metadata": {},
   "outputs": [
    {
     "data": {
      "text/plain": [
       "2.4150866966815108"
      ]
     },
     "execution_count": 26,
     "metadata": {},
     "output_type": "execute_result"
    }
   ],
   "source": [
    "revenue(target_valid_1, predictions_1) / 10**9"
   ]
  },
  {
   "cell_type": "markdown",
   "metadata": {},
   "source": [
    "Прибыль с 200 лучших скважин в регионе #2 (млрд руб):"
   ]
  },
  {
   "cell_type": "code",
   "execution_count": 27,
   "metadata": {},
   "outputs": [
    {
     "data": {
      "text/plain": [
       "2.7103499635998327"
      ]
     },
     "execution_count": 27,
     "metadata": {},
     "output_type": "execute_result"
    }
   ],
   "source": [
    "revenue(target_valid_2, predictions_2) / 10**9"
   ]
  },
  {
   "cell_type": "markdown",
   "metadata": {},
   "source": [
    "Посчитаем риски и прибыль для каждого региона. Для этого применим технику Bootstrap с 1000 выборок, чтобы найти распределение прибыли."
   ]
  },
  {
   "cell_type": "code",
   "execution_count": 28,
   "metadata": {},
   "outputs": [],
   "source": [
    "state = np.random.RandomState(12345)\n",
    "\n",
    "def bootstrap_revenue(target, probabilities):\n",
    "    values = []\n",
    "    loss = 0\n",
    "    for i in range(1000):\n",
    "        target_subsample = target.sample(n=500, replace=True, random_state=state)\n",
    "        probs_subsample = probabilities[target_subsample.index]\n",
    "        profit = revenue(target_subsample, probs_subsample)\n",
    "        if profit < 0:\n",
    "            loss += 1\n",
    "        values.append(profit) \n",
    "\n",
    "    values = pd.Series(values)\n",
    "    \n",
    "    mean = values.mean()\n",
    "    lower = values.quantile(0.025)\n",
    "    upper = values.quantile(0.975)\n",
    "    loss_risk = loss / len(values) * 100\n",
    "\n",
    "    return mean, lower, upper, loss_risk"
   ]
  },
  {
   "cell_type": "markdown",
   "metadata": {},
   "source": [
    "Результаты для региона #0:"
   ]
  },
  {
   "cell_type": "code",
   "execution_count": 29,
   "metadata": {},
   "outputs": [
    {
     "name": "stdout",
     "output_type": "stream",
     "text": [
      "Средняя прибыль 425938526.91 руб.\n",
      "95%-й доверительный интервал -102090094.84 - 947976353.36 руб.\n",
      "Риск убытков 6.0 %\n"
     ]
    }
   ],
   "source": [
    "mean_0, lower_0, upper_0, loss_risk_0 = bootstrap_revenue(target_valid_0, predictions_0)\n",
    "\n",
    "print(f'Средняя прибыль {round(mean_0, 2)} руб.')\n",
    "print(f'95%-й доверительный интервал {round(lower_0, 2)} - {round(upper_0, 2)} руб.')\n",
    "print(f'Риск убытков {loss_risk_0} %')"
   ]
  },
  {
   "cell_type": "markdown",
   "metadata": {},
   "source": [
    "Результаты для региона #1:"
   ]
  },
  {
   "cell_type": "code",
   "execution_count": 30,
   "metadata": {},
   "outputs": [
    {
     "name": "stdout",
     "output_type": "stream",
     "text": [
      "Средняя прибыль 518259493.7 руб.\n",
      "95%-й доверительный интервал 128123231.43 - 953612982.07 руб.\n",
      "Риск убытков 0.3 %\n"
     ]
    }
   ],
   "source": [
    "mean_1, lower_1, upper_1, loss_risk_1 = bootstrap_revenue(target_valid_1, predictions_1)\n",
    "\n",
    "print(f'Средняя прибыль {round(mean_1, 2)} руб.')\n",
    "print(f'95%-й доверительный интервал {round(lower_1, 2)} - {round(upper_1, 2)} руб.')\n",
    "print(f'Риск убытков {loss_risk_1} %')"
   ]
  },
  {
   "cell_type": "markdown",
   "metadata": {},
   "source": [
    "Результаты для региона #2:"
   ]
  },
  {
   "cell_type": "code",
   "execution_count": 31,
   "metadata": {},
   "outputs": [
    {
     "name": "stdout",
     "output_type": "stream",
     "text": [
      "Средняя прибыль 420194005.34 руб.\n",
      "95%-й доверительный интервал -115852609.16 - 989629939.84 руб.\n",
      "Риск убытков 6.2 %\n"
     ]
    }
   ],
   "source": [
    "mean_2, lower_2, upper_2, loss_risk_2 = bootstrap_revenue(target_valid_2, predictions_2)\n",
    "\n",
    "print(f'Средняя прибыль {round(mean_2, 2)} руб.')\n",
    "print(f'95%-й доверительный интервал {round(lower_2, 2)} - {round(upper_2, 2)} руб.')\n",
    "print(f'Риск убытков {loss_risk_2} %')"
   ]
  },
  {
   "cell_type": "markdown",
   "metadata": {},
   "source": [
    "**Вывод:**\n",
    "\n",
    "По полученным данным мы можем сделать вывод о том, что наибольшая прибыль у нас во регионе #1, риск убытков также в этом регионе меньше, чем в остальных. В регионах #0 и #2 у нас высокие риски убытков, а также 95% доверительные интервалы захватывают отрицательный профит.\n",
    "Соответсвенно, мы можем выбрать регион #1 для для разработки скважин, несмотря на то, что в этом регионе у нас был самый маленький средний запас предсказанного сырья."
   ]
  },
  {
   "cell_type": "markdown",
   "metadata": {},
   "source": [
    "## Итоговый вывод ##"
   ]
  },
  {
   "cell_type": "markdown",
   "metadata": {},
   "source": [
    "В ходе проделланой работы мы:\n",
    "- Загрузили и подготовили данные для обучения моделей.\n",
    "- Обучили модели линейной регрессии для каждого региона.\n",
    "- Вычислили средний запас предсказанного сырья для каждого региона, а также их RMSE.\n",
    "- Вычислили достаточный объём сырья для безубыточной разработки новой скважины.\n",
    "- Посчитали риски и прибыль для каждого региона и выяснили, что наилучший регион для разработки скважин это регион №1."
   ]
  },
  {
   "cell_type": "code",
   "execution_count": null,
   "metadata": {},
   "outputs": [],
   "source": []
  }
 ],
 "metadata": {
  "ExecuteTimeLog": [
   {
    "duration": 1023,
    "start_time": "2023-04-18T10:33:36.341Z"
   },
   {
    "duration": 3,
    "start_time": "2023-04-18T10:38:01.376Z"
   },
   {
    "duration": 1544,
    "start_time": "2023-04-18T10:38:01.380Z"
   },
   {
    "duration": 3,
    "start_time": "2023-04-18T10:38:02.925Z"
   },
   {
    "duration": 44,
    "start_time": "2023-04-18T10:38:02.929Z"
   },
   {
    "duration": 150,
    "start_time": "2023-04-18T10:41:13.450Z"
   },
   {
    "duration": 205,
    "start_time": "2023-04-18T10:42:09.343Z"
   },
   {
    "duration": 163,
    "start_time": "2023-04-18T10:42:18.549Z"
   },
   {
    "duration": 178,
    "start_time": "2023-04-18T10:42:25.726Z"
   },
   {
    "duration": 101,
    "start_time": "2023-04-18T10:42:53.051Z"
   },
   {
    "duration": 168,
    "start_time": "2023-04-18T10:44:04.426Z"
   },
   {
    "duration": 2,
    "start_time": "2023-04-18T10:44:41.159Z"
   },
   {
    "duration": 9,
    "start_time": "2023-04-18T10:44:43.982Z"
   },
   {
    "duration": 8,
    "start_time": "2023-04-18T10:45:25.162Z"
   },
   {
    "duration": 3,
    "start_time": "2023-04-18T10:45:28.422Z"
   },
   {
    "duration": 8,
    "start_time": "2023-04-18T10:45:30.100Z"
   },
   {
    "duration": 43,
    "start_time": "2023-04-18T10:45:46.676Z"
   },
   {
    "duration": 8,
    "start_time": "2023-04-18T10:45:51.572Z"
   },
   {
    "duration": 197,
    "start_time": "2023-04-18T10:47:49.785Z"
   },
   {
    "duration": 187,
    "start_time": "2023-04-18T10:48:04.950Z"
   },
   {
    "duration": 8,
    "start_time": "2023-04-18T10:50:27.767Z"
   },
   {
    "duration": 8,
    "start_time": "2023-04-18T10:51:53.545Z"
   },
   {
    "duration": 2,
    "start_time": "2023-04-18T10:52:00.076Z"
   },
   {
    "duration": 8,
    "start_time": "2023-04-18T10:52:01.459Z"
   },
   {
    "duration": 8,
    "start_time": "2023-04-18T10:53:05.214Z"
   },
   {
    "duration": 187,
    "start_time": "2023-04-18T10:53:50.050Z"
   },
   {
    "duration": 609,
    "start_time": "2023-04-18T10:56:43.248Z"
   },
   {
    "duration": 565,
    "start_time": "2023-04-18T10:57:07.306Z"
   },
   {
    "duration": 554,
    "start_time": "2023-04-18T10:57:15.406Z"
   },
   {
    "duration": 2,
    "start_time": "2023-04-18T10:57:19.998Z"
   },
   {
    "duration": 581,
    "start_time": "2023-04-18T10:57:23.036Z"
   },
   {
    "duration": 551,
    "start_time": "2023-04-18T10:57:39.806Z"
   },
   {
    "duration": 855,
    "start_time": "2023-04-18T11:04:14.114Z"
   },
   {
    "duration": 3,
    "start_time": "2023-04-18T11:04:39.672Z"
   },
   {
    "duration": 876,
    "start_time": "2023-04-18T11:04:41.610Z"
   },
   {
    "duration": 736,
    "start_time": "2023-04-18T11:06:12.248Z"
   },
   {
    "duration": 299,
    "start_time": "2023-04-18T11:07:23.263Z"
   },
   {
    "duration": 3,
    "start_time": "2023-04-18T11:08:07.870Z"
   },
   {
    "duration": 3,
    "start_time": "2023-04-18T11:08:10.815Z"
   },
   {
    "duration": 3,
    "start_time": "2023-04-18T11:08:16.013Z"
   },
   {
    "duration": 625,
    "start_time": "2023-04-18T11:09:20.612Z"
   },
   {
    "duration": 885,
    "start_time": "2023-04-18T11:09:34.635Z"
   },
   {
    "duration": 284,
    "start_time": "2023-04-18T11:09:50.113Z"
   },
   {
    "duration": 295,
    "start_time": "2023-04-18T11:11:32.319Z"
   },
   {
    "duration": 23,
    "start_time": "2023-04-18T11:13:36.710Z"
   },
   {
    "duration": 20,
    "start_time": "2023-04-18T11:13:51.341Z"
   },
   {
    "duration": 823,
    "start_time": "2023-04-18T11:20:05.106Z"
   },
   {
    "duration": 782,
    "start_time": "2023-04-18T11:20:22.641Z"
   },
   {
    "duration": 799,
    "start_time": "2023-04-18T11:20:57.808Z"
   },
   {
    "duration": 304,
    "start_time": "2023-04-18T11:21:08.271Z"
   },
   {
    "duration": 300,
    "start_time": "2023-04-18T11:21:51.674Z"
   },
   {
    "duration": 280,
    "start_time": "2023-04-18T11:21:59.023Z"
   },
   {
    "duration": 50,
    "start_time": "2023-04-18T11:31:00.738Z"
   },
   {
    "duration": 20,
    "start_time": "2023-04-18T11:31:21.378Z"
   },
   {
    "duration": 302,
    "start_time": "2023-04-18T11:32:21.044Z"
   },
   {
    "duration": 261,
    "start_time": "2023-04-18T11:33:47.252Z"
   },
   {
    "duration": 103,
    "start_time": "2023-04-18T11:34:55.647Z"
   },
   {
    "duration": 96,
    "start_time": "2023-04-18T11:35:59.514Z"
   },
   {
    "duration": 121,
    "start_time": "2023-04-18T11:36:32.166Z"
   },
   {
    "duration": 106,
    "start_time": "2023-04-18T11:36:54.233Z"
   },
   {
    "duration": 99,
    "start_time": "2023-04-18T11:38:58.422Z"
   },
   {
    "duration": 101,
    "start_time": "2023-04-18T11:40:19.710Z"
   },
   {
    "duration": 105,
    "start_time": "2023-04-18T11:40:28.937Z"
   },
   {
    "duration": 110,
    "start_time": "2023-04-18T11:40:36.349Z"
   },
   {
    "duration": 9,
    "start_time": "2023-04-18T11:42:13.017Z"
   },
   {
    "duration": 128,
    "start_time": "2023-04-18T11:42:20.922Z"
   },
   {
    "duration": 100,
    "start_time": "2023-04-18T11:42:34.566Z"
   },
   {
    "duration": 15,
    "start_time": "2023-04-18T11:43:42.714Z"
   },
   {
    "duration": 99,
    "start_time": "2023-04-18T11:43:50.516Z"
   },
   {
    "duration": 66,
    "start_time": "2023-04-18T11:44:43.354Z"
   },
   {
    "duration": 100,
    "start_time": "2023-04-18T11:44:49.858Z"
   },
   {
    "duration": 253,
    "start_time": "2023-04-18T11:45:43.969Z"
   },
   {
    "duration": 11,
    "start_time": "2023-04-18T11:53:10.523Z"
   },
   {
    "duration": 326,
    "start_time": "2023-04-18T11:55:08.712Z"
   },
   {
    "duration": 3,
    "start_time": "2023-04-18T11:55:11.567Z"
   },
   {
    "duration": 373,
    "start_time": "2023-04-18T11:55:11.572Z"
   },
   {
    "duration": 3,
    "start_time": "2023-04-18T11:55:11.947Z"
   },
   {
    "duration": 319,
    "start_time": "2023-04-18T11:55:11.952Z"
   },
   {
    "duration": 29,
    "start_time": "2023-04-18T11:55:12.274Z"
   },
   {
    "duration": 33,
    "start_time": "2023-04-18T11:55:12.304Z"
   },
   {
    "duration": 57,
    "start_time": "2023-04-18T12:01:23.382Z"
   },
   {
    "duration": 3,
    "start_time": "2023-04-18T12:10:35.834Z"
   },
   {
    "duration": 368,
    "start_time": "2023-04-18T12:10:35.839Z"
   },
   {
    "duration": 3,
    "start_time": "2023-04-18T12:10:36.208Z"
   },
   {
    "duration": 303,
    "start_time": "2023-04-18T12:10:36.212Z"
   },
   {
    "duration": 33,
    "start_time": "2023-04-18T12:10:36.516Z"
   },
   {
    "duration": 9,
    "start_time": "2023-04-18T12:10:36.551Z"
   },
   {
    "duration": 4,
    "start_time": "2023-04-18T12:20:07.782Z"
   },
   {
    "duration": 49,
    "start_time": "2023-04-18T12:20:09.558Z"
   },
   {
    "duration": 3,
    "start_time": "2023-04-18T12:21:36.011Z"
   },
   {
    "duration": 52,
    "start_time": "2023-04-18T12:21:38.412Z"
   },
   {
    "duration": 9,
    "start_time": "2023-04-18T12:22:30.218Z"
   },
   {
    "duration": 4,
    "start_time": "2023-04-18T12:26:48.478Z"
   },
   {
    "duration": 4,
    "start_time": "2023-04-18T13:03:17.353Z"
   },
   {
    "duration": 42,
    "start_time": "2023-04-18T13:17:36.306Z"
   },
   {
    "duration": 34,
    "start_time": "2023-04-18T13:18:51.417Z"
   },
   {
    "duration": 28,
    "start_time": "2023-04-18T13:20:57.299Z"
   },
   {
    "duration": 37,
    "start_time": "2023-04-18T13:21:09.710Z"
   },
   {
    "duration": 3,
    "start_time": "2023-04-18T13:22:20.248Z"
   },
   {
    "duration": 29,
    "start_time": "2023-04-18T13:22:23.564Z"
   },
   {
    "duration": 30,
    "start_time": "2023-04-18T13:22:38.095Z"
   },
   {
    "duration": 2,
    "start_time": "2023-04-18T13:25:49.757Z"
   },
   {
    "duration": 346,
    "start_time": "2023-04-18T13:25:49.761Z"
   },
   {
    "duration": 2,
    "start_time": "2023-04-18T13:25:50.109Z"
   },
   {
    "duration": 284,
    "start_time": "2023-04-18T13:25:50.112Z"
   },
   {
    "duration": 22,
    "start_time": "2023-04-18T13:25:50.398Z"
   },
   {
    "duration": 12,
    "start_time": "2023-04-18T13:25:50.436Z"
   },
   {
    "duration": 3,
    "start_time": "2023-04-18T13:25:50.451Z"
   },
   {
    "duration": 53,
    "start_time": "2023-04-18T13:25:50.456Z"
   },
   {
    "duration": 3,
    "start_time": "2023-04-18T13:25:50.511Z"
   },
   {
    "duration": 32,
    "start_time": "2023-04-18T13:25:50.515Z"
   },
   {
    "duration": 43,
    "start_time": "2023-04-18T13:25:50.548Z"
   },
   {
    "duration": 0,
    "start_time": "2023-04-18T13:25:50.593Z"
   },
   {
    "duration": 3,
    "start_time": "2023-04-18T13:30:08.762Z"
   },
   {
    "duration": 36,
    "start_time": "2023-04-18T13:30:11.549Z"
   },
   {
    "duration": 3,
    "start_time": "2023-04-18T13:30:51.224Z"
   },
   {
    "duration": 37,
    "start_time": "2023-04-18T13:30:54.136Z"
   },
   {
    "duration": 3,
    "start_time": "2023-04-18T13:34:15.034Z"
   },
   {
    "duration": 372,
    "start_time": "2023-04-18T13:34:15.039Z"
   },
   {
    "duration": 2,
    "start_time": "2023-04-18T13:34:15.413Z"
   },
   {
    "duration": 322,
    "start_time": "2023-04-18T13:34:16.749Z"
   },
   {
    "duration": 291,
    "start_time": "2023-04-18T13:34:43.985Z"
   },
   {
    "duration": 3,
    "start_time": "2023-04-18T13:34:55.327Z"
   },
   {
    "duration": 356,
    "start_time": "2023-04-18T13:34:55.332Z"
   },
   {
    "duration": 2,
    "start_time": "2023-04-18T13:34:55.690Z"
   },
   {
    "duration": 303,
    "start_time": "2023-04-18T13:34:55.693Z"
   },
   {
    "duration": 19,
    "start_time": "2023-04-18T13:34:55.998Z"
   },
   {
    "duration": 30,
    "start_time": "2023-04-18T13:34:56.018Z"
   },
   {
    "duration": 3,
    "start_time": "2023-04-18T13:34:56.050Z"
   },
   {
    "duration": 65,
    "start_time": "2023-04-18T13:34:56.055Z"
   },
   {
    "duration": 3,
    "start_time": "2023-04-18T13:34:56.121Z"
   },
   {
    "duration": 3,
    "start_time": "2023-04-18T13:34:58.321Z"
   },
   {
    "duration": 11,
    "start_time": "2023-04-18T13:36:07.354Z"
   },
   {
    "duration": 22,
    "start_time": "2023-04-18T13:36:39.087Z"
   },
   {
    "duration": 9,
    "start_time": "2023-04-18T13:37:01.162Z"
   },
   {
    "duration": 12,
    "start_time": "2023-04-18T13:37:50.129Z"
   },
   {
    "duration": 8,
    "start_time": "2023-04-18T13:38:03.402Z"
   },
   {
    "duration": 4,
    "start_time": "2023-04-18T13:38:17.718Z"
   },
   {
    "duration": 402,
    "start_time": "2023-04-18T13:38:17.724Z"
   },
   {
    "duration": 3,
    "start_time": "2023-04-18T13:38:18.128Z"
   },
   {
    "duration": 339,
    "start_time": "2023-04-18T13:38:18.132Z"
   },
   {
    "duration": 16,
    "start_time": "2023-04-18T13:38:18.473Z"
   },
   {
    "duration": 11,
    "start_time": "2023-04-18T13:38:18.490Z"
   },
   {
    "duration": 27,
    "start_time": "2023-04-18T13:38:18.503Z"
   },
   {
    "duration": 7,
    "start_time": "2023-04-18T13:38:18.531Z"
   },
   {
    "duration": 60,
    "start_time": "2023-04-18T13:38:18.539Z"
   },
   {
    "duration": 4,
    "start_time": "2023-04-18T13:38:18.600Z"
   },
   {
    "duration": 3,
    "start_time": "2023-04-18T13:38:20.614Z"
   },
   {
    "duration": 9,
    "start_time": "2023-04-18T13:38:24.849Z"
   },
   {
    "duration": 14,
    "start_time": "2023-04-18T13:38:30.231Z"
   },
   {
    "duration": 32,
    "start_time": "2023-04-18T13:38:36.540Z"
   },
   {
    "duration": 16,
    "start_time": "2023-04-18T14:57:03.656Z"
   },
   {
    "duration": 3,
    "start_time": "2023-04-18T15:19:07.015Z"
   },
   {
    "duration": 11,
    "start_time": "2023-04-18T15:21:30.734Z"
   },
   {
    "duration": 9,
    "start_time": "2023-04-18T15:21:39.347Z"
   },
   {
    "duration": 13,
    "start_time": "2023-04-18T15:23:01.957Z"
   },
   {
    "duration": 12,
    "start_time": "2023-04-18T15:23:12.186Z"
   },
   {
    "duration": 3,
    "start_time": "2023-04-18T15:24:23.436Z"
   },
   {
    "duration": 10,
    "start_time": "2023-04-18T15:24:25.418Z"
   },
   {
    "duration": 9,
    "start_time": "2023-04-18T15:24:48.957Z"
   },
   {
    "duration": 9,
    "start_time": "2023-04-18T15:25:51.618Z"
   },
   {
    "duration": 10,
    "start_time": "2023-04-18T15:26:43.670Z"
   },
   {
    "duration": 10,
    "start_time": "2023-04-18T15:26:46.472Z"
   },
   {
    "duration": 19,
    "start_time": "2023-04-18T15:36:45.250Z"
   },
   {
    "duration": 3,
    "start_time": "2023-04-18T15:36:52.126Z"
   },
   {
    "duration": 11,
    "start_time": "2023-04-18T15:36:53.467Z"
   },
   {
    "duration": 14,
    "start_time": "2023-04-18T16:16:00.086Z"
   },
   {
    "duration": 10,
    "start_time": "2023-04-18T16:16:02.042Z"
   },
   {
    "duration": 8,
    "start_time": "2023-04-18T16:38:12.623Z"
   },
   {
    "duration": 3,
    "start_time": "2023-04-18T16:38:18.330Z"
   },
   {
    "duration": 3,
    "start_time": "2023-04-18T16:38:19.914Z"
   },
   {
    "duration": 60,
    "start_time": "2023-04-19T08:37:16.970Z"
   },
   {
    "duration": 1380,
    "start_time": "2023-04-19T08:37:20.626Z"
   },
   {
    "duration": 1755,
    "start_time": "2023-04-19T08:37:22.009Z"
   },
   {
    "duration": 73,
    "start_time": "2023-04-19T08:37:23.766Z"
   },
   {
    "duration": 0,
    "start_time": "2023-04-19T08:37:23.841Z"
   },
   {
    "duration": 0,
    "start_time": "2023-04-19T08:37:23.842Z"
   },
   {
    "duration": 0,
    "start_time": "2023-04-19T08:37:23.843Z"
   },
   {
    "duration": 0,
    "start_time": "2023-04-19T08:37:23.844Z"
   },
   {
    "duration": 0,
    "start_time": "2023-04-19T08:37:23.845Z"
   },
   {
    "duration": 0,
    "start_time": "2023-04-19T08:37:23.846Z"
   },
   {
    "duration": 0,
    "start_time": "2023-04-19T08:37:23.847Z"
   },
   {
    "duration": 0,
    "start_time": "2023-04-19T08:37:23.850Z"
   },
   {
    "duration": 0,
    "start_time": "2023-04-19T08:37:23.852Z"
   },
   {
    "duration": 0,
    "start_time": "2023-04-19T08:37:23.854Z"
   },
   {
    "duration": 0,
    "start_time": "2023-04-19T08:37:23.855Z"
   },
   {
    "duration": 0,
    "start_time": "2023-04-19T08:37:23.857Z"
   },
   {
    "duration": 0,
    "start_time": "2023-04-19T08:37:23.858Z"
   },
   {
    "duration": 0,
    "start_time": "2023-04-19T08:37:23.860Z"
   },
   {
    "duration": 5,
    "start_time": "2023-04-19T08:37:46.913Z"
   },
   {
    "duration": 446,
    "start_time": "2023-04-19T08:37:46.921Z"
   },
   {
    "duration": 3,
    "start_time": "2023-04-19T08:37:47.369Z"
   },
   {
    "duration": 540,
    "start_time": "2023-04-19T08:37:47.375Z"
   },
   {
    "duration": 20,
    "start_time": "2023-04-19T08:37:47.925Z"
   },
   {
    "duration": 24,
    "start_time": "2023-04-19T08:37:47.947Z"
   },
   {
    "duration": 27,
    "start_time": "2023-04-19T08:37:47.974Z"
   },
   {
    "duration": 12,
    "start_time": "2023-04-19T08:37:48.005Z"
   },
   {
    "duration": 46,
    "start_time": "2023-04-19T08:37:48.019Z"
   },
   {
    "duration": 4,
    "start_time": "2023-04-19T08:37:48.067Z"
   },
   {
    "duration": 19,
    "start_time": "2023-04-19T08:37:48.074Z"
   },
   {
    "duration": 58,
    "start_time": "2023-04-19T08:37:48.095Z"
   },
   {
    "duration": 3,
    "start_time": "2023-04-19T08:37:48.156Z"
   },
   {
    "duration": 135,
    "start_time": "2023-04-19T08:37:48.162Z"
   },
   {
    "duration": 25,
    "start_time": "2023-04-19T08:37:48.300Z"
   },
   {
    "duration": 75,
    "start_time": "2023-04-19T08:37:48.327Z"
   },
   {
    "duration": 8,
    "start_time": "2023-04-19T08:37:48.404Z"
   },
   {
    "duration": 87,
    "start_time": "2023-04-19T08:37:48.416Z"
   },
   {
    "duration": 3,
    "start_time": "2023-04-19T08:44:40.540Z"
   },
   {
    "duration": 3,
    "start_time": "2023-04-19T08:48:16.608Z"
   },
   {
    "duration": 5,
    "start_time": "2023-04-19T08:48:17.440Z"
   },
   {
    "duration": 7,
    "start_time": "2023-04-19T08:52:07.785Z"
   },
   {
    "duration": 933,
    "start_time": "2023-04-19T09:06:22.738Z"
   },
   {
    "duration": 265,
    "start_time": "2023-04-19T09:06:33.971Z"
   },
   {
    "duration": 516,
    "start_time": "2023-04-19T09:06:40.293Z"
   },
   {
    "duration": 1959,
    "start_time": "2023-04-19T09:07:22.051Z"
   },
   {
    "duration": 276,
    "start_time": "2023-04-19T09:08:50.602Z"
   },
   {
    "duration": 256,
    "start_time": "2023-04-19T09:09:13.992Z"
   },
   {
    "duration": 210,
    "start_time": "2023-04-19T09:09:14.930Z"
   },
   {
    "duration": 205,
    "start_time": "2023-04-19T09:09:23.638Z"
   },
   {
    "duration": 237,
    "start_time": "2023-04-19T09:09:24.779Z"
   },
   {
    "duration": 0,
    "start_time": "2023-04-19T09:12:38.216Z"
   },
   {
    "duration": 0,
    "start_time": "2023-04-19T09:12:38.218Z"
   },
   {
    "duration": 0,
    "start_time": "2023-04-19T09:12:38.219Z"
   },
   {
    "duration": 0,
    "start_time": "2023-04-19T09:12:38.221Z"
   },
   {
    "duration": 0,
    "start_time": "2023-04-19T09:12:38.223Z"
   },
   {
    "duration": 0,
    "start_time": "2023-04-19T09:12:38.224Z"
   },
   {
    "duration": 0,
    "start_time": "2023-04-19T09:12:38.225Z"
   },
   {
    "duration": 0,
    "start_time": "2023-04-19T09:12:38.226Z"
   },
   {
    "duration": 0,
    "start_time": "2023-04-19T09:12:38.226Z"
   },
   {
    "duration": 0,
    "start_time": "2023-04-19T09:12:38.232Z"
   },
   {
    "duration": 0,
    "start_time": "2023-04-19T09:12:38.235Z"
   },
   {
    "duration": 0,
    "start_time": "2023-04-19T09:12:38.236Z"
   },
   {
    "duration": 0,
    "start_time": "2023-04-19T09:12:38.237Z"
   },
   {
    "duration": 0,
    "start_time": "2023-04-19T09:12:38.238Z"
   },
   {
    "duration": 0,
    "start_time": "2023-04-19T09:12:38.240Z"
   },
   {
    "duration": 0,
    "start_time": "2023-04-19T09:12:38.241Z"
   },
   {
    "duration": 0,
    "start_time": "2023-04-19T09:12:38.242Z"
   },
   {
    "duration": 0,
    "start_time": "2023-04-19T09:12:38.243Z"
   },
   {
    "duration": 0,
    "start_time": "2023-04-19T09:12:38.244Z"
   },
   {
    "duration": 0,
    "start_time": "2023-04-19T09:12:38.246Z"
   },
   {
    "duration": 0,
    "start_time": "2023-04-19T09:12:38.247Z"
   },
   {
    "duration": 0,
    "start_time": "2023-04-19T09:12:38.248Z"
   },
   {
    "duration": 4,
    "start_time": "2023-04-19T09:12:39.632Z"
   },
   {
    "duration": 3,
    "start_time": "2023-04-19T09:12:42.943Z"
   },
   {
    "duration": 994,
    "start_time": "2023-04-19T09:12:42.950Z"
   },
   {
    "duration": 11,
    "start_time": "2023-04-19T09:12:43.946Z"
   },
   {
    "duration": 536,
    "start_time": "2023-04-19T09:12:43.959Z"
   },
   {
    "duration": 9,
    "start_time": "2023-04-19T09:12:44.498Z"
   },
   {
    "duration": 18,
    "start_time": "2023-04-19T09:12:44.518Z"
   },
   {
    "duration": 15,
    "start_time": "2023-04-19T09:12:44.539Z"
   },
   {
    "duration": 5,
    "start_time": "2023-04-19T09:12:44.556Z"
   },
   {
    "duration": 65,
    "start_time": "2023-04-19T09:12:44.563Z"
   },
   {
    "duration": 5,
    "start_time": "2023-04-19T09:12:44.630Z"
   },
   {
    "duration": 5,
    "start_time": "2023-04-19T09:12:44.637Z"
   },
   {
    "duration": 59,
    "start_time": "2023-04-19T09:12:44.643Z"
   },
   {
    "duration": 7,
    "start_time": "2023-04-19T09:12:44.704Z"
   },
   {
    "duration": 121,
    "start_time": "2023-04-19T09:12:44.714Z"
   },
   {
    "duration": 43,
    "start_time": "2023-04-19T09:12:44.891Z"
   },
   {
    "duration": 91,
    "start_time": "2023-04-19T09:12:44.937Z"
   },
   {
    "duration": 4,
    "start_time": "2023-04-19T09:12:45.030Z"
   },
   {
    "duration": 17,
    "start_time": "2023-04-19T09:12:45.098Z"
   },
   {
    "duration": 21,
    "start_time": "2023-04-19T09:12:45.122Z"
   },
   {
    "duration": 220,
    "start_time": "2023-04-19T09:12:45.194Z"
   },
   {
    "duration": 204,
    "start_time": "2023-04-19T09:12:45.416Z"
   },
   {
    "duration": 197,
    "start_time": "2023-04-19T09:12:45.623Z"
   },
   {
    "duration": 16,
    "start_time": "2023-04-19T09:53:05.464Z"
   },
   {
    "duration": 4,
    "start_time": "2023-04-19T09:54:29.819Z"
   },
   {
    "duration": 13,
    "start_time": "2023-04-19T09:54:40.263Z"
   },
   {
    "duration": 16,
    "start_time": "2023-04-19T09:54:51.992Z"
   },
   {
    "duration": 6,
    "start_time": "2023-04-19T09:55:04.306Z"
   },
   {
    "duration": 5,
    "start_time": "2023-04-19T09:55:21.203Z"
   },
   {
    "duration": 4,
    "start_time": "2023-04-19T09:59:04.557Z"
   },
   {
    "duration": 17,
    "start_time": "2023-04-19T09:59:57.518Z"
   },
   {
    "duration": 4,
    "start_time": "2023-04-19T10:01:10.383Z"
   },
   {
    "duration": 13,
    "start_time": "2023-04-19T10:01:12.444Z"
   },
   {
    "duration": 5,
    "start_time": "2023-04-19T10:03:45.529Z"
   },
   {
    "duration": 4,
    "start_time": "2023-04-19T10:05:12.622Z"
   },
   {
    "duration": 17,
    "start_time": "2023-04-19T10:05:15.159Z"
   },
   {
    "duration": 4,
    "start_time": "2023-04-19T10:07:02.339Z"
   },
   {
    "duration": 31,
    "start_time": "2023-04-19T10:07:05.750Z"
   },
   {
    "duration": 9,
    "start_time": "2023-04-19T10:07:44.310Z"
   },
   {
    "duration": 4,
    "start_time": "2023-04-19T10:07:58.206Z"
   },
   {
    "duration": 33,
    "start_time": "2023-04-19T10:08:00.183Z"
   },
   {
    "duration": 3,
    "start_time": "2023-04-19T10:08:19.638Z"
   },
   {
    "duration": 4,
    "start_time": "2023-04-19T10:08:21.916Z"
   },
   {
    "duration": 28,
    "start_time": "2023-04-19T10:08:24.018Z"
   },
   {
    "duration": 24,
    "start_time": "2023-04-19T10:08:36.202Z"
   },
   {
    "duration": 4,
    "start_time": "2023-04-19T10:12:55.707Z"
   },
   {
    "duration": 22,
    "start_time": "2023-04-19T10:12:58.141Z"
   },
   {
    "duration": 4,
    "start_time": "2023-04-19T10:13:51.031Z"
   },
   {
    "duration": 12,
    "start_time": "2023-04-19T10:14:06.869Z"
   },
   {
    "duration": 4,
    "start_time": "2023-04-19T10:14:17.221Z"
   },
   {
    "duration": 7,
    "start_time": "2023-04-19T10:14:18.916Z"
   },
   {
    "duration": 4,
    "start_time": "2023-04-19T10:14:46.629Z"
   },
   {
    "duration": 19,
    "start_time": "2023-04-19T10:14:50.713Z"
   },
   {
    "duration": 4,
    "start_time": "2023-04-19T10:14:54.982Z"
   },
   {
    "duration": 15,
    "start_time": "2023-04-19T10:14:57.683Z"
   },
   {
    "duration": 9,
    "start_time": "2023-04-19T10:15:22.037Z"
   },
   {
    "duration": 10,
    "start_time": "2023-04-19T10:15:24.762Z"
   },
   {
    "duration": 1443,
    "start_time": "2023-04-19T14:38:12.137Z"
   },
   {
    "duration": 985,
    "start_time": "2023-04-19T14:38:13.582Z"
   },
   {
    "duration": 3,
    "start_time": "2023-04-19T14:38:14.569Z"
   },
   {
    "duration": 439,
    "start_time": "2023-04-19T14:38:14.573Z"
   },
   {
    "duration": 34,
    "start_time": "2023-04-19T14:38:15.015Z"
   },
   {
    "duration": 27,
    "start_time": "2023-04-19T14:38:15.051Z"
   },
   {
    "duration": 16,
    "start_time": "2023-04-19T14:38:15.080Z"
   },
   {
    "duration": 725,
    "start_time": "2023-04-19T14:38:15.098Z"
   },
   {
    "duration": 186,
    "start_time": "2023-04-19T14:38:15.825Z"
   },
   {
    "duration": 203,
    "start_time": "2023-04-19T14:38:16.013Z"
   },
   {
    "duration": 4,
    "start_time": "2023-04-19T14:38:16.218Z"
   },
   {
    "duration": 61,
    "start_time": "2023-04-19T14:38:16.236Z"
   },
   {
    "duration": 3,
    "start_time": "2023-04-19T14:38:16.299Z"
   },
   {
    "duration": 5,
    "start_time": "2023-04-19T14:38:16.305Z"
   },
   {
    "duration": 50,
    "start_time": "2023-04-19T14:38:16.311Z"
   },
   {
    "duration": 4,
    "start_time": "2023-04-19T14:38:16.363Z"
   },
   {
    "duration": 170,
    "start_time": "2023-04-19T14:38:16.368Z"
   },
   {
    "duration": 29,
    "start_time": "2023-04-19T14:38:16.540Z"
   },
   {
    "duration": 211,
    "start_time": "2023-04-19T14:38:16.570Z"
   },
   {
    "duration": 55,
    "start_time": "2023-04-19T14:38:16.786Z"
   },
   {
    "duration": 85,
    "start_time": "2023-04-19T14:38:16.854Z"
   },
   {
    "duration": 27,
    "start_time": "2023-04-19T14:38:16.942Z"
   },
   {
    "duration": 12,
    "start_time": "2023-04-19T14:38:16.970Z"
   },
   {
    "duration": 7,
    "start_time": "2023-04-19T14:38:16.983Z"
   },
   {
    "duration": 3,
    "start_time": "2023-04-19T14:38:37.785Z"
   },
   {
    "duration": 134,
    "start_time": "2023-04-19T14:38:39.592Z"
   },
   {
    "duration": 3,
    "start_time": "2023-04-19T14:38:50.457Z"
   },
   {
    "duration": 26,
    "start_time": "2023-04-19T14:38:52.250Z"
   },
   {
    "duration": 24,
    "start_time": "2023-04-19T14:41:30.075Z"
   },
   {
    "duration": 3,
    "start_time": "2023-04-19T14:47:05.991Z"
   },
   {
    "duration": 21,
    "start_time": "2023-04-19T14:47:10.214Z"
   },
   {
    "duration": 4,
    "start_time": "2023-04-19T14:54:32.702Z"
   },
   {
    "duration": 27,
    "start_time": "2023-04-19T14:54:36.928Z"
   },
   {
    "duration": 15,
    "start_time": "2023-04-19T14:54:51.355Z"
   },
   {
    "duration": 1154,
    "start_time": "2023-04-19T14:55:41.382Z"
   },
   {
    "duration": 8,
    "start_time": "2023-04-19T14:56:23.172Z"
   },
   {
    "duration": 7,
    "start_time": "2023-04-19T14:57:15.208Z"
   },
   {
    "duration": 5,
    "start_time": "2023-04-19T14:57:40.014Z"
   },
   {
    "duration": 4,
    "start_time": "2023-04-19T14:57:59.093Z"
   },
   {
    "duration": 5,
    "start_time": "2023-04-19T14:58:04.851Z"
   },
   {
    "duration": 3,
    "start_time": "2023-04-19T14:59:09.719Z"
   },
   {
    "duration": 6,
    "start_time": "2023-04-19T14:59:14.387Z"
   },
   {
    "duration": 4,
    "start_time": "2023-04-19T15:01:38.752Z"
   },
   {
    "duration": 471,
    "start_time": "2023-04-19T15:01:38.759Z"
   },
   {
    "duration": 21,
    "start_time": "2023-04-19T15:01:39.231Z"
   },
   {
    "duration": 423,
    "start_time": "2023-04-19T15:01:39.254Z"
   },
   {
    "duration": 10,
    "start_time": "2023-04-19T15:01:39.678Z"
   },
   {
    "duration": 12,
    "start_time": "2023-04-19T15:01:39.690Z"
   },
   {
    "duration": 37,
    "start_time": "2023-04-19T15:01:39.703Z"
   },
   {
    "duration": 178,
    "start_time": "2023-04-19T15:01:39.742Z"
   },
   {
    "duration": 197,
    "start_time": "2023-04-19T15:01:39.921Z"
   },
   {
    "duration": 272,
    "start_time": "2023-04-19T15:01:40.121Z"
   },
   {
    "duration": 4,
    "start_time": "2023-04-19T15:01:40.395Z"
   },
   {
    "duration": 48,
    "start_time": "2023-04-19T15:01:40.401Z"
   },
   {
    "duration": 9,
    "start_time": "2023-04-19T15:01:40.452Z"
   },
   {
    "duration": 11,
    "start_time": "2023-04-19T15:01:40.463Z"
   },
   {
    "duration": 41,
    "start_time": "2023-04-19T15:01:40.475Z"
   },
   {
    "duration": 4,
    "start_time": "2023-04-19T15:01:40.518Z"
   },
   {
    "duration": 112,
    "start_time": "2023-04-19T15:01:40.523Z"
   },
   {
    "duration": 98,
    "start_time": "2023-04-19T15:01:40.645Z"
   },
   {
    "duration": 103,
    "start_time": "2023-04-19T15:01:40.745Z"
   },
   {
    "duration": 210,
    "start_time": "2023-04-19T15:01:40.853Z"
   },
   {
    "duration": 6,
    "start_time": "2023-04-19T15:01:41.064Z"
   },
   {
    "duration": 11,
    "start_time": "2023-04-19T15:01:41.071Z"
   },
   {
    "duration": 8,
    "start_time": "2023-04-19T15:01:41.084Z"
   },
   {
    "duration": 9,
    "start_time": "2023-04-19T15:01:43.669Z"
   },
   {
    "duration": 3,
    "start_time": "2023-04-19T15:01:52.376Z"
   },
   {
    "duration": 10,
    "start_time": "2023-04-19T15:01:54.151Z"
   },
   {
    "duration": 3,
    "start_time": "2023-04-19T15:02:10.587Z"
   },
   {
    "duration": 411,
    "start_time": "2023-04-19T15:02:10.592Z"
   },
   {
    "duration": 6,
    "start_time": "2023-04-19T15:02:11.004Z"
   },
   {
    "duration": 355,
    "start_time": "2023-04-19T15:02:11.011Z"
   },
   {
    "duration": 8,
    "start_time": "2023-04-19T15:02:11.369Z"
   },
   {
    "duration": 31,
    "start_time": "2023-04-19T15:02:11.379Z"
   },
   {
    "duration": 16,
    "start_time": "2023-04-19T15:02:11.412Z"
   },
   {
    "duration": 169,
    "start_time": "2023-04-19T15:02:11.429Z"
   },
   {
    "duration": 152,
    "start_time": "2023-04-19T15:02:11.599Z"
   },
   {
    "duration": 150,
    "start_time": "2023-04-19T15:02:11.753Z"
   },
   {
    "duration": 3,
    "start_time": "2023-04-19T15:02:11.905Z"
   },
   {
    "duration": 70,
    "start_time": "2023-04-19T15:02:11.909Z"
   },
   {
    "duration": 3,
    "start_time": "2023-04-19T15:02:11.980Z"
   },
   {
    "duration": 16,
    "start_time": "2023-04-19T15:02:11.986Z"
   },
   {
    "duration": 58,
    "start_time": "2023-04-19T15:02:12.003Z"
   },
   {
    "duration": 6,
    "start_time": "2023-04-19T15:02:12.063Z"
   },
   {
    "duration": 23,
    "start_time": "2023-04-19T15:02:12.071Z"
   },
   {
    "duration": 156,
    "start_time": "2023-04-19T15:02:12.096Z"
   },
   {
    "duration": 93,
    "start_time": "2023-04-19T15:02:12.254Z"
   },
   {
    "duration": 186,
    "start_time": "2023-04-19T15:02:12.349Z"
   },
   {
    "duration": 52,
    "start_time": "2023-04-19T15:02:12.536Z"
   },
   {
    "duration": 20,
    "start_time": "2023-04-19T15:02:12.590Z"
   },
   {
    "duration": 110,
    "start_time": "2023-04-19T15:05:18.692Z"
   },
   {
    "duration": 3,
    "start_time": "2023-04-19T15:05:31.502Z"
   },
   {
    "duration": 13,
    "start_time": "2023-04-19T15:07:09.954Z"
   },
   {
    "duration": 2,
    "start_time": "2023-04-19T15:07:19.483Z"
   },
   {
    "duration": 3,
    "start_time": "2023-04-19T15:07:21.026Z"
   },
   {
    "duration": 9,
    "start_time": "2023-04-19T15:07:22.781Z"
   },
   {
    "duration": 18,
    "start_time": "2023-04-19T15:07:52.431Z"
   },
   {
    "duration": 11,
    "start_time": "2023-04-19T15:07:54.625Z"
   },
   {
    "duration": 6,
    "start_time": "2023-04-19T15:28:41.793Z"
   },
   {
    "duration": 5,
    "start_time": "2023-04-19T15:28:48.209Z"
   },
   {
    "duration": 6,
    "start_time": "2023-04-19T15:38:34.996Z"
   },
   {
    "duration": 31,
    "start_time": "2023-04-19T15:42:49.257Z"
   },
   {
    "duration": 5,
    "start_time": "2023-04-19T16:39:06.220Z"
   },
   {
    "duration": 26,
    "start_time": "2023-04-19T16:39:08.429Z"
   },
   {
    "duration": 5,
    "start_time": "2023-04-19T16:41:02.297Z"
   },
   {
    "duration": 24,
    "start_time": "2023-04-19T16:41:04.276Z"
   },
   {
    "duration": 4,
    "start_time": "2023-04-19T16:44:30.693Z"
   },
   {
    "duration": 57,
    "start_time": "2023-04-19T16:44:38.382Z"
   },
   {
    "duration": 12,
    "start_time": "2023-04-19T16:44:40.280Z"
   },
   {
    "duration": 16,
    "start_time": "2023-04-19T16:44:41.925Z"
   },
   {
    "duration": 5,
    "start_time": "2023-04-19T16:44:48.412Z"
   },
   {
    "duration": 13,
    "start_time": "2023-04-19T16:44:49.985Z"
   },
   {
    "duration": 4,
    "start_time": "2023-04-19T16:45:00.978Z"
   },
   {
    "duration": 433,
    "start_time": "2023-04-19T16:45:00.985Z"
   },
   {
    "duration": 7,
    "start_time": "2023-04-19T16:45:01.419Z"
   },
   {
    "duration": 431,
    "start_time": "2023-04-19T16:45:01.427Z"
   },
   {
    "duration": 7,
    "start_time": "2023-04-19T16:45:01.864Z"
   },
   {
    "duration": 48,
    "start_time": "2023-04-19T16:45:01.873Z"
   },
   {
    "duration": 55,
    "start_time": "2023-04-19T16:45:01.923Z"
   },
   {
    "duration": 182,
    "start_time": "2023-04-19T16:45:01.979Z"
   },
   {
    "duration": 135,
    "start_time": "2023-04-19T16:45:02.165Z"
   },
   {
    "duration": 162,
    "start_time": "2023-04-19T16:45:02.301Z"
   },
   {
    "duration": 4,
    "start_time": "2023-04-19T16:45:02.464Z"
   },
   {
    "duration": 43,
    "start_time": "2023-04-19T16:45:02.469Z"
   },
   {
    "duration": 4,
    "start_time": "2023-04-19T16:45:02.513Z"
   },
   {
    "duration": 11,
    "start_time": "2023-04-19T16:45:02.519Z"
   },
   {
    "duration": 76,
    "start_time": "2023-04-19T16:45:02.531Z"
   },
   {
    "duration": 4,
    "start_time": "2023-04-19T16:45:02.609Z"
   },
   {
    "duration": 60,
    "start_time": "2023-04-19T16:45:02.615Z"
   },
   {
    "duration": 174,
    "start_time": "2023-04-19T16:45:02.677Z"
   },
   {
    "duration": 247,
    "start_time": "2023-04-19T16:45:02.854Z"
   },
   {
    "duration": 135,
    "start_time": "2023-04-19T16:45:03.103Z"
   },
   {
    "duration": 39,
    "start_time": "2023-04-19T16:45:03.239Z"
   },
   {
    "duration": 29,
    "start_time": "2023-04-19T16:45:03.279Z"
   },
   {
    "duration": 18,
    "start_time": "2023-04-19T16:45:03.310Z"
   },
   {
    "duration": 3,
    "start_time": "2023-04-19T16:45:05.489Z"
   },
   {
    "duration": 11,
    "start_time": "2023-04-19T16:45:07.120Z"
   },
   {
    "duration": 4,
    "start_time": "2023-04-19T16:45:19.454Z"
   },
   {
    "duration": 3,
    "start_time": "2023-04-19T16:45:21.689Z"
   },
   {
    "duration": 5,
    "start_time": "2023-04-19T16:45:23.359Z"
   },
   {
    "duration": 8,
    "start_time": "2023-04-19T16:45:29.046Z"
   },
   {
    "duration": 5,
    "start_time": "2023-04-19T16:45:31.290Z"
   },
   {
    "duration": 3,
    "start_time": "2023-04-19T16:45:59.110Z"
   },
   {
    "duration": 3,
    "start_time": "2023-04-19T16:46:11.706Z"
   },
   {
    "duration": 494,
    "start_time": "2023-04-19T16:46:11.711Z"
   },
   {
    "duration": 8,
    "start_time": "2023-04-19T16:46:12.207Z"
   },
   {
    "duration": 454,
    "start_time": "2023-04-19T16:46:12.218Z"
   },
   {
    "duration": 8,
    "start_time": "2023-04-19T16:46:12.674Z"
   },
   {
    "duration": 13,
    "start_time": "2023-04-19T16:46:12.684Z"
   },
   {
    "duration": 36,
    "start_time": "2023-04-19T16:46:12.699Z"
   },
   {
    "duration": 192,
    "start_time": "2023-04-19T16:46:12.737Z"
   },
   {
    "duration": 198,
    "start_time": "2023-04-19T16:46:12.931Z"
   },
   {
    "duration": 212,
    "start_time": "2023-04-19T16:46:13.131Z"
   },
   {
    "duration": 15,
    "start_time": "2023-04-19T16:46:13.347Z"
   },
   {
    "duration": 41,
    "start_time": "2023-04-19T16:46:13.366Z"
   },
   {
    "duration": 4,
    "start_time": "2023-04-19T16:46:13.409Z"
   },
   {
    "duration": 3,
    "start_time": "2023-04-19T16:46:13.418Z"
   },
   {
    "duration": 48,
    "start_time": "2023-04-19T16:46:13.423Z"
   },
   {
    "duration": 4,
    "start_time": "2023-04-19T16:46:13.473Z"
   },
   {
    "duration": 64,
    "start_time": "2023-04-19T16:46:13.479Z"
   },
   {
    "duration": 121,
    "start_time": "2023-04-19T16:46:13.546Z"
   },
   {
    "duration": 209,
    "start_time": "2023-04-19T16:46:13.670Z"
   },
   {
    "duration": 62,
    "start_time": "2023-04-19T16:46:13.882Z"
   },
   {
    "duration": 125,
    "start_time": "2023-04-19T16:46:13.946Z"
   },
   {
    "duration": 15,
    "start_time": "2023-04-19T16:46:14.073Z"
   },
   {
    "duration": 3,
    "start_time": "2023-04-19T16:46:14.090Z"
   },
   {
    "duration": 10,
    "start_time": "2023-04-19T16:46:14.095Z"
   },
   {
    "duration": 10,
    "start_time": "2023-04-19T16:46:14.107Z"
   },
   {
    "duration": 7,
    "start_time": "2023-04-19T16:46:14.119Z"
   },
   {
    "duration": 20,
    "start_time": "2023-04-19T16:46:14.127Z"
   },
   {
    "duration": 19,
    "start_time": "2023-04-19T16:46:14.150Z"
   },
   {
    "duration": 34,
    "start_time": "2023-04-19T16:46:14.171Z"
   },
   {
    "duration": 3,
    "start_time": "2023-04-19T16:46:40.419Z"
   },
   {
    "duration": 482,
    "start_time": "2023-04-19T16:46:40.425Z"
   },
   {
    "duration": 8,
    "start_time": "2023-04-19T16:46:40.908Z"
   },
   {
    "duration": 462,
    "start_time": "2023-04-19T16:46:40.918Z"
   },
   {
    "duration": 9,
    "start_time": "2023-04-19T16:46:41.383Z"
   },
   {
    "duration": 21,
    "start_time": "2023-04-19T16:46:41.394Z"
   },
   {
    "duration": 34,
    "start_time": "2023-04-19T16:46:41.417Z"
   },
   {
    "duration": 177,
    "start_time": "2023-04-19T16:46:41.455Z"
   },
   {
    "duration": 278,
    "start_time": "2023-04-19T16:46:41.644Z"
   },
   {
    "duration": 200,
    "start_time": "2023-04-19T16:46:41.923Z"
   },
   {
    "duration": 24,
    "start_time": "2023-04-19T16:46:42.126Z"
   },
   {
    "duration": 47,
    "start_time": "2023-04-19T16:46:42.152Z"
   },
   {
    "duration": 4,
    "start_time": "2023-04-19T16:46:42.201Z"
   },
   {
    "duration": 8,
    "start_time": "2023-04-19T16:46:42.208Z"
   },
   {
    "duration": 53,
    "start_time": "2023-04-19T16:46:42.218Z"
   },
   {
    "duration": 5,
    "start_time": "2023-04-19T16:46:42.273Z"
   },
   {
    "duration": 55,
    "start_time": "2023-04-19T16:46:42.280Z"
   },
   {
    "duration": 108,
    "start_time": "2023-04-19T16:46:42.338Z"
   },
   {
    "duration": 187,
    "start_time": "2023-04-19T16:46:42.448Z"
   },
   {
    "duration": 14,
    "start_time": "2023-04-19T16:46:42.636Z"
   },
   {
    "duration": 110,
    "start_time": "2023-04-19T16:46:42.653Z"
   },
   {
    "duration": 13,
    "start_time": "2023-04-19T16:46:42.766Z"
   },
   {
    "duration": 7,
    "start_time": "2023-04-19T16:46:42.781Z"
   },
   {
    "duration": 11,
    "start_time": "2023-04-19T16:46:42.790Z"
   },
   {
    "duration": 19,
    "start_time": "2023-04-19T16:46:42.803Z"
   },
   {
    "duration": 11,
    "start_time": "2023-04-19T16:46:42.824Z"
   },
   {
    "duration": 43,
    "start_time": "2023-04-19T16:46:42.837Z"
   },
   {
    "duration": 2,
    "start_time": "2023-04-19T16:47:55.226Z"
   },
   {
    "duration": 3,
    "start_time": "2023-04-19T16:48:47.602Z"
   },
   {
    "duration": 373,
    "start_time": "2023-04-19T16:48:47.606Z"
   },
   {
    "duration": 6,
    "start_time": "2023-04-19T16:48:47.981Z"
   },
   {
    "duration": 312,
    "start_time": "2023-04-19T16:48:47.989Z"
   },
   {
    "duration": 7,
    "start_time": "2023-04-19T16:48:48.302Z"
   },
   {
    "duration": 56,
    "start_time": "2023-04-19T16:48:48.311Z"
   },
   {
    "duration": 25,
    "start_time": "2023-04-19T16:48:48.368Z"
   },
   {
    "duration": 138,
    "start_time": "2023-04-19T16:48:48.395Z"
   },
   {
    "duration": 143,
    "start_time": "2023-04-19T16:48:48.534Z"
   },
   {
    "duration": 137,
    "start_time": "2023-04-19T16:48:48.679Z"
   },
   {
    "duration": 2,
    "start_time": "2023-04-19T16:48:48.819Z"
   },
   {
    "duration": 60,
    "start_time": "2023-04-19T16:48:48.822Z"
   },
   {
    "duration": 3,
    "start_time": "2023-04-19T16:48:48.883Z"
   },
   {
    "duration": 9,
    "start_time": "2023-04-19T16:48:48.888Z"
   },
   {
    "duration": 47,
    "start_time": "2023-04-19T16:48:48.898Z"
   },
   {
    "duration": 6,
    "start_time": "2023-04-19T16:48:48.954Z"
   },
   {
    "duration": 17,
    "start_time": "2023-04-19T16:48:48.962Z"
   },
   {
    "duration": 168,
    "start_time": "2023-04-19T16:48:48.981Z"
   },
   {
    "duration": 214,
    "start_time": "2023-04-19T16:48:49.151Z"
   },
   {
    "duration": 106,
    "start_time": "2023-04-19T16:48:49.432Z"
   },
   {
    "duration": 28,
    "start_time": "2023-04-19T16:48:49.539Z"
   },
   {
    "duration": 8,
    "start_time": "2023-04-19T16:48:49.569Z"
   },
   {
    "duration": 13,
    "start_time": "2023-04-19T16:48:49.578Z"
   },
   {
    "duration": 6,
    "start_time": "2023-04-19T16:48:49.593Z"
   },
   {
    "duration": 12,
    "start_time": "2023-04-19T16:48:49.601Z"
   },
   {
    "duration": 7,
    "start_time": "2023-04-19T16:48:49.614Z"
   },
   {
    "duration": 7,
    "start_time": "2023-04-19T16:48:49.622Z"
   },
   {
    "duration": 9,
    "start_time": "2023-04-19T16:48:54.746Z"
   },
   {
    "duration": 34,
    "start_time": "2023-04-19T16:48:58.228Z"
   },
   {
    "duration": 3,
    "start_time": "2023-04-19T16:50:00.082Z"
   },
   {
    "duration": 8,
    "start_time": "2023-04-19T16:50:04.217Z"
   },
   {
    "duration": 3,
    "start_time": "2023-04-19T16:50:09.892Z"
   },
   {
    "duration": 6,
    "start_time": "2023-04-19T16:50:27.503Z"
   },
   {
    "duration": 28,
    "start_time": "2023-04-19T16:50:31.678Z"
   },
   {
    "duration": 6,
    "start_time": "2023-04-19T16:51:08.595Z"
   },
   {
    "duration": 6,
    "start_time": "2023-04-19T16:51:15.361Z"
   },
   {
    "duration": 51,
    "start_time": "2023-04-19T16:51:16.719Z"
   },
   {
    "duration": 9,
    "start_time": "2023-04-19T16:56:30.533Z"
   },
   {
    "duration": 3,
    "start_time": "2023-04-19T16:56:33.686Z"
   },
   {
    "duration": 9,
    "start_time": "2023-04-19T16:56:36.427Z"
   },
   {
    "duration": 8,
    "start_time": "2023-04-19T16:56:38.401Z"
   },
   {
    "duration": 9,
    "start_time": "2023-04-19T16:56:39.760Z"
   },
   {
    "duration": 5,
    "start_time": "2023-04-19T16:56:51.403Z"
   },
   {
    "duration": 1544,
    "start_time": "2023-04-19T16:56:55.262Z"
   },
   {
    "duration": 1434,
    "start_time": "2023-04-19T16:57:08.289Z"
   },
   {
    "duration": 1648,
    "start_time": "2023-04-19T16:57:32.062Z"
   },
   {
    "duration": 9,
    "start_time": "2023-04-19T16:59:04.600Z"
   },
   {
    "duration": 5,
    "start_time": "2023-04-19T16:59:07.658Z"
   },
   {
    "duration": 9,
    "start_time": "2023-04-19T16:59:09.696Z"
   },
   {
    "duration": 11,
    "start_time": "2023-04-19T16:59:13.325Z"
   },
   {
    "duration": 8,
    "start_time": "2023-04-19T16:59:15.587Z"
   },
   {
    "duration": 6,
    "start_time": "2023-04-19T16:59:21.997Z"
   },
   {
    "duration": 1849,
    "start_time": "2023-04-19T16:59:23.693Z"
   },
   {
    "duration": 1824,
    "start_time": "2023-04-19T16:59:42.285Z"
   },
   {
    "duration": 6,
    "start_time": "2023-04-19T16:59:57.660Z"
   },
   {
    "duration": 1978,
    "start_time": "2023-04-19T17:00:00.763Z"
   },
   {
    "duration": 1898,
    "start_time": "2023-04-19T17:00:38.393Z"
   },
   {
    "duration": 4,
    "start_time": "2023-04-19T17:04:48.278Z"
   },
   {
    "duration": 9,
    "start_time": "2023-04-19T17:04:50.878Z"
   },
   {
    "duration": 11,
    "start_time": "2023-04-19T17:05:05.462Z"
   },
   {
    "duration": 9,
    "start_time": "2023-04-19T17:05:07.422Z"
   },
   {
    "duration": 9,
    "start_time": "2023-04-19T17:05:58.068Z"
   },
   {
    "duration": 9,
    "start_time": "2023-04-19T17:06:08.073Z"
   },
   {
    "duration": 9,
    "start_time": "2023-04-19T17:06:18.581Z"
   },
   {
    "duration": 9,
    "start_time": "2023-04-19T17:06:20.505Z"
   },
   {
    "duration": 5,
    "start_time": "2023-04-19T17:06:32.189Z"
   },
   {
    "duration": 1637,
    "start_time": "2023-04-19T17:06:35.072Z"
   },
   {
    "duration": 1515,
    "start_time": "2023-04-19T17:06:40.362Z"
   },
   {
    "duration": 3,
    "start_time": "2023-04-19T17:08:51.889Z"
   },
   {
    "duration": 3,
    "start_time": "2023-04-19T17:08:52.717Z"
   },
   {
    "duration": 9,
    "start_time": "2023-04-19T17:09:09.979Z"
   },
   {
    "duration": 1456,
    "start_time": "2023-04-19T17:09:37.473Z"
   },
   {
    "duration": 5,
    "start_time": "2023-04-19T17:12:20.418Z"
   },
   {
    "duration": 1316,
    "start_time": "2023-04-19T17:12:22.885Z"
   },
   {
    "duration": 1494,
    "start_time": "2023-04-19T17:17:57.402Z"
   },
   {
    "duration": 1865,
    "start_time": "2023-04-19T17:19:15.730Z"
   },
   {
    "duration": 1357,
    "start_time": "2023-04-19T17:20:30.126Z"
   },
   {
    "duration": 1330,
    "start_time": "2023-04-19T17:21:01.567Z"
   },
   {
    "duration": 1429,
    "start_time": "2023-04-19T17:21:34.675Z"
   },
   {
    "duration": 1374,
    "start_time": "2023-04-19T17:21:42.994Z"
   },
   {
    "duration": 5,
    "start_time": "2023-04-19T17:21:58.620Z"
   },
   {
    "duration": 1345,
    "start_time": "2023-04-19T17:22:01.162Z"
   },
   {
    "duration": 1570,
    "start_time": "2023-04-19T17:22:05.596Z"
   },
   {
    "duration": 1300,
    "start_time": "2023-04-19T17:22:09.309Z"
   },
   {
    "duration": 1455,
    "start_time": "2023-04-19T17:24:15.748Z"
   },
   {
    "duration": 1504,
    "start_time": "2023-04-19T17:24:19.078Z"
   },
   {
    "duration": 1276,
    "start_time": "2023-04-19T17:24:26.069Z"
   },
   {
    "duration": 5,
    "start_time": "2023-04-19T17:26:24.297Z"
   },
   {
    "duration": 1315,
    "start_time": "2023-04-19T17:26:28.001Z"
   },
   {
    "duration": 1587,
    "start_time": "2023-04-19T17:26:32.317Z"
   },
   {
    "duration": 1665,
    "start_time": "2023-04-19T17:26:36.424Z"
   },
   {
    "duration": 130,
    "start_time": "2023-04-19T17:34:37.527Z"
   },
   {
    "duration": 4,
    "start_time": "2023-04-19T17:49:09.758Z"
   },
   {
    "duration": 3,
    "start_time": "2023-04-19T17:52:30.432Z"
   },
   {
    "duration": 572,
    "start_time": "2023-04-19T17:52:30.437Z"
   },
   {
    "duration": 16,
    "start_time": "2023-04-19T17:52:31.011Z"
   },
   {
    "duration": 472,
    "start_time": "2023-04-19T17:52:31.030Z"
   },
   {
    "duration": 8,
    "start_time": "2023-04-19T17:52:31.503Z"
   },
   {
    "duration": 33,
    "start_time": "2023-04-19T17:52:31.513Z"
   },
   {
    "duration": 17,
    "start_time": "2023-04-19T17:52:31.548Z"
   },
   {
    "duration": 209,
    "start_time": "2023-04-19T17:52:31.570Z"
   },
   {
    "duration": 189,
    "start_time": "2023-04-19T17:52:31.780Z"
   },
   {
    "duration": 181,
    "start_time": "2023-04-19T17:52:31.975Z"
   },
   {
    "duration": 4,
    "start_time": "2023-04-19T17:52:32.158Z"
   },
   {
    "duration": 52,
    "start_time": "2023-04-19T17:52:32.164Z"
   },
   {
    "duration": 4,
    "start_time": "2023-04-19T17:52:32.217Z"
   },
   {
    "duration": 24,
    "start_time": "2023-04-19T17:52:32.223Z"
   },
   {
    "duration": 72,
    "start_time": "2023-04-19T17:52:32.248Z"
   },
   {
    "duration": 4,
    "start_time": "2023-04-19T17:52:32.321Z"
   },
   {
    "duration": 115,
    "start_time": "2023-04-19T17:52:32.326Z"
   },
   {
    "duration": 144,
    "start_time": "2023-04-19T17:52:32.443Z"
   },
   {
    "duration": 206,
    "start_time": "2023-04-19T17:52:32.589Z"
   },
   {
    "duration": 145,
    "start_time": "2023-04-19T17:52:32.798Z"
   },
   {
    "duration": 38,
    "start_time": "2023-04-19T17:52:32.945Z"
   },
   {
    "duration": 9,
    "start_time": "2023-04-19T17:52:32.985Z"
   },
   {
    "duration": 9,
    "start_time": "2023-04-19T17:52:32.996Z"
   },
   {
    "duration": 10,
    "start_time": "2023-04-19T17:52:33.006Z"
   },
   {
    "duration": 15,
    "start_time": "2023-04-19T17:52:33.017Z"
   },
   {
    "duration": 51,
    "start_time": "2023-04-19T17:52:33.033Z"
   },
   {
    "duration": 9,
    "start_time": "2023-04-19T17:52:33.085Z"
   },
   {
    "duration": 4,
    "start_time": "2023-04-19T17:52:33.097Z"
   },
   {
    "duration": 1592,
    "start_time": "2023-04-19T17:52:33.103Z"
   },
   {
    "duration": 1593,
    "start_time": "2023-04-19T17:52:34.697Z"
   },
   {
    "duration": 1565,
    "start_time": "2023-04-19T17:52:36.291Z"
   },
   {
    "duration": 3473,
    "start_time": "2023-04-19T18:21:26.577Z"
   },
   {
    "duration": 3495,
    "start_time": "2023-04-19T18:21:30.053Z"
   },
   {
    "duration": 15,
    "start_time": "2023-04-19T18:21:33.553Z"
   },
   {
    "duration": 1322,
    "start_time": "2023-04-19T18:21:33.572Z"
   },
   {
    "duration": 21,
    "start_time": "2023-04-19T18:21:34.895Z"
   },
   {
    "duration": 135,
    "start_time": "2023-04-19T18:21:34.923Z"
   },
   {
    "duration": 207,
    "start_time": "2023-04-19T18:21:35.060Z"
   },
   {
    "duration": 2102,
    "start_time": "2023-04-19T18:21:35.269Z"
   },
   {
    "duration": 187,
    "start_time": "2023-04-19T18:21:37.373Z"
   },
   {
    "duration": 180,
    "start_time": "2023-04-19T18:21:37.563Z"
   },
   {
    "duration": 4,
    "start_time": "2023-04-19T18:21:37.745Z"
   },
   {
    "duration": 41,
    "start_time": "2023-04-19T18:21:37.751Z"
   },
   {
    "duration": 25,
    "start_time": "2023-04-19T18:21:37.794Z"
   },
   {
    "duration": 5,
    "start_time": "2023-04-19T18:21:37.824Z"
   },
   {
    "duration": 36,
    "start_time": "2023-04-19T18:21:37.834Z"
   },
   {
    "duration": 4,
    "start_time": "2023-04-19T18:21:37.872Z"
   },
   {
    "duration": 59,
    "start_time": "2023-04-19T18:21:37.877Z"
   },
   {
    "duration": 103,
    "start_time": "2023-04-19T18:21:37.941Z"
   },
   {
    "duration": 171,
    "start_time": "2023-04-19T18:21:38.046Z"
   },
   {
    "duration": 3,
    "start_time": "2023-04-19T18:21:38.220Z"
   },
   {
    "duration": 23,
    "start_time": "2023-04-19T18:21:38.226Z"
   },
   {
    "duration": 7,
    "start_time": "2023-04-19T18:21:38.313Z"
   },
   {
    "duration": 5,
    "start_time": "2023-04-19T18:21:38.325Z"
   },
   {
    "duration": 5,
    "start_time": "2023-04-19T18:21:38.335Z"
   },
   {
    "duration": 13,
    "start_time": "2023-04-19T18:21:38.343Z"
   },
   {
    "duration": 10,
    "start_time": "2023-04-19T18:21:38.358Z"
   },
   {
    "duration": 53,
    "start_time": "2023-04-19T18:21:38.369Z"
   },
   {
    "duration": 10,
    "start_time": "2023-04-19T18:21:38.425Z"
   },
   {
    "duration": 1649,
    "start_time": "2023-04-19T18:21:38.437Z"
   },
   {
    "duration": 1561,
    "start_time": "2023-04-19T18:21:40.088Z"
   },
   {
    "duration": 1662,
    "start_time": "2023-04-19T18:21:41.652Z"
   },
   {
    "duration": 4,
    "start_time": "2023-04-19T18:37:46.789Z"
   },
   {
    "duration": 21,
    "start_time": "2023-04-19T18:37:49.533Z"
   },
   {
    "duration": 14,
    "start_time": "2023-04-19T18:37:52.036Z"
   },
   {
    "duration": 3,
    "start_time": "2023-04-19T18:38:57.086Z"
   },
   {
    "duration": 2089,
    "start_time": "2023-04-19T18:40:42.457Z"
   },
   {
    "duration": 1885,
    "start_time": "2023-04-19T18:40:44.548Z"
   },
   {
    "duration": 5,
    "start_time": "2023-04-19T18:40:46.435Z"
   },
   {
    "duration": 401,
    "start_time": "2023-04-19T18:40:46.442Z"
   },
   {
    "duration": 16,
    "start_time": "2023-04-19T18:40:46.845Z"
   },
   {
    "duration": 13,
    "start_time": "2023-04-19T18:40:46.863Z"
   },
   {
    "duration": 43,
    "start_time": "2023-04-19T18:40:46.879Z"
   },
   {
    "duration": 525,
    "start_time": "2023-04-19T18:40:46.925Z"
   },
   {
    "duration": 189,
    "start_time": "2023-04-19T18:40:47.452Z"
   },
   {
    "duration": 186,
    "start_time": "2023-04-19T18:40:47.643Z"
   },
   {
    "duration": 7,
    "start_time": "2023-04-19T18:40:47.831Z"
   },
   {
    "duration": 37,
    "start_time": "2023-04-19T18:40:47.840Z"
   },
   {
    "duration": 4,
    "start_time": "2023-04-19T18:40:47.879Z"
   },
   {
    "duration": 8,
    "start_time": "2023-04-19T18:40:47.885Z"
   },
   {
    "duration": 48,
    "start_time": "2023-04-19T18:40:47.895Z"
   },
   {
    "duration": 4,
    "start_time": "2023-04-19T18:40:47.945Z"
   },
   {
    "duration": 60,
    "start_time": "2023-04-19T18:40:47.952Z"
   },
   {
    "duration": 28,
    "start_time": "2023-04-19T18:40:48.015Z"
   },
   {
    "duration": 27,
    "start_time": "2023-04-19T18:40:48.112Z"
   },
   {
    "duration": 6,
    "start_time": "2023-04-19T18:40:48.213Z"
   },
   {
    "duration": 8,
    "start_time": "2023-04-19T18:40:48.224Z"
   },
   {
    "duration": 90,
    "start_time": "2023-04-19T18:40:48.235Z"
   },
   {
    "duration": 7,
    "start_time": "2023-04-19T18:40:48.326Z"
   },
   {
    "duration": 17,
    "start_time": "2023-04-19T18:40:48.335Z"
   },
   {
    "duration": 13,
    "start_time": "2023-04-19T18:40:48.354Z"
   },
   {
    "duration": 9,
    "start_time": "2023-04-19T18:40:48.369Z"
   },
   {
    "duration": 9,
    "start_time": "2023-04-19T18:40:48.380Z"
   },
   {
    "duration": 32,
    "start_time": "2023-04-19T18:40:48.393Z"
   },
   {
    "duration": 1596,
    "start_time": "2023-04-19T18:40:48.428Z"
   },
   {
    "duration": 1594,
    "start_time": "2023-04-19T18:40:50.025Z"
   },
   {
    "duration": 1459,
    "start_time": "2023-04-19T18:40:51.620Z"
   },
   {
    "duration": 1185,
    "start_time": "2023-04-20T12:57:44.166Z"
   },
   {
    "duration": 2663,
    "start_time": "2023-04-20T12:57:45.355Z"
   },
   {
    "duration": 3,
    "start_time": "2023-04-20T12:57:48.021Z"
   },
   {
    "duration": 399,
    "start_time": "2023-04-20T12:57:48.026Z"
   },
   {
    "duration": 45,
    "start_time": "2023-04-20T12:57:52.416Z"
   },
   {
    "duration": 46,
    "start_time": "2023-04-20T12:58:06.321Z"
   },
   {
    "duration": 4,
    "start_time": "2023-04-20T13:04:51.944Z"
   },
   {
    "duration": 3,
    "start_time": "2023-04-20T13:09:06.927Z"
   },
   {
    "duration": 4,
    "start_time": "2023-04-20T13:10:24.810Z"
   },
   {
    "duration": 420,
    "start_time": "2023-04-20T13:10:24.816Z"
   },
   {
    "duration": 7,
    "start_time": "2023-04-20T13:10:25.238Z"
   },
   {
    "duration": 384,
    "start_time": "2023-04-20T13:10:25.247Z"
   },
   {
    "duration": 9,
    "start_time": "2023-04-20T13:10:25.633Z"
   },
   {
    "duration": 23,
    "start_time": "2023-04-20T13:10:25.644Z"
   },
   {
    "duration": 25,
    "start_time": "2023-04-20T13:10:25.669Z"
   },
   {
    "duration": 670,
    "start_time": "2023-04-20T13:10:25.696Z"
   },
   {
    "duration": 191,
    "start_time": "2023-04-20T13:10:26.368Z"
   },
   {
    "duration": 204,
    "start_time": "2023-04-20T13:10:26.560Z"
   },
   {
    "duration": 4,
    "start_time": "2023-04-20T13:10:26.766Z"
   },
   {
    "duration": 57,
    "start_time": "2023-04-20T13:10:26.772Z"
   },
   {
    "duration": 5,
    "start_time": "2023-04-20T13:10:26.832Z"
   },
   {
    "duration": 12,
    "start_time": "2023-04-20T13:10:26.839Z"
   },
   {
    "duration": 38,
    "start_time": "2023-04-20T13:10:26.853Z"
   },
   {
    "duration": 5,
    "start_time": "2023-04-20T13:10:26.893Z"
   },
   {
    "duration": 4,
    "start_time": "2023-04-20T13:10:40.758Z"
   },
   {
    "duration": 394,
    "start_time": "2023-04-20T13:10:40.764Z"
   },
   {
    "duration": 9,
    "start_time": "2023-04-20T13:10:41.159Z"
   },
   {
    "duration": 399,
    "start_time": "2023-04-20T13:10:41.170Z"
   },
   {
    "duration": 8,
    "start_time": "2023-04-20T13:10:41.571Z"
   },
   {
    "duration": 42,
    "start_time": "2023-04-20T13:10:41.580Z"
   },
   {
    "duration": 16,
    "start_time": "2023-04-20T13:10:41.624Z"
   },
   {
    "duration": 182,
    "start_time": "2023-04-20T13:10:41.642Z"
   },
   {
    "duration": 182,
    "start_time": "2023-04-20T13:10:41.825Z"
   },
   {
    "duration": 269,
    "start_time": "2023-04-20T13:10:42.015Z"
   },
   {
    "duration": 16,
    "start_time": "2023-04-20T13:10:42.292Z"
   },
   {
    "duration": 37,
    "start_time": "2023-04-20T13:10:42.317Z"
   },
   {
    "duration": 4,
    "start_time": "2023-04-20T13:10:42.357Z"
   },
   {
    "duration": 4,
    "start_time": "2023-04-20T13:10:42.364Z"
   },
   {
    "duration": 50,
    "start_time": "2023-04-20T13:10:42.370Z"
   },
   {
    "duration": 4,
    "start_time": "2023-04-20T13:10:42.425Z"
   },
   {
    "duration": 93,
    "start_time": "2023-04-20T13:10:42.431Z"
   },
   {
    "duration": 87,
    "start_time": "2023-04-20T13:10:42.528Z"
   },
   {
    "duration": 87,
    "start_time": "2023-04-20T13:10:42.619Z"
   },
   {
    "duration": 9,
    "start_time": "2023-04-20T13:17:29.221Z"
   },
   {
    "duration": 445,
    "start_time": "2023-04-20T13:17:29.237Z"
   },
   {
    "duration": 6,
    "start_time": "2023-04-20T13:17:29.684Z"
   },
   {
    "duration": 382,
    "start_time": "2023-04-20T13:17:29.692Z"
   },
   {
    "duration": 25,
    "start_time": "2023-04-20T13:17:30.075Z"
   },
   {
    "duration": 33,
    "start_time": "2023-04-20T13:17:30.108Z"
   },
   {
    "duration": 29,
    "start_time": "2023-04-20T13:17:30.143Z"
   },
   {
    "duration": 194,
    "start_time": "2023-04-20T13:17:30.174Z"
   },
   {
    "duration": 191,
    "start_time": "2023-04-20T13:17:30.370Z"
   },
   {
    "duration": 205,
    "start_time": "2023-04-20T13:17:30.565Z"
   },
   {
    "duration": 4,
    "start_time": "2023-04-20T13:17:30.772Z"
   },
   {
    "duration": 71,
    "start_time": "2023-04-20T13:17:30.778Z"
   },
   {
    "duration": 5,
    "start_time": "2023-04-20T13:17:30.851Z"
   },
   {
    "duration": 40,
    "start_time": "2023-04-20T13:17:30.857Z"
   },
   {
    "duration": 70,
    "start_time": "2023-04-20T13:17:30.899Z"
   },
   {
    "duration": 18,
    "start_time": "2023-04-20T13:17:30.971Z"
   },
   {
    "duration": 103,
    "start_time": "2023-04-20T13:17:30.991Z"
   },
   {
    "duration": 99,
    "start_time": "2023-04-20T13:17:31.099Z"
   },
   {
    "duration": 99,
    "start_time": "2023-04-20T13:17:31.203Z"
   },
   {
    "duration": 7,
    "start_time": "2023-04-20T13:17:31.310Z"
   },
   {
    "duration": 104,
    "start_time": "2023-04-20T13:17:31.323Z"
   },
   {
    "duration": 44,
    "start_time": "2023-04-20T13:17:31.429Z"
   },
   {
    "duration": 23,
    "start_time": "2023-04-20T13:17:31.474Z"
   },
   {
    "duration": 33,
    "start_time": "2023-04-20T13:17:31.504Z"
   },
   {
    "duration": 184,
    "start_time": "2023-04-20T13:17:31.539Z"
   },
   {
    "duration": 0,
    "start_time": "2023-04-20T13:17:31.726Z"
   },
   {
    "duration": 0,
    "start_time": "2023-04-20T13:17:31.727Z"
   },
   {
    "duration": 0,
    "start_time": "2023-04-20T13:17:31.729Z"
   },
   {
    "duration": 0,
    "start_time": "2023-04-20T13:17:31.730Z"
   },
   {
    "duration": 0,
    "start_time": "2023-04-20T13:17:31.731Z"
   },
   {
    "duration": 0,
    "start_time": "2023-04-20T13:17:31.732Z"
   },
   {
    "duration": 7,
    "start_time": "2023-04-20T13:18:11.818Z"
   },
   {
    "duration": 5,
    "start_time": "2023-04-20T13:18:17.718Z"
   },
   {
    "duration": 9,
    "start_time": "2023-04-20T13:18:19.346Z"
   },
   {
    "duration": 10,
    "start_time": "2023-04-20T13:18:26.052Z"
   },
   {
    "duration": 15,
    "start_time": "2023-04-20T13:18:26.064Z"
   },
   {
    "duration": 10,
    "start_time": "2023-04-20T13:18:26.081Z"
   },
   {
    "duration": 6,
    "start_time": "2023-04-20T13:18:26.094Z"
   },
   {
    "duration": 1596,
    "start_time": "2023-04-20T13:18:26.102Z"
   },
   {
    "duration": 1548,
    "start_time": "2023-04-20T13:18:27.700Z"
   },
   {
    "duration": 1559,
    "start_time": "2023-04-20T13:18:29.250Z"
   },
   {
    "duration": 1180,
    "start_time": "2023-04-20T13:20:09.681Z"
   },
   {
    "duration": 433,
    "start_time": "2023-04-20T13:20:10.863Z"
   },
   {
    "duration": 3,
    "start_time": "2023-04-20T13:20:11.299Z"
   },
   {
    "duration": 401,
    "start_time": "2023-04-20T13:20:11.305Z"
   },
   {
    "duration": 16,
    "start_time": "2023-04-20T13:20:11.708Z"
   },
   {
    "duration": 27,
    "start_time": "2023-04-20T13:20:11.727Z"
   },
   {
    "duration": 21,
    "start_time": "2023-04-20T13:20:11.756Z"
   },
   {
    "duration": 554,
    "start_time": "2023-04-20T13:20:11.779Z"
   },
   {
    "duration": 191,
    "start_time": "2023-04-20T13:20:12.335Z"
   },
   {
    "duration": 186,
    "start_time": "2023-04-20T13:20:12.530Z"
   },
   {
    "duration": 6,
    "start_time": "2023-04-20T13:20:12.718Z"
   },
   {
    "duration": 40,
    "start_time": "2023-04-20T13:20:12.726Z"
   },
   {
    "duration": 4,
    "start_time": "2023-04-20T13:20:12.768Z"
   },
   {
    "duration": 31,
    "start_time": "2023-04-20T13:20:12.774Z"
   },
   {
    "duration": 42,
    "start_time": "2023-04-20T13:20:12.806Z"
   },
   {
    "duration": 4,
    "start_time": "2023-04-20T13:20:12.850Z"
   },
   {
    "duration": 23,
    "start_time": "2023-04-20T13:20:12.855Z"
   },
   {
    "duration": 113,
    "start_time": "2023-04-20T13:20:12.880Z"
   },
   {
    "duration": 27,
    "start_time": "2023-04-20T13:20:12.995Z"
   },
   {
    "duration": 74,
    "start_time": "2023-04-20T13:20:13.025Z"
   },
   {
    "duration": 12,
    "start_time": "2023-04-20T13:20:13.101Z"
   },
   {
    "duration": 95,
    "start_time": "2023-04-20T13:20:13.115Z"
   },
   {
    "duration": 19,
    "start_time": "2023-04-20T13:20:13.215Z"
   },
   {
    "duration": 42,
    "start_time": "2023-04-20T13:20:13.236Z"
   },
   {
    "duration": 35,
    "start_time": "2023-04-20T13:20:13.280Z"
   },
   {
    "duration": 11,
    "start_time": "2023-04-20T13:20:13.322Z"
   },
   {
    "duration": 34,
    "start_time": "2023-04-20T13:20:13.335Z"
   },
   {
    "duration": 6,
    "start_time": "2023-04-20T13:20:13.373Z"
   },
   {
    "duration": 1558,
    "start_time": "2023-04-20T13:20:13.381Z"
   },
   {
    "duration": 1594,
    "start_time": "2023-04-20T13:20:14.941Z"
   },
   {
    "duration": 1588,
    "start_time": "2023-04-20T13:20:16.537Z"
   }
  ],
  "kernelspec": {
   "display_name": "Python 3 (ipykernel)",
   "language": "python",
   "name": "python3"
  },
  "language_info": {
   "codemirror_mode": {
    "name": "ipython",
    "version": 3
   },
   "file_extension": ".py",
   "mimetype": "text/x-python",
   "name": "python",
   "nbconvert_exporter": "python",
   "pygments_lexer": "ipython3",
   "version": "3.9.13"
  },
  "toc": {
   "base_numbering": 1,
   "nav_menu": {},
   "number_sections": true,
   "sideBar": true,
   "skip_h1_title": true,
   "title_cell": "Table of Contents",
   "title_sidebar": "Contents",
   "toc_cell": false,
   "toc_position": {
    "height": "calc(100% - 180px)",
    "left": "10px",
    "top": "150px",
    "width": "165px"
   },
   "toc_section_display": true,
   "toc_window_display": true
  }
 },
 "nbformat": 4,
 "nbformat_minor": 2
}
