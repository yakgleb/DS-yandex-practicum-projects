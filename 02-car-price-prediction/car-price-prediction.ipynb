{
 "cells": [
  {
   "cell_type": "markdown",
   "metadata": {},
   "source": [
    "# Определение стоимости автомобилей"
   ]
  },
  {
   "cell_type": "markdown",
   "metadata": {},
   "source": [
    "Сервис по продаже автомобилей с пробегом «Не бит, не крашен» разрабатывает приложение для привлечения новых клиентов. В нём можно быстро узнать рыночную стоимость своего автомобиля. В вашем распоряжении исторические данные: технические характеристики, комплектации и цены автомобилей. Вам нужно построить модель для определения стоимости. \n",
    "\n",
    "Заказчику важны:\n",
    "\n",
    "- качество предсказания;\n",
    "- скорость предсказания."
   ]
  },
  {
   "cell_type": "markdown",
   "metadata": {},
   "source": [
    "## Подготовка данных"
   ]
  },
  {
   "cell_type": "markdown",
   "metadata": {},
   "source": [
    "Загрузим все необходимые нам библиотеки."
   ]
  },
  {
   "cell_type": "code",
   "execution_count": 1,
   "metadata": {},
   "outputs": [],
   "source": [
    "#!pip install lightgbm"
   ]
  },
  {
   "cell_type": "code",
   "execution_count": 48,
   "metadata": {},
   "outputs": [],
   "source": [
    "import pandas as pd \n",
    "import numpy as np\n",
    "import catboost as cb\n",
    "from sklearn.tree import DecisionTreeRegressor\n",
    "from sklearn.ensemble import RandomForestRegressor\n",
    "from sklearn.linear_model import LinearRegression, SGDRegressor\n",
    "from sklearn.preprocessing import StandardScaler, OneHotEncoder, OrdinalEncoder\n",
    "from sklearn.model_selection import cross_val_score, GridSearchCV, train_test_split\n",
    "from sklearn.metrics import mean_squared_error\n",
    "from sklearn.dummy import DummyRegressor\n",
    "import lightgbm as lgbm\n",
    "from catboost import CatBoostRegressor\n",
    "from sklearn.pipeline import Pipeline\n",
    "\n",
    "import warnings\n",
    "warnings.filterwarnings(\"ignore\")"
   ]
  },
  {
   "cell_type": "markdown",
   "metadata": {},
   "source": [
    "Откроем файл, изучим всю информацию по нему."
   ]
  },
  {
   "cell_type": "code",
   "execution_count": 3,
   "metadata": {},
   "outputs": [],
   "source": [
    "try:\n",
    "    df = pd.read_csv('autos.csv')\n",
    "except:\n",
    "    df = pd.read_csv('/datasets/autos.csv')"
   ]
  },
  {
   "cell_type": "code",
   "execution_count": 4,
   "metadata": {},
   "outputs": [
    {
     "data": {
      "text/html": [
       "<div>\n",
       "<style scoped>\n",
       "    .dataframe tbody tr th:only-of-type {\n",
       "        vertical-align: middle;\n",
       "    }\n",
       "\n",
       "    .dataframe tbody tr th {\n",
       "        vertical-align: top;\n",
       "    }\n",
       "\n",
       "    .dataframe thead th {\n",
       "        text-align: right;\n",
       "    }\n",
       "</style>\n",
       "<table border=\"1\" class=\"dataframe\">\n",
       "  <thead>\n",
       "    <tr style=\"text-align: right;\">\n",
       "      <th></th>\n",
       "      <th>DateCrawled</th>\n",
       "      <th>Price</th>\n",
       "      <th>VehicleType</th>\n",
       "      <th>RegistrationYear</th>\n",
       "      <th>Gearbox</th>\n",
       "      <th>Power</th>\n",
       "      <th>Model</th>\n",
       "      <th>Kilometer</th>\n",
       "      <th>RegistrationMonth</th>\n",
       "      <th>FuelType</th>\n",
       "      <th>Brand</th>\n",
       "      <th>Repaired</th>\n",
       "      <th>DateCreated</th>\n",
       "      <th>NumberOfPictures</th>\n",
       "      <th>PostalCode</th>\n",
       "      <th>LastSeen</th>\n",
       "    </tr>\n",
       "  </thead>\n",
       "  <tbody>\n",
       "    <tr>\n",
       "      <th>0</th>\n",
       "      <td>2016-03-24 11:52:17</td>\n",
       "      <td>480</td>\n",
       "      <td>NaN</td>\n",
       "      <td>1993</td>\n",
       "      <td>manual</td>\n",
       "      <td>0</td>\n",
       "      <td>golf</td>\n",
       "      <td>150000</td>\n",
       "      <td>0</td>\n",
       "      <td>petrol</td>\n",
       "      <td>volkswagen</td>\n",
       "      <td>NaN</td>\n",
       "      <td>2016-03-24 00:00:00</td>\n",
       "      <td>0</td>\n",
       "      <td>70435</td>\n",
       "      <td>2016-04-07 03:16:57</td>\n",
       "    </tr>\n",
       "    <tr>\n",
       "      <th>1</th>\n",
       "      <td>2016-03-24 10:58:45</td>\n",
       "      <td>18300</td>\n",
       "      <td>coupe</td>\n",
       "      <td>2011</td>\n",
       "      <td>manual</td>\n",
       "      <td>190</td>\n",
       "      <td>NaN</td>\n",
       "      <td>125000</td>\n",
       "      <td>5</td>\n",
       "      <td>gasoline</td>\n",
       "      <td>audi</td>\n",
       "      <td>yes</td>\n",
       "      <td>2016-03-24 00:00:00</td>\n",
       "      <td>0</td>\n",
       "      <td>66954</td>\n",
       "      <td>2016-04-07 01:46:50</td>\n",
       "    </tr>\n",
       "    <tr>\n",
       "      <th>2</th>\n",
       "      <td>2016-03-14 12:52:21</td>\n",
       "      <td>9800</td>\n",
       "      <td>suv</td>\n",
       "      <td>2004</td>\n",
       "      <td>auto</td>\n",
       "      <td>163</td>\n",
       "      <td>grand</td>\n",
       "      <td>125000</td>\n",
       "      <td>8</td>\n",
       "      <td>gasoline</td>\n",
       "      <td>jeep</td>\n",
       "      <td>NaN</td>\n",
       "      <td>2016-03-14 00:00:00</td>\n",
       "      <td>0</td>\n",
       "      <td>90480</td>\n",
       "      <td>2016-04-05 12:47:46</td>\n",
       "    </tr>\n",
       "    <tr>\n",
       "      <th>3</th>\n",
       "      <td>2016-03-17 16:54:04</td>\n",
       "      <td>1500</td>\n",
       "      <td>small</td>\n",
       "      <td>2001</td>\n",
       "      <td>manual</td>\n",
       "      <td>75</td>\n",
       "      <td>golf</td>\n",
       "      <td>150000</td>\n",
       "      <td>6</td>\n",
       "      <td>petrol</td>\n",
       "      <td>volkswagen</td>\n",
       "      <td>no</td>\n",
       "      <td>2016-03-17 00:00:00</td>\n",
       "      <td>0</td>\n",
       "      <td>91074</td>\n",
       "      <td>2016-03-17 17:40:17</td>\n",
       "    </tr>\n",
       "    <tr>\n",
       "      <th>4</th>\n",
       "      <td>2016-03-31 17:25:20</td>\n",
       "      <td>3600</td>\n",
       "      <td>small</td>\n",
       "      <td>2008</td>\n",
       "      <td>manual</td>\n",
       "      <td>69</td>\n",
       "      <td>fabia</td>\n",
       "      <td>90000</td>\n",
       "      <td>7</td>\n",
       "      <td>gasoline</td>\n",
       "      <td>skoda</td>\n",
       "      <td>no</td>\n",
       "      <td>2016-03-31 00:00:00</td>\n",
       "      <td>0</td>\n",
       "      <td>60437</td>\n",
       "      <td>2016-04-06 10:17:21</td>\n",
       "    </tr>\n",
       "    <tr>\n",
       "      <th>5</th>\n",
       "      <td>2016-04-04 17:36:23</td>\n",
       "      <td>650</td>\n",
       "      <td>sedan</td>\n",
       "      <td>1995</td>\n",
       "      <td>manual</td>\n",
       "      <td>102</td>\n",
       "      <td>3er</td>\n",
       "      <td>150000</td>\n",
       "      <td>10</td>\n",
       "      <td>petrol</td>\n",
       "      <td>bmw</td>\n",
       "      <td>yes</td>\n",
       "      <td>2016-04-04 00:00:00</td>\n",
       "      <td>0</td>\n",
       "      <td>33775</td>\n",
       "      <td>2016-04-06 19:17:07</td>\n",
       "    </tr>\n",
       "    <tr>\n",
       "      <th>6</th>\n",
       "      <td>2016-04-01 20:48:51</td>\n",
       "      <td>2200</td>\n",
       "      <td>convertible</td>\n",
       "      <td>2004</td>\n",
       "      <td>manual</td>\n",
       "      <td>109</td>\n",
       "      <td>2_reihe</td>\n",
       "      <td>150000</td>\n",
       "      <td>8</td>\n",
       "      <td>petrol</td>\n",
       "      <td>peugeot</td>\n",
       "      <td>no</td>\n",
       "      <td>2016-04-01 00:00:00</td>\n",
       "      <td>0</td>\n",
       "      <td>67112</td>\n",
       "      <td>2016-04-05 18:18:39</td>\n",
       "    </tr>\n",
       "    <tr>\n",
       "      <th>7</th>\n",
       "      <td>2016-03-21 18:54:38</td>\n",
       "      <td>0</td>\n",
       "      <td>sedan</td>\n",
       "      <td>1980</td>\n",
       "      <td>manual</td>\n",
       "      <td>50</td>\n",
       "      <td>other</td>\n",
       "      <td>40000</td>\n",
       "      <td>7</td>\n",
       "      <td>petrol</td>\n",
       "      <td>volkswagen</td>\n",
       "      <td>no</td>\n",
       "      <td>2016-03-21 00:00:00</td>\n",
       "      <td>0</td>\n",
       "      <td>19348</td>\n",
       "      <td>2016-03-25 16:47:58</td>\n",
       "    </tr>\n",
       "    <tr>\n",
       "      <th>8</th>\n",
       "      <td>2016-04-04 23:42:13</td>\n",
       "      <td>14500</td>\n",
       "      <td>bus</td>\n",
       "      <td>2014</td>\n",
       "      <td>manual</td>\n",
       "      <td>125</td>\n",
       "      <td>c_max</td>\n",
       "      <td>30000</td>\n",
       "      <td>8</td>\n",
       "      <td>petrol</td>\n",
       "      <td>ford</td>\n",
       "      <td>NaN</td>\n",
       "      <td>2016-04-04 00:00:00</td>\n",
       "      <td>0</td>\n",
       "      <td>94505</td>\n",
       "      <td>2016-04-04 23:42:13</td>\n",
       "    </tr>\n",
       "    <tr>\n",
       "      <th>9</th>\n",
       "      <td>2016-03-17 10:53:50</td>\n",
       "      <td>999</td>\n",
       "      <td>small</td>\n",
       "      <td>1998</td>\n",
       "      <td>manual</td>\n",
       "      <td>101</td>\n",
       "      <td>golf</td>\n",
       "      <td>150000</td>\n",
       "      <td>0</td>\n",
       "      <td>NaN</td>\n",
       "      <td>volkswagen</td>\n",
       "      <td>NaN</td>\n",
       "      <td>2016-03-17 00:00:00</td>\n",
       "      <td>0</td>\n",
       "      <td>27472</td>\n",
       "      <td>2016-03-31 17:17:06</td>\n",
       "    </tr>\n",
       "  </tbody>\n",
       "</table>\n",
       "</div>"
      ],
      "text/plain": [
       "           DateCrawled  Price  VehicleType  RegistrationYear Gearbox  Power  \\\n",
       "0  2016-03-24 11:52:17    480          NaN              1993  manual      0   \n",
       "1  2016-03-24 10:58:45  18300        coupe              2011  manual    190   \n",
       "2  2016-03-14 12:52:21   9800          suv              2004    auto    163   \n",
       "3  2016-03-17 16:54:04   1500        small              2001  manual     75   \n",
       "4  2016-03-31 17:25:20   3600        small              2008  manual     69   \n",
       "5  2016-04-04 17:36:23    650        sedan              1995  manual    102   \n",
       "6  2016-04-01 20:48:51   2200  convertible              2004  manual    109   \n",
       "7  2016-03-21 18:54:38      0        sedan              1980  manual     50   \n",
       "8  2016-04-04 23:42:13  14500          bus              2014  manual    125   \n",
       "9  2016-03-17 10:53:50    999        small              1998  manual    101   \n",
       "\n",
       "     Model  Kilometer  RegistrationMonth  FuelType       Brand Repaired  \\\n",
       "0     golf     150000                  0    petrol  volkswagen      NaN   \n",
       "1      NaN     125000                  5  gasoline        audi      yes   \n",
       "2    grand     125000                  8  gasoline        jeep      NaN   \n",
       "3     golf     150000                  6    petrol  volkswagen       no   \n",
       "4    fabia      90000                  7  gasoline       skoda       no   \n",
       "5      3er     150000                 10    petrol         bmw      yes   \n",
       "6  2_reihe     150000                  8    petrol     peugeot       no   \n",
       "7    other      40000                  7    petrol  volkswagen       no   \n",
       "8    c_max      30000                  8    petrol        ford      NaN   \n",
       "9     golf     150000                  0       NaN  volkswagen      NaN   \n",
       "\n",
       "           DateCreated  NumberOfPictures  PostalCode             LastSeen  \n",
       "0  2016-03-24 00:00:00                 0       70435  2016-04-07 03:16:57  \n",
       "1  2016-03-24 00:00:00                 0       66954  2016-04-07 01:46:50  \n",
       "2  2016-03-14 00:00:00                 0       90480  2016-04-05 12:47:46  \n",
       "3  2016-03-17 00:00:00                 0       91074  2016-03-17 17:40:17  \n",
       "4  2016-03-31 00:00:00                 0       60437  2016-04-06 10:17:21  \n",
       "5  2016-04-04 00:00:00                 0       33775  2016-04-06 19:17:07  \n",
       "6  2016-04-01 00:00:00                 0       67112  2016-04-05 18:18:39  \n",
       "7  2016-03-21 00:00:00                 0       19348  2016-03-25 16:47:58  \n",
       "8  2016-04-04 00:00:00                 0       94505  2016-04-04 23:42:13  \n",
       "9  2016-03-17 00:00:00                 0       27472  2016-03-31 17:17:06  "
      ]
     },
     "execution_count": 4,
     "metadata": {},
     "output_type": "execute_result"
    }
   ],
   "source": [
    "df.head(10)"
   ]
  },
  {
   "cell_type": "code",
   "execution_count": 5,
   "metadata": {},
   "outputs": [
    {
     "name": "stdout",
     "output_type": "stream",
     "text": [
      "<class 'pandas.core.frame.DataFrame'>\n",
      "RangeIndex: 354369 entries, 0 to 354368\n",
      "Data columns (total 16 columns):\n",
      " #   Column             Non-Null Count   Dtype \n",
      "---  ------             --------------   ----- \n",
      " 0   DateCrawled        354369 non-null  object\n",
      " 1   Price              354369 non-null  int64 \n",
      " 2   VehicleType        316879 non-null  object\n",
      " 3   RegistrationYear   354369 non-null  int64 \n",
      " 4   Gearbox            334536 non-null  object\n",
      " 5   Power              354369 non-null  int64 \n",
      " 6   Model              334664 non-null  object\n",
      " 7   Kilometer          354369 non-null  int64 \n",
      " 8   RegistrationMonth  354369 non-null  int64 \n",
      " 9   FuelType           321474 non-null  object\n",
      " 10  Brand              354369 non-null  object\n",
      " 11  Repaired           283215 non-null  object\n",
      " 12  DateCreated        354369 non-null  object\n",
      " 13  NumberOfPictures   354369 non-null  int64 \n",
      " 14  PostalCode         354369 non-null  int64 \n",
      " 15  LastSeen           354369 non-null  object\n",
      "dtypes: int64(7), object(9)\n",
      "memory usage: 43.3+ MB\n"
     ]
    }
   ],
   "source": [
    "df.info()"
   ]
  },
  {
   "cell_type": "code",
   "execution_count": 6,
   "metadata": {},
   "outputs": [
    {
     "data": {
      "text/html": [
       "<div>\n",
       "<style scoped>\n",
       "    .dataframe tbody tr th:only-of-type {\n",
       "        vertical-align: middle;\n",
       "    }\n",
       "\n",
       "    .dataframe tbody tr th {\n",
       "        vertical-align: top;\n",
       "    }\n",
       "\n",
       "    .dataframe thead th {\n",
       "        text-align: right;\n",
       "    }\n",
       "</style>\n",
       "<table border=\"1\" class=\"dataframe\">\n",
       "  <thead>\n",
       "    <tr style=\"text-align: right;\">\n",
       "      <th></th>\n",
       "      <th>Price</th>\n",
       "      <th>RegistrationYear</th>\n",
       "      <th>Power</th>\n",
       "      <th>Kilometer</th>\n",
       "      <th>RegistrationMonth</th>\n",
       "      <th>NumberOfPictures</th>\n",
       "      <th>PostalCode</th>\n",
       "    </tr>\n",
       "  </thead>\n",
       "  <tbody>\n",
       "    <tr>\n",
       "      <th>count</th>\n",
       "      <td>354369.000000</td>\n",
       "      <td>354369.000000</td>\n",
       "      <td>354369.000000</td>\n",
       "      <td>354369.000000</td>\n",
       "      <td>354369.000000</td>\n",
       "      <td>354369.0</td>\n",
       "      <td>354369.000000</td>\n",
       "    </tr>\n",
       "    <tr>\n",
       "      <th>mean</th>\n",
       "      <td>4416.656776</td>\n",
       "      <td>2004.234448</td>\n",
       "      <td>110.094337</td>\n",
       "      <td>128211.172535</td>\n",
       "      <td>5.714645</td>\n",
       "      <td>0.0</td>\n",
       "      <td>50508.689087</td>\n",
       "    </tr>\n",
       "    <tr>\n",
       "      <th>std</th>\n",
       "      <td>4514.158514</td>\n",
       "      <td>90.227958</td>\n",
       "      <td>189.850405</td>\n",
       "      <td>37905.341530</td>\n",
       "      <td>3.726421</td>\n",
       "      <td>0.0</td>\n",
       "      <td>25783.096248</td>\n",
       "    </tr>\n",
       "    <tr>\n",
       "      <th>min</th>\n",
       "      <td>0.000000</td>\n",
       "      <td>1000.000000</td>\n",
       "      <td>0.000000</td>\n",
       "      <td>5000.000000</td>\n",
       "      <td>0.000000</td>\n",
       "      <td>0.0</td>\n",
       "      <td>1067.000000</td>\n",
       "    </tr>\n",
       "    <tr>\n",
       "      <th>25%</th>\n",
       "      <td>1050.000000</td>\n",
       "      <td>1999.000000</td>\n",
       "      <td>69.000000</td>\n",
       "      <td>125000.000000</td>\n",
       "      <td>3.000000</td>\n",
       "      <td>0.0</td>\n",
       "      <td>30165.000000</td>\n",
       "    </tr>\n",
       "    <tr>\n",
       "      <th>50%</th>\n",
       "      <td>2700.000000</td>\n",
       "      <td>2003.000000</td>\n",
       "      <td>105.000000</td>\n",
       "      <td>150000.000000</td>\n",
       "      <td>6.000000</td>\n",
       "      <td>0.0</td>\n",
       "      <td>49413.000000</td>\n",
       "    </tr>\n",
       "    <tr>\n",
       "      <th>75%</th>\n",
       "      <td>6400.000000</td>\n",
       "      <td>2008.000000</td>\n",
       "      <td>143.000000</td>\n",
       "      <td>150000.000000</td>\n",
       "      <td>9.000000</td>\n",
       "      <td>0.0</td>\n",
       "      <td>71083.000000</td>\n",
       "    </tr>\n",
       "    <tr>\n",
       "      <th>max</th>\n",
       "      <td>20000.000000</td>\n",
       "      <td>9999.000000</td>\n",
       "      <td>20000.000000</td>\n",
       "      <td>150000.000000</td>\n",
       "      <td>12.000000</td>\n",
       "      <td>0.0</td>\n",
       "      <td>99998.000000</td>\n",
       "    </tr>\n",
       "  </tbody>\n",
       "</table>\n",
       "</div>"
      ],
      "text/plain": [
       "               Price  RegistrationYear          Power      Kilometer  \\\n",
       "count  354369.000000     354369.000000  354369.000000  354369.000000   \n",
       "mean     4416.656776       2004.234448     110.094337  128211.172535   \n",
       "std      4514.158514         90.227958     189.850405   37905.341530   \n",
       "min         0.000000       1000.000000       0.000000    5000.000000   \n",
       "25%      1050.000000       1999.000000      69.000000  125000.000000   \n",
       "50%      2700.000000       2003.000000     105.000000  150000.000000   \n",
       "75%      6400.000000       2008.000000     143.000000  150000.000000   \n",
       "max     20000.000000       9999.000000   20000.000000  150000.000000   \n",
       "\n",
       "       RegistrationMonth  NumberOfPictures     PostalCode  \n",
       "count      354369.000000          354369.0  354369.000000  \n",
       "mean            5.714645               0.0   50508.689087  \n",
       "std             3.726421               0.0   25783.096248  \n",
       "min             0.000000               0.0    1067.000000  \n",
       "25%             3.000000               0.0   30165.000000  \n",
       "50%             6.000000               0.0   49413.000000  \n",
       "75%             9.000000               0.0   71083.000000  \n",
       "max            12.000000               0.0   99998.000000  "
      ]
     },
     "execution_count": 6,
     "metadata": {},
     "output_type": "execute_result"
    }
   ],
   "source": [
    "df.describe()"
   ]
  },
  {
   "cell_type": "code",
   "execution_count": 7,
   "metadata": {},
   "outputs": [
    {
     "data": {
      "text/plain": [
       "DateCrawled              0\n",
       "Price                    0\n",
       "VehicleType          37490\n",
       "RegistrationYear         0\n",
       "Gearbox              19833\n",
       "Power                    0\n",
       "Model                19705\n",
       "Kilometer                0\n",
       "RegistrationMonth        0\n",
       "FuelType             32895\n",
       "Brand                    0\n",
       "Repaired             71154\n",
       "DateCreated              0\n",
       "NumberOfPictures         0\n",
       "PostalCode               0\n",
       "LastSeen                 0\n",
       "dtype: int64"
      ]
     },
     "execution_count": 7,
     "metadata": {},
     "output_type": "execute_result"
    }
   ],
   "source": [
    "df.isna().sum()"
   ]
  },
  {
   "cell_type": "code",
   "execution_count": 8,
   "metadata": {},
   "outputs": [
    {
     "data": {
      "text/plain": [
       "4"
      ]
     },
     "execution_count": 8,
     "metadata": {},
     "output_type": "execute_result"
    }
   ],
   "source": [
    "df.duplicated().sum()"
   ]
  },
  {
   "cell_type": "markdown",
   "metadata": {},
   "source": [
    "Для начала удалим дубликаты и сбросим индексы."
   ]
  },
  {
   "cell_type": "code",
   "execution_count": 9,
   "metadata": {},
   "outputs": [
    {
     "data": {
      "text/plain": [
       "0"
      ]
     },
     "execution_count": 9,
     "metadata": {},
     "output_type": "execute_result"
    }
   ],
   "source": [
    "df.drop_duplicates(inplace=True, ignore_index=True)\n",
    "df.duplicated().sum()"
   ]
  },
  {
   "cell_type": "markdown",
   "metadata": {},
   "source": [
    "Узнаем количество нулевых значений в целевом признаке и удалим их, поскольку цена проданных автомобилей по определению не может равняться нулю. Скорее всего, здесь произошла ошибка при выгрузке данных, либо ошибка была допущена человеком."
   ]
  },
  {
   "cell_type": "code",
   "execution_count": 10,
   "metadata": {},
   "outputs": [
    {
     "data": {
      "text/plain": [
       "10772"
      ]
     },
     "execution_count": 10,
     "metadata": {},
     "output_type": "execute_result"
    }
   ],
   "source": [
    "df[df['Price']==0]['Price'].count()"
   ]
  },
  {
   "cell_type": "code",
   "execution_count": 11,
   "metadata": {},
   "outputs": [
    {
     "data": {
      "text/plain": [
       "0        10772\n",
       "500       5670\n",
       "1500      5394\n",
       "1000      4648\n",
       "1200      4594\n",
       "         ...  \n",
       "1368         1\n",
       "233          1\n",
       "11080        1\n",
       "16340        1\n",
       "10985        1\n",
       "Name: Price, Length: 3731, dtype: int64"
      ]
     },
     "execution_count": 11,
     "metadata": {},
     "output_type": "execute_result"
    }
   ],
   "source": [
    "df['Price'].value_counts()"
   ]
  },
  {
   "cell_type": "code",
   "execution_count": 12,
   "metadata": {},
   "outputs": [
    {
     "name": "stdout",
     "output_type": "stream",
     "text": [
      "<class 'pandas.core.frame.DataFrame'>\n",
      "RangeIndex: 343593 entries, 0 to 343592\n",
      "Data columns (total 16 columns):\n",
      " #   Column             Non-Null Count   Dtype \n",
      "---  ------             --------------   ----- \n",
      " 0   DateCrawled        343593 non-null  object\n",
      " 1   Price              343593 non-null  int64 \n",
      " 2   VehicleType        309843 non-null  object\n",
      " 3   RegistrationYear   343593 non-null  int64 \n",
      " 4   Gearbox            326238 non-null  object\n",
      " 5   Power              343593 non-null  int64 \n",
      " 6   Model              326072 non-null  object\n",
      " 7   Kilometer          343593 non-null  int64 \n",
      " 8   RegistrationMonth  343593 non-null  int64 \n",
      " 9   FuelType           314134 non-null  object\n",
      " 10  Brand              343593 non-null  object\n",
      " 11  Repaired           277727 non-null  object\n",
      " 12  DateCreated        343593 non-null  object\n",
      " 13  NumberOfPictures   343593 non-null  int64 \n",
      " 14  PostalCode         343593 non-null  int64 \n",
      " 15  LastSeen           343593 non-null  object\n",
      "dtypes: int64(7), object(9)\n",
      "memory usage: 41.9+ MB\n"
     ]
    }
   ],
   "source": [
    "df = df[df['Price'] > 0]\n",
    "df.reset_index(drop=True, inplace=True)\n",
    "df.info()"
   ]
  },
  {
   "cell_type": "markdown",
   "metadata": {},
   "source": [
    "Теперь обработаем пропуски в наших признаках. Поскольку у нас нет возможности достать пропущенные данные, заменим все пропуски в наших признаках на *'unknown'*."
   ]
  },
  {
   "cell_type": "code",
   "execution_count": 13,
   "metadata": {},
   "outputs": [
    {
     "data": {
      "text/plain": [
       "DateCrawled          0\n",
       "Price                0\n",
       "VehicleType          0\n",
       "RegistrationYear     0\n",
       "Gearbox              0\n",
       "Power                0\n",
       "Model                0\n",
       "Kilometer            0\n",
       "RegistrationMonth    0\n",
       "FuelType             0\n",
       "Brand                0\n",
       "Repaired             0\n",
       "DateCreated          0\n",
       "NumberOfPictures     0\n",
       "PostalCode           0\n",
       "LastSeen             0\n",
       "dtype: int64"
      ]
     },
     "execution_count": 13,
     "metadata": {},
     "output_type": "execute_result"
    }
   ],
   "source": [
    "df.fillna('unknown', inplace=True)\n",
    "df.isna().sum()"
   ]
  },
  {
   "cell_type": "markdown",
   "metadata": {},
   "source": [
    "Теперь обработаем выбросы в столбцах *RegistrationYear* и *Power*."
   ]
  },
  {
   "cell_type": "code",
   "execution_count": 14,
   "metadata": {},
   "outputs": [
    {
     "data": {
      "text/plain": [
       "array([1993, 2011, 2004, 2001, 2008, 1995, 2014, 1998, 2005, 1910, 2016,\n",
       "       2007, 2009, 2002, 2018, 1997, 1990, 2017, 1981, 2003, 1994, 1991,\n",
       "       1984, 2006, 1999, 2012, 2010, 2000, 1992, 2013, 1996, 1985, 1989,\n",
       "       2015, 1982, 1976, 1983, 1973, 1969, 1971, 1987, 1986, 1988, 1980,\n",
       "       1970, 1965, 1945, 1925, 1974, 1979, 1955, 1978, 1972, 1968, 1977,\n",
       "       1961, 1966, 1975, 1963, 1964, 1960, 5000, 1958, 1967, 1959, 1956,\n",
       "       3200, 1000, 1941, 9999, 8888, 1500, 2200, 4100, 1962, 1929, 1957,\n",
       "       1940, 3000, 2066, 1949, 2019, 1937, 1951, 1800, 1953, 1954, 1234,\n",
       "       8000, 5300, 9000, 2900, 6000, 5900, 5911, 1400, 1950, 4000, 1948,\n",
       "       1952, 8500, 1932, 1255, 3700, 3800, 4800, 1942, 7000, 1935, 1933,\n",
       "       1936, 6500, 1923, 2290, 1930, 1001, 9450, 1944, 2500, 1943, 1934,\n",
       "       1938, 1928, 5555, 5600, 1600, 1111, 2222, 1039, 1300, 2800, 1931,\n",
       "       4500, 1602, 7800, 1947, 1927, 7100, 8200, 1946], dtype=int64)"
      ]
     },
     "execution_count": 14,
     "metadata": {},
     "output_type": "execute_result"
    }
   ],
   "source": [
    "df['RegistrationYear'].unique()"
   ]
  },
  {
   "cell_type": "code",
   "execution_count": 15,
   "metadata": {},
   "outputs": [
    {
     "data": {
      "text/html": [
       "<div>\n",
       "<style scoped>\n",
       "    .dataframe tbody tr th:only-of-type {\n",
       "        vertical-align: middle;\n",
       "    }\n",
       "\n",
       "    .dataframe tbody tr th {\n",
       "        vertical-align: top;\n",
       "    }\n",
       "\n",
       "    .dataframe thead th {\n",
       "        text-align: right;\n",
       "    }\n",
       "</style>\n",
       "<table border=\"1\" class=\"dataframe\">\n",
       "  <thead>\n",
       "    <tr style=\"text-align: right;\">\n",
       "      <th></th>\n",
       "      <th>DateCrawled</th>\n",
       "      <th>Price</th>\n",
       "      <th>VehicleType</th>\n",
       "      <th>RegistrationYear</th>\n",
       "      <th>Gearbox</th>\n",
       "      <th>Power</th>\n",
       "      <th>Model</th>\n",
       "      <th>Kilometer</th>\n",
       "      <th>RegistrationMonth</th>\n",
       "      <th>FuelType</th>\n",
       "      <th>Brand</th>\n",
       "      <th>Repaired</th>\n",
       "      <th>DateCreated</th>\n",
       "      <th>NumberOfPictures</th>\n",
       "      <th>PostalCode</th>\n",
       "      <th>LastSeen</th>\n",
       "    </tr>\n",
       "  </thead>\n",
       "  <tbody>\n",
       "    <tr>\n",
       "      <th>87942</th>\n",
       "      <td>2016-04-07 14:36:58</td>\n",
       "      <td>3500</td>\n",
       "      <td>sedan</td>\n",
       "      <td>1999</td>\n",
       "      <td>manual</td>\n",
       "      <td>143</td>\n",
       "      <td>e_klasse</td>\n",
       "      <td>150000</td>\n",
       "      <td>8</td>\n",
       "      <td>gasoline</td>\n",
       "      <td>mercedes_benz</td>\n",
       "      <td>no</td>\n",
       "      <td>2016-04-07 00:00:00</td>\n",
       "      <td>0</td>\n",
       "      <td>64846</td>\n",
       "      <td>2016-04-07 14:36:58</td>\n",
       "    </tr>\n",
       "    <tr>\n",
       "      <th>329308</th>\n",
       "      <td>2016-04-07 14:36:56</td>\n",
       "      <td>8650</td>\n",
       "      <td>suv</td>\n",
       "      <td>1992</td>\n",
       "      <td>manual</td>\n",
       "      <td>121</td>\n",
       "      <td>wrangler</td>\n",
       "      <td>125000</td>\n",
       "      <td>5</td>\n",
       "      <td>petrol</td>\n",
       "      <td>jeep</td>\n",
       "      <td>no</td>\n",
       "      <td>2016-04-07 00:00:00</td>\n",
       "      <td>0</td>\n",
       "      <td>20357</td>\n",
       "      <td>2016-04-07 14:36:56</td>\n",
       "    </tr>\n",
       "    <tr>\n",
       "      <th>291831</th>\n",
       "      <td>2016-04-07 14:36:55</td>\n",
       "      <td>15200</td>\n",
       "      <td>wagon</td>\n",
       "      <td>2008</td>\n",
       "      <td>manual</td>\n",
       "      <td>190</td>\n",
       "      <td>a6</td>\n",
       "      <td>150000</td>\n",
       "      <td>9</td>\n",
       "      <td>gasoline</td>\n",
       "      <td>audi</td>\n",
       "      <td>no</td>\n",
       "      <td>2016-04-07 00:00:00</td>\n",
       "      <td>0</td>\n",
       "      <td>81476</td>\n",
       "      <td>2016-04-07 14:36:55</td>\n",
       "    </tr>\n",
       "    <tr>\n",
       "      <th>52092</th>\n",
       "      <td>2016-04-07 14:36:54</td>\n",
       "      <td>400</td>\n",
       "      <td>small</td>\n",
       "      <td>1996</td>\n",
       "      <td>manual</td>\n",
       "      <td>60</td>\n",
       "      <td>ibiza</td>\n",
       "      <td>150000</td>\n",
       "      <td>0</td>\n",
       "      <td>unknown</td>\n",
       "      <td>seat</td>\n",
       "      <td>unknown</td>\n",
       "      <td>2016-04-07 00:00:00</td>\n",
       "      <td>0</td>\n",
       "      <td>66299</td>\n",
       "      <td>2016-04-07 14:36:54</td>\n",
       "    </tr>\n",
       "    <tr>\n",
       "      <th>197952</th>\n",
       "      <td>2016-04-07 14:36:53</td>\n",
       "      <td>6990</td>\n",
       "      <td>coupe</td>\n",
       "      <td>1979</td>\n",
       "      <td>auto</td>\n",
       "      <td>143</td>\n",
       "      <td>3er</td>\n",
       "      <td>150000</td>\n",
       "      <td>6</td>\n",
       "      <td>petrol</td>\n",
       "      <td>bmw</td>\n",
       "      <td>no</td>\n",
       "      <td>2016-04-07 00:00:00</td>\n",
       "      <td>0</td>\n",
       "      <td>71336</td>\n",
       "      <td>2016-04-07 14:36:53</td>\n",
       "    </tr>\n",
       "    <tr>\n",
       "      <th>...</th>\n",
       "      <td>...</td>\n",
       "      <td>...</td>\n",
       "      <td>...</td>\n",
       "      <td>...</td>\n",
       "      <td>...</td>\n",
       "      <td>...</td>\n",
       "      <td>...</td>\n",
       "      <td>...</td>\n",
       "      <td>...</td>\n",
       "      <td>...</td>\n",
       "      <td>...</td>\n",
       "      <td>...</td>\n",
       "      <td>...</td>\n",
       "      <td>...</td>\n",
       "      <td>...</td>\n",
       "      <td>...</td>\n",
       "    </tr>\n",
       "    <tr>\n",
       "      <th>96811</th>\n",
       "      <td>2016-03-05 14:06:24</td>\n",
       "      <td>10900</td>\n",
       "      <td>suv</td>\n",
       "      <td>2003</td>\n",
       "      <td>auto</td>\n",
       "      <td>245</td>\n",
       "      <td>unknown</td>\n",
       "      <td>150000</td>\n",
       "      <td>11</td>\n",
       "      <td>petrol</td>\n",
       "      <td>sonstige_autos</td>\n",
       "      <td>no</td>\n",
       "      <td>2016-03-05 00:00:00</td>\n",
       "      <td>0</td>\n",
       "      <td>56072</td>\n",
       "      <td>2016-04-06 22:15:33</td>\n",
       "    </tr>\n",
       "    <tr>\n",
       "      <th>314889</th>\n",
       "      <td>2016-03-05 14:06:24</td>\n",
       "      <td>799</td>\n",
       "      <td>small</td>\n",
       "      <td>1997</td>\n",
       "      <td>manual</td>\n",
       "      <td>60</td>\n",
       "      <td>polo</td>\n",
       "      <td>150000</td>\n",
       "      <td>11</td>\n",
       "      <td>petrol</td>\n",
       "      <td>volkswagen</td>\n",
       "      <td>no</td>\n",
       "      <td>2016-03-05 00:00:00</td>\n",
       "      <td>0</td>\n",
       "      <td>35708</td>\n",
       "      <td>2016-03-09 15:19:01</td>\n",
       "    </tr>\n",
       "    <tr>\n",
       "      <th>171387</th>\n",
       "      <td>2016-03-05 14:06:24</td>\n",
       "      <td>6200</td>\n",
       "      <td>convertible</td>\n",
       "      <td>2006</td>\n",
       "      <td>manual</td>\n",
       "      <td>135</td>\n",
       "      <td>megane</td>\n",
       "      <td>90000</td>\n",
       "      <td>9</td>\n",
       "      <td>petrol</td>\n",
       "      <td>renault</td>\n",
       "      <td>no</td>\n",
       "      <td>2016-03-05 00:00:00</td>\n",
       "      <td>0</td>\n",
       "      <td>35764</td>\n",
       "      <td>2016-03-24 09:16:44</td>\n",
       "    </tr>\n",
       "    <tr>\n",
       "      <th>213793</th>\n",
       "      <td>2016-03-05 14:06:23</td>\n",
       "      <td>3999</td>\n",
       "      <td>wagon</td>\n",
       "      <td>2003</td>\n",
       "      <td>manual</td>\n",
       "      <td>220</td>\n",
       "      <td>a6</td>\n",
       "      <td>150000</td>\n",
       "      <td>7</td>\n",
       "      <td>petrol</td>\n",
       "      <td>audi</td>\n",
       "      <td>no</td>\n",
       "      <td>2016-03-05 00:00:00</td>\n",
       "      <td>0</td>\n",
       "      <td>57080</td>\n",
       "      <td>2016-03-06 18:29:35</td>\n",
       "    </tr>\n",
       "    <tr>\n",
       "      <th>319462</th>\n",
       "      <td>2016-03-05 14:06:22</td>\n",
       "      <td>150</td>\n",
       "      <td>small</td>\n",
       "      <td>1997</td>\n",
       "      <td>manual</td>\n",
       "      <td>75</td>\n",
       "      <td>polo</td>\n",
       "      <td>150000</td>\n",
       "      <td>4</td>\n",
       "      <td>petrol</td>\n",
       "      <td>volkswagen</td>\n",
       "      <td>no</td>\n",
       "      <td>2016-03-05 00:00:00</td>\n",
       "      <td>0</td>\n",
       "      <td>35789</td>\n",
       "      <td>2016-03-27 17:16:15</td>\n",
       "    </tr>\n",
       "  </tbody>\n",
       "</table>\n",
       "<p>343593 rows × 16 columns</p>\n",
       "</div>"
      ],
      "text/plain": [
       "                DateCrawled  Price  VehicleType  RegistrationYear Gearbox  \\\n",
       "87942   2016-04-07 14:36:58   3500        sedan              1999  manual   \n",
       "329308  2016-04-07 14:36:56   8650          suv              1992  manual   \n",
       "291831  2016-04-07 14:36:55  15200        wagon              2008  manual   \n",
       "52092   2016-04-07 14:36:54    400        small              1996  manual   \n",
       "197952  2016-04-07 14:36:53   6990        coupe              1979    auto   \n",
       "...                     ...    ...          ...               ...     ...   \n",
       "96811   2016-03-05 14:06:24  10900          suv              2003    auto   \n",
       "314889  2016-03-05 14:06:24    799        small              1997  manual   \n",
       "171387  2016-03-05 14:06:24   6200  convertible              2006  manual   \n",
       "213793  2016-03-05 14:06:23   3999        wagon              2003  manual   \n",
       "319462  2016-03-05 14:06:22    150        small              1997  manual   \n",
       "\n",
       "        Power     Model  Kilometer  RegistrationMonth  FuelType  \\\n",
       "87942     143  e_klasse     150000                  8  gasoline   \n",
       "329308    121  wrangler     125000                  5    petrol   \n",
       "291831    190        a6     150000                  9  gasoline   \n",
       "52092      60     ibiza     150000                  0   unknown   \n",
       "197952    143       3er     150000                  6    petrol   \n",
       "...       ...       ...        ...                ...       ...   \n",
       "96811     245   unknown     150000                 11    petrol   \n",
       "314889     60      polo     150000                 11    petrol   \n",
       "171387    135    megane      90000                  9    petrol   \n",
       "213793    220        a6     150000                  7    petrol   \n",
       "319462     75      polo     150000                  4    petrol   \n",
       "\n",
       "                 Brand Repaired          DateCreated  NumberOfPictures  \\\n",
       "87942    mercedes_benz       no  2016-04-07 00:00:00                 0   \n",
       "329308            jeep       no  2016-04-07 00:00:00                 0   \n",
       "291831            audi       no  2016-04-07 00:00:00                 0   \n",
       "52092             seat  unknown  2016-04-07 00:00:00                 0   \n",
       "197952             bmw       no  2016-04-07 00:00:00                 0   \n",
       "...                ...      ...                  ...               ...   \n",
       "96811   sonstige_autos       no  2016-03-05 00:00:00                 0   \n",
       "314889      volkswagen       no  2016-03-05 00:00:00                 0   \n",
       "171387         renault       no  2016-03-05 00:00:00                 0   \n",
       "213793            audi       no  2016-03-05 00:00:00                 0   \n",
       "319462      volkswagen       no  2016-03-05 00:00:00                 0   \n",
       "\n",
       "        PostalCode             LastSeen  \n",
       "87942        64846  2016-04-07 14:36:58  \n",
       "329308       20357  2016-04-07 14:36:56  \n",
       "291831       81476  2016-04-07 14:36:55  \n",
       "52092        66299  2016-04-07 14:36:54  \n",
       "197952       71336  2016-04-07 14:36:53  \n",
       "...            ...                  ...  \n",
       "96811        56072  2016-04-06 22:15:33  \n",
       "314889       35708  2016-03-09 15:19:01  \n",
       "171387       35764  2016-03-24 09:16:44  \n",
       "213793       57080  2016-03-06 18:29:35  \n",
       "319462       35789  2016-03-27 17:16:15  \n",
       "\n",
       "[343593 rows x 16 columns]"
      ]
     },
     "execution_count": 15,
     "metadata": {},
     "output_type": "execute_result"
    }
   ],
   "source": [
    "df.sort_values(by='DateCrawled', ascending=False)"
   ]
  },
  {
   "cell_type": "markdown",
   "metadata": {},
   "source": [
    "По логике отбросим все года, что после 2016-го и до 1900-го."
   ]
  },
  {
   "cell_type": "code",
   "execution_count": 16,
   "metadata": {},
   "outputs": [
    {
     "data": {
      "text/plain": [
       "array([1993, 2011, 2004, 2001, 2008, 1995, 2014, 1998, 2005, 1910, 2016,\n",
       "       2007, 2009, 2002, 1997, 1990, 1981, 2003, 1994, 1991, 1984, 2006,\n",
       "       1999, 2012, 2010, 2000, 1992, 2013, 1996, 1985, 1989, 2015, 1982,\n",
       "       1976, 1983, 1973, 1969, 1971, 1987, 1986, 1988, 1980, 1970, 1965,\n",
       "       1945, 1925, 1974, 1979, 1955, 1978, 1972, 1968, 1977, 1961, 1966,\n",
       "       1975, 1963, 1964, 1960, 1958, 1967, 1959, 1956, 1941, 1962, 1929,\n",
       "       1957, 1940, 1949, 1937, 1951, 1953, 1954, 1950, 1948, 1952, 1932,\n",
       "       1942, 1935, 1933, 1936, 1923, 1930, 1944, 1943, 1934, 1938, 1928,\n",
       "       1931, 1947, 1927, 1946], dtype=int64)"
      ]
     },
     "execution_count": 16,
     "metadata": {},
     "output_type": "execute_result"
    }
   ],
   "source": [
    "df = df[(df['RegistrationYear'] <= 2016) & (df['RegistrationYear'] >= 1900)]\n",
    "df['RegistrationYear'].unique()"
   ]
  },
  {
   "cell_type": "code",
   "execution_count": 17,
   "metadata": {},
   "outputs": [
    {
     "data": {
      "text/plain": [
       "0        32866\n",
       "75       22144\n",
       "60       14774\n",
       "150      13750\n",
       "101      12415\n",
       "         ...  \n",
       "1506         1\n",
       "5809         1\n",
       "15020        1\n",
       "5867         1\n",
       "1241         1\n",
       "Name: Power, Length: 685, dtype: int64"
      ]
     },
     "execution_count": 17,
     "metadata": {},
     "output_type": "execute_result"
    }
   ],
   "source": [
    "df['Power'].value_counts()"
   ]
  },
  {
   "cell_type": "code",
   "execution_count": 18,
   "metadata": {},
   "outputs": [
    {
     "data": {
      "text/plain": [
       "array([    0,   190,   163,    75,    69,   102,   109,   125,   101,\n",
       "         105,   140,   115,   131,    60,   136,   160,   231,    50,\n",
       "         118,   193,    99,   113,   218,   122,   129,    70,   306,\n",
       "          95,    61,   177,   170,    55,   143,   286,   232,   150,\n",
       "         156,    80,    82,    90,   155,    54,   185,    87,   180,\n",
       "          86,    84,   224,   235,   200,   178,   265,    77,   110,\n",
       "         144,   120,   116,   184,   126,   204,    88,   194,    64,\n",
       "         305,   197,   179,   250,    45,   313,    41,   165,    98,\n",
       "         130,   114,   211,    56,   201,   213,    58,   107,    83,\n",
       "         174,   100,   220,    73,   192,    68,    66,   299,    74,\n",
       "          52,   147,   310,    71,    97,    65,   239,   203,     5,\n",
       "         300,   103,    85,   258,   320,    63,    81,   148,    44,\n",
       "         145,   280,   260,   104,   188,   333,   186,   117,   141,\n",
       "         132,   234,   158,    39,    92,    51,   135,    59,   230,\n",
       "          53,   209,    43,   146,    67,   106,   166,   276,   344,\n",
       "          72,   249,   237,   245,   111,   326,   279,    23,   138,\n",
       "         175,    96,   226,    26,    37,   301,   334,   128,   133,\n",
       "         124,    33,   219,   241,   167,    94,   182,   196,   238,\n",
       "        1398,   228,   112,    48,   272,   139,    79,   256,   360,\n",
       "         243,   252,   396,   340,   121,   345,   187,   289,   222,\n",
       "         198,   284,   450,   233,   387,   347,   172,    57,   137,\n",
       "         212,   476,   314,    30,     7,    47,   173,   290,   207,\n",
       "         205,   171,    78,    91,    89,   349,    40,   108,   325,\n",
       "          76,   350,   953,    93,   142,   343,   199,   119,   164,\n",
       "          16,   264,   152,   367,   240,   208,   210,    46,   435,\n",
       "        1001,   225,   127,   176,   161,   603,   307,   354,    35,\n",
       "         206,   771,   355,   273,   223,   255,   151,   123,   154,\n",
       "         149,  7515,  1400,   268,   620,   400,   275,    34,     2,\n",
       "         242,  1779,   285,   162,   328,  1753,   329,   134,   420,\n",
       "         247,   168,   215,    18,   330,   283,   500,    62,    10,\n",
       "         183,   254,    15,   321,   315,   952,   169,   600,   181,\n",
       "         426,   379,    22,   157,    42,   195,   553,     4,   309,\n",
       "         507,   381,   271,   440,   189,   401,  2729,    21,   236,\n",
       "        1240,  1704,   521,     1,  1900,   270,    24,   159,   292,\n",
       "         515,  1200,   303,    29,    38,  1993,    14,   216,   610,\n",
       "         504,    49,   267,   331,   363,   261,   385,  1011,   253,\n",
       "         696, 10520,   376,   227,   311,    27,   217,    20,   322,\n",
       "        1999,    11,  1056,    25,   394,    12,   298,   296,  1659,\n",
       "         294,   551,  6920,   246,    17,  1625,   390,   221,  1367,\n",
       "         259,   606,  1597,   266,   374,   392,     9,   405,    13,\n",
       "         262,   601,   430,   295,     8,   411,   900,   541,  7512,\n",
       "         382, 10218,  7544,   999,   287,    19,   214,   751,   297,\n",
       "        1090,   457,   282,   602,   388,     6,  1000,  5411,   335,\n",
       "        1360,   202,  3750,   805,  1062,  2017,   750,  1024, 11530,\n",
       "         364,  1796,   269,   460,  1002,   288,  1780, 12012, 17932,\n",
       "         316,  2005,  1800,  1399,   191,   278,   380,   257,   449,\n",
       "        1256,   153,  1653,   520,   560,   281, 12510,     3,  1500,\n",
       "         386,    32,  1202,  2016,  1436,  1405,   671,   274,  1288,\n",
       "        1055, 10912,  6226,  1115,   277,  1105,   341,  1223,  2340,\n",
       "        8404,  1968,   338,   445,  1920,   370,   517,  4400, 10710,\n",
       "       10522,   431,  1164, 11509,   371,  1501,   428, 11635,   304,\n",
       "         348,  1703,  1995,   579, 10000,   580,   408,    31,   358,\n",
       "        1403,   489,  5575, 19211,   585,   365,   353,   490,   352,\n",
       "        1801,   346,   550,  3199,   800,  7508,  1312,  1937,   950,\n",
       "        4700,  1600,  3454, 19208,   251,   850,   337,   700,  2331,\n",
       "        2789,   487,    36,   519,  2461,  6006,  3500,  5815,  6018,\n",
       "        1781,  1503,   612,  1596,   229,  1506,  5809, 15020,  1300,\n",
       "        5867,  2172,  1598, 17410,  1363,   584,  1054,   851,  1339,\n",
       "         318,   510,   525,    28,  1151,   685,  6011,   317,   703,\n",
       "        1771, 15001,   514,   362,   332,   324,  6045,   425,   308,\n",
       "        6010,   475,   903,   640,  2000,   248,   651,  2799,   368,\n",
       "       17011,   505,  1103,  1521,   351, 16051,   398,  1998, 10311,\n",
       "         409,  1230, 17019, 12684,  8259,  1895,  1317,   871,   909,\n",
       "        2201,  1595,   776, 17700, 11011,  1199,   459,   357,  1162,\n",
       "        1120, 15033,  1896,   339,   361,   574,  6512,   454,   650,\n",
       "       13616,   604, 16312,  1082,   336, 20000,   416,   678,  1401,\n",
       "        1021,  1870,   375, 13636,  1250,  6012,   323,  1158,  2009,\n",
       "         902,  6062,  1275,   572,   244,   399,  1016,   743,  1221,\n",
       "        2402,  1362,   544,   645,   907,   702,  1003,  1432,  9013,\n",
       "         442,  1017, 15017, 10910,  1992,   540,  2018, 11025,  1433,\n",
       "        1701,  2792,  1502,  1239,  1390, 14009,  1160, 11111,  1783,\n",
       "        9007,   923,  1149,   754,  1988,  2004,  5420,  1793,  1324,\n",
       "         356, 12512,  7511,  1299,   293, 19312,  1079,  1689,   998,\n",
       "        1100,  1933,   508, 16311,   682,  1922,  7529,   732,  2389,\n",
       "        1005,  1707,  1416,  1700,  8500,  1012, 10110,   421,  4507,\n",
       "        1631,  7518,   377,  1004,  1799,  9012,  2007,  2598,  1548,\n",
       "        1241], dtype=int64)"
      ]
     },
     "execution_count": 18,
     "metadata": {},
     "output_type": "execute_result"
    }
   ],
   "source": [
    "df['Power'].unique()"
   ]
  },
  {
   "cell_type": "markdown",
   "metadata": {},
   "source": [
    "Здесь также по логике отбросим все строки с мощностью выше 1500 л.с., затем заменим нули на медианы при группировке по типу движка. "
   ]
  },
  {
   "cell_type": "code",
   "execution_count": 19,
   "metadata": {},
   "outputs": [],
   "source": [
    "df = df[df['Power'] <= 1500]"
   ]
  },
  {
   "cell_type": "code",
   "execution_count": 20,
   "metadata": {},
   "outputs": [
    {
     "data": {
      "text/html": [
       "<div>\n",
       "<style scoped>\n",
       "    .dataframe tbody tr th:only-of-type {\n",
       "        vertical-align: middle;\n",
       "    }\n",
       "\n",
       "    .dataframe tbody tr th {\n",
       "        vertical-align: top;\n",
       "    }\n",
       "\n",
       "    .dataframe thead th {\n",
       "        text-align: right;\n",
       "    }\n",
       "</style>\n",
       "<table border=\"1\" class=\"dataframe\">\n",
       "  <thead>\n",
       "    <tr style=\"text-align: right;\">\n",
       "      <th></th>\n",
       "      <th>DateCrawled</th>\n",
       "      <th>Price</th>\n",
       "      <th>VehicleType</th>\n",
       "      <th>RegistrationYear</th>\n",
       "      <th>Gearbox</th>\n",
       "      <th>Power</th>\n",
       "      <th>Model</th>\n",
       "      <th>Kilometer</th>\n",
       "      <th>RegistrationMonth</th>\n",
       "      <th>FuelType</th>\n",
       "      <th>Brand</th>\n",
       "      <th>Repaired</th>\n",
       "      <th>DateCreated</th>\n",
       "      <th>NumberOfPictures</th>\n",
       "      <th>PostalCode</th>\n",
       "      <th>LastSeen</th>\n",
       "    </tr>\n",
       "  </thead>\n",
       "  <tbody>\n",
       "    <tr>\n",
       "      <th>0</th>\n",
       "      <td>2016-03-24 11:52:17</td>\n",
       "      <td>480</td>\n",
       "      <td>unknown</td>\n",
       "      <td>1993</td>\n",
       "      <td>manual</td>\n",
       "      <td>NaN</td>\n",
       "      <td>golf</td>\n",
       "      <td>150000</td>\n",
       "      <td>0</td>\n",
       "      <td>petrol</td>\n",
       "      <td>volkswagen</td>\n",
       "      <td>unknown</td>\n",
       "      <td>2016-03-24 00:00:00</td>\n",
       "      <td>0</td>\n",
       "      <td>70435</td>\n",
       "      <td>2016-04-07 03:16:57</td>\n",
       "    </tr>\n",
       "    <tr>\n",
       "      <th>1</th>\n",
       "      <td>2016-03-24 10:58:45</td>\n",
       "      <td>18300</td>\n",
       "      <td>coupe</td>\n",
       "      <td>2011</td>\n",
       "      <td>manual</td>\n",
       "      <td>190.0</td>\n",
       "      <td>unknown</td>\n",
       "      <td>125000</td>\n",
       "      <td>5</td>\n",
       "      <td>gasoline</td>\n",
       "      <td>audi</td>\n",
       "      <td>yes</td>\n",
       "      <td>2016-03-24 00:00:00</td>\n",
       "      <td>0</td>\n",
       "      <td>66954</td>\n",
       "      <td>2016-04-07 01:46:50</td>\n",
       "    </tr>\n",
       "    <tr>\n",
       "      <th>2</th>\n",
       "      <td>2016-03-14 12:52:21</td>\n",
       "      <td>9800</td>\n",
       "      <td>suv</td>\n",
       "      <td>2004</td>\n",
       "      <td>auto</td>\n",
       "      <td>163.0</td>\n",
       "      <td>grand</td>\n",
       "      <td>125000</td>\n",
       "      <td>8</td>\n",
       "      <td>gasoline</td>\n",
       "      <td>jeep</td>\n",
       "      <td>unknown</td>\n",
       "      <td>2016-03-14 00:00:00</td>\n",
       "      <td>0</td>\n",
       "      <td>90480</td>\n",
       "      <td>2016-04-05 12:47:46</td>\n",
       "    </tr>\n",
       "    <tr>\n",
       "      <th>3</th>\n",
       "      <td>2016-03-17 16:54:04</td>\n",
       "      <td>1500</td>\n",
       "      <td>small</td>\n",
       "      <td>2001</td>\n",
       "      <td>manual</td>\n",
       "      <td>75.0</td>\n",
       "      <td>golf</td>\n",
       "      <td>150000</td>\n",
       "      <td>6</td>\n",
       "      <td>petrol</td>\n",
       "      <td>volkswagen</td>\n",
       "      <td>no</td>\n",
       "      <td>2016-03-17 00:00:00</td>\n",
       "      <td>0</td>\n",
       "      <td>91074</td>\n",
       "      <td>2016-03-17 17:40:17</td>\n",
       "    </tr>\n",
       "    <tr>\n",
       "      <th>4</th>\n",
       "      <td>2016-03-31 17:25:20</td>\n",
       "      <td>3600</td>\n",
       "      <td>small</td>\n",
       "      <td>2008</td>\n",
       "      <td>manual</td>\n",
       "      <td>69.0</td>\n",
       "      <td>fabia</td>\n",
       "      <td>90000</td>\n",
       "      <td>7</td>\n",
       "      <td>gasoline</td>\n",
       "      <td>skoda</td>\n",
       "      <td>no</td>\n",
       "      <td>2016-03-31 00:00:00</td>\n",
       "      <td>0</td>\n",
       "      <td>60437</td>\n",
       "      <td>2016-04-06 10:17:21</td>\n",
       "    </tr>\n",
       "  </tbody>\n",
       "</table>\n",
       "</div>"
      ],
      "text/plain": [
       "           DateCrawled  Price VehicleType  RegistrationYear Gearbox  Power  \\\n",
       "0  2016-03-24 11:52:17    480     unknown              1993  manual    NaN   \n",
       "1  2016-03-24 10:58:45  18300       coupe              2011  manual  190.0   \n",
       "2  2016-03-14 12:52:21   9800         suv              2004    auto  163.0   \n",
       "3  2016-03-17 16:54:04   1500       small              2001  manual   75.0   \n",
       "4  2016-03-31 17:25:20   3600       small              2008  manual   69.0   \n",
       "\n",
       "     Model  Kilometer  RegistrationMonth  FuelType       Brand Repaired  \\\n",
       "0     golf     150000                  0    petrol  volkswagen  unknown   \n",
       "1  unknown     125000                  5  gasoline        audi      yes   \n",
       "2    grand     125000                  8  gasoline        jeep  unknown   \n",
       "3     golf     150000                  6    petrol  volkswagen       no   \n",
       "4    fabia      90000                  7  gasoline       skoda       no   \n",
       "\n",
       "           DateCreated  NumberOfPictures  PostalCode             LastSeen  \n",
       "0  2016-03-24 00:00:00                 0       70435  2016-04-07 03:16:57  \n",
       "1  2016-03-24 00:00:00                 0       66954  2016-04-07 01:46:50  \n",
       "2  2016-03-14 00:00:00                 0       90480  2016-04-05 12:47:46  \n",
       "3  2016-03-17 00:00:00                 0       91074  2016-03-17 17:40:17  \n",
       "4  2016-03-31 00:00:00                 0       60437  2016-04-06 10:17:21  "
      ]
     },
     "execution_count": 20,
     "metadata": {},
     "output_type": "execute_result"
    }
   ],
   "source": [
    "df['Power'] = df['Power'].replace(0, np.nan)\n",
    "df.head()"
   ]
  },
  {
   "cell_type": "code",
   "execution_count": 21,
   "metadata": {},
   "outputs": [
    {
     "data": {
      "text/plain": [
       "VehicleType\n",
       "bus            116.0\n",
       "convertible    129.0\n",
       "coupe          150.0\n",
       "other          101.0\n",
       "sedan          122.0\n",
       "small           68.0\n",
       "suv            150.0\n",
       "unknown        100.0\n",
       "wagon          136.0\n",
       "Name: Power, dtype: float64"
      ]
     },
     "execution_count": 21,
     "metadata": {},
     "output_type": "execute_result"
    }
   ],
   "source": [
    "VehicleType = df.groupby(by=['VehicleType'])['Power'].median()\n",
    "VehicleType"
   ]
  },
  {
   "cell_type": "code",
   "execution_count": 22,
   "metadata": {},
   "outputs": [
    {
     "data": {
      "text/html": [
       "<div>\n",
       "<style scoped>\n",
       "    .dataframe tbody tr th:only-of-type {\n",
       "        vertical-align: middle;\n",
       "    }\n",
       "\n",
       "    .dataframe tbody tr th {\n",
       "        vertical-align: top;\n",
       "    }\n",
       "\n",
       "    .dataframe thead th {\n",
       "        text-align: right;\n",
       "    }\n",
       "</style>\n",
       "<table border=\"1\" class=\"dataframe\">\n",
       "  <thead>\n",
       "    <tr style=\"text-align: right;\">\n",
       "      <th></th>\n",
       "      <th>DateCrawled</th>\n",
       "      <th>Price</th>\n",
       "      <th>VehicleType</th>\n",
       "      <th>RegistrationYear</th>\n",
       "      <th>Gearbox</th>\n",
       "      <th>Power</th>\n",
       "      <th>Model</th>\n",
       "      <th>Kilometer</th>\n",
       "      <th>RegistrationMonth</th>\n",
       "      <th>FuelType</th>\n",
       "      <th>Brand</th>\n",
       "      <th>Repaired</th>\n",
       "      <th>DateCreated</th>\n",
       "      <th>NumberOfPictures</th>\n",
       "      <th>PostalCode</th>\n",
       "      <th>LastSeen</th>\n",
       "    </tr>\n",
       "  </thead>\n",
       "  <tbody>\n",
       "    <tr>\n",
       "      <th>0</th>\n",
       "      <td>2016-03-24 11:52:17</td>\n",
       "      <td>480</td>\n",
       "      <td>unknown</td>\n",
       "      <td>1993</td>\n",
       "      <td>manual</td>\n",
       "      <td>100</td>\n",
       "      <td>golf</td>\n",
       "      <td>150000</td>\n",
       "      <td>0</td>\n",
       "      <td>petrol</td>\n",
       "      <td>volkswagen</td>\n",
       "      <td>unknown</td>\n",
       "      <td>2016-03-24 00:00:00</td>\n",
       "      <td>0</td>\n",
       "      <td>70435</td>\n",
       "      <td>2016-04-07 03:16:57</td>\n",
       "    </tr>\n",
       "    <tr>\n",
       "      <th>1</th>\n",
       "      <td>2016-03-24 10:58:45</td>\n",
       "      <td>18300</td>\n",
       "      <td>coupe</td>\n",
       "      <td>2011</td>\n",
       "      <td>manual</td>\n",
       "      <td>190</td>\n",
       "      <td>unknown</td>\n",
       "      <td>125000</td>\n",
       "      <td>5</td>\n",
       "      <td>gasoline</td>\n",
       "      <td>audi</td>\n",
       "      <td>yes</td>\n",
       "      <td>2016-03-24 00:00:00</td>\n",
       "      <td>0</td>\n",
       "      <td>66954</td>\n",
       "      <td>2016-04-07 01:46:50</td>\n",
       "    </tr>\n",
       "    <tr>\n",
       "      <th>2</th>\n",
       "      <td>2016-03-14 12:52:21</td>\n",
       "      <td>9800</td>\n",
       "      <td>suv</td>\n",
       "      <td>2004</td>\n",
       "      <td>auto</td>\n",
       "      <td>163</td>\n",
       "      <td>grand</td>\n",
       "      <td>125000</td>\n",
       "      <td>8</td>\n",
       "      <td>gasoline</td>\n",
       "      <td>jeep</td>\n",
       "      <td>unknown</td>\n",
       "      <td>2016-03-14 00:00:00</td>\n",
       "      <td>0</td>\n",
       "      <td>90480</td>\n",
       "      <td>2016-04-05 12:47:46</td>\n",
       "    </tr>\n",
       "    <tr>\n",
       "      <th>3</th>\n",
       "      <td>2016-03-17 16:54:04</td>\n",
       "      <td>1500</td>\n",
       "      <td>small</td>\n",
       "      <td>2001</td>\n",
       "      <td>manual</td>\n",
       "      <td>75</td>\n",
       "      <td>golf</td>\n",
       "      <td>150000</td>\n",
       "      <td>6</td>\n",
       "      <td>petrol</td>\n",
       "      <td>volkswagen</td>\n",
       "      <td>no</td>\n",
       "      <td>2016-03-17 00:00:00</td>\n",
       "      <td>0</td>\n",
       "      <td>91074</td>\n",
       "      <td>2016-03-17 17:40:17</td>\n",
       "    </tr>\n",
       "    <tr>\n",
       "      <th>4</th>\n",
       "      <td>2016-03-31 17:25:20</td>\n",
       "      <td>3600</td>\n",
       "      <td>small</td>\n",
       "      <td>2008</td>\n",
       "      <td>manual</td>\n",
       "      <td>69</td>\n",
       "      <td>fabia</td>\n",
       "      <td>90000</td>\n",
       "      <td>7</td>\n",
       "      <td>gasoline</td>\n",
       "      <td>skoda</td>\n",
       "      <td>no</td>\n",
       "      <td>2016-03-31 00:00:00</td>\n",
       "      <td>0</td>\n",
       "      <td>60437</td>\n",
       "      <td>2016-04-06 10:17:21</td>\n",
       "    </tr>\n",
       "  </tbody>\n",
       "</table>\n",
       "</div>"
      ],
      "text/plain": [
       "           DateCrawled  Price VehicleType  RegistrationYear Gearbox  Power  \\\n",
       "0  2016-03-24 11:52:17    480     unknown              1993  manual    100   \n",
       "1  2016-03-24 10:58:45  18300       coupe              2011  manual    190   \n",
       "2  2016-03-14 12:52:21   9800         suv              2004    auto    163   \n",
       "3  2016-03-17 16:54:04   1500       small              2001  manual     75   \n",
       "4  2016-03-31 17:25:20   3600       small              2008  manual     69   \n",
       "\n",
       "     Model  Kilometer  RegistrationMonth  FuelType       Brand Repaired  \\\n",
       "0     golf     150000                  0    petrol  volkswagen  unknown   \n",
       "1  unknown     125000                  5  gasoline        audi      yes   \n",
       "2    grand     125000                  8  gasoline        jeep  unknown   \n",
       "3     golf     150000                  6    petrol  volkswagen       no   \n",
       "4    fabia      90000                  7  gasoline       skoda       no   \n",
       "\n",
       "           DateCreated  NumberOfPictures  PostalCode             LastSeen  \n",
       "0  2016-03-24 00:00:00                 0       70435  2016-04-07 03:16:57  \n",
       "1  2016-03-24 00:00:00                 0       66954  2016-04-07 01:46:50  \n",
       "2  2016-03-14 00:00:00                 0       90480  2016-04-05 12:47:46  \n",
       "3  2016-03-17 00:00:00                 0       91074  2016-03-17 17:40:17  \n",
       "4  2016-03-31 00:00:00                 0       60437  2016-04-06 10:17:21  "
      ]
     },
     "execution_count": 22,
     "metadata": {},
     "output_type": "execute_result"
    }
   ],
   "source": [
    "df['Power'] = df['Power'].fillna(df.groupby(by=['VehicleType'])['Power'].transform('median'))\n",
    "df['Power'] = df['Power'].astype(int)\n",
    "df.head()"
   ]
  },
  {
   "cell_type": "code",
   "execution_count": 23,
   "metadata": {},
   "outputs": [
    {
     "name": "stdout",
     "output_type": "stream",
     "text": [
      "<class 'pandas.core.frame.DataFrame'>\n",
      "Int64Index: 329588 entries, 0 to 343592\n",
      "Data columns (total 16 columns):\n",
      " #   Column             Non-Null Count   Dtype \n",
      "---  ------             --------------   ----- \n",
      " 0   DateCrawled        329588 non-null  object\n",
      " 1   Price              329588 non-null  int64 \n",
      " 2   VehicleType        329588 non-null  object\n",
      " 3   RegistrationYear   329588 non-null  int64 \n",
      " 4   Gearbox            329588 non-null  object\n",
      " 5   Power              329588 non-null  int32 \n",
      " 6   Model              329588 non-null  object\n",
      " 7   Kilometer          329588 non-null  int64 \n",
      " 8   RegistrationMonth  329588 non-null  int64 \n",
      " 9   FuelType           329588 non-null  object\n",
      " 10  Brand              329588 non-null  object\n",
      " 11  Repaired           329588 non-null  object\n",
      " 12  DateCreated        329588 non-null  object\n",
      " 13  NumberOfPictures   329588 non-null  int64 \n",
      " 14  PostalCode         329588 non-null  int64 \n",
      " 15  LastSeen           329588 non-null  object\n",
      "dtypes: int32(1), int64(6), object(9)\n",
      "memory usage: 41.5+ MB\n"
     ]
    }
   ],
   "source": [
    "df.info()"
   ]
  },
  {
   "cell_type": "markdown",
   "metadata": {},
   "source": [
    "Отбросим признаки, которые нам не пригодятся для обучения наших моделей."
   ]
  },
  {
   "cell_type": "code",
   "execution_count": 24,
   "metadata": {},
   "outputs": [
    {
     "data": {
      "text/html": [
       "<div>\n",
       "<style scoped>\n",
       "    .dataframe tbody tr th:only-of-type {\n",
       "        vertical-align: middle;\n",
       "    }\n",
       "\n",
       "    .dataframe tbody tr th {\n",
       "        vertical-align: top;\n",
       "    }\n",
       "\n",
       "    .dataframe thead th {\n",
       "        text-align: right;\n",
       "    }\n",
       "</style>\n",
       "<table border=\"1\" class=\"dataframe\">\n",
       "  <thead>\n",
       "    <tr style=\"text-align: right;\">\n",
       "      <th></th>\n",
       "      <th>Price</th>\n",
       "      <th>VehicleType</th>\n",
       "      <th>RegistrationYear</th>\n",
       "      <th>Gearbox</th>\n",
       "      <th>Power</th>\n",
       "      <th>Model</th>\n",
       "      <th>Kilometer</th>\n",
       "      <th>FuelType</th>\n",
       "      <th>Brand</th>\n",
       "      <th>Repaired</th>\n",
       "    </tr>\n",
       "  </thead>\n",
       "  <tbody>\n",
       "    <tr>\n",
       "      <th>0</th>\n",
       "      <td>480</td>\n",
       "      <td>unknown</td>\n",
       "      <td>1993</td>\n",
       "      <td>manual</td>\n",
       "      <td>100</td>\n",
       "      <td>golf</td>\n",
       "      <td>150000</td>\n",
       "      <td>petrol</td>\n",
       "      <td>volkswagen</td>\n",
       "      <td>unknown</td>\n",
       "    </tr>\n",
       "    <tr>\n",
       "      <th>1</th>\n",
       "      <td>18300</td>\n",
       "      <td>coupe</td>\n",
       "      <td>2011</td>\n",
       "      <td>manual</td>\n",
       "      <td>190</td>\n",
       "      <td>unknown</td>\n",
       "      <td>125000</td>\n",
       "      <td>gasoline</td>\n",
       "      <td>audi</td>\n",
       "      <td>yes</td>\n",
       "    </tr>\n",
       "    <tr>\n",
       "      <th>2</th>\n",
       "      <td>9800</td>\n",
       "      <td>suv</td>\n",
       "      <td>2004</td>\n",
       "      <td>auto</td>\n",
       "      <td>163</td>\n",
       "      <td>grand</td>\n",
       "      <td>125000</td>\n",
       "      <td>gasoline</td>\n",
       "      <td>jeep</td>\n",
       "      <td>unknown</td>\n",
       "    </tr>\n",
       "    <tr>\n",
       "      <th>3</th>\n",
       "      <td>1500</td>\n",
       "      <td>small</td>\n",
       "      <td>2001</td>\n",
       "      <td>manual</td>\n",
       "      <td>75</td>\n",
       "      <td>golf</td>\n",
       "      <td>150000</td>\n",
       "      <td>petrol</td>\n",
       "      <td>volkswagen</td>\n",
       "      <td>no</td>\n",
       "    </tr>\n",
       "    <tr>\n",
       "      <th>4</th>\n",
       "      <td>3600</td>\n",
       "      <td>small</td>\n",
       "      <td>2008</td>\n",
       "      <td>manual</td>\n",
       "      <td>69</td>\n",
       "      <td>fabia</td>\n",
       "      <td>90000</td>\n",
       "      <td>gasoline</td>\n",
       "      <td>skoda</td>\n",
       "      <td>no</td>\n",
       "    </tr>\n",
       "    <tr>\n",
       "      <th>5</th>\n",
       "      <td>650</td>\n",
       "      <td>sedan</td>\n",
       "      <td>1995</td>\n",
       "      <td>manual</td>\n",
       "      <td>102</td>\n",
       "      <td>3er</td>\n",
       "      <td>150000</td>\n",
       "      <td>petrol</td>\n",
       "      <td>bmw</td>\n",
       "      <td>yes</td>\n",
       "    </tr>\n",
       "    <tr>\n",
       "      <th>6</th>\n",
       "      <td>2200</td>\n",
       "      <td>convertible</td>\n",
       "      <td>2004</td>\n",
       "      <td>manual</td>\n",
       "      <td>109</td>\n",
       "      <td>2_reihe</td>\n",
       "      <td>150000</td>\n",
       "      <td>petrol</td>\n",
       "      <td>peugeot</td>\n",
       "      <td>no</td>\n",
       "    </tr>\n",
       "    <tr>\n",
       "      <th>7</th>\n",
       "      <td>14500</td>\n",
       "      <td>bus</td>\n",
       "      <td>2014</td>\n",
       "      <td>manual</td>\n",
       "      <td>125</td>\n",
       "      <td>c_max</td>\n",
       "      <td>30000</td>\n",
       "      <td>petrol</td>\n",
       "      <td>ford</td>\n",
       "      <td>unknown</td>\n",
       "    </tr>\n",
       "    <tr>\n",
       "      <th>8</th>\n",
       "      <td>999</td>\n",
       "      <td>small</td>\n",
       "      <td>1998</td>\n",
       "      <td>manual</td>\n",
       "      <td>101</td>\n",
       "      <td>golf</td>\n",
       "      <td>150000</td>\n",
       "      <td>unknown</td>\n",
       "      <td>volkswagen</td>\n",
       "      <td>unknown</td>\n",
       "    </tr>\n",
       "    <tr>\n",
       "      <th>9</th>\n",
       "      <td>2000</td>\n",
       "      <td>sedan</td>\n",
       "      <td>2004</td>\n",
       "      <td>manual</td>\n",
       "      <td>105</td>\n",
       "      <td>3_reihe</td>\n",
       "      <td>150000</td>\n",
       "      <td>petrol</td>\n",
       "      <td>mazda</td>\n",
       "      <td>no</td>\n",
       "    </tr>\n",
       "  </tbody>\n",
       "</table>\n",
       "</div>"
      ],
      "text/plain": [
       "   Price  VehicleType  RegistrationYear Gearbox  Power    Model  Kilometer  \\\n",
       "0    480      unknown              1993  manual    100     golf     150000   \n",
       "1  18300        coupe              2011  manual    190  unknown     125000   \n",
       "2   9800          suv              2004    auto    163    grand     125000   \n",
       "3   1500        small              2001  manual     75     golf     150000   \n",
       "4   3600        small              2008  manual     69    fabia      90000   \n",
       "5    650        sedan              1995  manual    102      3er     150000   \n",
       "6   2200  convertible              2004  manual    109  2_reihe     150000   \n",
       "7  14500          bus              2014  manual    125    c_max      30000   \n",
       "8    999        small              1998  manual    101     golf     150000   \n",
       "9   2000        sedan              2004  manual    105  3_reihe     150000   \n",
       "\n",
       "   FuelType       Brand Repaired  \n",
       "0    petrol  volkswagen  unknown  \n",
       "1  gasoline        audi      yes  \n",
       "2  gasoline        jeep  unknown  \n",
       "3    petrol  volkswagen       no  \n",
       "4  gasoline       skoda       no  \n",
       "5    petrol         bmw      yes  \n",
       "6    petrol     peugeot       no  \n",
       "7    petrol        ford  unknown  \n",
       "8   unknown  volkswagen  unknown  \n",
       "9    petrol       mazda       no  "
      ]
     },
     "execution_count": 24,
     "metadata": {},
     "output_type": "execute_result"
    }
   ],
   "source": [
    "df.drop(columns = ['DateCrawled', 'RegistrationMonth', 'DateCreated', 'NumberOfPictures', 'PostalCode', 'LastSeen'], axis=1, inplace=True)\n",
    "df.head(10)"
   ]
  },
  {
   "cell_type": "markdown",
   "metadata": {},
   "source": [
    "Мы закончили предобработку и теперь можем приступить к обучению наших моделей."
   ]
  },
  {
   "cell_type": "markdown",
   "metadata": {},
   "source": [
    "## Обучение моделей"
   ]
  },
  {
   "cell_type": "markdown",
   "metadata": {},
   "source": [
    "Для начала, выделим признаки *features* и целевой признак *target*, а затем разделим исходные данные на обучающую и валидационную и тестовую выборки в соотношении 60:20:20. После чего, также выделим признаки и целевой признак для каждой выборки."
   ]
  },
  {
   "cell_type": "code",
   "execution_count": 27,
   "metadata": {},
   "outputs": [],
   "source": [
    "features = df.drop('Price', axis=1)\n",
    "target = df['Price']\n",
    "\n",
    "df_train, df_test = train_test_split(df, test_size=0.25, random_state=12345)"
   ]
  },
  {
   "cell_type": "markdown",
   "metadata": {},
   "source": [
    "Затем, преобразуем категориальные признаки в численные, используя OneHotEncoder."
   ]
  },
  {
   "cell_type": "code",
   "execution_count": 26,
   "metadata": {},
   "outputs": [],
   "source": [
    "cat_columns = ['VehicleType', 'Gearbox', 'Model', 'FuelType', 'Brand', 'Repaired']"
   ]
  },
  {
   "cell_type": "code",
   "execution_count": 29,
   "metadata": {},
   "outputs": [],
   "source": [
    "enc = OneHotEncoder(handle_unknown='ignore', sparse=False)\n",
    "\n",
    "ohe_train_tmp = pd.DataFrame(enc.fit_transform(df_train[cat_columns]))\n",
    "ohe_test_tmp = pd.DataFrame(enc.transform(df_test[cat_columns]))\n",
    "\n",
    "ohe_train_tmp.index = df_train.index\n",
    "ohe_test_tmp.index = df_test.index\n",
    "\n",
    "num_train = df_train.drop(cat_columns, axis=1)\n",
    "num_test = df_test.drop(cat_columns, axis=1)\n",
    "\n",
    "df_train_ohe = pd.concat([num_train, ohe_train_tmp], axis=1)\n",
    "df_test_ohe = pd.concat([num_test, ohe_test_tmp], axis=1)"
   ]
  },
  {
   "cell_type": "code",
   "execution_count": 30,
   "metadata": {},
   "outputs": [
    {
     "name": "stdout",
     "output_type": "stream",
     "text": [
      "(247191, 317)\n",
      "(82397, 317)\n"
     ]
    }
   ],
   "source": [
    "print(df_train_ohe.shape)\n",
    "print(df_test_ohe.shape)"
   ]
  },
  {
   "cell_type": "code",
   "execution_count": 31,
   "metadata": {},
   "outputs": [],
   "source": [
    "features_train_ohe = df_train_ohe.drop(['Price'], axis=1)\n",
    "target_train_ohe = df_train_ohe['Price']\n",
    "features_test_ohe = df_test_ohe.drop(['Price'], axis=1)\n",
    "target_test_ohe = df_test_ohe['Price']"
   ]
  },
  {
   "cell_type": "markdown",
   "metadata": {},
   "source": [
    "### LightGBM ###"
   ]
  },
  {
   "cell_type": "markdown",
   "metadata": {},
   "source": [
    "Обучим модель градиентного бустинга LightGBM. Для этой модели используем данные, кодированные с помощью OrdinalEncoder."
   ]
  },
  {
   "cell_type": "code",
   "execution_count": 33,
   "metadata": {},
   "outputs": [],
   "source": [
    "model_lgbm = lgbm.LGBMRegressor(random_state=12345)"
   ]
  },
  {
   "cell_type": "code",
   "execution_count": 34,
   "metadata": {},
   "outputs": [],
   "source": [
    "pipe_lgbm = Pipeline([\n",
    "    ('scaler', StandardScaler()),\n",
    "    ('model_lgbm', model_lgbm)])"
   ]
  },
  {
   "cell_type": "code",
   "execution_count": 35,
   "metadata": {},
   "outputs": [],
   "source": [
    "parameters = {'model_lgbm__num_leaves': [n for n in range(20, 201, 20)],\n",
    "              'model_lgbm__n_estimators': [100, 200]}"
   ]
  },
  {
   "cell_type": "code",
   "execution_count": 36,
   "metadata": {},
   "outputs": [
    {
     "name": "stdout",
     "output_type": "stream",
     "text": [
      "{'model_lgbm__n_estimators': 200, 'model_lgbm__num_leaves': 200}\n",
      "1569.258534585984\n"
     ]
    }
   ],
   "source": [
    "model_lgbm = GridSearchCV(pipe_lgbm,\n",
    "                          param_grid=parameters,\n",
    "                          scoring='neg_root_mean_squared_error',\n",
    "                          cv=5,\n",
    "                          n_jobs=-1)\n",
    "model_lgbm.fit(features_train_ohe, target_train_ohe)\n",
    "print(model_lgbm.best_params_)\n",
    "print(-1*model_lgbm.best_score_)"
   ]
  },
  {
   "cell_type": "markdown",
   "metadata": {},
   "source": [
    "Теперь обучим другие модели."
   ]
  },
  {
   "cell_type": "markdown",
   "metadata": {},
   "source": [
    "### Дерево решений ###"
   ]
  },
  {
   "cell_type": "markdown",
   "metadata": {},
   "source": [
    "Для дерева решений снова используем данные, кодированные с помощью OrdinalEncoder."
   ]
  },
  {
   "cell_type": "code",
   "execution_count": 37,
   "metadata": {},
   "outputs": [],
   "source": [
    "model_dt = DecisionTreeRegressor(random_state=12345)"
   ]
  },
  {
   "cell_type": "markdown",
   "metadata": {},
   "source": [
    "Подберем параметры для дерева решений."
   ]
  },
  {
   "cell_type": "code",
   "execution_count": 38,
   "metadata": {},
   "outputs": [],
   "source": [
    "pipe_dt = Pipeline([\n",
    "    ('scaler', StandardScaler()),\n",
    "    ('model_dt', model_dt)])"
   ]
  },
  {
   "cell_type": "code",
   "execution_count": 39,
   "metadata": {},
   "outputs": [],
   "source": [
    "parameters_dt = {'model_dt__max_depth': [None, 1, 3, 5, 7, 9],\n",
    "                 'model_dt__min_samples_leaf': [1, 2, 3, 4, 5]}"
   ]
  },
  {
   "cell_type": "code",
   "execution_count": 40,
   "metadata": {},
   "outputs": [
    {
     "name": "stdout",
     "output_type": "stream",
     "text": [
      "{'model_dt__max_depth': None, 'model_dt__min_samples_leaf': 5}\n",
      "1814.06952687047\n"
     ]
    }
   ],
   "source": [
    "model_dt = GridSearchCV(pipe_dt, param_grid=parameters_dt, scoring='neg_root_mean_squared_error', cv=5, n_jobs=-1)\n",
    "model_dt.fit(features_train_ohe, target_train_ohe)\n",
    "print(model_dt.best_params_)\n",
    "print(-1*model_dt.best_score_)"
   ]
  },
  {
   "cell_type": "markdown",
   "metadata": {},
   "source": [
    "Теперь обучим модель Catboost регрессии."
   ]
  },
  {
   "cell_type": "markdown",
   "metadata": {},
   "source": [
    "### Catboost ###"
   ]
  },
  {
   "cell_type": "code",
   "execution_count": 50,
   "metadata": {},
   "outputs": [],
   "source": [
    "model_cbr = CatBoostRegressor(verbose=False, random_state=12345)"
   ]
  },
  {
   "cell_type": "code",
   "execution_count": 51,
   "metadata": {},
   "outputs": [],
   "source": [
    "pipe_cbr = Pipeline([\n",
    "    ('scaler', StandardScaler()),\n",
    "    ('model_cbr', model_cbr)])"
   ]
  },
  {
   "cell_type": "code",
   "execution_count": 52,
   "metadata": {},
   "outputs": [],
   "source": [
    "param_cbr = {'model_cbr__depth' : [2,4,6,8,10],\n",
    "             'model_cbr__learning_rate' : [0.01, 0.05, 0.1, 1],\n",
    "             'model_cbr__n_estimators': [50, 100, 150, 200] }"
   ]
  },
  {
   "cell_type": "code",
   "execution_count": 54,
   "metadata": {
    "scrolled": false
   },
   "outputs": [
    {
     "name": "stdout",
     "output_type": "stream",
     "text": [
      "{'model_cbr__depth': 10, 'model_cbr__learning_rate': 1, 'model_cbr__n_estimators': 200}\n",
      "-1012.1013383895303\n"
     ]
    }
   ],
   "source": [
    "model_cbr = GridSearchCV(pipe_cbr, param_grid=param_cbr, n_jobs=-1, scoring='neg_mean_absolute_error', verbose=False)\n",
    "model_cbr.fit(features_train_ohe, target_train_ohe)\n",
    "print(model_cbr.best_params_)\n",
    "print(model_cbr.best_score_)features_test_ohe"
   ]
  },
  {
   "cell_type": "markdown",
   "metadata": {},
   "source": [
    "Нашей лучшей моделью оказалась Catboost. "
   ]
  },
  {
   "cell_type": "markdown",
   "metadata": {},
   "source": [
    "## Анализ моделей"
   ]
  },
  {
   "cell_type": "markdown",
   "metadata": {},
   "source": [
    "Протестируем нашу лучшую модель на тестовой выборке, используя гиперпараметры, полученные выше."
   ]
  },
  {
   "cell_type": "code",
   "execution_count": 58,
   "metadata": {},
   "outputs": [
    {
     "name": "stdout",
     "output_type": "stream",
     "text": [
      "Wall time: 7.36 s\n"
     ]
    },
    {
     "data": {
      "text/plain": [
       "<catboost.core.CatBoostRegressor at 0x28401bd4b50>"
      ]
     },
     "execution_count": 58,
     "metadata": {},
     "output_type": "execute_result"
    }
   ],
   "source": [
    "%%time\n",
    "\n",
    "model_cbr = CatBoostRegressor(random_state=12345, depth = 10, learning_rate = 1, n_estimators = 200, verbose=False)\n",
    "model_cbr.fit(features_train_ohe, target_train_ohe)"
   ]
  },
  {
   "cell_type": "code",
   "execution_count": 59,
   "metadata": {},
   "outputs": [
    {
     "name": "stdout",
     "output_type": "stream",
     "text": [
      "1647.9856270368364\n",
      "Wall time: 180 ms\n"
     ]
    }
   ],
   "source": [
    "%%time\n",
    "\n",
    "predictions_cbr = model_cbr.predict(features_test_ohe)\n",
    "rmse = mean_squared_error(target_test_ohe, predictions_cbr)**0.5\n",
    "print(rmse)"
   ]
  },
  {
   "cell_type": "markdown",
   "metadata": {},
   "source": [
    "## Вывод"
   ]
  },
  {
   "cell_type": "markdown",
   "metadata": {},
   "source": [
    "Итак, перед обучением моделей мы выполнили предобработку данных, удалив дубликаты, пропуски и выбросы, а также проработали нулевые значения. Затем мы отбросили ненужные признаки, потом преобразовали категориальные признаки в численные, и провели масштабирование. После чего разибили данные на обучающую и валидационную выборки и провели обучение трех моделей: LightGBM, Дерево решений и CatBoostRegressor.\n",
    "\n",
    "Наилучший результат мы достигли у модели ***CatBoostRegressor***, ошибка **RMSE** на тестовой выборке получилась 1647.99, скорость предсказания при этом составила 180 мс."
   ]
  },
  {
   "cell_type": "code",
   "execution_count": null,
   "metadata": {},
   "outputs": [],
   "source": []
  }
 ],
 "metadata": {
  "ExecuteTimeLog": [
   {
    "duration": 1538,
    "start_time": "2023-06-06T16:39:00.338Z"
   },
   {
    "duration": 1066,
    "start_time": "2023-06-06T16:41:57.080Z"
   },
   {
    "duration": 20,
    "start_time": "2023-06-06T16:42:18.084Z"
   },
   {
    "duration": 14,
    "start_time": "2023-06-06T16:42:23.473Z"
   },
   {
    "duration": 107,
    "start_time": "2023-06-06T16:42:47.696Z"
   },
   {
    "duration": 85,
    "start_time": "2023-06-06T16:43:02.439Z"
   },
   {
    "duration": 98,
    "start_time": "2023-06-06T16:43:18.179Z"
   },
   {
    "duration": 145,
    "start_time": "2023-06-06T16:45:05.871Z"
   },
   {
    "duration": 118,
    "start_time": "2023-06-06T16:46:05.140Z"
   },
   {
    "duration": 9,
    "start_time": "2023-06-06T16:46:15.045Z"
   },
   {
    "duration": 17,
    "start_time": "2023-06-06T16:47:02.657Z"
   },
   {
    "duration": 9,
    "start_time": "2023-06-06T16:47:21.591Z"
   },
   {
    "duration": 10,
    "start_time": "2023-06-06T16:47:28.993Z"
   },
   {
    "duration": 9,
    "start_time": "2023-06-06T16:47:34.681Z"
   },
   {
    "duration": 9,
    "start_time": "2023-06-06T16:47:52.177Z"
   },
   {
    "duration": 362,
    "start_time": "2023-06-06T16:49:26.406Z"
   },
   {
    "duration": 407,
    "start_time": "2023-06-06T16:52:43.524Z"
   },
   {
    "duration": 738,
    "start_time": "2023-06-06T16:53:03.011Z"
   },
   {
    "duration": 493,
    "start_time": "2023-06-06T16:53:13.963Z"
   },
   {
    "duration": 8,
    "start_time": "2023-06-06T16:53:44.418Z"
   },
   {
    "duration": 5,
    "start_time": "2023-06-06T16:53:56.224Z"
   },
   {
    "duration": 900,
    "start_time": "2023-06-06T16:53:56.232Z"
   },
   {
    "duration": 14,
    "start_time": "2023-06-06T16:53:57.135Z"
   },
   {
    "duration": 123,
    "start_time": "2023-06-06T16:53:57.150Z"
   },
   {
    "duration": 88,
    "start_time": "2023-06-06T16:53:57.275Z"
   },
   {
    "duration": 111,
    "start_time": "2023-06-06T16:53:57.365Z"
   },
   {
    "duration": 366,
    "start_time": "2023-06-06T16:53:57.477Z"
   },
   {
    "duration": 11,
    "start_time": "2023-06-06T16:53:57.845Z"
   },
   {
    "duration": 363,
    "start_time": "2023-06-06T16:54:01.957Z"
   },
   {
    "duration": 307,
    "start_time": "2023-06-06T16:54:10.003Z"
   },
   {
    "duration": 340,
    "start_time": "2023-06-06T16:56:44.286Z"
   },
   {
    "duration": 347,
    "start_time": "2023-06-06T16:56:49.838Z"
   },
   {
    "duration": 397,
    "start_time": "2023-06-06T16:56:59.490Z"
   },
   {
    "duration": 441,
    "start_time": "2023-06-06T16:57:23.043Z"
   },
   {
    "duration": 373,
    "start_time": "2023-06-06T16:57:34.511Z"
   },
   {
    "duration": 707,
    "start_time": "2023-06-06T16:57:42.116Z"
   },
   {
    "duration": 7,
    "start_time": "2023-06-06T17:19:12.951Z"
   },
   {
    "duration": 155,
    "start_time": "2023-06-06T17:23:54.399Z"
   },
   {
    "duration": 280,
    "start_time": "2023-06-06T17:27:08.560Z"
   },
   {
    "duration": 36,
    "start_time": "2023-06-06T17:29:05.673Z"
   },
   {
    "duration": 35,
    "start_time": "2023-06-06T17:30:03.731Z"
   },
   {
    "duration": 8,
    "start_time": "2023-06-06T17:30:14.893Z"
   },
   {
    "duration": 3,
    "start_time": "2023-06-06T17:30:27.899Z"
   },
   {
    "duration": 804,
    "start_time": "2023-06-06T17:30:27.904Z"
   },
   {
    "duration": 12,
    "start_time": "2023-06-06T17:30:28.710Z"
   },
   {
    "duration": 102,
    "start_time": "2023-06-06T17:30:28.724Z"
   },
   {
    "duration": 86,
    "start_time": "2023-06-06T17:30:28.829Z"
   },
   {
    "duration": 97,
    "start_time": "2023-06-06T17:30:28.917Z"
   },
   {
    "duration": 315,
    "start_time": "2023-06-06T17:30:29.016Z"
   },
   {
    "duration": 678,
    "start_time": "2023-06-06T17:30:29.332Z"
   },
   {
    "duration": 9,
    "start_time": "2023-06-06T17:30:30.012Z"
   },
   {
    "duration": 65,
    "start_time": "2023-06-06T17:30:30.023Z"
   },
   {
    "duration": 139,
    "start_time": "2023-06-06T17:30:33.521Z"
   },
   {
    "duration": 35,
    "start_time": "2023-06-06T17:30:43.404Z"
   },
   {
    "duration": 15,
    "start_time": "2023-06-06T17:32:46.660Z"
   },
   {
    "duration": 4,
    "start_time": "2023-06-06T17:33:09.615Z"
   },
   {
    "duration": 716,
    "start_time": "2023-06-06T17:33:09.620Z"
   },
   {
    "duration": 12,
    "start_time": "2023-06-06T17:33:10.337Z"
   },
   {
    "duration": 130,
    "start_time": "2023-06-06T17:33:10.351Z"
   },
   {
    "duration": 77,
    "start_time": "2023-06-06T17:33:10.490Z"
   },
   {
    "duration": 110,
    "start_time": "2023-06-06T17:33:10.568Z"
   },
   {
    "duration": 342,
    "start_time": "2023-06-06T17:33:10.679Z"
   },
   {
    "duration": 722,
    "start_time": "2023-06-06T17:33:11.022Z"
   },
   {
    "duration": 9,
    "start_time": "2023-06-06T17:33:11.746Z"
   },
   {
    "duration": 17,
    "start_time": "2023-06-06T17:33:11.756Z"
   },
   {
    "duration": 182,
    "start_time": "2023-06-06T17:33:11.774Z"
   },
   {
    "duration": 31,
    "start_time": "2023-06-06T17:33:14.024Z"
   },
   {
    "duration": 67,
    "start_time": "2023-06-06T17:37:49.243Z"
   },
   {
    "duration": 154,
    "start_time": "2023-06-06T17:37:53.147Z"
   },
   {
    "duration": 12,
    "start_time": "2023-06-06T18:17:25.700Z"
   },
   {
    "duration": 4,
    "start_time": "2023-06-06T18:17:32.489Z"
   },
   {
    "duration": 701,
    "start_time": "2023-06-06T18:17:32.495Z"
   },
   {
    "duration": 13,
    "start_time": "2023-06-06T18:17:33.197Z"
   },
   {
    "duration": 134,
    "start_time": "2023-06-06T18:17:33.211Z"
   },
   {
    "duration": 79,
    "start_time": "2023-06-06T18:17:33.346Z"
   },
   {
    "duration": 104,
    "start_time": "2023-06-06T18:17:33.427Z"
   },
   {
    "duration": 333,
    "start_time": "2023-06-06T18:17:33.532Z"
   },
   {
    "duration": 721,
    "start_time": "2023-06-06T18:17:33.867Z"
   },
   {
    "duration": 10,
    "start_time": "2023-06-06T18:17:34.590Z"
   },
   {
    "duration": 19,
    "start_time": "2023-06-06T18:17:34.601Z"
   },
   {
    "duration": 170,
    "start_time": "2023-06-06T18:17:34.622Z"
   },
   {
    "duration": 29,
    "start_time": "2023-06-06T18:17:34.793Z"
   },
   {
    "duration": 120,
    "start_time": "2023-06-06T18:17:34.825Z"
   },
   {
    "duration": 8,
    "start_time": "2023-06-06T18:30:21.284Z"
   },
   {
    "duration": 7,
    "start_time": "2023-06-06T18:30:36.121Z"
   },
   {
    "duration": 8,
    "start_time": "2023-06-06T18:30:50.420Z"
   },
   {
    "duration": 8,
    "start_time": "2023-06-06T18:30:58.835Z"
   },
   {
    "duration": 5,
    "start_time": "2023-06-06T18:52:38.709Z"
   },
   {
    "duration": 10,
    "start_time": "2023-06-06T18:56:26.459Z"
   },
   {
    "duration": 38,
    "start_time": "2023-06-06T18:56:43.682Z"
   },
   {
    "duration": 8,
    "start_time": "2023-06-06T18:59:21.235Z"
   },
   {
    "duration": 7,
    "start_time": "2023-06-06T18:59:44.593Z"
   },
   {
    "duration": 22,
    "start_time": "2023-06-06T19:18:14.552Z"
   },
   {
    "duration": 24,
    "start_time": "2023-06-06T19:22:21.712Z"
   },
   {
    "duration": 17830,
    "start_time": "2023-06-06T19:23:15.308Z"
   },
   {
    "duration": 3,
    "start_time": "2023-06-06T19:24:27.242Z"
   },
   {
    "duration": 758,
    "start_time": "2023-06-06T19:24:27.247Z"
   },
   {
    "duration": 14,
    "start_time": "2023-06-06T19:24:28.007Z"
   },
   {
    "duration": 124,
    "start_time": "2023-06-06T19:24:28.023Z"
   },
   {
    "duration": 106,
    "start_time": "2023-06-06T19:24:28.149Z"
   },
   {
    "duration": 117,
    "start_time": "2023-06-06T19:24:28.256Z"
   },
   {
    "duration": 345,
    "start_time": "2023-06-06T19:24:28.376Z"
   },
   {
    "duration": 687,
    "start_time": "2023-06-06T19:24:28.722Z"
   },
   {
    "duration": 11,
    "start_time": "2023-06-06T19:24:29.410Z"
   },
   {
    "duration": 13,
    "start_time": "2023-06-06T19:24:29.423Z"
   },
   {
    "duration": 151,
    "start_time": "2023-06-06T19:24:29.438Z"
   },
   {
    "duration": 35,
    "start_time": "2023-06-06T19:24:29.591Z"
   },
   {
    "duration": 138,
    "start_time": "2023-06-06T19:24:29.628Z"
   },
   {
    "duration": 16,
    "start_time": "2023-06-06T19:24:29.768Z"
   },
   {
    "duration": 37,
    "start_time": "2023-06-06T19:24:29.785Z"
   },
   {
    "duration": 9,
    "start_time": "2023-06-06T19:24:29.824Z"
   },
   {
    "duration": 23,
    "start_time": "2023-06-06T19:24:29.834Z"
   },
   {
    "duration": 356244,
    "start_time": "2023-06-06T19:24:42.399Z"
   },
   {
    "duration": 124339,
    "start_time": "2023-06-06T19:31:53.111Z"
   },
   {
    "duration": 4,
    "start_time": "2023-06-06T19:34:16.128Z"
   },
   {
    "duration": 789,
    "start_time": "2023-06-06T19:34:16.135Z"
   },
   {
    "duration": 14,
    "start_time": "2023-06-06T19:34:16.926Z"
   },
   {
    "duration": 195,
    "start_time": "2023-06-06T19:34:16.941Z"
   },
   {
    "duration": 107,
    "start_time": "2023-06-06T19:34:17.138Z"
   },
   {
    "duration": 100,
    "start_time": "2023-06-06T19:34:17.246Z"
   },
   {
    "duration": 354,
    "start_time": "2023-06-06T19:34:17.347Z"
   },
   {
    "duration": 700,
    "start_time": "2023-06-06T19:34:17.703Z"
   },
   {
    "duration": 14,
    "start_time": "2023-06-06T19:34:18.405Z"
   },
   {
    "duration": 13,
    "start_time": "2023-06-06T19:34:18.420Z"
   },
   {
    "duration": 155,
    "start_time": "2023-06-06T19:34:18.435Z"
   },
   {
    "duration": 33,
    "start_time": "2023-06-06T19:34:18.592Z"
   },
   {
    "duration": 136,
    "start_time": "2023-06-06T19:34:18.627Z"
   },
   {
    "duration": 19,
    "start_time": "2023-06-06T19:34:18.765Z"
   },
   {
    "duration": 58,
    "start_time": "2023-06-06T19:34:18.786Z"
   },
   {
    "duration": 8,
    "start_time": "2023-06-06T19:34:18.846Z"
   },
   {
    "duration": 45,
    "start_time": "2023-06-06T19:34:18.856Z"
   },
   {
    "duration": 753927,
    "start_time": "2023-06-06T19:34:22.998Z"
   },
   {
    "duration": 3,
    "start_time": "2023-06-06T19:47:13.044Z"
   },
   {
    "duration": 746,
    "start_time": "2023-06-06T19:47:13.049Z"
   },
   {
    "duration": 12,
    "start_time": "2023-06-06T19:47:13.797Z"
   },
   {
    "duration": 109,
    "start_time": "2023-06-06T19:47:13.811Z"
   },
   {
    "duration": 86,
    "start_time": "2023-06-06T19:47:13.922Z"
   },
   {
    "duration": 100,
    "start_time": "2023-06-06T19:47:14.009Z"
   },
   {
    "duration": 346,
    "start_time": "2023-06-06T19:47:14.111Z"
   },
   {
    "duration": 672,
    "start_time": "2023-06-06T19:47:14.459Z"
   },
   {
    "duration": 9,
    "start_time": "2023-06-06T19:47:15.133Z"
   },
   {
    "duration": 9,
    "start_time": "2023-06-06T19:47:15.143Z"
   },
   {
    "duration": 147,
    "start_time": "2023-06-06T19:47:15.153Z"
   },
   {
    "duration": 33,
    "start_time": "2023-06-06T19:47:15.302Z"
   },
   {
    "duration": 135,
    "start_time": "2023-06-06T19:47:15.336Z"
   },
   {
    "duration": 7,
    "start_time": "2023-06-06T19:47:15.484Z"
   },
   {
    "duration": 55,
    "start_time": "2023-06-06T19:47:15.492Z"
   },
   {
    "duration": 8,
    "start_time": "2023-06-06T19:47:15.549Z"
   },
   {
    "duration": 42,
    "start_time": "2023-06-06T19:47:15.559Z"
   },
   {
    "duration": 83,
    "start_time": "2023-06-06T19:47:44.435Z"
   },
   {
    "duration": 325,
    "start_time": "2023-06-06T19:50:21.498Z"
   },
   {
    "duration": 327,
    "start_time": "2023-06-06T19:50:34.331Z"
   },
   {
    "duration": 321,
    "start_time": "2023-06-06T19:50:38.519Z"
   },
   {
    "duration": 9,
    "start_time": "2023-06-06T19:51:40.510Z"
   },
   {
    "duration": 4,
    "start_time": "2023-06-06T19:53:25.128Z"
   },
   {
    "duration": 766,
    "start_time": "2023-06-06T19:53:25.133Z"
   },
   {
    "duration": 12,
    "start_time": "2023-06-06T19:53:25.901Z"
   },
   {
    "duration": 111,
    "start_time": "2023-06-06T19:53:25.915Z"
   },
   {
    "duration": 103,
    "start_time": "2023-06-06T19:53:26.028Z"
   },
   {
    "duration": 123,
    "start_time": "2023-06-06T19:53:26.132Z"
   },
   {
    "duration": 374,
    "start_time": "2023-06-06T19:53:26.257Z"
   },
   {
    "duration": 703,
    "start_time": "2023-06-06T19:53:26.632Z"
   },
   {
    "duration": 10,
    "start_time": "2023-06-06T19:53:27.337Z"
   },
   {
    "duration": 9,
    "start_time": "2023-06-06T19:53:27.348Z"
   },
   {
    "duration": 183,
    "start_time": "2023-06-06T19:53:27.358Z"
   },
   {
    "duration": 33,
    "start_time": "2023-06-06T19:53:27.543Z"
   },
   {
    "duration": 144,
    "start_time": "2023-06-06T19:53:27.585Z"
   },
   {
    "duration": 6,
    "start_time": "2023-06-06T19:53:27.732Z"
   },
   {
    "duration": 54,
    "start_time": "2023-06-06T19:53:27.739Z"
   },
   {
    "duration": 7,
    "start_time": "2023-06-06T19:53:27.795Z"
   },
   {
    "duration": 25,
    "start_time": "2023-06-06T19:53:27.804Z"
   },
   {
    "duration": 891,
    "start_time": "2023-06-06T19:55:13.578Z"
   },
   {
    "duration": 9,
    "start_time": "2023-06-06T19:55:20.909Z"
   },
   {
    "duration": 4,
    "start_time": "2023-06-06T19:57:23.396Z"
   },
   {
    "duration": 31,
    "start_time": "2023-06-06T19:57:28.082Z"
   },
   {
    "duration": 7911,
    "start_time": "2023-06-06T19:57:31.942Z"
   },
   {
    "duration": 10,
    "start_time": "2023-06-06T19:57:41.823Z"
   },
   {
    "duration": 122,
    "start_time": "2023-06-06T19:58:19.918Z"
   },
   {
    "duration": 18,
    "start_time": "2023-06-06T20:00:25.346Z"
   },
   {
    "duration": 9,
    "start_time": "2023-06-06T20:00:31.022Z"
   },
   {
    "duration": 10,
    "start_time": "2023-06-06T20:00:41.725Z"
   },
   {
    "duration": 11,
    "start_time": "2023-06-06T20:02:44.427Z"
   },
   {
    "duration": 73,
    "start_time": "2023-06-06T20:03:07.899Z"
   },
   {
    "duration": 13,
    "start_time": "2023-06-06T20:05:08.881Z"
   },
   {
    "duration": 4,
    "start_time": "2023-06-06T20:05:51.650Z"
   },
   {
    "duration": 885,
    "start_time": "2023-06-06T20:05:51.657Z"
   },
   {
    "duration": 20,
    "start_time": "2023-06-06T20:05:52.544Z"
   },
   {
    "duration": 170,
    "start_time": "2023-06-06T20:05:52.565Z"
   },
   {
    "duration": 91,
    "start_time": "2023-06-06T20:05:52.738Z"
   },
   {
    "duration": 136,
    "start_time": "2023-06-06T20:05:52.831Z"
   },
   {
    "duration": 397,
    "start_time": "2023-06-06T20:05:52.969Z"
   },
   {
    "duration": 797,
    "start_time": "2023-06-06T20:05:53.369Z"
   },
   {
    "duration": 35,
    "start_time": "2023-06-06T20:05:54.167Z"
   },
   {
    "duration": 10,
    "start_time": "2023-06-06T20:05:54.204Z"
   },
   {
    "duration": 195,
    "start_time": "2023-06-06T20:05:54.216Z"
   },
   {
    "duration": 41,
    "start_time": "2023-06-06T20:05:54.418Z"
   },
   {
    "duration": 158,
    "start_time": "2023-06-06T20:05:54.461Z"
   },
   {
    "duration": 7,
    "start_time": "2023-06-06T20:05:54.621Z"
   },
   {
    "duration": 93,
    "start_time": "2023-06-06T20:05:54.630Z"
   },
   {
    "duration": 11,
    "start_time": "2023-06-06T20:05:54.725Z"
   },
   {
    "duration": 23,
    "start_time": "2023-06-06T20:05:54.738Z"
   },
   {
    "duration": 783,
    "start_time": "2023-06-06T20:06:00.573Z"
   },
   {
    "duration": 10,
    "start_time": "2023-06-06T20:06:04.695Z"
   },
   {
    "duration": 5,
    "start_time": "2023-06-06T20:35:19.543Z"
   },
   {
    "duration": 957,
    "start_time": "2023-06-06T20:35:19.550Z"
   },
   {
    "duration": 17,
    "start_time": "2023-06-06T20:35:20.515Z"
   },
   {
    "duration": 155,
    "start_time": "2023-06-06T20:35:20.533Z"
   },
   {
    "duration": 141,
    "start_time": "2023-06-06T20:35:20.690Z"
   },
   {
    "duration": 125,
    "start_time": "2023-06-06T20:35:20.832Z"
   },
   {
    "duration": 411,
    "start_time": "2023-06-06T20:35:20.959Z"
   },
   {
    "duration": 852,
    "start_time": "2023-06-06T20:35:21.371Z"
   },
   {
    "duration": 11,
    "start_time": "2023-06-06T20:35:22.224Z"
   },
   {
    "duration": 24,
    "start_time": "2023-06-06T20:35:22.236Z"
   },
   {
    "duration": 216,
    "start_time": "2023-06-06T20:35:22.262Z"
   },
   {
    "duration": 45,
    "start_time": "2023-06-06T20:35:22.479Z"
   },
   {
    "duration": 192,
    "start_time": "2023-06-06T20:35:22.526Z"
   },
   {
    "duration": 7,
    "start_time": "2023-06-06T20:35:22.720Z"
   },
   {
    "duration": 86,
    "start_time": "2023-06-06T20:35:22.728Z"
   },
   {
    "duration": 8,
    "start_time": "2023-06-06T20:35:22.819Z"
   },
   {
    "duration": 37,
    "start_time": "2023-06-06T20:35:41.374Z"
   },
   {
    "duration": 7,
    "start_time": "2023-06-06T20:35:44.242Z"
   },
   {
    "duration": 301,
    "start_time": "2023-06-06T20:49:46.901Z"
   },
   {
    "duration": 6,
    "start_time": "2023-06-06T20:49:52.633Z"
   },
   {
    "duration": 10,
    "start_time": "2023-06-06T20:50:08.718Z"
   },
   {
    "duration": 9,
    "start_time": "2023-06-06T20:50:51.505Z"
   },
   {
    "duration": 7,
    "start_time": "2023-06-06T20:51:14.310Z"
   },
   {
    "duration": 48101,
    "start_time": "2023-06-06T20:51:45.936Z"
   },
   {
    "duration": 30902,
    "start_time": "2023-06-06T20:53:10.349Z"
   },
   {
    "duration": 47,
    "start_time": "2023-06-06T20:58:50.302Z"
   },
   {
    "duration": 25,
    "start_time": "2023-06-06T20:59:27.248Z"
   },
   {
    "duration": 22,
    "start_time": "2023-06-06T20:59:55.339Z"
   },
   {
    "duration": 28,
    "start_time": "2023-06-06T21:00:02.796Z"
   },
   {
    "duration": 33,
    "start_time": "2023-06-06T21:00:08.816Z"
   },
   {
    "duration": 23,
    "start_time": "2023-06-06T21:00:15.334Z"
   },
   {
    "duration": 33,
    "start_time": "2023-06-06T21:03:14.910Z"
   },
   {
    "duration": 32,
    "start_time": "2023-06-06T21:03:19.336Z"
   },
   {
    "duration": 33,
    "start_time": "2023-06-06T21:03:22.614Z"
   },
   {
    "duration": 28,
    "start_time": "2023-06-06T21:03:34.704Z"
   },
   {
    "duration": 25,
    "start_time": "2023-06-06T21:03:41.145Z"
   },
   {
    "duration": 37,
    "start_time": "2023-06-06T21:03:44.327Z"
   },
   {
    "duration": 24,
    "start_time": "2023-06-06T21:03:48.807Z"
   },
   {
    "duration": 31,
    "start_time": "2023-06-06T21:04:18.115Z"
   },
   {
    "duration": 31,
    "start_time": "2023-06-06T21:04:39.248Z"
   },
   {
    "duration": 26,
    "start_time": "2023-06-06T21:04:50.153Z"
   },
   {
    "duration": 97,
    "start_time": "2023-06-06T21:05:54.040Z"
   },
   {
    "duration": 224,
    "start_time": "2023-06-06T21:07:01.311Z"
   },
   {
    "duration": 7,
    "start_time": "2023-06-06T21:07:07.964Z"
   },
   {
    "duration": 42,
    "start_time": "2023-06-07T07:10:11.249Z"
   },
   {
    "duration": 1481,
    "start_time": "2023-06-07T07:10:18.944Z"
   },
   {
    "duration": 2954,
    "start_time": "2023-06-07T07:10:20.427Z"
   },
   {
    "duration": 19,
    "start_time": "2023-06-07T07:10:23.382Z"
   },
   {
    "duration": 119,
    "start_time": "2023-06-07T07:10:23.402Z"
   },
   {
    "duration": 143,
    "start_time": "2023-06-07T07:10:23.523Z"
   },
   {
    "duration": 128,
    "start_time": "2023-06-07T07:10:23.668Z"
   },
   {
    "duration": 541,
    "start_time": "2023-06-07T07:10:23.798Z"
   },
   {
    "duration": 936,
    "start_time": "2023-06-07T07:10:24.341Z"
   },
   {
    "duration": 16,
    "start_time": "2023-06-07T07:10:25.278Z"
   },
   {
    "duration": 13,
    "start_time": "2023-06-07T07:10:25.315Z"
   },
   {
    "duration": 192,
    "start_time": "2023-06-07T07:10:25.331Z"
   },
   {
    "duration": 38,
    "start_time": "2023-06-07T07:10:25.525Z"
   },
   {
    "duration": 159,
    "start_time": "2023-06-07T07:10:25.564Z"
   },
   {
    "duration": 9,
    "start_time": "2023-06-07T07:10:25.724Z"
   },
   {
    "duration": 91,
    "start_time": "2023-06-07T07:10:25.735Z"
   },
   {
    "duration": 8,
    "start_time": "2023-06-07T07:10:25.827Z"
   },
   {
    "duration": 106,
    "start_time": "2023-06-07T07:10:25.836Z"
   },
   {
    "duration": 98,
    "start_time": "2023-06-07T07:10:29.037Z"
   },
   {
    "duration": 36,
    "start_time": "2023-06-07T07:12:10.201Z"
   },
   {
    "duration": 40,
    "start_time": "2023-06-07T07:12:45.375Z"
   },
   {
    "duration": 35,
    "start_time": "2023-06-07T07:13:21.521Z"
   },
   {
    "duration": 32,
    "start_time": "2023-06-07T07:13:29.842Z"
   },
   {
    "duration": 41,
    "start_time": "2023-06-07T07:14:00.772Z"
   },
   {
    "duration": 36,
    "start_time": "2023-06-07T07:14:10.320Z"
   },
   {
    "duration": 32,
    "start_time": "2023-06-07T07:16:15.433Z"
   },
   {
    "duration": 491,
    "start_time": "2023-06-07T07:17:15.933Z"
   },
   {
    "duration": 447,
    "start_time": "2023-06-07T07:17:26.939Z"
   },
   {
    "duration": 11,
    "start_time": "2023-06-07T07:18:24.752Z"
   },
   {
    "duration": 39,
    "start_time": "2023-06-07T07:20:59.339Z"
   },
   {
    "duration": 33,
    "start_time": "2023-06-07T07:21:09.945Z"
   },
   {
    "duration": 36,
    "start_time": "2023-06-07T07:21:43.936Z"
   },
   {
    "duration": 5,
    "start_time": "2023-06-07T07:21:58.685Z"
   },
   {
    "duration": 6,
    "start_time": "2023-06-07T07:27:14.257Z"
   },
   {
    "duration": 41,
    "start_time": "2023-06-07T07:29:44.478Z"
   },
   {
    "duration": 6,
    "start_time": "2023-06-07T07:29:44.573Z"
   },
   {
    "duration": 216,
    "start_time": "2023-06-07T07:50:42.474Z"
   },
   {
    "duration": 31,
    "start_time": "2023-06-07T07:51:38.635Z"
   },
   {
    "duration": 9,
    "start_time": "2023-06-07T07:51:52.093Z"
   },
   {
    "duration": 54,
    "start_time": "2023-06-07T07:52:01.705Z"
   },
   {
    "duration": 86,
    "start_time": "2023-06-07T07:53:52.905Z"
   },
   {
    "duration": 77,
    "start_time": "2023-06-07T07:55:06.074Z"
   },
   {
    "duration": 66,
    "start_time": "2023-06-07T07:57:37.081Z"
   },
   {
    "duration": 71,
    "start_time": "2023-06-07T07:58:19.660Z"
   },
   {
    "duration": 44,
    "start_time": "2023-06-07T07:58:25.755Z"
   },
   {
    "duration": 24,
    "start_time": "2023-06-07T07:58:37.654Z"
   },
   {
    "duration": 75,
    "start_time": "2023-06-07T07:58:43.448Z"
   },
   {
    "duration": 38,
    "start_time": "2023-06-07T07:59:07.149Z"
   },
   {
    "duration": 73,
    "start_time": "2023-06-07T07:59:12.294Z"
   },
   {
    "duration": 12,
    "start_time": "2023-06-07T07:59:25.382Z"
   },
   {
    "duration": 10,
    "start_time": "2023-06-07T07:59:40.125Z"
   },
   {
    "duration": 962,
    "start_time": "2023-06-07T07:59:40.137Z"
   },
   {
    "duration": 50,
    "start_time": "2023-06-07T07:59:41.101Z"
   },
   {
    "duration": 217,
    "start_time": "2023-06-07T07:59:41.167Z"
   },
   {
    "duration": 100,
    "start_time": "2023-06-07T07:59:41.386Z"
   },
   {
    "duration": 129,
    "start_time": "2023-06-07T07:59:41.487Z"
   },
   {
    "duration": 476,
    "start_time": "2023-06-07T07:59:41.618Z"
   },
   {
    "duration": 1189,
    "start_time": "2023-06-07T07:59:42.096Z"
   },
   {
    "duration": 32,
    "start_time": "2023-06-07T07:59:43.287Z"
   },
   {
    "duration": 16,
    "start_time": "2023-06-07T07:59:43.328Z"
   },
   {
    "duration": 214,
    "start_time": "2023-06-07T07:59:43.345Z"
   },
   {
    "duration": 38,
    "start_time": "2023-06-07T07:59:43.561Z"
   },
   {
    "duration": 263,
    "start_time": "2023-06-07T07:59:43.616Z"
   },
   {
    "duration": 8,
    "start_time": "2023-06-07T07:59:43.880Z"
   },
   {
    "duration": 86,
    "start_time": "2023-06-07T07:59:43.890Z"
   },
   {
    "duration": 10,
    "start_time": "2023-06-07T07:59:43.978Z"
   },
   {
    "duration": 50,
    "start_time": "2023-06-07T07:59:43.990Z"
   },
   {
    "duration": 125,
    "start_time": "2023-06-07T07:59:49.374Z"
   },
   {
    "duration": 44,
    "start_time": "2023-06-07T07:59:55.685Z"
   },
   {
    "duration": 43,
    "start_time": "2023-06-07T08:00:06.294Z"
   },
   {
    "duration": 72,
    "start_time": "2023-06-07T08:00:33.207Z"
   },
   {
    "duration": 11,
    "start_time": "2023-06-07T08:01:04.752Z"
   },
   {
    "duration": 131,
    "start_time": "2023-06-07T08:01:10.861Z"
   },
   {
    "duration": 15,
    "start_time": "2023-06-07T08:02:51.464Z"
   },
   {
    "duration": 68,
    "start_time": "2023-06-07T08:03:12.092Z"
   },
   {
    "duration": 159,
    "start_time": "2023-06-07T08:04:06.824Z"
   },
   {
    "duration": 835,
    "start_time": "2023-06-07T08:13:31.623Z"
   },
   {
    "duration": 20,
    "start_time": "2023-06-07T08:28:05.885Z"
   },
   {
    "duration": 8,
    "start_time": "2023-06-07T08:28:56.925Z"
   },
   {
    "duration": 98,
    "start_time": "2023-06-07T08:29:01.893Z"
   },
   {
    "duration": 94,
    "start_time": "2023-06-07T08:39:59.743Z"
   },
   {
    "duration": 25,
    "start_time": "2023-06-07T08:43:22.131Z"
   },
   {
    "duration": 3,
    "start_time": "2023-06-07T08:44:18.554Z"
   },
   {
    "duration": 25,
    "start_time": "2023-06-07T08:44:26.787Z"
   },
   {
    "duration": 878,
    "start_time": "2023-06-07T08:47:57.890Z"
   },
   {
    "duration": 786,
    "start_time": "2023-06-07T08:48:26.488Z"
   },
   {
    "duration": 1214,
    "start_time": "2023-06-07T08:52:42.633Z"
   },
   {
    "duration": 35,
    "start_time": "2023-06-07T09:04:53.829Z"
   },
   {
    "duration": 230,
    "start_time": "2023-06-07T09:06:24.440Z"
   },
   {
    "duration": 226,
    "start_time": "2023-06-07T09:06:59.258Z"
   },
   {
    "duration": 2969,
    "start_time": "2023-06-07T09:28:33.926Z"
   },
   {
    "duration": 36,
    "start_time": "2023-06-07T09:29:07.104Z"
   },
   {
    "duration": 15,
    "start_time": "2023-06-07T09:30:57.043Z"
   },
   {
    "duration": 5,
    "start_time": "2023-06-07T09:31:36.440Z"
   },
   {
    "duration": 223271,
    "start_time": "2023-06-07T09:31:45.465Z"
   },
   {
    "duration": 5,
    "start_time": "2023-06-09T16:42:00.698Z"
   },
   {
    "duration": 2019,
    "start_time": "2023-06-09T16:42:00.705Z"
   },
   {
    "duration": 3693,
    "start_time": "2023-06-09T16:42:02.726Z"
   },
   {
    "duration": 21,
    "start_time": "2023-06-09T16:42:06.420Z"
   },
   {
    "duration": 164,
    "start_time": "2023-06-09T16:42:06.443Z"
   },
   {
    "duration": 104,
    "start_time": "2023-06-09T16:42:06.608Z"
   },
   {
    "duration": 180,
    "start_time": "2023-06-09T16:42:06.714Z"
   },
   {
    "duration": 522,
    "start_time": "2023-06-09T16:42:06.895Z"
   },
   {
    "duration": 1109,
    "start_time": "2023-06-09T16:42:07.419Z"
   },
   {
    "duration": 15,
    "start_time": "2023-06-09T16:42:08.530Z"
   },
   {
    "duration": 9,
    "start_time": "2023-06-09T16:42:08.546Z"
   },
   {
    "duration": 244,
    "start_time": "2023-06-09T16:42:08.556Z"
   },
   {
    "duration": 304,
    "start_time": "2023-06-09T16:42:08.803Z"
   },
   {
    "duration": 6,
    "start_time": "2023-06-09T16:42:09.109Z"
   },
   {
    "duration": 801,
    "start_time": "2023-06-09T16:42:09.116Z"
   },
   {
    "duration": 76,
    "start_time": "2023-06-09T16:42:09.919Z"
   },
   {
    "duration": 16,
    "start_time": "2023-06-09T16:42:09.997Z"
   },
   {
    "duration": 10,
    "start_time": "2023-06-09T16:42:10.015Z"
   },
   {
    "duration": 38,
    "start_time": "2023-06-09T16:42:10.027Z"
   },
   {
    "duration": 99,
    "start_time": "2023-06-09T16:42:10.067Z"
   },
   {
    "duration": 41,
    "start_time": "2023-06-09T16:42:10.168Z"
   },
   {
    "duration": 96,
    "start_time": "2023-06-09T16:42:46.537Z"
   },
   {
    "duration": 13,
    "start_time": "2023-06-09T16:43:14.505Z"
   },
   {
    "duration": 9,
    "start_time": "2023-06-09T16:43:21.899Z"
   },
   {
    "duration": 30,
    "start_time": "2023-06-09T16:43:42.737Z"
   },
   {
    "duration": 18,
    "start_time": "2023-06-09T16:43:43.962Z"
   },
   {
    "duration": 15,
    "start_time": "2023-06-09T16:43:51.692Z"
   },
   {
    "duration": 85,
    "start_time": "2023-06-09T16:43:56.404Z"
   },
   {
    "duration": 30,
    "start_time": "2023-06-09T16:44:18.542Z"
   },
   {
    "duration": 8,
    "start_time": "2023-06-09T16:47:25.011Z"
   },
   {
    "duration": 10,
    "start_time": "2023-06-09T16:47:30.401Z"
   },
   {
    "duration": 8,
    "start_time": "2023-06-09T16:47:34.933Z"
   },
   {
    "duration": 31,
    "start_time": "2023-06-09T16:47:53.736Z"
   },
   {
    "duration": 4,
    "start_time": "2023-06-10T14:04:29.571Z"
   },
   {
    "duration": 1516,
    "start_time": "2023-06-10T14:04:29.578Z"
   },
   {
    "duration": 2921,
    "start_time": "2023-06-10T14:04:31.095Z"
   },
   {
    "duration": 22,
    "start_time": "2023-06-10T14:04:34.018Z"
   },
   {
    "duration": 140,
    "start_time": "2023-06-10T14:04:34.042Z"
   },
   {
    "duration": 127,
    "start_time": "2023-06-10T14:04:34.184Z"
   },
   {
    "duration": 142,
    "start_time": "2023-06-10T14:04:34.314Z"
   },
   {
    "duration": 474,
    "start_time": "2023-06-10T14:04:34.459Z"
   },
   {
    "duration": 981,
    "start_time": "2023-06-10T14:04:34.934Z"
   },
   {
    "duration": 15,
    "start_time": "2023-06-10T14:04:35.917Z"
   },
   {
    "duration": 25,
    "start_time": "2023-06-10T14:04:35.934Z"
   },
   {
    "duration": 178,
    "start_time": "2023-06-10T14:04:35.961Z"
   },
   {
    "duration": 211,
    "start_time": "2023-06-10T14:04:36.141Z"
   },
   {
    "duration": 10,
    "start_time": "2023-06-10T14:04:36.355Z"
   },
   {
    "duration": 700,
    "start_time": "2023-06-10T14:04:36.367Z"
   },
   {
    "duration": 64,
    "start_time": "2023-06-10T14:04:37.069Z"
   },
   {
    "duration": 19,
    "start_time": "2023-06-10T14:04:37.134Z"
   },
   {
    "duration": 13,
    "start_time": "2023-06-10T14:04:37.155Z"
   },
   {
    "duration": 45,
    "start_time": "2023-06-10T14:04:37.170Z"
   },
   {
    "duration": 92,
    "start_time": "2023-06-10T14:04:37.216Z"
   },
   {
    "duration": 26,
    "start_time": "2023-06-10T14:04:37.310Z"
   },
   {
    "duration": 41,
    "start_time": "2023-06-10T14:04:37.349Z"
   },
   {
    "duration": 60,
    "start_time": "2023-06-10T14:04:37.392Z"
   },
   {
    "duration": 123,
    "start_time": "2023-06-10T14:04:37.454Z"
   },
   {
    "duration": 35,
    "start_time": "2023-06-10T14:04:37.579Z"
   },
   {
    "duration": 903,
    "start_time": "2023-06-10T14:04:37.616Z"
   },
   {
    "duration": 199,
    "start_time": "2023-06-10T14:04:38.521Z"
   },
   {
    "duration": 539,
    "start_time": "2023-06-10T14:04:47.207Z"
   },
   {
    "duration": 146,
    "start_time": "2023-06-10T14:04:54.014Z"
   },
   {
    "duration": 9,
    "start_time": "2023-06-10T14:09:01.903Z"
   },
   {
    "duration": 8,
    "start_time": "2023-06-10T14:09:04.770Z"
   },
   {
    "duration": 16,
    "start_time": "2023-06-10T14:09:06.903Z"
   },
   {
    "duration": 61,
    "start_time": "2023-06-10T14:09:16.440Z"
   },
   {
    "duration": 10,
    "start_time": "2023-06-10T14:09:19.012Z"
   },
   {
    "duration": 1416,
    "start_time": "2023-06-10T14:09:33.465Z"
   },
   {
    "duration": 3869,
    "start_time": "2023-06-10T14:09:40.708Z"
   },
   {
    "duration": 32,
    "start_time": "2023-06-10T14:09:45.673Z"
   },
   {
    "duration": 318,
    "start_time": "2023-06-10T14:10:00.108Z"
   },
   {
    "duration": 3,
    "start_time": "2023-06-10T14:10:05.652Z"
   },
   {
    "duration": 7,
    "start_time": "2023-06-10T14:11:54.323Z"
   },
   {
    "duration": 10,
    "start_time": "2023-06-10T14:11:56.539Z"
   },
   {
    "duration": 107,
    "start_time": "2023-06-10T14:11:59.027Z"
   },
   {
    "duration": 22,
    "start_time": "2023-06-10T14:11:59.556Z"
   },
   {
    "duration": 892,
    "start_time": "2023-06-10T14:12:21.588Z"
   },
   {
    "duration": 7,
    "start_time": "2023-06-10T14:13:14.395Z"
   },
   {
    "duration": 11,
    "start_time": "2023-06-10T14:13:33.752Z"
   },
   {
    "duration": 4,
    "start_time": "2023-06-10T14:14:09.528Z"
   },
   {
    "duration": 26,
    "start_time": "2023-06-10T14:14:36.456Z"
   },
   {
    "duration": 3,
    "start_time": "2023-06-10T14:17:29.611Z"
   },
   {
    "duration": 1634,
    "start_time": "2023-06-10T14:17:29.617Z"
   },
   {
    "duration": 3011,
    "start_time": "2023-06-10T14:17:31.253Z"
   },
   {
    "duration": 23,
    "start_time": "2023-06-10T14:17:34.267Z"
   },
   {
    "duration": 121,
    "start_time": "2023-06-10T14:17:34.292Z"
   },
   {
    "duration": 107,
    "start_time": "2023-06-10T14:17:34.414Z"
   },
   {
    "duration": 105,
    "start_time": "2023-06-10T14:17:34.522Z"
   },
   {
    "duration": 468,
    "start_time": "2023-06-10T14:17:34.629Z"
   },
   {
    "duration": 933,
    "start_time": "2023-06-10T14:17:35.099Z"
   },
   {
    "duration": 23,
    "start_time": "2023-06-10T14:17:36.035Z"
   },
   {
    "duration": 8,
    "start_time": "2023-06-10T14:17:36.060Z"
   },
   {
    "duration": 210,
    "start_time": "2023-06-10T14:17:36.070Z"
   },
   {
    "duration": 212,
    "start_time": "2023-06-10T14:17:36.282Z"
   },
   {
    "duration": 6,
    "start_time": "2023-06-10T14:17:36.496Z"
   },
   {
    "duration": 750,
    "start_time": "2023-06-10T14:17:36.504Z"
   },
   {
    "duration": 73,
    "start_time": "2023-06-10T14:17:37.255Z"
   },
   {
    "duration": 24,
    "start_time": "2023-06-10T14:17:37.330Z"
   },
   {
    "duration": 7,
    "start_time": "2023-06-10T14:17:37.356Z"
   },
   {
    "duration": 41,
    "start_time": "2023-06-10T14:17:37.365Z"
   },
   {
    "duration": 99,
    "start_time": "2023-06-10T14:17:37.407Z"
   },
   {
    "duration": 25,
    "start_time": "2023-06-10T14:17:37.508Z"
   },
   {
    "duration": 54,
    "start_time": "2023-06-10T14:17:37.535Z"
   },
   {
    "duration": 61,
    "start_time": "2023-06-10T14:17:37.590Z"
   },
   {
    "duration": 109,
    "start_time": "2023-06-10T14:17:37.653Z"
   },
   {
    "duration": 36,
    "start_time": "2023-06-10T14:17:37.764Z"
   },
   {
    "duration": 880,
    "start_time": "2023-06-10T14:17:37.802Z"
   },
   {
    "duration": 193,
    "start_time": "2023-06-10T14:17:38.684Z"
   },
   {
    "duration": 0,
    "start_time": "2023-06-10T14:17:38.879Z"
   },
   {
    "duration": 0,
    "start_time": "2023-06-10T14:17:38.881Z"
   },
   {
    "duration": 0,
    "start_time": "2023-06-10T14:17:38.882Z"
   },
   {
    "duration": 0,
    "start_time": "2023-06-10T14:17:38.884Z"
   },
   {
    "duration": 0,
    "start_time": "2023-06-10T14:17:38.886Z"
   },
   {
    "duration": 11,
    "start_time": "2023-06-10T14:17:49.038Z"
   },
   {
    "duration": 3,
    "start_time": "2023-06-10T14:17:54.557Z"
   },
   {
    "duration": 86,
    "start_time": "2023-06-10T14:18:07.601Z"
   },
   {
    "duration": 51,
    "start_time": "2023-06-10T14:18:09.072Z"
   },
   {
    "duration": 11419,
    "start_time": "2023-06-10T14:18:11.051Z"
   },
   {
    "duration": 5,
    "start_time": "2023-06-10T14:18:30.259Z"
   },
   {
    "duration": 56,
    "start_time": "2023-06-10T14:24:39.478Z"
   },
   {
    "duration": 4,
    "start_time": "2023-06-10T14:24:54.961Z"
   },
   {
    "duration": 1649,
    "start_time": "2023-06-10T14:24:54.973Z"
   },
   {
    "duration": 2899,
    "start_time": "2023-06-10T14:24:56.624Z"
   },
   {
    "duration": 21,
    "start_time": "2023-06-10T14:24:59.525Z"
   },
   {
    "duration": 121,
    "start_time": "2023-06-10T14:24:59.548Z"
   },
   {
    "duration": 113,
    "start_time": "2023-06-10T14:24:59.672Z"
   },
   {
    "duration": 114,
    "start_time": "2023-06-10T14:24:59.787Z"
   },
   {
    "duration": 460,
    "start_time": "2023-06-10T14:24:59.903Z"
   },
   {
    "duration": 949,
    "start_time": "2023-06-10T14:25:00.364Z"
   },
   {
    "duration": 16,
    "start_time": "2023-06-10T14:25:01.314Z"
   },
   {
    "duration": 28,
    "start_time": "2023-06-10T14:25:01.332Z"
   },
   {
    "duration": 196,
    "start_time": "2023-06-10T14:25:01.362Z"
   },
   {
    "duration": 246,
    "start_time": "2023-06-10T14:25:01.560Z"
   },
   {
    "duration": 8,
    "start_time": "2023-06-10T14:25:01.808Z"
   },
   {
    "duration": 827,
    "start_time": "2023-06-10T14:25:01.820Z"
   },
   {
    "duration": 70,
    "start_time": "2023-06-10T14:25:02.650Z"
   },
   {
    "duration": 7,
    "start_time": "2023-06-10T14:25:02.721Z"
   },
   {
    "duration": 48,
    "start_time": "2023-06-10T14:25:02.730Z"
   },
   {
    "duration": 42,
    "start_time": "2023-06-10T14:25:02.780Z"
   },
   {
    "duration": 75,
    "start_time": "2023-06-10T14:25:02.823Z"
   },
   {
    "duration": 25,
    "start_time": "2023-06-10T14:25:02.900Z"
   },
   {
    "duration": 54,
    "start_time": "2023-06-10T14:25:02.926Z"
   },
   {
    "duration": 39,
    "start_time": "2023-06-10T14:25:02.982Z"
   },
   {
    "duration": 128,
    "start_time": "2023-06-10T14:25:03.022Z"
   },
   {
    "duration": 37,
    "start_time": "2023-06-10T14:25:03.152Z"
   },
   {
    "duration": 818,
    "start_time": "2023-06-10T14:25:03.192Z"
   },
   {
    "duration": 245,
    "start_time": "2023-06-10T14:25:04.011Z"
   },
   {
    "duration": 0,
    "start_time": "2023-06-10T14:25:04.259Z"
   },
   {
    "duration": 0,
    "start_time": "2023-06-10T14:25:04.260Z"
   },
   {
    "duration": 0,
    "start_time": "2023-06-10T14:25:04.261Z"
   },
   {
    "duration": 0,
    "start_time": "2023-06-10T14:25:04.263Z"
   },
   {
    "duration": 0,
    "start_time": "2023-06-10T14:25:04.264Z"
   },
   {
    "duration": 0,
    "start_time": "2023-06-10T14:25:04.266Z"
   },
   {
    "duration": 0,
    "start_time": "2023-06-10T14:25:04.267Z"
   },
   {
    "duration": 0,
    "start_time": "2023-06-10T14:25:04.268Z"
   },
   {
    "duration": 0,
    "start_time": "2023-06-10T14:25:04.270Z"
   },
   {
    "duration": 0,
    "start_time": "2023-06-10T14:25:04.271Z"
   },
   {
    "duration": 0,
    "start_time": "2023-06-10T14:25:04.272Z"
   },
   {
    "duration": 0,
    "start_time": "2023-06-10T14:25:04.274Z"
   },
   {
    "duration": 0,
    "start_time": "2023-06-10T14:25:04.275Z"
   },
   {
    "duration": 0,
    "start_time": "2023-06-10T14:25:04.276Z"
   },
   {
    "duration": 0,
    "start_time": "2023-06-10T14:25:04.277Z"
   },
   {
    "duration": 0,
    "start_time": "2023-06-10T14:25:04.280Z"
   },
   {
    "duration": 0,
    "start_time": "2023-06-10T14:25:04.281Z"
   },
   {
    "duration": 0,
    "start_time": "2023-06-10T14:25:04.283Z"
   },
   {
    "duration": 0,
    "start_time": "2023-06-10T14:25:04.284Z"
   },
   {
    "duration": 0,
    "start_time": "2023-06-10T14:25:04.286Z"
   },
   {
    "duration": 1,
    "start_time": "2023-06-10T14:25:04.287Z"
   },
   {
    "duration": 0,
    "start_time": "2023-06-10T14:25:04.289Z"
   },
   {
    "duration": 0,
    "start_time": "2023-06-10T14:25:04.291Z"
   },
   {
    "duration": 0,
    "start_time": "2023-06-10T14:25:04.292Z"
   },
   {
    "duration": 0,
    "start_time": "2023-06-10T14:25:04.294Z"
   },
   {
    "duration": 0,
    "start_time": "2023-06-10T14:25:04.295Z"
   },
   {
    "duration": 0,
    "start_time": "2023-06-10T14:25:04.297Z"
   },
   {
    "duration": 0,
    "start_time": "2023-06-10T14:25:04.351Z"
   },
   {
    "duration": 0,
    "start_time": "2023-06-10T14:25:04.353Z"
   },
   {
    "duration": 0,
    "start_time": "2023-06-10T14:25:04.354Z"
   },
   {
    "duration": 0,
    "start_time": "2023-06-10T14:25:04.356Z"
   },
   {
    "duration": 4,
    "start_time": "2023-06-12T11:23:10.337Z"
   },
   {
    "duration": 1976,
    "start_time": "2023-06-12T11:23:10.343Z"
   },
   {
    "duration": 1396,
    "start_time": "2023-06-12T11:23:12.321Z"
   },
   {
    "duration": 41,
    "start_time": "2023-06-12T11:23:13.724Z"
   },
   {
    "duration": 206,
    "start_time": "2023-06-12T11:23:13.769Z"
   },
   {
    "duration": 113,
    "start_time": "2023-06-12T11:23:13.976Z"
   },
   {
    "duration": 181,
    "start_time": "2023-06-12T11:23:14.091Z"
   },
   {
    "duration": 520,
    "start_time": "2023-06-12T11:23:14.274Z"
   },
   {
    "duration": 964,
    "start_time": "2023-06-12T11:23:14.797Z"
   },
   {
    "duration": 15,
    "start_time": "2023-06-12T11:23:15.762Z"
   },
   {
    "duration": 17,
    "start_time": "2023-06-12T11:23:15.778Z"
   },
   {
    "duration": 194,
    "start_time": "2023-06-12T11:23:15.798Z"
   },
   {
    "duration": 271,
    "start_time": "2023-06-12T11:23:15.994Z"
   },
   {
    "duration": 6,
    "start_time": "2023-06-12T11:23:16.268Z"
   },
   {
    "duration": 718,
    "start_time": "2023-06-12T11:23:16.276Z"
   },
   {
    "duration": 78,
    "start_time": "2023-06-12T11:23:16.996Z"
   },
   {
    "duration": 10,
    "start_time": "2023-06-12T11:23:17.076Z"
   },
   {
    "duration": 25,
    "start_time": "2023-06-12T11:23:17.087Z"
   },
   {
    "duration": 61,
    "start_time": "2023-06-12T11:23:17.114Z"
   },
   {
    "duration": 85,
    "start_time": "2023-06-12T11:23:17.177Z"
   },
   {
    "duration": 34,
    "start_time": "2023-06-12T11:23:17.264Z"
   },
   {
    "duration": 67,
    "start_time": "2023-06-12T11:23:17.300Z"
   },
   {
    "duration": 68,
    "start_time": "2023-06-12T11:23:17.368Z"
   },
   {
    "duration": 149,
    "start_time": "2023-06-12T11:23:17.437Z"
   },
   {
    "duration": 60,
    "start_time": "2023-06-12T11:23:17.588Z"
   },
   {
    "duration": 760,
    "start_time": "2023-06-12T11:23:17.650Z"
   },
   {
    "duration": 3,
    "start_time": "2023-06-12T11:23:18.412Z"
   },
   {
    "duration": 103,
    "start_time": "2023-06-12T11:23:18.428Z"
   },
   {
    "duration": 993,
    "start_time": "2023-06-12T11:23:18.536Z"
   },
   {
    "duration": 19,
    "start_time": "2023-06-12T11:23:24.049Z"
   }
  ],
  "kernelspec": {
   "display_name": "Python 3 (ipykernel)",
   "language": "python",
   "name": "python3"
  },
  "language_info": {
   "codemirror_mode": {
    "name": "ipython",
    "version": 3
   },
   "file_extension": ".py",
   "mimetype": "text/x-python",
   "name": "python",
   "nbconvert_exporter": "python",
   "pygments_lexer": "ipython3",
   "version": "3.9.13"
  },
  "toc": {
   "base_numbering": 1,
   "nav_menu": {},
   "number_sections": true,
   "sideBar": true,
   "skip_h1_title": true,
   "title_cell": "Table of Contents",
   "title_sidebar": "Contents",
   "toc_cell": false,
   "toc_position": {},
   "toc_section_display": true,
   "toc_window_display": false
  }
 },
 "nbformat": 4,
 "nbformat_minor": 2
}
